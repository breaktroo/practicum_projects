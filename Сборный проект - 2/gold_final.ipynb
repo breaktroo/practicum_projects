{
 "cells": [
  {
   "cell_type": "markdown",
   "id": "076b75f5-8e6a-4284-9e26-4c93f437ff0b",
   "metadata": {},
   "source": [
    "# Восстановление золота из руды\n",
    "Подготовьте прототип модели машинного обучения для «Цифры». Компания разрабатывает решения для эффективной работы промышленных предприятий.\n",
    "\n",
    "Модель должна предсказать коэффициент восстановления золота из золотосодержащей руды. Используйте данные с параметрами добычи и очистки.\n",
    "\n",
    "Модель поможет оптимизировать производство, чтобы не запускать предприятие с убыточными характеристиками.\n",
    "\n",
    "Вам нужно:\n",
    "\n",
    "Подготовить данные;\n",
    "Провести исследовательский анализ данных;\n",
    "Построить и обучить модель.\n",
    "Чтобы выполнить проект, обращайтесь к библиотекам pandas, matplotlib и sklearn. Вам поможет их документация."
   ]
  },
  {
   "cell_type": "markdown",
   "id": "ea08edbd-54d3-4bfb-90c8-9282405bae24",
   "metadata": {},
   "source": [
    "# Содержание\n",
    "\n",
    " - 1. Изучение данных из файла и предобработка  \n",
    "   - 1.1. Осмотр данных\n",
    "   - 1.2. Предобработка данных\n",
    " - 2. Исследовательский анализ данных\n",
    " - 3. Выбор и проверка модели\n",
    " - 4. Общий вывод"
   ]
  },
  {
   "cell_type": "markdown",
   "id": "23733547-5b69-4f66-afb7-f39bbd12284e",
   "metadata": {},
   "source": [
    "## Изучение данных из файла и предобработка\n",
    "### Осмотр данных"
   ]
  },
  {
   "cell_type": "code",
   "execution_count": 1,
   "id": "882cb6a5-9177-4f5e-a424-d4241f31fe50",
   "metadata": {},
   "outputs": [],
   "source": [
    "import pandas as pd\n",
    "import numpy as np\n",
    "from sklearn.metrics import mean_absolute_error\n",
    "import matplotlib.pyplot as plt\n",
    "from sklearn.tree import DecisionTreeRegressor\n",
    "from sklearn.linear_model import LinearRegression\n",
    "from sklearn.model_selection import GridSearchCV\n",
    "from sklearn.model_selection import cross_val_score\n",
    "from sklearn.metrics import make_scorer\n",
    "from sklearn.dummy import DummyRegressor\n",
    "from sklearn.model_selection import train_test_split"
   ]
  },
  {
   "cell_type": "code",
   "execution_count": 2,
   "id": "3a218d10-1e29-4330-afc5-3691ae13d55a",
   "metadata": {},
   "outputs": [],
   "source": [
    "try:\n",
    "    df = pd.read_csv('gold_recovery_full_new.csv')\n",
    "except:\n",
    "    df = pd.read_csv('/datasets/gold_recovery_full_new.csv')"
   ]
  },
  {
   "cell_type": "code",
   "execution_count": 3,
   "id": "22f427e0-a895-47ba-a4f9-c92ff6a4acbc",
   "metadata": {},
   "outputs": [],
   "source": [
    "try:\n",
    "    train = pd.read_csv('gold_recovery_train_new.csv')\n",
    "except:\n",
    "    train = pd.read_csv('/datasets/gold_recovery_train_new.csv')"
   ]
  },
  {
   "cell_type": "code",
   "execution_count": 4,
   "id": "1a220404-1019-460b-aee2-29baf2df387e",
   "metadata": {},
   "outputs": [],
   "source": [
    "try:\n",
    "    test = pd.read_csv('gold_recovery_test_new.csv')\n",
    "except:\n",
    "    test = pd.read_csv('/datasets/gold_recovery_test_new.csv')"
   ]
  },
  {
   "cell_type": "code",
   "execution_count": 5,
   "id": "4b0c5ebb-d8ef-4260-9529-7ef05586d48a",
   "metadata": {},
   "outputs": [
    {
     "data": {
      "text/plain": [
       "(19439, 87)"
      ]
     },
     "metadata": {},
     "output_type": "display_data"
    },
    {
     "data": {
      "text/plain": [
       "(14149, 87)"
      ]
     },
     "metadata": {},
     "output_type": "display_data"
    },
    {
     "data": {
      "text/plain": [
       "(5290, 53)"
      ]
     },
     "metadata": {},
     "output_type": "display_data"
    }
   ],
   "source": [
    "display(df.shape)\n",
    "display(train.shape)\n",
    "display(test.shape)"
   ]
  },
  {
   "cell_type": "markdown",
   "id": "22231056-1842-428c-9ed6-db2bf90a4b39",
   "metadata": {},
   "source": [
    "Можно отметить, что данные уже разбиты на обучающую и тестовую выборки в соотношении близком к 3:1."
   ]
  },
  {
   "cell_type": "code",
   "execution_count": 6,
   "id": "47ca86a3-5f96-4a08-9248-a39c7169b974",
   "metadata": {},
   "outputs": [
    {
     "name": "stdout",
     "output_type": "stream",
     "text": [
      "<class 'pandas.core.frame.DataFrame'>\n",
      "RangeIndex: 14149 entries, 0 to 14148\n",
      "Data columns (total 87 columns):\n",
      " #   Column                                              Non-Null Count  Dtype  \n",
      "---  ------                                              --------------  -----  \n",
      " 0   date                                                14149 non-null  object \n",
      " 1   final.output.concentrate_ag                         14148 non-null  float64\n",
      " 2   final.output.concentrate_pb                         14148 non-null  float64\n",
      " 3   final.output.concentrate_sol                        13938 non-null  float64\n",
      " 4   final.output.concentrate_au                         14149 non-null  float64\n",
      " 5   final.output.recovery                               14149 non-null  float64\n",
      " 6   final.output.tail_ag                                14149 non-null  float64\n",
      " 7   final.output.tail_pb                                14049 non-null  float64\n",
      " 8   final.output.tail_sol                               14144 non-null  float64\n",
      " 9   final.output.tail_au                                14149 non-null  float64\n",
      " 10  primary_cleaner.input.sulfate                       14129 non-null  float64\n",
      " 11  primary_cleaner.input.depressant                    14117 non-null  float64\n",
      " 12  primary_cleaner.input.feed_size                     14149 non-null  float64\n",
      " 13  primary_cleaner.input.xanthate                      14049 non-null  float64\n",
      " 14  primary_cleaner.output.concentrate_ag               14149 non-null  float64\n",
      " 15  primary_cleaner.output.concentrate_pb               14063 non-null  float64\n",
      " 16  primary_cleaner.output.concentrate_sol              13863 non-null  float64\n",
      " 17  primary_cleaner.output.concentrate_au               14149 non-null  float64\n",
      " 18  primary_cleaner.output.tail_ag                      14148 non-null  float64\n",
      " 19  primary_cleaner.output.tail_pb                      14134 non-null  float64\n",
      " 20  primary_cleaner.output.tail_sol                     14103 non-null  float64\n",
      " 21  primary_cleaner.output.tail_au                      14149 non-null  float64\n",
      " 22  primary_cleaner.state.floatbank8_a_air              14145 non-null  float64\n",
      " 23  primary_cleaner.state.floatbank8_a_level            14148 non-null  float64\n",
      " 24  primary_cleaner.state.floatbank8_b_air              14145 non-null  float64\n",
      " 25  primary_cleaner.state.floatbank8_b_level            14148 non-null  float64\n",
      " 26  primary_cleaner.state.floatbank8_c_air              14147 non-null  float64\n",
      " 27  primary_cleaner.state.floatbank8_c_level            14148 non-null  float64\n",
      " 28  primary_cleaner.state.floatbank8_d_air              14146 non-null  float64\n",
      " 29  primary_cleaner.state.floatbank8_d_level            14148 non-null  float64\n",
      " 30  rougher.calculation.sulfate_to_au_concentrate       14148 non-null  float64\n",
      " 31  rougher.calculation.floatbank10_sulfate_to_au_feed  14148 non-null  float64\n",
      " 32  rougher.calculation.floatbank11_sulfate_to_au_feed  14148 non-null  float64\n",
      " 33  rougher.calculation.au_pb_ratio                     14149 non-null  float64\n",
      " 34  rougher.input.feed_ag                               14149 non-null  float64\n",
      " 35  rougher.input.feed_pb                               14049 non-null  float64\n",
      " 36  rougher.input.feed_rate                             14141 non-null  float64\n",
      " 37  rougher.input.feed_size                             14005 non-null  float64\n",
      " 38  rougher.input.feed_sol                              14071 non-null  float64\n",
      " 39  rougher.input.feed_au                               14149 non-null  float64\n",
      " 40  rougher.input.floatbank10_sulfate                   14120 non-null  float64\n",
      " 41  rougher.input.floatbank10_xanthate                  14141 non-null  float64\n",
      " 42  rougher.input.floatbank11_sulfate                   14113 non-null  float64\n",
      " 43  rougher.input.floatbank11_xanthate                  13721 non-null  float64\n",
      " 44  rougher.output.concentrate_ag                       14149 non-null  float64\n",
      " 45  rougher.output.concentrate_pb                       14149 non-null  float64\n",
      " 46  rougher.output.concentrate_sol                      14127 non-null  float64\n",
      " 47  rougher.output.concentrate_au                       14149 non-null  float64\n",
      " 48  rougher.output.recovery                             14149 non-null  float64\n",
      " 49  rougher.output.tail_ag                              14148 non-null  float64\n",
      " 50  rougher.output.tail_pb                              14149 non-null  float64\n",
      " 51  rougher.output.tail_sol                             14149 non-null  float64\n",
      " 52  rougher.output.tail_au                              14149 non-null  float64\n",
      " 53  rougher.state.floatbank10_a_air                     14148 non-null  float64\n",
      " 54  rougher.state.floatbank10_a_level                   14148 non-null  float64\n",
      " 55  rougher.state.floatbank10_b_air                     14148 non-null  float64\n",
      " 56  rougher.state.floatbank10_b_level                   14148 non-null  float64\n",
      " 57  rougher.state.floatbank10_c_air                     14148 non-null  float64\n",
      " 58  rougher.state.floatbank10_c_level                   14148 non-null  float64\n",
      " 59  rougher.state.floatbank10_d_air                     14149 non-null  float64\n",
      " 60  rougher.state.floatbank10_d_level                   14149 non-null  float64\n",
      " 61  rougher.state.floatbank10_e_air                     13713 non-null  float64\n",
      " 62  rougher.state.floatbank10_e_level                   14149 non-null  float64\n",
      " 63  rougher.state.floatbank10_f_air                     14149 non-null  float64\n",
      " 64  rougher.state.floatbank10_f_level                   14149 non-null  float64\n",
      " 65  secondary_cleaner.output.tail_ag                    14147 non-null  float64\n",
      " 66  secondary_cleaner.output.tail_pb                    14139 non-null  float64\n",
      " 67  secondary_cleaner.output.tail_sol                   12544 non-null  float64\n",
      " 68  secondary_cleaner.output.tail_au                    14149 non-null  float64\n",
      " 69  secondary_cleaner.state.floatbank2_a_air            13932 non-null  float64\n",
      " 70  secondary_cleaner.state.floatbank2_a_level          14148 non-null  float64\n",
      " 71  secondary_cleaner.state.floatbank2_b_air            14128 non-null  float64\n",
      " 72  secondary_cleaner.state.floatbank2_b_level          14148 non-null  float64\n",
      " 73  secondary_cleaner.state.floatbank3_a_air            14145 non-null  float64\n",
      " 74  secondary_cleaner.state.floatbank3_a_level          14148 non-null  float64\n",
      " 75  secondary_cleaner.state.floatbank3_b_air            14148 non-null  float64\n",
      " 76  secondary_cleaner.state.floatbank3_b_level          14148 non-null  float64\n",
      " 77  secondary_cleaner.state.floatbank4_a_air            14143 non-null  float64\n",
      " 78  secondary_cleaner.state.floatbank4_a_level          14148 non-null  float64\n",
      " 79  secondary_cleaner.state.floatbank4_b_air            14148 non-null  float64\n",
      " 80  secondary_cleaner.state.floatbank4_b_level          14148 non-null  float64\n",
      " 81  secondary_cleaner.state.floatbank5_a_air            14148 non-null  float64\n",
      " 82  secondary_cleaner.state.floatbank5_a_level          14148 non-null  float64\n",
      " 83  secondary_cleaner.state.floatbank5_b_air            14148 non-null  float64\n",
      " 84  secondary_cleaner.state.floatbank5_b_level          14148 non-null  float64\n",
      " 85  secondary_cleaner.state.floatbank6_a_air            14147 non-null  float64\n",
      " 86  secondary_cleaner.state.floatbank6_a_level          14148 non-null  float64\n",
      "dtypes: float64(86), object(1)\n",
      "memory usage: 9.4+ MB\n"
     ]
    }
   ],
   "source": [
    "train.info()"
   ]
  },
  {
   "cell_type": "markdown",
   "id": "f2ce13cd-1fbe-4981-a9bb-77eb3a8309a1",
   "metadata": {},
   "source": [
    "Есть немного пропусков и дата в формате 'object', разберемся с этим немного позднее.  \n",
    "Для начала проверим правильность расчета эффективности обогащения на примере признака 'rougher.output.recovery':"
   ]
  },
  {
   "cell_type": "code",
   "execution_count": 7,
   "id": "4b659ca8-7212-4938-b1fc-676488b4bf47",
   "metadata": {},
   "outputs": [],
   "source": [
    "# высчитываем по формуле представленной в описании технологического процесса\n",
    "def recovery_test(row):\n",
    "    f = row['rougher.input.feed_au']\n",
    "    t = row['rougher.output.tail_au']\n",
    "    c = row['rougher.output.concentrate_au']\n",
    "    result = (c * (f - t)) / (f * (c - t)) * 100\n",
    "    return result"
   ]
  },
  {
   "cell_type": "markdown",
   "id": "e38b50c0-9258-4e33-89eb-dded53790c64",
   "metadata": {},
   "source": [
    "Для удобства добавим столбец с нашими расчетами."
   ]
  },
  {
   "cell_type": "code",
   "execution_count": 8,
   "id": "0cfb6a6b-2813-4790-935f-80cf7746c279",
   "metadata": {},
   "outputs": [],
   "source": [
    "train['test'] = train.apply(recovery_test, axis=1)"
   ]
  },
  {
   "cell_type": "code",
   "execution_count": 9,
   "id": "e39cbfee-b054-47f3-8093-315f4ea16705",
   "metadata": {},
   "outputs": [
    {
     "data": {
      "text/plain": [
       "9.73512347450521e-15"
      ]
     },
     "execution_count": 9,
     "metadata": {},
     "output_type": "execute_result"
    }
   ],
   "source": [
    "# сравниваем с результатами из датафрейма\n",
    "mean_absolute_error(train['rougher.output.recovery'], train['test'])"
   ]
  },
  {
   "cell_type": "markdown",
   "id": "14421353-f60d-4f4f-a793-f6686d0ed31a",
   "metadata": {},
   "source": [
    "Значение MAE очень близко к нулю, данным можно доверять.  \n",
    "Сразу же избавляемся от тестового столбца:"
   ]
  },
  {
   "cell_type": "code",
   "execution_count": 10,
   "id": "2688aa74-a6e9-4dbc-a204-36564bc05f62",
   "metadata": {},
   "outputs": [
    {
     "data": {
      "text/plain": [
       "(14149, 88)"
      ]
     },
     "execution_count": 10,
     "metadata": {},
     "output_type": "execute_result"
    }
   ],
   "source": [
    "train.shape"
   ]
  },
  {
   "cell_type": "code",
   "execution_count": 11,
   "id": "24e72918-e9db-4666-a6a5-528e73a313e6",
   "metadata": {},
   "outputs": [],
   "source": [
    "train = train.drop('test', axis=1)"
   ]
  },
  {
   "cell_type": "code",
   "execution_count": 12,
   "id": "a7449c16-ca0b-48ad-9312-6dc96a70d4c6",
   "metadata": {},
   "outputs": [
    {
     "data": {
      "text/plain": [
       "(14149, 87)"
      ]
     },
     "execution_count": 12,
     "metadata": {},
     "output_type": "execute_result"
    }
   ],
   "source": [
    "train.shape"
   ]
  },
  {
   "cell_type": "markdown",
   "id": "bb209aba-87df-478c-8e41-d0bcfe77b0a5",
   "metadata": {},
   "source": [
    "Теперь осмотрим тестовую выборку."
   ]
  },
  {
   "cell_type": "code",
   "execution_count": 13,
   "id": "1fc6d39f-0e58-4d06-b2c7-f7cb210bbdd6",
   "metadata": {},
   "outputs": [
    {
     "name": "stdout",
     "output_type": "stream",
     "text": [
      "<class 'pandas.core.frame.DataFrame'>\n",
      "RangeIndex: 5290 entries, 0 to 5289\n",
      "Data columns (total 53 columns):\n",
      " #   Column                                      Non-Null Count  Dtype  \n",
      "---  ------                                      --------------  -----  \n",
      " 0   date                                        5290 non-null   object \n",
      " 1   primary_cleaner.input.sulfate               5286 non-null   float64\n",
      " 2   primary_cleaner.input.depressant            5285 non-null   float64\n",
      " 3   primary_cleaner.input.feed_size             5290 non-null   float64\n",
      " 4   primary_cleaner.input.xanthate              5286 non-null   float64\n",
      " 5   primary_cleaner.state.floatbank8_a_air      5290 non-null   float64\n",
      " 6   primary_cleaner.state.floatbank8_a_level    5290 non-null   float64\n",
      " 7   primary_cleaner.state.floatbank8_b_air      5290 non-null   float64\n",
      " 8   primary_cleaner.state.floatbank8_b_level    5290 non-null   float64\n",
      " 9   primary_cleaner.state.floatbank8_c_air      5290 non-null   float64\n",
      " 10  primary_cleaner.state.floatbank8_c_level    5290 non-null   float64\n",
      " 11  primary_cleaner.state.floatbank8_d_air      5290 non-null   float64\n",
      " 12  primary_cleaner.state.floatbank8_d_level    5290 non-null   float64\n",
      " 13  rougher.input.feed_ag                       5290 non-null   float64\n",
      " 14  rougher.input.feed_pb                       5290 non-null   float64\n",
      " 15  rougher.input.feed_rate                     5287 non-null   float64\n",
      " 16  rougher.input.feed_size                     5289 non-null   float64\n",
      " 17  rougher.input.feed_sol                      5269 non-null   float64\n",
      " 18  rougher.input.feed_au                       5290 non-null   float64\n",
      " 19  rougher.input.floatbank10_sulfate           5285 non-null   float64\n",
      " 20  rougher.input.floatbank10_xanthate          5290 non-null   float64\n",
      " 21  rougher.input.floatbank11_sulfate           5282 non-null   float64\n",
      " 22  rougher.input.floatbank11_xanthate          5265 non-null   float64\n",
      " 23  rougher.state.floatbank10_a_air             5290 non-null   float64\n",
      " 24  rougher.state.floatbank10_a_level           5290 non-null   float64\n",
      " 25  rougher.state.floatbank10_b_air             5290 non-null   float64\n",
      " 26  rougher.state.floatbank10_b_level           5290 non-null   float64\n",
      " 27  rougher.state.floatbank10_c_air             5290 non-null   float64\n",
      " 28  rougher.state.floatbank10_c_level           5290 non-null   float64\n",
      " 29  rougher.state.floatbank10_d_air             5290 non-null   float64\n",
      " 30  rougher.state.floatbank10_d_level           5290 non-null   float64\n",
      " 31  rougher.state.floatbank10_e_air             5290 non-null   float64\n",
      " 32  rougher.state.floatbank10_e_level           5290 non-null   float64\n",
      " 33  rougher.state.floatbank10_f_air             5290 non-null   float64\n",
      " 34  rougher.state.floatbank10_f_level           5290 non-null   float64\n",
      " 35  secondary_cleaner.state.floatbank2_a_air    5287 non-null   float64\n",
      " 36  secondary_cleaner.state.floatbank2_a_level  5290 non-null   float64\n",
      " 37  secondary_cleaner.state.floatbank2_b_air    5288 non-null   float64\n",
      " 38  secondary_cleaner.state.floatbank2_b_level  5290 non-null   float64\n",
      " 39  secondary_cleaner.state.floatbank3_a_air    5281 non-null   float64\n",
      " 40  secondary_cleaner.state.floatbank3_a_level  5290 non-null   float64\n",
      " 41  secondary_cleaner.state.floatbank3_b_air    5290 non-null   float64\n",
      " 42  secondary_cleaner.state.floatbank3_b_level  5290 non-null   float64\n",
      " 43  secondary_cleaner.state.floatbank4_a_air    5290 non-null   float64\n",
      " 44  secondary_cleaner.state.floatbank4_a_level  5290 non-null   float64\n",
      " 45  secondary_cleaner.state.floatbank4_b_air    5290 non-null   float64\n",
      " 46  secondary_cleaner.state.floatbank4_b_level  5290 non-null   float64\n",
      " 47  secondary_cleaner.state.floatbank5_a_air    5290 non-null   float64\n",
      " 48  secondary_cleaner.state.floatbank5_a_level  5290 non-null   float64\n",
      " 49  secondary_cleaner.state.floatbank5_b_air    5290 non-null   float64\n",
      " 50  secondary_cleaner.state.floatbank5_b_level  5290 non-null   float64\n",
      " 51  secondary_cleaner.state.floatbank6_a_air    5290 non-null   float64\n",
      " 52  secondary_cleaner.state.floatbank6_a_level  5290 non-null   float64\n",
      "dtypes: float64(52), object(1)\n",
      "memory usage: 2.1+ MB\n"
     ]
    }
   ],
   "source": [
    "test.info()"
   ]
  },
  {
   "cell_type": "markdown",
   "id": "3d6244df-0b83-4087-9403-56e290ff1f77",
   "metadata": {},
   "source": [
    "Можно подметить, все недостающие данные относятся к типам output и calculation, то есть это данные полученные после каждого из этапов очистки и расчетные характеристики.  \n",
    "Привести данные в выборках к общему виду можно двумя способами: заново разбить общий датафрейм или достать из него нужные столбцы для тестовой выборки и удалить лишние в обучающей.  \n",
    "Поскольку нам изначально предоставлены две выборки, сделаем выбор в пользу второго варианта."
   ]
  },
  {
   "cell_type": "markdown",
   "id": "a3a43107-b9a4-47c4-8636-c060371da5d2",
   "metadata": {},
   "source": [
    "### Предобработка данных"
   ]
  },
  {
   "cell_type": "markdown",
   "id": "1da9a2f6-027a-4b73-ad10-5c726c3a3530",
   "metadata": {},
   "source": [
    "В качестве связующего звена между датасетами можно использовать столбец с датой, приведем их к формату datetime."
   ]
  },
  {
   "cell_type": "code",
   "execution_count": 14,
   "id": "144c19b4-32f3-4f11-a7be-b9dcef09ca38",
   "metadata": {},
   "outputs": [],
   "source": [
    "df['date'] = pd.to_datetime(df['date'], format='%Y-%m-%d %H:%M:%S')\n",
    "test['date'] = pd.to_datetime(test['date'], format='%Y-%m-%d %H:%M:%S')\n",
    "train['date'] = pd.to_datetime(train['date'], format='%Y-%m-%d %H:%M:%S')"
   ]
  },
  {
   "cell_type": "markdown",
   "id": "ee79942a-09d5-405e-9d43-9bed238a00a8",
   "metadata": {},
   "source": [
    "Проверяем наличие повторяющихся значений."
   ]
  },
  {
   "cell_type": "code",
   "execution_count": 15,
   "id": "d0b261d5-bb47-4eec-87c8-fcf842e51817",
   "metadata": {},
   "outputs": [
    {
     "data": {
      "text/plain": [
       "0"
      ]
     },
     "execution_count": 15,
     "metadata": {},
     "output_type": "execute_result"
    }
   ],
   "source": [
    "df['date'].duplicated().sum()"
   ]
  },
  {
   "cell_type": "markdown",
   "id": "3f9cfc2a-2d97-4f6f-9d8f-0c30949f63ee",
   "metadata": {},
   "source": [
    "Для начала создадим список из целевых признаков для тестовой выборки."
   ]
  },
  {
   "cell_type": "code",
   "execution_count": 16,
   "id": "2972ea6a-5088-47ab-98af-af3042738a18",
   "metadata": {},
   "outputs": [],
   "source": [
    "missing_targets = ['rougher.output.recovery', 'final.output.recovery']"
   ]
  },
  {
   "cell_type": "markdown",
   "id": "fe2cae03-ba00-4098-bc30-61ea4d138a2f",
   "metadata": {},
   "source": [
    "Добавим к ним дату, будем использовать её в качестве индекса."
   ]
  },
  {
   "cell_type": "code",
   "execution_count": 17,
   "id": "bef03cf6-dc02-4396-ba15-a262750b53df",
   "metadata": {},
   "outputs": [],
   "source": [
    "missing_targets.append('date')"
   ]
  },
  {
   "cell_type": "markdown",
   "id": "d3d6e01d-745d-48e6-93e7-61b02404c2b8",
   "metadata": {},
   "source": [
    "Присоединяем недостающие таргеты методом merge."
   ]
  },
  {
   "cell_type": "code",
   "execution_count": 18,
   "id": "7b6e0705-6aaa-4e1a-b028-61988b48388f",
   "metadata": {},
   "outputs": [
    {
     "data": {
      "text/plain": [
       "(5290, 53)"
      ]
     },
     "execution_count": 18,
     "metadata": {},
     "output_type": "execute_result"
    }
   ],
   "source": [
    "test.shape"
   ]
  },
  {
   "cell_type": "code",
   "execution_count": 19,
   "id": "0f8336fc-581d-4819-b6fc-3646ab778915",
   "metadata": {},
   "outputs": [
    {
     "data": {
      "text/plain": [
       "(5290, 55)"
      ]
     },
     "execution_count": 19,
     "metadata": {},
     "output_type": "execute_result"
    }
   ],
   "source": [
    "test = test.merge(df[missing_targets], on='date', how='inner')\n",
    "test.shape"
   ]
  },
  {
   "cell_type": "markdown",
   "id": "719cae31-58b6-4e06-83c5-79d7156bb8dd",
   "metadata": {},
   "source": [
    "Теперь получим список недостающих столбцов."
   ]
  },
  {
   "cell_type": "code",
   "execution_count": 20,
   "id": "4d3cce74-5ae5-4986-b3f7-946de822e0b4",
   "metadata": {},
   "outputs": [],
   "source": [
    "missing_columns = list(set(train.columns).difference(test.columns))"
   ]
  },
  {
   "cell_type": "markdown",
   "id": "96c3029f-40c9-4b0b-868c-06dff41bb09b",
   "metadata": {},
   "source": [
    "И удалим их из обучающей выборки."
   ]
  },
  {
   "cell_type": "code",
   "execution_count": 21,
   "id": "c0ee795d-910d-4025-b758-fec3268469bc",
   "metadata": {},
   "outputs": [
    {
     "data": {
      "text/plain": [
       "(14149, 87)"
      ]
     },
     "execution_count": 21,
     "metadata": {},
     "output_type": "execute_result"
    }
   ],
   "source": [
    "train.shape"
   ]
  },
  {
   "cell_type": "code",
   "execution_count": 22,
   "id": "ac45331d-7bb2-435c-9bf6-f2657574b340",
   "metadata": {},
   "outputs": [
    {
     "data": {
      "text/plain": [
       "(14149, 55)"
      ]
     },
     "execution_count": 22,
     "metadata": {},
     "output_type": "execute_result"
    }
   ],
   "source": [
    "train = train.drop(columns=missing_columns)\n",
    "train.shape"
   ]
  },
  {
   "cell_type": "code",
   "execution_count": 23,
   "id": "bf590757-24a9-4d58-9a43-98e9f3be6004",
   "metadata": {},
   "outputs": [
    {
     "data": {
      "text/plain": [
       "(5290, 55)"
      ]
     },
     "execution_count": 23,
     "metadata": {},
     "output_type": "execute_result"
    }
   ],
   "source": [
    "test.shape"
   ]
  },
  {
   "cell_type": "markdown",
   "id": "4be890c4-71ef-4141-ac6d-7f397f629e2b",
   "metadata": {
    "tags": []
   },
   "source": [
    "Осталось разобраться с пропусками.  \n",
    "Их довольно немного, заполним их предыдущими значениями."
   ]
  },
  {
   "cell_type": "code",
   "execution_count": 24,
   "id": "b36fe0ee-ff9b-48ab-8e40-0a671efbd6fd",
   "metadata": {
    "tags": []
   },
   "outputs": [],
   "source": [
    "train = train.ffill(axis = 0)\n",
    "test = test.ffill(axis = 0)\n",
    "df = df.ffill(axis = 0)"
   ]
  },
  {
   "cell_type": "markdown",
   "id": "6a5aaeef-5f28-4b57-95a7-5229f21eaa84",
   "metadata": {},
   "source": [
    "## Исследовательский анализ данных"
   ]
  },
  {
   "cell_type": "markdown",
   "id": "8909a872-c1bf-4e77-983c-29372b08091b",
   "metadata": {},
   "source": [
    "Посмотрим как меняется концентрация металлов на различных этапах очистки.  \n",
    "Соберем в список данные по Au, Ag и Pb на каждом из этапов."
   ]
  },
  {
   "cell_type": "code",
   "execution_count": 25,
   "id": "5581ded3-26f3-4f39-8e25-e91c1389b0c6",
   "metadata": {},
   "outputs": [],
   "source": [
    "metals = ['rougher.input.feed_ag', 'rougher.input.feed_pb', 'rougher.input.feed_au',\n",
    "    'rougher.output.concentrate_ag', 'rougher.output.concentrate_pb', 'rougher.output.concentrate_au','rougher.output.tail_ag', 'rougher.output.tail_pb',\n",
    "       'rougher.output.tail_au', 'primary_cleaner.output.concentrate_ag', 'primary_cleaner.output.concentrate_pb', 'primary_cleaner.output.concentrate_au', 'primary_cleaner.output.tail_ag', \n",
    "          'primary_cleaner.output.tail_pb', 'primary_cleaner.output.tail_au',\n",
    "          'secondary_cleaner.output.tail_ag', 'secondary_cleaner.output.tail_pb','secondary_cleaner.output.tail_au', 'final.output.concentrate_ag', 'final.output.concentrate_pb', 'final.output.concentrate_au',\n",
    "         'final.output.tail_ag', 'final.output.tail_pb', 'final.output.tail_au']"
   ]
  },
  {
   "cell_type": "code",
   "execution_count": 26,
   "id": "184a175b-6cd8-45d0-aca3-c5e83bb281e8",
   "metadata": {},
   "outputs": [
    {
     "data": {
      "text/plain": [
       "rougher.input.feed_ag                     8.794927\n",
       "rougher.input.feed_pb                     3.585096\n",
       "rougher.input.feed_au                     8.266097\n",
       "rougher.output.concentrate_ag            11.994759\n",
       "rougher.output.concentrate_pb             7.606272\n",
       "rougher.output.concentrate_au            19.772000\n",
       "rougher.output.tail_ag                    5.589064\n",
       "rougher.output.tail_pb                    0.645782\n",
       "rougher.output.tail_au                    1.816391\n",
       "primary_cleaner.output.concentrate_ag     8.442408\n",
       "primary_cleaner.output.concentrate_pb     9.810317\n",
       "primary_cleaner.output.concentrate_au    32.119400\n",
       "primary_cleaner.output.tail_ag           16.145888\n",
       "primary_cleaner.output.tail_pb            3.433558\n",
       "primary_cleaner.output.tail_au            3.914179\n",
       "secondary_cleaner.output.tail_ag         14.586720\n",
       "secondary_cleaner.output.tail_pb          5.776428\n",
       "secondary_cleaner.output.tail_au          4.339625\n",
       "final.output.concentrate_ag               5.168387\n",
       "final.output.concentrate_pb               9.978821\n",
       "final.output.concentrate_au              44.076513\n",
       "final.output.tail_ag                      9.688487\n",
       "final.output.tail_pb                      2.694897\n",
       "final.output.tail_au                      3.042467\n",
       "dtype: float64"
      ]
     },
     "execution_count": 26,
     "metadata": {},
     "output_type": "execute_result"
    }
   ],
   "source": [
    "df[metals].mean()"
   ]
  },
  {
   "cell_type": "code",
   "execution_count": 88,
   "id": "bcd3a03d-98f6-4000-8bf9-3d19d290b6cb",
   "metadata": {},
   "outputs": [
    {
     "data": {
      "text/plain": [
       "<matplotlib.legend.Legend at 0x1aa0377e280>"
      ]
     },
     "execution_count": 88,
     "metadata": {},
     "output_type": "execute_result"
    },
    {
     "data": {
      "image/png": "[encoded data removed]",
      "text/plain": [
       "<Figure size 1080x576 with 1 Axes>"
      ]
     },
     "metadata": {
      "needs_background": "light"
     },
     "output_type": "display_data"
    }
   ],
   "source": [
    "plt.figure(figsize=(15, 8))\n",
    "plt.hist(df['rougher.input.feed_au'], bins=50, alpha=0.5, label='доля золота в сырье')\n",
    "plt.hist(df['rougher.output.concentrate_au'], bins=50, alpha=0.5, label='доля золота после флотации')\n",
    "plt.hist(df['primary_cleaner.output.concentrate_au'], bins=50, alpha=0.5, label='доля золота после первого этапа очистки')\n",
    "plt.hist(df['final.output.concentrate_au'], bins=50, alpha=0.5, label='доля золота в финальном концентрате')\n",
    "plt.legend(loc='upper left')"
   ]
  },
  {
   "cell_type": "markdown",
   "id": "4189f3ad-c586-4a0c-ad13-f10e1bf606f8",
   "metadata": {},
   "source": [
    "Доля золота в концентрате растёт с каждым этапом очистки, что не удивительно, ведь на это и направлен весь процесс.  \n",
    "Доля серебра в хвостах значительно превосходит два других металла, что также ведет к постоянному снижению его доли в концентратах."
   ]
  },
  {
   "cell_type": "markdown",
   "id": "e9403932",
   "metadata": {},
   "source": [
    "<div class=\"alert alert-success\"> ✅ \n",
    "<h3> Комментарий ревьюера v2</h3>\n",
    "\n",
    "👍\n"
   ]
  },
  {
   "cell_type": "markdown",
   "id": "4574e583-38aa-494a-9ac4-09fb07d5f0b9",
   "metadata": {},
   "source": [
    "Сравним распределения размеров гранул сырья на обучающей и тестовой выборках."
   ]
  },
  {
   "cell_type": "code",
   "execution_count": 28,
   "id": "96d2af75-1639-4bc1-a7b4-01285e6d81de",
   "metadata": {},
   "outputs": [
    {
     "data": {
      "image/png": "[encoded data removed]",
      "text/plain": [
       "<Figure size 720x720 with 1 Axes>"
      ]
     },
     "metadata": {
      "needs_background": "light"
     },
     "output_type": "display_data"
    }
   ],
   "source": [
    "train_rough = train['rougher.input.feed_size']\n",
    "train_primary = train['primary_cleaner.input.feed_size']\n",
    "test_rough = test['rougher.input.feed_size']\n",
    "test_primary = test['primary_cleaner.input.feed_size']\n",
    "bp_data = [train_rough, test_rough]\n",
    "plt.figure(figsize=(10, 10))\n",
    "plt.boxplot(bp_data)\n",
    "plt.xticks([1, 2], ['train_rough', 'test_rough'])\n",
    "plt.grid()"
   ]
  },
  {
   "cell_type": "code",
   "execution_count": 29,
   "id": "a0083660-5be2-4e9d-8c0b-6c36f1e04a92",
   "metadata": {},
   "outputs": [
    {
     "data": {
      "image/png": "[encoded data removed]",
      "text/plain": [
       "<Figure size 720x720 with 1 Axes>"
      ]
     },
     "metadata": {
      "needs_background": "light"
     },
     "output_type": "display_data"
    }
   ],
   "source": [
    "bp_data = [train_primary, test_primary]\n",
    "plt.figure(figsize=(10, 10))\n",
    "plt.boxplot(bp_data)\n",
    "plt.xticks([1, 2], ['train_primary', 'test_primary'])\n",
    "plt.grid()"
   ]
  },
  {
   "cell_type": "markdown",
   "id": "f282423c-8a72-43d4-a811-68637d3a765a",
   "metadata": {},
   "source": [
    "Основная масса значений ноходится в одном диапазоне, данное распределение подходит для обучения и проверки модели."
   ]
  },
  {
   "cell_type": "markdown",
   "id": "8d57d306-7019-4f02-b062-be95c6edb9c7",
   "metadata": {},
   "source": [
    "Теперь изучим распределение суммарной концентрации веществ на разных стадиях."
   ]
  },
  {
   "cell_type": "code",
   "execution_count": 30,
   "id": "4a47ef6d-fd21-4d80-8229-660830917308",
   "metadata": {},
   "outputs": [],
   "source": [
    "df['total_rough_input'] = df['rougher.input.feed_ag'] + df['rougher.input.feed_pb'] + df['rougher.input.feed_sol'] + df['rougher.input.feed_au']\n",
    "df['total_rough_output'] = df['rougher.output.concentrate_ag'] + df['rougher.output.concentrate_pb'] + df['rougher.output.concentrate_sol'] + df['rougher.output.concentrate_au']\n",
    "df['total_final_output'] = df['final.output.concentrate_ag'] + df['final.output.concentrate_pb'] + df['final.output.concentrate_sol'] + df['final.output.concentrate_au']"
   ]
  },
  {
   "cell_type": "code",
   "execution_count": 31,
   "id": "e490884f-bf6a-4b52-a5a3-70d822795ad6",
   "metadata": {},
   "outputs": [
    {
     "data": {
      "text/plain": [
       "<matplotlib.legend.Legend at 0x1aa002aea60>"
      ]
     },
     "execution_count": 31,
     "metadata": {},
     "output_type": "execute_result"
    },
    {
     "data": {
      "image/png": "[encoded data removed]",
      "text/plain": [
       "<Figure size 1080x576 with 1 Axes>"
      ]
     },
     "metadata": {
      "needs_background": "light"
     },
     "output_type": "display_data"
    }
   ],
   "source": [
    "plt.figure(figsize=(15, 8))\n",
    "plt.hist(df['total_rough_input'], bins=50, alpha=0.5, label='сырьё')\n",
    "plt.hist(df['total_rough_output'], bins=50, alpha=0.5, label='черновой концентрат')\n",
    "plt.hist(df['total_final_output'], bins=50, alpha=0.5, label='финальный концентрат')\n",
    "plt.legend(loc='upper left')"
   ]
  },
  {
   "cell_type": "markdown",
   "id": "e6169c6b-61c8-4418-a085-7754ed67fddc",
   "metadata": {},
   "source": [
    "Больше всего нас интересуют нулевые значения, это может быть как результатом ошибки в записи данных, так и следствием сбоя в работе очистной установки.  \n",
    "В любом случае, эти данные не помогут в обучении модели, поэтому стоит просто удалить их."
   ]
  },
  {
   "cell_type": "code",
   "execution_count": 32,
   "id": "a708d5fa-c196-4cc6-b1b0-a043705b821a",
   "metadata": {},
   "outputs": [
    {
     "data": {
      "text/plain": [
       "(19439, 90)"
      ]
     },
     "execution_count": 32,
     "metadata": {},
     "output_type": "execute_result"
    }
   ],
   "source": [
    "df.shape"
   ]
  },
  {
   "cell_type": "code",
   "execution_count": 33,
   "id": "d996772b-42c5-4138-b0b6-48f5987c6fb3",
   "metadata": {},
   "outputs": [],
   "source": [
    "df = df[df['total_rough_input'] > 0]\n",
    "df = df[df['total_rough_output'] > 0]\n",
    "df = df[df['total_final_output'] > 0]"
   ]
  },
  {
   "cell_type": "code",
   "execution_count": 34,
   "id": "f2ad7cf8-d3ec-4747-afe9-fdc33a3e830c",
   "metadata": {},
   "outputs": [
    {
     "data": {
      "text/plain": [
       "(18949, 90)"
      ]
     },
     "execution_count": 34,
     "metadata": {},
     "output_type": "execute_result"
    }
   ],
   "source": [
    "df.shape"
   ]
  },
  {
   "cell_type": "markdown",
   "id": "e650fc2a-85fa-4086-b8b4-93988c099129",
   "metadata": {},
   "source": [
    "Также избавляемся от промежуточных столбцов."
   ]
  },
  {
   "cell_type": "code",
   "execution_count": 35,
   "id": "3c0d458a-f627-4b6c-9d4c-9e9e958f4c11",
   "metadata": {},
   "outputs": [
    {
     "data": {
      "text/plain": [
       "(18949, 87)"
      ]
     },
     "execution_count": 35,
     "metadata": {},
     "output_type": "execute_result"
    }
   ],
   "source": [
    "df = df.drop(columns=['total_rough_input', 'total_rough_output', 'total_final_output'])\n",
    "df.shape"
   ]
  },
  {
   "cell_type": "markdown",
   "id": "53ab7566-db11-4eb1-9b3f-08713e572372",
   "metadata": {},
   "source": [
    "В обучающей и тестовой выборках присутствует только столбец 'rougher.input.feed_pb', проведем ту же процедуру, но только с этим признаком."
   ]
  },
  {
   "cell_type": "code",
   "execution_count": 36,
   "id": "464b447b-307f-488e-a2fd-e725bf261c63",
   "metadata": {},
   "outputs": [
    {
     "data": {
      "text/plain": [
       "(14149, 55)"
      ]
     },
     "metadata": {},
     "output_type": "display_data"
    },
    {
     "data": {
      "text/plain": [
       "(5290, 55)"
      ]
     },
     "metadata": {},
     "output_type": "display_data"
    }
   ],
   "source": [
    "display(train.shape)\n",
    "display(test.shape)"
   ]
  },
  {
   "cell_type": "code",
   "execution_count": 37,
   "id": "a8d03c17-b778-4446-a1cb-c6c1838254ed",
   "metadata": {},
   "outputs": [
    {
     "data": {
      "text/plain": [
       "(14149, 56)"
      ]
     },
     "metadata": {},
     "output_type": "display_data"
    },
    {
     "data": {
      "text/plain": [
       "(5173, 56)"
      ]
     },
     "metadata": {},
     "output_type": "display_data"
    }
   ],
   "source": [
    "train['total_rough_input'] = train['rougher.input.feed_ag'] + train['rougher.input.feed_pb'] + train['rougher.input.feed_sol'] + train['rougher.input.feed_au']\n",
    "test['total_rough_input'] = test['rougher.input.feed_ag'] + test['rougher.input.feed_pb'] + test['rougher.input.feed_sol'] + df['rougher.input.feed_au']\n",
    "train = train[train['total_rough_input'] > 0]\n",
    "test = test[test['total_rough_input'] > 0]\n",
    "display(train.shape)\n",
    "display(test.shape)"
   ]
  },
  {
   "cell_type": "code",
   "execution_count": 38,
   "id": "87f207cb-8156-4b14-926c-35ff334d9259",
   "metadata": {},
   "outputs": [
    {
     "data": {
      "text/plain": [
       "(14149, 56)"
      ]
     },
     "execution_count": 38,
     "metadata": {},
     "output_type": "execute_result"
    }
   ],
   "source": [
    "train.shape"
   ]
  },
  {
   "cell_type": "code",
   "execution_count": 39,
   "id": "236e68c6-b70f-4f4e-bb10-b0e7e48b3220",
   "metadata": {},
   "outputs": [
    {
     "data": {
      "text/plain": [
       "(14149, 55)"
      ]
     },
     "execution_count": 39,
     "metadata": {},
     "output_type": "execute_result"
    }
   ],
   "source": [
    "train = train.drop(columns='total_rough_input')\n",
    "train.shape"
   ]
  },
  {
   "cell_type": "code",
   "execution_count": 40,
   "id": "5727b5b3-a3ab-4ff0-8b0b-5ba6ebd971ed",
   "metadata": {},
   "outputs": [
    {
     "data": {
      "text/plain": [
       "(5173, 56)"
      ]
     },
     "execution_count": 40,
     "metadata": {},
     "output_type": "execute_result"
    }
   ],
   "source": [
    "test.shape"
   ]
  },
  {
   "cell_type": "code",
   "execution_count": 41,
   "id": "fc5dd7dd-4718-4197-9e0e-6f2655074728",
   "metadata": {},
   "outputs": [
    {
     "data": {
      "text/plain": [
       "(5173, 55)"
      ]
     },
     "execution_count": 41,
     "metadata": {},
     "output_type": "execute_result"
    }
   ],
   "source": [
    "test = test.drop(columns='total_rough_input')\n",
    "test.shape"
   ]
  },
  {
   "cell_type": "markdown",
   "id": "894d6e54-8760-4ef8-8d99-96c28d347362",
   "metadata": {},
   "source": [
    "## Выбор и проверка модели"
   ]
  },
  {
   "cell_type": "markdown",
   "id": "6e02968b-8352-42a8-9703-bc0c3e943985",
   "metadata": {},
   "source": [
    "Перейдем к выбору модели и параметров.  \n",
    "Целевых признака у нас два: 'rougher.output.recovery' и 'final.output.recovery'."
   ]
  },
  {
   "cell_type": "code",
   "execution_count": 83,
   "id": "43320c1f-6d9b-4ad5-88e3-b0c52216f20d",
   "metadata": {},
   "outputs": [],
   "source": [
    "features_train = train.drop(columns=['date', 'rougher.output.recovery', 'final.output.recovery'])\n",
    "target_train = train[['rougher.output.recovery', 'final.output.recovery']]"
   ]
  },
  {
   "cell_type": "markdown",
   "id": "e496ade6-8e7b-4b2f-8653-18ddfc7bcc71",
   "metadata": {},
   "source": [
    "В библиотеке sklearn нет функции вычисления sMAPE, её необходимо написать вручную.  \n",
    "Напишем её таким образом, чтобы сразу получать итоговое sMAPE."
   ]
  },
  {
   "cell_type": "code",
   "execution_count": 43,
   "id": "fcd91bc9-47f3-4690-b747-d130d5abcaef",
   "metadata": {},
   "outputs": [],
   "source": [
    "def smape(target, predictions):\n",
    "    i =  1/len(target) * np.sum(np.abs(predictions-target) / ((np.abs(target) + np.abs(predictions)/2))*100)\n",
    "    return i[0] * 0.25 + i[1] * 0.75"
   ]
  },
  {
   "cell_type": "markdown",
   "id": "30a15a5b-7bc8-436e-a275-e2ed26dd21a8",
   "metadata": {},
   "source": [
    "И используем make_scorer на неё, чтобы иметь возможность применить её при кросс-валидации."
   ]
  },
  {
   "cell_type": "code",
   "execution_count": 44,
   "id": "ddf12d88-f91d-480a-84d7-9802c776bc92",
   "metadata": {
    "tags": []
   },
   "outputs": [],
   "source": [
    "scorer = make_scorer(smape, greater_is_better=False)"
   ]
  },
  {
   "cell_type": "markdown",
   "id": "77ffa053-9610-484e-8d80-57d67a412b0c",
   "metadata": {},
   "source": [
    "Выбирать будем между линейной регрессией и деревом решений, случайный лес, увы, работает слишком медленно.  \n",
    "Интересующие нас параметры линейной регрессии имеют тип bool, поэтому их можно проверить и вручную через cross_val_score"
   ]
  },
  {
   "cell_type": "code",
   "execution_count": 45,
   "id": "cfc2e971-9d48-4c7e-9676-2933247dbeac",
   "metadata": {},
   "outputs": [
    {
     "data": {
      "text/plain": [
       "array([ -8.58372598,  -7.82142496, -10.67839397,  -8.41541232])"
      ]
     },
     "execution_count": 45,
     "metadata": {},
     "output_type": "execute_result"
    }
   ],
   "source": [
    "# тут уже финальные параметры с лучшим результатом\n",
    "model = LinearRegression(copy_X=True, fit_intercept=False, normalize=True)\n",
    "cross_val_score(model, features_train, target_train, scoring=scorer, cv=4)"
   ]
  },
  {
   "cell_type": "markdown",
   "id": "2053f8f2-0d90-4328-a559-8c0db54eac9d",
   "metadata": {},
   "source": [
    "С деревом решений уже стоит применить GridSearchCV."
   ]
  },
  {
   "cell_type": "code",
   "execution_count": 46,
   "id": "8751e576-592b-43a3-aa85-bf4f15132b36",
   "metadata": {
    "tags": []
   },
   "outputs": [
    {
     "data": {
      "text/plain": [
       "{'max_depth': 10, 'min_samples_leaf': 3, 'min_samples_split': 8}"
      ]
     },
     "metadata": {},
     "output_type": "display_data"
    },
    {
     "data": {
      "text/plain": [
       "-9.088087112565168"
      ]
     },
     "metadata": {},
     "output_type": "display_data"
    },
    {
     "name": "stdout",
     "output_type": "stream",
     "text": [
      "Wall time: 2min 39s\n"
     ]
    }
   ],
   "source": [
    "%%time \n",
    "model = DecisionTreeRegressor()\n",
    "parameters = {'max_depth':[10, 30, 50, 70], 'min_samples_split':[2, 4, 6, 8], 'min_samples_leaf':[1, 3, 5, 7]}\n",
    "grid = GridSearchCV(model, parameters, scoring=scorer, cv=4)\n",
    "grid.fit(features_train, target_train)\n",
    "display(grid.best_params_)\n",
    "display(grid.best_score_)"
   ]
  },
  {
   "cell_type": "markdown",
   "id": "3ea26770-ab76-4272-8afb-11cd1fcb0ce8",
   "metadata": {},
   "source": [
    "Сделаем выбор в пользу дерева решений с параметрами: max_depth': 10, 'min_samples_leaf': 3, 'min_samples_split': 2  \n",
    "Осталось только проверить модель на тестовой выборке."
   ]
  },
  {
   "cell_type": "code",
   "execution_count": 82,
   "id": "78ae1cf0-70e1-4ef2-bcc4-9ea23e56d7e9",
   "metadata": {},
   "outputs": [],
   "source": [
    "features_test = test.drop(columns=['date', 'rougher.output.recovery', 'final.output.recovery'])\n",
    "target_test = test[['rougher.output.recovery', 'final.output.recovery']]"
   ]
  },
  {
   "cell_type": "code",
   "execution_count": 60,
   "id": "58950e40-485b-4e0e-8774-11ad74d080dc",
   "metadata": {
    "tags": []
   },
   "outputs": [
    {
     "data": {
      "text/plain": [
       "8.892079886800508"
      ]
     },
     "execution_count": 60,
     "metadata": {},
     "output_type": "execute_result"
    }
   ],
   "source": [
    "model = DecisionTreeRegressor(random_state=12345, max_depth=10, min_samples_leaf=3, min_samples_split=2)\n",
    "model.fit(features_train, target_train)\n",
    "prediction = model.predict(features_test)\n",
    "smape_results = smape(target_test, prediction)\n",
    "smape_results"
   ]
  },
  {
   "cell_type": "markdown",
   "id": "c3813c16-8c85-4ff9-9c17-29b483c92d6a",
   "metadata": {},
   "source": [
    "Поскольку целевого значения метрики в задании нет, стоит сравнить его с результатом константной модели."
   ]
  },
  {
   "cell_type": "code",
   "execution_count": 89,
   "id": "6d23510f-6441-4e57-8968-3c1f272fe224",
   "metadata": {},
   "outputs": [
    {
     "data": {
      "text/plain": [
       "7.585390787637328"
      ]
     },
     "execution_count": 89,
     "metadata": {},
     "output_type": "execute_result"
    }
   ],
   "source": [
    "dummy = DummyRegressor(strategy='mean')\n",
    "dummy.fit(features_train, target_train)\n",
    "prediction_dummy = dummy.predict(features_test)\n",
    "dummy_result = smape(target_test, prediction_dummy)\n",
    "dummy_result"
   ]
  },
  {
   "cell_type": "markdown",
   "id": "8cebfa2e-a92e-46d1-b38d-434f8d64f433",
   "metadata": {},
   "source": [
    "Увы, результат не сильно отличается от модели заполняющей всё средним значением.  \n",
    "Можно сделать вывод о недостаточности предоставленныъ данных для эффективного обучения моделей.  \n",
    "Остается только запросить новые данные."
   ]
  },
  {
   "cell_type": "markdown",
   "id": "2f7bfbf0-6d81-40fb-b3e3-d0137d8f8aa1",
   "metadata": {},
   "source": [
    "## Общий вывод"
   ]
  },
  {
   "cell_type": "markdown",
   "id": "338ea378-0e30-42f8-acdd-3fc9923fd2a1",
   "metadata": {},
   "source": [
    "При осмотре датасета были обнаружены отличия в данных обучающей и тестовой выборок.  \n",
    "Недостающие целевые признаки для тестовой выборки были получены из общего датасета с использование даты в качестве индекса.  \n",
    "Признаки отсутствующие в тестовой выборке были удалены из обучающей.\n",
    "Пропуски были заполнены предыдущими значениями.\n",
    "В результате исследовательского анализа были обнаружены и удалены аномалии в данных.  \n",
    "Была написана функция для вычисления метрики качества sMAPE.  \n",
    "Были обучены и проверены методом кросс-валидации несколько моделей.  \n",
    "Выбранная модель дерева решений была проверена на тестовой выборке.\n",
    "В результате сравнения с константной моделью, предоставленные данные признаны недостаточными для эффективного обучения моделей.  \n",
    "Для построения успешной модели требуются другие данные или же ищменение условий задачи."
   ]
  }
 ],
 "metadata": {
  "kernelspec": {
   "display_name": "Python 3 (ipykernel)",
   "language": "python",
   "name": "python3"
  },
  "language_info": {
   "codemirror_mode": {
    "name": "ipython",
    "version": 3
   },
   "file_extension": ".py",
   "mimetype": "text/x-python",
   "name": "python",
   "nbconvert_exporter": "python",
   "pygments_lexer": "ipython3",
   "version": "3.9.7"
  },
  "toc": {
   "base_numbering": 1,
   "nav_menu": {},
   "number_sections": true,
   "sideBar": true,
   "skip_h1_title": true,
   "title_cell": "Table of Contents",
   "title_sidebar": "Contents",
   "toc_cell": false,
   "toc_position": {},
   "toc_section_display": true,
   "toc_window_display": false
  }
 },
 "nbformat": 4,
 "nbformat_minor": 5
}
