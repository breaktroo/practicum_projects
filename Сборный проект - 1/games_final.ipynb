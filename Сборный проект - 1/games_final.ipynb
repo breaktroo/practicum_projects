{
 "cells": [
  {
   "cell_type": "markdown",
   "id": "036ee032-7a90-41cf-b28d-2baa414d225d",
   "metadata": {},
   "source": [
    "<h1>Содержание<span class=\"tocSkip\"></span></h1>\n",
    "<div class=\"toc\">\n",
    "    <ul class=\"toc-item\">\n",
    "        <li>\n",
    "            <span>\n",
    "                <a href=\"#Изучение-данных-из-файла\" data-toc-modified-id=\"Изучение-данных-из-файла-1\"><span class=\"toc-item-num\">1&nbsp;&nbsp;</span>Изучение данных из файла</a>\n",
    "            </span>\n",
    "        </li>\n",
    "            <li>\n",
    "            <span>\n",
    "                <a href=\"#Предобработка данных\" data-toc-modified-id=\"Предобработка-данных-2\"><span class=\"toc-item-num\">2&nbsp;&nbsp;</span>Предобработка данных</a></span>\n",
    "        </li>\n",
    "            <li>\n",
    "            <span>\n",
    "                <a href=\"#Исследовательский-анализ-данных\" data-toc-modified-id=\"Исследовательский-анализ-данных-3\"><span class=\"toc-item-num\">3&nbsp;&nbsp;</span>Исследовательский анализ данных</a></span>\n",
    "            </li>\n",
    "        <ul class=\"toc-item\">\n",
    "            <li>\n",
    "                <span>\n",
    "                    <a href=\"#Общее-исследование-и-выделение-наиболее-перспективных-платформ\" data-toc-modified-id=\"Общее-исследование-и-выделение-наиболее-перспективных-платформ-3.1\"><span class=\"toc-item-num\">3.1&nbsp;&nbsp;</span>Общее исследование и выделение наиболее перспективных платформ</a></span>\n",
    "                </li>\n",
    "            <li>\n",
    "                <span>\n",
    "                    <a href=\"#Исследование-предпочтений-пользователей-разных-регионов\" data-toc-modified-id=\"Исследование-предпочтений-пользователей-разных-регионов-3.2\"><span class=\"toc-item-num\">3.2&nbsp;&nbsp;</span>Исследование предпочтений пользователей разных регионов</a></span>\n",
    "                </li>\n",
    "            <ul>\n",
    "                <li><span>\n",
    "                    <a href=\"#Исследование-влияния-рейтинга-ESRB-в-регионах\" data-toc-modified-id=\"Исследование-влияния-рейтинга-ESRB-в-регионах-3.2.1\"><span class=\"toc-item-num\">3.2.1&nbsp;&nbsp;</span>Исследование влияния рейтинга ESRB в регионах</a></span></li>\n",
    "            </ul>\n",
    "        </ul>    <li>\n",
    "                <span>\n",
    "                    <a href=\"#Общий-вывод\" data-toc-modified-id=\"Общий-вывод-4\"><span class=\"toc-item-num\">4&nbsp;&nbsp;</span>Общий вывод</a></span>\n",
    "            </li>\n",
    "       </ul>\n",
    " </div>"
   ]
  },
  {
   "cell_type": "markdown",
   "id": "6895c276-7178-496d-89ce-da6fcb38d35c",
   "metadata": {},
   "source": [
    "# Поиск перспективных направлений для магазина видеоигр.\n",
    "\n",
    "Из открытых источников доступны исторические данные о продажах игр, оценки пользователей и экспертов, жанры и платформы (например, Xbox или PlayStation). Нужно выявить определяющие успешность игры закономерности. Это позволит сделать ставку на потенциально популярный продукт и спланировать рекламные кампании.\n",
    "\n",
    "Описание данных  \n",
    "Name — название игры  \n",
    "Platform — платформа  \n",
    "Year_of_Release — год выпуска  \n",
    "Genre — жанр игры  \n",
    "NA_sales — продажи в Северной Америке (миллионы проданных копий)  \n",
    "EU_sales — продажи в Европе (миллионы проданных копий)  \n",
    "JP_sales — продажи в Японии (миллионы проданных копий)  \n",
    "Other_sales — продажи в других странах (миллионы проданных копий)  \n",
    "Critic_Score — оценка критиков (максимум 100)  \n",
    "User_Score — оценка пользователей (максимум 10)  \n",
    "Rating — рейтинг от организации ESRB (англ. Entertainment Software Rating Board). Эта ассоциация определяет рейтинг компьютерных игр и присваивает им подходящую возрастную категорию.  \n",
    "Данные за 2016 год могут быть неполными.\n",
    "\n",
    "Для выполнения поставленной задачи необходимо выделить актуальный период данных и рассмотреть продажи в зависимости от жанра и региона."
   ]
  },
  {
   "cell_type": "markdown",
   "id": "d63b0250-65fc-4460-9c0c-b851cdc230bb",
   "metadata": {},
   "source": [
    "## Изучение данных из файла"
   ]
  },
  {
   "cell_type": "code",
   "execution_count": 1,
   "id": "8321eaf9-d00d-4b28-9b99-6f991b8240b9",
   "metadata": {},
   "outputs": [],
   "source": [
    "import pandas as pd\n",
    "import numpy as np\n",
    "import matplotlib.pyplot as plt\n",
    "from scipy import stats as st"
   ]
  },
  {
   "cell_type": "code",
   "execution_count": 2,
   "id": "90e5a120-19f6-4e0b-b6f0-78ec3076177a",
   "metadata": {},
   "outputs": [],
   "source": [
    "try:\n",
    "    df = pd.read_csv('games.csv')\n",
    "except:\n",
    "    df = pd.read_csv('/datasets/games.csv')"
   ]
  },
  {
   "cell_type": "code",
   "execution_count": 3,
   "id": "be948e4e-4454-43f5-b52d-16a42d5a6008",
   "metadata": {},
   "outputs": [
    {
     "name": "stdout",
     "output_type": "stream",
     "text": [
      "<class 'pandas.core.frame.DataFrame'>\n",
      "RangeIndex: 16715 entries, 0 to 16714\n",
      "Data columns (total 11 columns):\n",
      " #   Column           Non-Null Count  Dtype  \n",
      "---  ------           --------------  -----  \n",
      " 0   Name             16713 non-null  object \n",
      " 1   Platform         16715 non-null  object \n",
      " 2   Year_of_Release  16446 non-null  float64\n",
      " 3   Genre            16713 non-null  object \n",
      " 4   NA_sales         16715 non-null  float64\n",
      " 5   EU_sales         16715 non-null  float64\n",
      " 6   JP_sales         16715 non-null  float64\n",
      " 7   Other_sales      16715 non-null  float64\n",
      " 8   Critic_Score     8137 non-null   float64\n",
      " 9   User_Score       10014 non-null  object \n",
      " 10  Rating           9949 non-null   object \n",
      "dtypes: float64(6), object(5)\n",
      "memory usage: 1.4+ MB\n"
     ]
    }
   ],
   "source": [
    "df.info()"
   ]
  },
  {
   "cell_type": "markdown",
   "id": "ed8158e9-aa63-458c-ac68-bea14afca224",
   "metadata": {},
   "source": [
    "Сразу выделяется тип данных в столбце 'User_Score', который по логиче долже быть числовым.  \n",
    "Названия столбцов стоит привести нижнему регистру.  \n",
    "Также в части столбцов имеются пропуски."
   ]
  },
  {
   "cell_type": "code",
   "execution_count": 4,
   "id": "5296e9e0-91f2-4198-bc16-fa95e61adb54",
   "metadata": {},
   "outputs": [
    {
     "data": {
      "text/html": [
       "<div>\n",
       "<style scoped>\n",
       "    .dataframe tbody tr th:only-of-type {\n",
       "        vertical-align: middle;\n",
       "    }\n",
       "\n",
       "    .dataframe tbody tr th {\n",
       "        vertical-align: top;\n",
       "    }\n",
       "\n",
       "    .dataframe thead th {\n",
       "        text-align: right;\n",
       "    }\n",
       "</style>\n",
       "<table border=\"1\" class=\"dataframe\">\n",
       "  <thead>\n",
       "    <tr style=\"text-align: right;\">\n",
       "      <th></th>\n",
       "      <th>Year_of_Release</th>\n",
       "      <th>NA_sales</th>\n",
       "      <th>EU_sales</th>\n",
       "      <th>JP_sales</th>\n",
       "      <th>Other_sales</th>\n",
       "      <th>Critic_Score</th>\n",
       "    </tr>\n",
       "  </thead>\n",
       "  <tbody>\n",
       "    <tr>\n",
       "      <th>count</th>\n",
       "      <td>16446.000000</td>\n",
       "      <td>16715.000000</td>\n",
       "      <td>16715.000000</td>\n",
       "      <td>16715.000000</td>\n",
       "      <td>16715.000000</td>\n",
       "      <td>8137.000000</td>\n",
       "    </tr>\n",
       "    <tr>\n",
       "      <th>mean</th>\n",
       "      <td>2006.484616</td>\n",
       "      <td>0.263377</td>\n",
       "      <td>0.145060</td>\n",
       "      <td>0.077617</td>\n",
       "      <td>0.047342</td>\n",
       "      <td>68.967679</td>\n",
       "    </tr>\n",
       "    <tr>\n",
       "      <th>std</th>\n",
       "      <td>5.877050</td>\n",
       "      <td>0.813604</td>\n",
       "      <td>0.503339</td>\n",
       "      <td>0.308853</td>\n",
       "      <td>0.186731</td>\n",
       "      <td>13.938165</td>\n",
       "    </tr>\n",
       "    <tr>\n",
       "      <th>min</th>\n",
       "      <td>1980.000000</td>\n",
       "      <td>0.000000</td>\n",
       "      <td>0.000000</td>\n",
       "      <td>0.000000</td>\n",
       "      <td>0.000000</td>\n",
       "      <td>13.000000</td>\n",
       "    </tr>\n",
       "    <tr>\n",
       "      <th>25%</th>\n",
       "      <td>2003.000000</td>\n",
       "      <td>0.000000</td>\n",
       "      <td>0.000000</td>\n",
       "      <td>0.000000</td>\n",
       "      <td>0.000000</td>\n",
       "      <td>60.000000</td>\n",
       "    </tr>\n",
       "    <tr>\n",
       "      <th>50%</th>\n",
       "      <td>2007.000000</td>\n",
       "      <td>0.080000</td>\n",
       "      <td>0.020000</td>\n",
       "      <td>0.000000</td>\n",
       "      <td>0.010000</td>\n",
       "      <td>71.000000</td>\n",
       "    </tr>\n",
       "    <tr>\n",
       "      <th>75%</th>\n",
       "      <td>2010.000000</td>\n",
       "      <td>0.240000</td>\n",
       "      <td>0.110000</td>\n",
       "      <td>0.040000</td>\n",
       "      <td>0.030000</td>\n",
       "      <td>79.000000</td>\n",
       "    </tr>\n",
       "    <tr>\n",
       "      <th>max</th>\n",
       "      <td>2016.000000</td>\n",
       "      <td>41.360000</td>\n",
       "      <td>28.960000</td>\n",
       "      <td>10.220000</td>\n",
       "      <td>10.570000</td>\n",
       "      <td>98.000000</td>\n",
       "    </tr>\n",
       "  </tbody>\n",
       "</table>\n",
       "</div>"
      ],
      "text/plain": [
       "       Year_of_Release      NA_sales      EU_sales      JP_sales  \\\n",
       "count     16446.000000  16715.000000  16715.000000  16715.000000   \n",
       "mean       2006.484616      0.263377      0.145060      0.077617   \n",
       "std           5.877050      0.813604      0.503339      0.308853   \n",
       "min        1980.000000      0.000000      0.000000      0.000000   \n",
       "25%        2003.000000      0.000000      0.000000      0.000000   \n",
       "50%        2007.000000      0.080000      0.020000      0.000000   \n",
       "75%        2010.000000      0.240000      0.110000      0.040000   \n",
       "max        2016.000000     41.360000     28.960000     10.220000   \n",
       "\n",
       "        Other_sales  Critic_Score  \n",
       "count  16715.000000   8137.000000  \n",
       "mean       0.047342     68.967679  \n",
       "std        0.186731     13.938165  \n",
       "min        0.000000     13.000000  \n",
       "25%        0.000000     60.000000  \n",
       "50%        0.010000     71.000000  \n",
       "75%        0.030000     79.000000  \n",
       "max       10.570000     98.000000  "
      ]
     },
     "execution_count": 4,
     "metadata": {},
     "output_type": "execute_result"
    }
   ],
   "source": [
    "df.describe()"
   ]
  },
  {
   "cell_type": "markdown",
   "id": "e5b0c074-ae36-4ac6-b5e1-f0a4e161d830",
   "metadata": {},
   "source": [
    "Видим, что файл содержит данные с 1980 по 2016 год.  \n",
    "Также можно сделать вывод, что оценки критиков приведены к 100-бальной шкале."
   ]
  },
  {
   "cell_type": "markdown",
   "id": "34b3b085-05f6-49db-9e0a-6ed0309feb5f",
   "metadata": {},
   "source": [
    "## Предобработка данных"
   ]
  },
  {
   "cell_type": "code",
   "execution_count": 5,
   "id": "1ef7f0df-2acf-485f-bbc3-ca240d48c027",
   "metadata": {},
   "outputs": [],
   "source": [
    "# приводим сразу все названия столбцов к нижнему регистру.\n",
    "df.columns = df.columns.str.lower()"
   ]
  },
  {
   "cell_type": "code",
   "execution_count": 6,
   "id": "2a8a2118-5a11-4602-a006-3358d21dcf54",
   "metadata": {},
   "outputs": [
    {
     "data": {
      "text/html": [
       "<div>\n",
       "<style scoped>\n",
       "    .dataframe tbody tr th:only-of-type {\n",
       "        vertical-align: middle;\n",
       "    }\n",
       "\n",
       "    .dataframe tbody tr th {\n",
       "        vertical-align: top;\n",
       "    }\n",
       "\n",
       "    .dataframe thead th {\n",
       "        text-align: right;\n",
       "    }\n",
       "</style>\n",
       "<table border=\"1\" class=\"dataframe\">\n",
       "  <thead>\n",
       "    <tr style=\"text-align: right;\">\n",
       "      <th></th>\n",
       "      <th>name</th>\n",
       "      <th>platform</th>\n",
       "      <th>year_of_release</th>\n",
       "      <th>genre</th>\n",
       "      <th>na_sales</th>\n",
       "      <th>eu_sales</th>\n",
       "      <th>jp_sales</th>\n",
       "      <th>other_sales</th>\n",
       "      <th>critic_score</th>\n",
       "      <th>user_score</th>\n",
       "      <th>rating</th>\n",
       "    </tr>\n",
       "  </thead>\n",
       "  <tbody>\n",
       "    <tr>\n",
       "      <th>0</th>\n",
       "      <td>Wii Sports</td>\n",
       "      <td>Wii</td>\n",
       "      <td>2006.0</td>\n",
       "      <td>Sports</td>\n",
       "      <td>41.36</td>\n",
       "      <td>28.96</td>\n",
       "      <td>3.77</td>\n",
       "      <td>8.45</td>\n",
       "      <td>76.0</td>\n",
       "      <td>8</td>\n",
       "      <td>E</td>\n",
       "    </tr>\n",
       "    <tr>\n",
       "      <th>1</th>\n",
       "      <td>Super Mario Bros.</td>\n",
       "      <td>NES</td>\n",
       "      <td>1985.0</td>\n",
       "      <td>Platform</td>\n",
       "      <td>29.08</td>\n",
       "      <td>3.58</td>\n",
       "      <td>6.81</td>\n",
       "      <td>0.77</td>\n",
       "      <td>NaN</td>\n",
       "      <td>NaN</td>\n",
       "      <td>NaN</td>\n",
       "    </tr>\n",
       "    <tr>\n",
       "      <th>2</th>\n",
       "      <td>Mario Kart Wii</td>\n",
       "      <td>Wii</td>\n",
       "      <td>2008.0</td>\n",
       "      <td>Racing</td>\n",
       "      <td>15.68</td>\n",
       "      <td>12.76</td>\n",
       "      <td>3.79</td>\n",
       "      <td>3.29</td>\n",
       "      <td>82.0</td>\n",
       "      <td>8.3</td>\n",
       "      <td>E</td>\n",
       "    </tr>\n",
       "    <tr>\n",
       "      <th>3</th>\n",
       "      <td>Wii Sports Resort</td>\n",
       "      <td>Wii</td>\n",
       "      <td>2009.0</td>\n",
       "      <td>Sports</td>\n",
       "      <td>15.61</td>\n",
       "      <td>10.93</td>\n",
       "      <td>3.28</td>\n",
       "      <td>2.95</td>\n",
       "      <td>80.0</td>\n",
       "      <td>8</td>\n",
       "      <td>E</td>\n",
       "    </tr>\n",
       "    <tr>\n",
       "      <th>4</th>\n",
       "      <td>Pokemon Red/Pokemon Blue</td>\n",
       "      <td>GB</td>\n",
       "      <td>1996.0</td>\n",
       "      <td>Role-Playing</td>\n",
       "      <td>11.27</td>\n",
       "      <td>8.89</td>\n",
       "      <td>10.22</td>\n",
       "      <td>1.00</td>\n",
       "      <td>NaN</td>\n",
       "      <td>NaN</td>\n",
       "      <td>NaN</td>\n",
       "    </tr>\n",
       "    <tr>\n",
       "      <th>5</th>\n",
       "      <td>Tetris</td>\n",
       "      <td>GB</td>\n",
       "      <td>1989.0</td>\n",
       "      <td>Puzzle</td>\n",
       "      <td>23.20</td>\n",
       "      <td>2.26</td>\n",
       "      <td>4.22</td>\n",
       "      <td>0.58</td>\n",
       "      <td>NaN</td>\n",
       "      <td>NaN</td>\n",
       "      <td>NaN</td>\n",
       "    </tr>\n",
       "    <tr>\n",
       "      <th>6</th>\n",
       "      <td>New Super Mario Bros.</td>\n",
       "      <td>DS</td>\n",
       "      <td>2006.0</td>\n",
       "      <td>Platform</td>\n",
       "      <td>11.28</td>\n",
       "      <td>9.14</td>\n",
       "      <td>6.50</td>\n",
       "      <td>2.88</td>\n",
       "      <td>89.0</td>\n",
       "      <td>8.5</td>\n",
       "      <td>E</td>\n",
       "    </tr>\n",
       "    <tr>\n",
       "      <th>7</th>\n",
       "      <td>Wii Play</td>\n",
       "      <td>Wii</td>\n",
       "      <td>2006.0</td>\n",
       "      <td>Misc</td>\n",
       "      <td>13.96</td>\n",
       "      <td>9.18</td>\n",
       "      <td>2.93</td>\n",
       "      <td>2.84</td>\n",
       "      <td>58.0</td>\n",
       "      <td>6.6</td>\n",
       "      <td>E</td>\n",
       "    </tr>\n",
       "    <tr>\n",
       "      <th>8</th>\n",
       "      <td>New Super Mario Bros. Wii</td>\n",
       "      <td>Wii</td>\n",
       "      <td>2009.0</td>\n",
       "      <td>Platform</td>\n",
       "      <td>14.44</td>\n",
       "      <td>6.94</td>\n",
       "      <td>4.70</td>\n",
       "      <td>2.24</td>\n",
       "      <td>87.0</td>\n",
       "      <td>8.4</td>\n",
       "      <td>E</td>\n",
       "    </tr>\n",
       "    <tr>\n",
       "      <th>9</th>\n",
       "      <td>Duck Hunt</td>\n",
       "      <td>NES</td>\n",
       "      <td>1984.0</td>\n",
       "      <td>Shooter</td>\n",
       "      <td>26.93</td>\n",
       "      <td>0.63</td>\n",
       "      <td>0.28</td>\n",
       "      <td>0.47</td>\n",
       "      <td>NaN</td>\n",
       "      <td>NaN</td>\n",
       "      <td>NaN</td>\n",
       "    </tr>\n",
       "  </tbody>\n",
       "</table>\n",
       "</div>"
      ],
      "text/plain": [
       "                        name platform  year_of_release         genre  \\\n",
       "0                 Wii Sports      Wii           2006.0        Sports   \n",
       "1          Super Mario Bros.      NES           1985.0      Platform   \n",
       "2             Mario Kart Wii      Wii           2008.0        Racing   \n",
       "3          Wii Sports Resort      Wii           2009.0        Sports   \n",
       "4   Pokemon Red/Pokemon Blue       GB           1996.0  Role-Playing   \n",
       "5                     Tetris       GB           1989.0        Puzzle   \n",
       "6      New Super Mario Bros.       DS           2006.0      Platform   \n",
       "7                   Wii Play      Wii           2006.0          Misc   \n",
       "8  New Super Mario Bros. Wii      Wii           2009.0      Platform   \n",
       "9                  Duck Hunt      NES           1984.0       Shooter   \n",
       "\n",
       "   na_sales  eu_sales  jp_sales  other_sales  critic_score user_score rating  \n",
       "0     41.36     28.96      3.77         8.45          76.0          8      E  \n",
       "1     29.08      3.58      6.81         0.77           NaN        NaN    NaN  \n",
       "2     15.68     12.76      3.79         3.29          82.0        8.3      E  \n",
       "3     15.61     10.93      3.28         2.95          80.0          8      E  \n",
       "4     11.27      8.89     10.22         1.00           NaN        NaN    NaN  \n",
       "5     23.20      2.26      4.22         0.58           NaN        NaN    NaN  \n",
       "6     11.28      9.14      6.50         2.88          89.0        8.5      E  \n",
       "7     13.96      9.18      2.93         2.84          58.0        6.6      E  \n",
       "8     14.44      6.94      4.70         2.24          87.0        8.4      E  \n",
       "9     26.93      0.63      0.28         0.47           NaN        NaN    NaN  "
      ]
     },
     "execution_count": 6,
     "metadata": {},
     "output_type": "execute_result"
    }
   ],
   "source": [
    "df.head(10)"
   ]
  },
  {
   "cell_type": "code",
   "execution_count": 7,
   "id": "af2b3ac4-f391-40ad-8998-1bdcb1ff043d",
   "metadata": {},
   "outputs": [
    {
     "data": {
      "text/plain": [
       "0"
      ]
     },
     "execution_count": 7,
     "metadata": {},
     "output_type": "execute_result"
    }
   ],
   "source": [
    "df.duplicated().sum() # проверяем явные дубликаты."
   ]
  },
  {
   "cell_type": "markdown",
   "id": "32eba10b-f20f-48b4-8425-002fdc92a1bd",
   "metadata": {},
   "source": [
    "Явных дубликатов нет.\n",
    "\n",
    "Проверим датасет на неявные дубликаты для пары \"Название игры - Платформа\""
   ]
  },
  {
   "cell_type": "code",
   "execution_count": 8,
   "id": "4f83c69e-4092-4019-8f77-a19b2c387063",
   "metadata": {},
   "outputs": [
    {
     "data": {
      "text/html": [
       "<div>\n",
       "<style scoped>\n",
       "    .dataframe tbody tr th:only-of-type {\n",
       "        vertical-align: middle;\n",
       "    }\n",
       "\n",
       "    .dataframe tbody tr th {\n",
       "        vertical-align: top;\n",
       "    }\n",
       "\n",
       "    .dataframe thead th {\n",
       "        text-align: right;\n",
       "    }\n",
       "</style>\n",
       "<table border=\"1\" class=\"dataframe\">\n",
       "  <thead>\n",
       "    <tr style=\"text-align: right;\">\n",
       "      <th></th>\n",
       "      <th>name</th>\n",
       "      <th>platform</th>\n",
       "      <th>year_of_release</th>\n",
       "      <th>genre</th>\n",
       "      <th>na_sales</th>\n",
       "      <th>eu_sales</th>\n",
       "      <th>jp_sales</th>\n",
       "      <th>other_sales</th>\n",
       "      <th>critic_score</th>\n",
       "      <th>user_score</th>\n",
       "      <th>rating</th>\n",
       "    </tr>\n",
       "  </thead>\n",
       "  <tbody>\n",
       "    <tr>\n",
       "      <th>1591</th>\n",
       "      <td>Need for Speed: Most Wanted</td>\n",
       "      <td>X360</td>\n",
       "      <td>2005.0</td>\n",
       "      <td>Racing</td>\n",
       "      <td>1.0</td>\n",
       "      <td>0.13</td>\n",
       "      <td>0.02</td>\n",
       "      <td>0.10</td>\n",
       "      <td>83.0</td>\n",
       "      <td>8.5</td>\n",
       "      <td>T</td>\n",
       "    </tr>\n",
       "    <tr>\n",
       "      <th>4127</th>\n",
       "      <td>Sonic the Hedgehog</td>\n",
       "      <td>PS3</td>\n",
       "      <td>NaN</td>\n",
       "      <td>Platform</td>\n",
       "      <td>0.0</td>\n",
       "      <td>0.48</td>\n",
       "      <td>0.00</td>\n",
       "      <td>0.00</td>\n",
       "      <td>43.0</td>\n",
       "      <td>4.1</td>\n",
       "      <td>E10+</td>\n",
       "    </tr>\n",
       "    <tr>\n",
       "      <th>11715</th>\n",
       "      <td>Need for Speed: Most Wanted</td>\n",
       "      <td>PC</td>\n",
       "      <td>2012.0</td>\n",
       "      <td>Racing</td>\n",
       "      <td>0.0</td>\n",
       "      <td>0.06</td>\n",
       "      <td>0.00</td>\n",
       "      <td>0.02</td>\n",
       "      <td>82.0</td>\n",
       "      <td>8.5</td>\n",
       "      <td>T</td>\n",
       "    </tr>\n",
       "    <tr>\n",
       "      <th>14244</th>\n",
       "      <td>NaN</td>\n",
       "      <td>GEN</td>\n",
       "      <td>1993.0</td>\n",
       "      <td>NaN</td>\n",
       "      <td>0.0</td>\n",
       "      <td>0.00</td>\n",
       "      <td>0.03</td>\n",
       "      <td>0.00</td>\n",
       "      <td>NaN</td>\n",
       "      <td>NaN</td>\n",
       "      <td>NaN</td>\n",
       "    </tr>\n",
       "    <tr>\n",
       "      <th>16230</th>\n",
       "      <td>Madden NFL 13</td>\n",
       "      <td>PS3</td>\n",
       "      <td>2012.0</td>\n",
       "      <td>Sports</td>\n",
       "      <td>0.0</td>\n",
       "      <td>0.01</td>\n",
       "      <td>0.00</td>\n",
       "      <td>0.00</td>\n",
       "      <td>83.0</td>\n",
       "      <td>5.5</td>\n",
       "      <td>E</td>\n",
       "    </tr>\n",
       "  </tbody>\n",
       "</table>\n",
       "</div>"
      ],
      "text/plain": [
       "                              name platform  year_of_release     genre  \\\n",
       "1591   Need for Speed: Most Wanted     X360           2005.0    Racing   \n",
       "4127            Sonic the Hedgehog      PS3              NaN  Platform   \n",
       "11715  Need for Speed: Most Wanted       PC           2012.0    Racing   \n",
       "14244                          NaN      GEN           1993.0       NaN   \n",
       "16230                Madden NFL 13      PS3           2012.0    Sports   \n",
       "\n",
       "       na_sales  eu_sales  jp_sales  other_sales  critic_score user_score  \\\n",
       "1591        1.0      0.13      0.02         0.10          83.0        8.5   \n",
       "4127        0.0      0.48      0.00         0.00          43.0        4.1   \n",
       "11715       0.0      0.06      0.00         0.02          82.0        8.5   \n",
       "14244       0.0      0.00      0.03         0.00           NaN        NaN   \n",
       "16230       0.0      0.01      0.00         0.00          83.0        5.5   \n",
       "\n",
       "      rating  \n",
       "1591       T  \n",
       "4127    E10+  \n",
       "11715      T  \n",
       "14244    NaN  \n",
       "16230      E  "
      ]
     },
     "execution_count": 8,
     "metadata": {},
     "output_type": "execute_result"
    }
   ],
   "source": [
    "df[df.duplicated(subset=['name', 'platform',])]"
   ]
  },
  {
   "cell_type": "markdown",
   "id": "113017ec-87bc-4781-8f12-9d379924e134",
   "metadata": {},
   "source": [
    "Ничего необычного в таких данных нет, игры выпускаются сразу на нескольких платформах еще с 90-х годов.  \n",
    "Малое количество таких дубликатов скорее вызывает вопросы к полноте датасета.  "
   ]
  },
  {
   "cell_type": "markdown",
   "id": "3cdafeb4-35df-4aec-b45b-b0d8ff937aef",
   "metadata": {},
   "source": [
    "Добавим столбец с общей суммой продаж для каждой игры."
   ]
  },
  {
   "cell_type": "code",
   "execution_count": 9,
   "id": "7e1ce086-7378-4c2f-a9dd-573e75ff59e1",
   "metadata": {},
   "outputs": [],
   "source": [
    "df['total_sales'] = df['na_sales'] + df['eu_sales'] + df['jp_sales'] + df['other_sales']"
   ]
  },
  {
   "cell_type": "markdown",
   "id": "fe71b1d0-ed14-4778-b9ce-9fac9465b176",
   "metadata": {},
   "source": [
    "Пропуски в столбце с оценками критиков скорее всего говорят о недостаточном количестве ревью конкретной версии игры(Metacritic требует не менее 4), такое как правило случается с только вышедшими играми или же играми вышедшими до начала массового распостранения игровой журналистики.\n",
    "\n",
    "Пустые значения в оценках пользователей присутсвуют по схожей причине, люди редко ставят оценки играм вышедшим длительное время назад, а потому большиство игр без оценок будет относиться к периоду либо до глобального распостранения интернета, либо до создания сайта собирающего оценки.\n",
    "\n",
    "Заполнение средними значениями значительно исказит данные, поэтому просто оставим эти значения пустыми."
   ]
  },
  {
   "cell_type": "code",
   "execution_count": 10,
   "id": "05c73e21-1352-490b-835a-a19ac5699574",
   "metadata": {},
   "outputs": [
    {
     "data": {
      "text/html": [
       "<div>\n",
       "<style scoped>\n",
       "    .dataframe tbody tr th:only-of-type {\n",
       "        vertical-align: middle;\n",
       "    }\n",
       "\n",
       "    .dataframe tbody tr th {\n",
       "        vertical-align: top;\n",
       "    }\n",
       "\n",
       "    .dataframe thead th {\n",
       "        text-align: right;\n",
       "    }\n",
       "</style>\n",
       "<table border=\"1\" class=\"dataframe\">\n",
       "  <thead>\n",
       "    <tr style=\"text-align: right;\">\n",
       "      <th></th>\n",
       "      <th>name</th>\n",
       "      <th>platform</th>\n",
       "      <th>year_of_release</th>\n",
       "      <th>genre</th>\n",
       "      <th>na_sales</th>\n",
       "      <th>eu_sales</th>\n",
       "      <th>jp_sales</th>\n",
       "      <th>other_sales</th>\n",
       "      <th>critic_score</th>\n",
       "      <th>user_score</th>\n",
       "      <th>rating</th>\n",
       "      <th>total_sales</th>\n",
       "    </tr>\n",
       "  </thead>\n",
       "  <tbody>\n",
       "    <tr>\n",
       "      <th>183</th>\n",
       "      <td>Madden NFL 2004</td>\n",
       "      <td>PS2</td>\n",
       "      <td>NaN</td>\n",
       "      <td>Sports</td>\n",
       "      <td>4.26</td>\n",
       "      <td>0.26</td>\n",
       "      <td>0.01</td>\n",
       "      <td>0.71</td>\n",
       "      <td>94.0</td>\n",
       "      <td>8.5</td>\n",
       "      <td>E</td>\n",
       "      <td>5.24</td>\n",
       "    </tr>\n",
       "    <tr>\n",
       "      <th>377</th>\n",
       "      <td>FIFA Soccer 2004</td>\n",
       "      <td>PS2</td>\n",
       "      <td>NaN</td>\n",
       "      <td>Sports</td>\n",
       "      <td>0.59</td>\n",
       "      <td>2.36</td>\n",
       "      <td>0.04</td>\n",
       "      <td>0.51</td>\n",
       "      <td>84.0</td>\n",
       "      <td>6.4</td>\n",
       "      <td>E</td>\n",
       "      <td>3.50</td>\n",
       "    </tr>\n",
       "    <tr>\n",
       "      <th>456</th>\n",
       "      <td>LEGO Batman: The Videogame</td>\n",
       "      <td>Wii</td>\n",
       "      <td>NaN</td>\n",
       "      <td>Action</td>\n",
       "      <td>1.80</td>\n",
       "      <td>0.97</td>\n",
       "      <td>0.00</td>\n",
       "      <td>0.29</td>\n",
       "      <td>74.0</td>\n",
       "      <td>7.9</td>\n",
       "      <td>E10+</td>\n",
       "      <td>3.06</td>\n",
       "    </tr>\n",
       "    <tr>\n",
       "      <th>475</th>\n",
       "      <td>wwe Smackdown vs. Raw 2006</td>\n",
       "      <td>PS2</td>\n",
       "      <td>NaN</td>\n",
       "      <td>Fighting</td>\n",
       "      <td>1.57</td>\n",
       "      <td>1.02</td>\n",
       "      <td>0.00</td>\n",
       "      <td>0.41</td>\n",
       "      <td>NaN</td>\n",
       "      <td>NaN</td>\n",
       "      <td>NaN</td>\n",
       "      <td>3.00</td>\n",
       "    </tr>\n",
       "    <tr>\n",
       "      <th>609</th>\n",
       "      <td>Space Invaders</td>\n",
       "      <td>2600</td>\n",
       "      <td>NaN</td>\n",
       "      <td>Shooter</td>\n",
       "      <td>2.36</td>\n",
       "      <td>0.14</td>\n",
       "      <td>0.00</td>\n",
       "      <td>0.03</td>\n",
       "      <td>NaN</td>\n",
       "      <td>NaN</td>\n",
       "      <td>NaN</td>\n",
       "      <td>2.53</td>\n",
       "    </tr>\n",
       "    <tr>\n",
       "      <th>...</th>\n",
       "      <td>...</td>\n",
       "      <td>...</td>\n",
       "      <td>...</td>\n",
       "      <td>...</td>\n",
       "      <td>...</td>\n",
       "      <td>...</td>\n",
       "      <td>...</td>\n",
       "      <td>...</td>\n",
       "      <td>...</td>\n",
       "      <td>...</td>\n",
       "      <td>...</td>\n",
       "      <td>...</td>\n",
       "    </tr>\n",
       "    <tr>\n",
       "      <th>16373</th>\n",
       "      <td>PDC World Championship Darts 2008</td>\n",
       "      <td>PSP</td>\n",
       "      <td>NaN</td>\n",
       "      <td>Sports</td>\n",
       "      <td>0.01</td>\n",
       "      <td>0.00</td>\n",
       "      <td>0.00</td>\n",
       "      <td>0.00</td>\n",
       "      <td>43.0</td>\n",
       "      <td>tbd</td>\n",
       "      <td>E10+</td>\n",
       "      <td>0.01</td>\n",
       "    </tr>\n",
       "    <tr>\n",
       "      <th>16405</th>\n",
       "      <td>Freaky Flyers</td>\n",
       "      <td>GC</td>\n",
       "      <td>NaN</td>\n",
       "      <td>Racing</td>\n",
       "      <td>0.01</td>\n",
       "      <td>0.00</td>\n",
       "      <td>0.00</td>\n",
       "      <td>0.00</td>\n",
       "      <td>69.0</td>\n",
       "      <td>6.5</td>\n",
       "      <td>T</td>\n",
       "      <td>0.01</td>\n",
       "    </tr>\n",
       "    <tr>\n",
       "      <th>16448</th>\n",
       "      <td>Inversion</td>\n",
       "      <td>PC</td>\n",
       "      <td>NaN</td>\n",
       "      <td>Shooter</td>\n",
       "      <td>0.01</td>\n",
       "      <td>0.00</td>\n",
       "      <td>0.00</td>\n",
       "      <td>0.00</td>\n",
       "      <td>59.0</td>\n",
       "      <td>6.7</td>\n",
       "      <td>M</td>\n",
       "      <td>0.01</td>\n",
       "    </tr>\n",
       "    <tr>\n",
       "      <th>16458</th>\n",
       "      <td>Hakuouki: Shinsengumi Kitan</td>\n",
       "      <td>PS3</td>\n",
       "      <td>NaN</td>\n",
       "      <td>Adventure</td>\n",
       "      <td>0.01</td>\n",
       "      <td>0.00</td>\n",
       "      <td>0.00</td>\n",
       "      <td>0.00</td>\n",
       "      <td>NaN</td>\n",
       "      <td>NaN</td>\n",
       "      <td>NaN</td>\n",
       "      <td>0.01</td>\n",
       "    </tr>\n",
       "    <tr>\n",
       "      <th>16522</th>\n",
       "      <td>Virtua Quest</td>\n",
       "      <td>GC</td>\n",
       "      <td>NaN</td>\n",
       "      <td>Role-Playing</td>\n",
       "      <td>0.01</td>\n",
       "      <td>0.00</td>\n",
       "      <td>0.00</td>\n",
       "      <td>0.00</td>\n",
       "      <td>55.0</td>\n",
       "      <td>5.5</td>\n",
       "      <td>T</td>\n",
       "      <td>0.01</td>\n",
       "    </tr>\n",
       "  </tbody>\n",
       "</table>\n",
       "<p>269 rows × 12 columns</p>\n",
       "</div>"
      ],
      "text/plain": [
       "                                    name platform  year_of_release  \\\n",
       "183                      Madden NFL 2004      PS2              NaN   \n",
       "377                     FIFA Soccer 2004      PS2              NaN   \n",
       "456           LEGO Batman: The Videogame      Wii              NaN   \n",
       "475           wwe Smackdown vs. Raw 2006      PS2              NaN   \n",
       "609                       Space Invaders     2600              NaN   \n",
       "...                                  ...      ...              ...   \n",
       "16373  PDC World Championship Darts 2008      PSP              NaN   \n",
       "16405                      Freaky Flyers       GC              NaN   \n",
       "16448                          Inversion       PC              NaN   \n",
       "16458        Hakuouki: Shinsengumi Kitan      PS3              NaN   \n",
       "16522                       Virtua Quest       GC              NaN   \n",
       "\n",
       "              genre  na_sales  eu_sales  jp_sales  other_sales  critic_score  \\\n",
       "183          Sports      4.26      0.26      0.01         0.71          94.0   \n",
       "377          Sports      0.59      2.36      0.04         0.51          84.0   \n",
       "456          Action      1.80      0.97      0.00         0.29          74.0   \n",
       "475        Fighting      1.57      1.02      0.00         0.41           NaN   \n",
       "609         Shooter      2.36      0.14      0.00         0.03           NaN   \n",
       "...             ...       ...       ...       ...          ...           ...   \n",
       "16373        Sports      0.01      0.00      0.00         0.00          43.0   \n",
       "16405        Racing      0.01      0.00      0.00         0.00          69.0   \n",
       "16448       Shooter      0.01      0.00      0.00         0.00          59.0   \n",
       "16458     Adventure      0.01      0.00      0.00         0.00           NaN   \n",
       "16522  Role-Playing      0.01      0.00      0.00         0.00          55.0   \n",
       "\n",
       "      user_score rating  total_sales  \n",
       "183          8.5      E         5.24  \n",
       "377          6.4      E         3.50  \n",
       "456          7.9   E10+         3.06  \n",
       "475          NaN    NaN         3.00  \n",
       "609          NaN    NaN         2.53  \n",
       "...          ...    ...          ...  \n",
       "16373        tbd   E10+         0.01  \n",
       "16405        6.5      T         0.01  \n",
       "16448        6.7      M         0.01  \n",
       "16458        NaN    NaN         0.01  \n",
       "16522        5.5      T         0.01  \n",
       "\n",
       "[269 rows x 12 columns]"
      ]
     },
     "execution_count": 10,
     "metadata": {},
     "output_type": "execute_result"
    }
   ],
   "source": [
    "df[df['year_of_release'].isnull()]"
   ]
  },
  {
   "cell_type": "markdown",
   "id": "03bcf5cb-6eaf-462e-8d4a-854ee7cdee05",
   "metadata": {},
   "source": [
    "Отсутствие даты выхода результат человеческого фактора, в каких то столбцах она содержится в названии игры(однако на практике, зачастую, эти игры выпускаются годом ранее), где то просто могли забыть заполнить значение. Поскольку таких строк всего 1.5%, отбросим их."
   ]
  },
  {
   "cell_type": "code",
   "execution_count": 11,
   "id": "6d56badd-94ef-4610-9ed0-4ff063aa249f",
   "metadata": {},
   "outputs": [
    {
     "data": {
      "text/plain": [
       "(16715, 12)"
      ]
     },
     "execution_count": 11,
     "metadata": {},
     "output_type": "execute_result"
    }
   ],
   "source": [
    "df.shape"
   ]
  },
  {
   "cell_type": "code",
   "execution_count": 12,
   "id": "1877bda3-5aa4-443f-bebc-edb2c613cbb1",
   "metadata": {},
   "outputs": [],
   "source": [
    "df.drop(df[df['year_of_release'].isna()].index, inplace=True)"
   ]
  },
  {
   "cell_type": "code",
   "execution_count": 13,
   "id": "039a5f2f-6a9d-4672-a788-162bcd6fc9c0",
   "metadata": {},
   "outputs": [
    {
     "data": {
      "text/plain": [
       "(16446, 12)"
      ]
     },
     "execution_count": 13,
     "metadata": {},
     "output_type": "execute_result"
    }
   ],
   "source": [
    "df.shape"
   ]
  },
  {
   "cell_type": "code",
   "execution_count": 14,
   "id": "7c437a6e-1e0e-40b5-a885-0aa9c097e628",
   "metadata": {},
   "outputs": [
    {
     "data": {
      "text/html": [
       "<div>\n",
       "<style scoped>\n",
       "    .dataframe tbody tr th:only-of-type {\n",
       "        vertical-align: middle;\n",
       "    }\n",
       "\n",
       "    .dataframe tbody tr th {\n",
       "        vertical-align: top;\n",
       "    }\n",
       "\n",
       "    .dataframe thead th {\n",
       "        text-align: right;\n",
       "    }\n",
       "</style>\n",
       "<table border=\"1\" class=\"dataframe\">\n",
       "  <thead>\n",
       "    <tr style=\"text-align: right;\">\n",
       "      <th></th>\n",
       "      <th>name</th>\n",
       "      <th>platform</th>\n",
       "      <th>year_of_release</th>\n",
       "      <th>genre</th>\n",
       "      <th>na_sales</th>\n",
       "      <th>eu_sales</th>\n",
       "      <th>jp_sales</th>\n",
       "      <th>other_sales</th>\n",
       "      <th>critic_score</th>\n",
       "      <th>user_score</th>\n",
       "      <th>rating</th>\n",
       "      <th>total_sales</th>\n",
       "    </tr>\n",
       "  </thead>\n",
       "  <tbody>\n",
       "    <tr>\n",
       "      <th>659</th>\n",
       "      <td>NaN</td>\n",
       "      <td>GEN</td>\n",
       "      <td>1993.0</td>\n",
       "      <td>NaN</td>\n",
       "      <td>1.78</td>\n",
       "      <td>0.53</td>\n",
       "      <td>0.00</td>\n",
       "      <td>0.08</td>\n",
       "      <td>NaN</td>\n",
       "      <td>NaN</td>\n",
       "      <td>NaN</td>\n",
       "      <td>2.39</td>\n",
       "    </tr>\n",
       "    <tr>\n",
       "      <th>14244</th>\n",
       "      <td>NaN</td>\n",
       "      <td>GEN</td>\n",
       "      <td>1993.0</td>\n",
       "      <td>NaN</td>\n",
       "      <td>0.00</td>\n",
       "      <td>0.00</td>\n",
       "      <td>0.03</td>\n",
       "      <td>0.00</td>\n",
       "      <td>NaN</td>\n",
       "      <td>NaN</td>\n",
       "      <td>NaN</td>\n",
       "      <td>0.03</td>\n",
       "    </tr>\n",
       "  </tbody>\n",
       "</table>\n",
       "</div>"
      ],
      "text/plain": [
       "      name platform  year_of_release genre  na_sales  eu_sales  jp_sales  \\\n",
       "659    NaN      GEN           1993.0   NaN      1.78      0.53      0.00   \n",
       "14244  NaN      GEN           1993.0   NaN      0.00      0.00      0.03   \n",
       "\n",
       "       other_sales  critic_score user_score rating  total_sales  \n",
       "659           0.08           NaN        NaN    NaN         2.39  \n",
       "14244         0.00           NaN        NaN    NaN         0.03  "
      ]
     },
     "execution_count": 14,
     "metadata": {},
     "output_type": "execute_result"
    }
   ],
   "source": [
    "df[df['name'].isnull()]"
   ]
  },
  {
   "cell_type": "markdown",
   "id": "35dad755-cc66-47cc-89d0-1678e415b397",
   "metadata": {},
   "source": [
    "Всего две игры без названия и жанра. Вероятно данные были утрачены в результате механического сбоя. Просто отбросим эти строки."
   ]
  },
  {
   "cell_type": "code",
   "execution_count": 15,
   "id": "d4dd6ab0-9e8f-4976-ab62-23a2f41904df",
   "metadata": {},
   "outputs": [
    {
     "data": {
      "text/plain": [
       "(16446, 12)"
      ]
     },
     "execution_count": 15,
     "metadata": {},
     "output_type": "execute_result"
    }
   ],
   "source": [
    "df.shape"
   ]
  },
  {
   "cell_type": "code",
   "execution_count": 16,
   "id": "81c1179a-7eab-4e0a-a938-166e117f618f",
   "metadata": {
    "tags": []
   },
   "outputs": [],
   "source": [
    "df.drop([659, 14244], inplace=True) # только два значения, можно и по идексам просто убрать."
   ]
  },
  {
   "cell_type": "code",
   "execution_count": 17,
   "id": "59122210-0e7c-4c62-9870-1d52de840eaf",
   "metadata": {},
   "outputs": [
    {
     "data": {
      "text/plain": [
       "(16444, 12)"
      ]
     },
     "execution_count": 17,
     "metadata": {},
     "output_type": "execute_result"
    }
   ],
   "source": [
    "df.shape"
   ]
  },
  {
   "cell_type": "markdown",
   "id": "8d382349-22b1-4420-98fc-83a86ece974e",
   "metadata": {},
   "source": [
    "Попробуем сменить формат столбца с оценками от пользователей на числовой."
   ]
  },
  {
   "cell_type": "code",
   "execution_count": 18,
   "id": "ae102ebe-669e-4d7a-ab44-cf655a9156c6",
   "metadata": {},
   "outputs": [
    {
     "name": "stdout",
     "output_type": "stream",
     "text": [
      "Формат так просто не сменить\n"
     ]
    }
   ],
   "source": [
    "try:\n",
    "    df['user_score'] = df['user_score'].astype('float32')\n",
    "except:\n",
    "    print('Формат так просто не сменить')"
   ]
  },
  {
   "cell_type": "markdown",
   "id": "09763ac9-d947-4edf-84ae-92bd81bc45ac",
   "metadata": {},
   "source": [
    "Посмотрим на все уникальные значения столбца и попробуем выяснить источник проблемы."
   ]
  },
  {
   "cell_type": "code",
   "execution_count": 19,
   "id": "c49e5a9d-a5a5-420c-aa66-beb23f50eef3",
   "metadata": {},
   "outputs": [
    {
     "data": {
      "text/plain": [
       "array(['8', nan, '8.3', '8.5', '6.6', '8.4', '8.6', '7.7', '6.3', '7.4',\n",
       "       '8.2', '9', '7.9', '8.1', '8.7', '7.1', '3.4', '5.3', '4.8', '3.2',\n",
       "       '8.9', '6.4', '7.8', '7.5', '2.6', '7.2', '9.2', '7', '7.3', '4.3',\n",
       "       '7.6', '5.7', '5', '9.1', '6.5', 'tbd', '8.8', '6.9', '9.4', '6.8',\n",
       "       '6.1', '6.7', '5.4', '4', '4.9', '4.5', '9.3', '6.2', '4.2', '6',\n",
       "       '3.7', '4.1', '5.8', '5.6', '5.5', '4.4', '4.6', '5.9', '3.9',\n",
       "       '3.1', '2.9', '5.2', '3.3', '4.7', '5.1', '3.5', '2.5', '1.9', '3',\n",
       "       '2.7', '2.2', '2', '9.5', '2.1', '3.6', '2.8', '1.8', '3.8', '0',\n",
       "       '1.6', '9.6', '2.4', '1.7', '1.1', '0.3', '1.5', '0.7', '1.2',\n",
       "       '2.3', '0.5', '1.3', '0.2', '0.6', '1.4', '0.9', '1', '9.7'],\n",
       "      dtype=object)"
      ]
     },
     "execution_count": 19,
     "metadata": {},
     "output_type": "execute_result"
    }
   ],
   "source": [
    "df['user_score'].unique()"
   ]
  },
  {
   "cell_type": "markdown",
   "id": "adefcb0e-2d11-49dc-be84-74ca76a08dd9",
   "metadata": {},
   "source": [
    "Значение 'tbd' в столбце с пользовательским рейтингом расшифровывается как 'to be determined', то есть 'неопределено'. С точки зрения исследования это тот же пропуск. Собственно замене на пропуски эти данные и подлежат, это позволит привести оставшиеся значения к числовому формату."
   ]
  },
  {
   "cell_type": "code",
   "execution_count": 20,
   "id": "bdd5003f-d0a9-45a7-a621-98ec3e1faad2",
   "metadata": {},
   "outputs": [],
   "source": [
    "df['user_score'] = df['user_score'].replace('tbd', np.nan)"
   ]
  },
  {
   "cell_type": "markdown",
   "id": "8fe90f8b-5bb8-4669-8056-d0f286b003a4",
   "metadata": {},
   "source": [
    "Приведем числовые столбцы к менее затратным для памяти форматам."
   ]
  },
  {
   "cell_type": "code",
   "execution_count": 21,
   "id": "5d97ed86-25df-491e-8aaa-fee6d86d6f4b",
   "metadata": {
    "tags": []
   },
   "outputs": [],
   "source": [
    "# user_score переводим в числовой формат, остальное меняем для производительности.\n",
    "df['year_of_release'] = df['year_of_release'].astype('int32')\n",
    "df['user_score'] = df['user_score'].astype('float32')\n",
    "df['na_sales'] = df['na_sales'].astype('float32')\n",
    "df['eu_sales'] = df['eu_sales'].astype('float32')\n",
    "df['jp_sales'] = df['jp_sales'].astype('float32')\n",
    "df['other_sales'] = df['other_sales'].astype('float32')\n",
    "df['critic_score'] = df['critic_score'].astype('float32')"
   ]
  },
  {
   "cell_type": "markdown",
   "id": "11761ff0-21b7-4823-b60c-24f41b2a43f3",
   "metadata": {},
   "source": [
    "Проверим стобцы платформы и жанра на неявные дубликаты."
   ]
  },
  {
   "cell_type": "code",
   "execution_count": 22,
   "id": "c3ad74dd-74cb-453f-b5da-3cec7f8a7874",
   "metadata": {},
   "outputs": [
    {
     "data": {
      "text/plain": [
       "array(['Wii', 'NES', 'GB', 'DS', 'X360', 'PS3', 'PS2', 'SNES', 'GBA',\n",
       "       'PS4', '3DS', 'N64', 'PS', 'XB', 'PC', '2600', 'PSP', 'XOne',\n",
       "       'WiiU', 'GC', 'GEN', 'DC', 'PSV', 'SAT', 'SCD', 'WS', 'NG', 'TG16',\n",
       "       '3DO', 'GG', 'PCFX'], dtype=object)"
      ]
     },
     "execution_count": 22,
     "metadata": {},
     "output_type": "execute_result"
    }
   ],
   "source": [
    "df['platform'].unique()"
   ]
  },
  {
   "cell_type": "code",
   "execution_count": 23,
   "id": "c8d063fb-ded4-40d2-9fad-7ceb78efc031",
   "metadata": {},
   "outputs": [
    {
     "data": {
      "text/plain": [
       "array(['Sports', 'Platform', 'Racing', 'Role-Playing', 'Puzzle', 'Misc',\n",
       "       'Shooter', 'Simulation', 'Action', 'Fighting', 'Adventure',\n",
       "       'Strategy'], dtype=object)"
      ]
     },
     "execution_count": 23,
     "metadata": {},
     "output_type": "execute_result"
    }
   ],
   "source": [
    "df['genre'].unique()"
   ]
  },
  {
   "cell_type": "markdown",
   "id": "cb759c33-0a68-45f6-88eb-55b8f9fe8911",
   "metadata": {},
   "source": [
    "С неявными дубликатами тоже всё в порядке."
   ]
  },
  {
   "cell_type": "code",
   "execution_count": 24,
   "id": "e90915ad-5cac-409e-8676-769ac4556705",
   "metadata": {},
   "outputs": [
    {
     "data": {
      "text/plain": [
       "array(['E', nan, 'M', 'T', 'E10+', 'K-A', 'AO', 'EC', 'RP'], dtype=object)"
      ]
     },
     "execution_count": 24,
     "metadata": {},
     "output_type": "execute_result"
    }
   ],
   "source": [
    "df['rating'].unique()"
   ]
  },
  {
   "cell_type": "markdown",
   "id": "6cf590bd-3a94-420a-a405-f9c69979eec6",
   "metadata": {},
   "source": [
    "Система рейтингов была введена в сентябре 1994 года и регулирует рейтинги только для Северной Америки. Игры выпущенные до сентября 1994 года или не поступавшие в официальную продажу в Северное Америке этого рейтинга иметь не будут. Заполним пустые значения 'Unknown', также заменим рейтинг 'RP', что фактически означает отсутствие рейтинга на момент получения данных. Как и с оценками, заполнять пропуски чем то другим, будет ошибкой."
   ]
  },
  {
   "cell_type": "code",
   "execution_count": 25,
   "id": "db3ea4aa-8f4d-4348-a07e-dbcf089ff1d3",
   "metadata": {},
   "outputs": [],
   "source": [
    "df['rating'] = df['rating'].replace('RP', 'Unknown')\n",
    "df['rating'] = df['rating'].fillna('Unknown')"
   ]
  },
  {
   "cell_type": "markdown",
   "id": "10bc7650-cc77-4295-8c79-814af761f58b",
   "metadata": {},
   "source": [
    "Подводя итоги предобработки данных:  \n",
    "Названия столбцов приведены к нижнему регистру.  \n",
    "Данные слобца 'user_score' приведены к числовому формату.  \n",
    "Заполнена часть пропусков.  \n",
    "Отброшена часть неполных данных.\n",
    "\n",
    "Также необходимо выделить актуальный период для исследования, однако это будет сделано в следующем разделе."
   ]
  },
  {
   "cell_type": "markdown",
   "id": "060d81e8-57c9-4edc-aa73-ae43b4ac67ae",
   "metadata": {
    "tags": []
   },
   "source": [
    "## Исследовательский анализ данных"
   ]
  },
  {
   "cell_type": "markdown",
   "id": "0797e13a-c3ff-4054-9f0d-6c5535b1a8f4",
   "metadata": {},
   "source": [
    "### Общее исследование и выделение наиболее перспективных платформ"
   ]
  },
  {
   "cell_type": "markdown",
   "id": "ed7575c5-da41-4515-896f-b3d4711a7866",
   "metadata": {},
   "source": [
    "Взглянем на количество выпускаемых игр по годам."
   ]
  },
  {
   "cell_type": "code",
   "execution_count": 26,
   "id": "d514c4c6-c53d-44ac-88e7-e594326eda88",
   "metadata": {},
   "outputs": [
    {
     "data": {
      "text/plain": [
       "Text(0, 0.5, 'Количество выпущенных игр')"
      ]
     },
     "execution_count": 26,
     "metadata": {},
     "output_type": "execute_result"
    },
    {
     "data": {
      "image/png": "[encoded data removed]",
      "text/plain": [
       "<Figure size 1440x720 with 1 Axes>"
      ]
     },
     "metadata": {
      "needs_background": "light"
     },
     "output_type": "display_data"
    }
   ],
   "source": [
    "df.hist('year_of_release', color='orange', bins=37, figsize=(20, 10))\n",
    "plt.title('Количество выпускаемых игр в год')\n",
    "plt.xlabel('Год')\n",
    "plt.ylabel('Количество выпущенных игр')"
   ]
  },
  {
   "cell_type": "markdown",
   "id": "334dff79-f3e8-41bd-9a83-8a9a513c7ddb",
   "metadata": {},
   "source": [
    "Заметно, что своего пика индустрия достигла в 2008-2009 годах, после чего произошел спад на текущие позиции.\n",
    "\n",
    "Взгянем на пятерку самых популярный платформ за всё время."
   ]
  },
  {
   "cell_type": "code",
   "execution_count": 27,
   "id": "4e213255-0c55-4e42-8985-5b0488a01ceb",
   "metadata": {},
   "outputs": [
    {
     "data": {
      "text/plain": [
       "PS2     2127\n",
       "DS      2121\n",
       "PS3     1306\n",
       "Wii     1286\n",
       "X360    1232\n",
       "Name: platform, dtype: int64"
      ]
     },
     "execution_count": 27,
     "metadata": {},
     "output_type": "execute_result"
    }
   ],
   "source": [
    "df['platform'].value_counts().head()"
   ]
  },
  {
   "cell_type": "markdown",
   "id": "b2ccdfa5-943f-4f9c-95f7-959c01a89d24",
   "metadata": {},
   "source": [
    "Ничего неожиданного, это как раз основные платформы пикового периода.  \n",
    "Установим среднюю длину \"жизненного цикла\" популярных платформ.  \n",
    "Построим гистограммы для каждой из ни, границы значений и будут показывать эту длину."
   ]
  },
  {
   "cell_type": "code",
   "execution_count": 28,
   "id": "eb108fdb-69be-4d17-9793-0343b3ab06a7",
   "metadata": {},
   "outputs": [
    {
     "data": {
      "text/plain": [
       "Text(0, 0.5, 'Количество выпущенных игр')"
      ]
     },
     "execution_count": 28,
     "metadata": {},
     "output_type": "execute_result"
    },
    {
     "data": {
      "image/png": "[encoded data removed]",
      "text/plain": [
       "<Figure size 432x288 with 1 Axes>"
      ]
     },
     "metadata": {
      "needs_background": "light"
     },
     "output_type": "display_data"
    }
   ],
   "source": [
    "df.query('platform == \"PS2\"').hist('year_of_release', color='navy', bins=20,)\n",
    "plt.title('Количество выпускаемых игр в год PS2')\n",
    "plt.xlabel('Год')\n",
    "plt.ylabel('Количество выпущенных игр')"
   ]
  },
  {
   "cell_type": "code",
   "execution_count": 29,
   "id": "f73c6a2c-565f-4923-90c3-9b79cf8dc549",
   "metadata": {},
   "outputs": [
    {
     "data": {
      "text/plain": [
       "Text(0, 0.5, 'Количество выпущенных игр')"
      ]
     },
     "execution_count": 29,
     "metadata": {},
     "output_type": "execute_result"
    },
    {
     "data": {
      "image/png": "[encoded data removed]",
      "text/plain": [
       "<Figure size 432x288 with 1 Axes>"
      ]
     },
     "metadata": {
      "needs_background": "light"
     },
     "output_type": "display_data"
    }
   ],
   "source": [
    "df.query('platform == \"DS\"').hist('year_of_release', color='crimson', bins=20)\n",
    "plt.title('Количество выпускаемых игр в год DS')\n",
    "plt.xlabel('Год')\n",
    "plt.ylabel('Количество выпущенных игр')"
   ]
  },
  {
   "cell_type": "markdown",
   "id": "ab53eccb-a137-4a5e-b4ea-4f0c36babef1",
   "metadata": {},
   "source": [
    "Видим закравшуюся аномалию, она может быть связана с неправильным заполнением данных, например переиздания игры 1985 года.   \n",
    "Важно заметить, что настоящий разброс укладывается 10 лет."
   ]
  },
  {
   "cell_type": "code",
   "execution_count": 30,
   "id": "3ab15851-17ec-4b31-a413-18bc7d44854d",
   "metadata": {},
   "outputs": [
    {
     "data": {
      "text/plain": [
       "Text(0, 0.5, 'Количество выпущенных игр')"
      ]
     },
     "execution_count": 30,
     "metadata": {},
     "output_type": "execute_result"
    },
    {
     "data": {
      "image/png": "[encoded data removed]",
      "text/plain": [
       "<Figure size 432x288 with 1 Axes>"
      ]
     },
     "metadata": {
      "needs_background": "light"
     },
     "output_type": "display_data"
    }
   ],
   "source": [
    "df.query('platform == \"PS3\"').hist('year_of_release', color='navy', bins=20)\n",
    "plt.title('Количество выпускаемых игр в год PS3')\n",
    "plt.xlabel('Год')\n",
    "plt.ylabel('Количество выпущенных игр')"
   ]
  },
  {
   "cell_type": "code",
   "execution_count": 31,
   "id": "ab2b46bd-7be5-49d0-8f51-52535026889b",
   "metadata": {},
   "outputs": [
    {
     "data": {
      "text/plain": [
       "Text(0, 0.5, 'Количество выпущенных игр')"
      ]
     },
     "execution_count": 31,
     "metadata": {},
     "output_type": "execute_result"
    },
    {
     "data": {
      "image/png": "[encoded data removed]",
      "text/plain": [
       "<Figure size 432x288 with 1 Axes>"
      ]
     },
     "metadata": {
      "needs_background": "light"
     },
     "output_type": "display_data"
    }
   ],
   "source": [
    "df.query('platform == \"Wii\"').hist('year_of_release', color='crimson', bins=20)\n",
    "plt.title('Количество выпускаемых игр в год Wii')\n",
    "plt.xlabel('Год')\n",
    "plt.ylabel('Количество выпущенных игр')"
   ]
  },
  {
   "cell_type": "code",
   "execution_count": 32,
   "id": "e1f4515f-5d1f-44e4-8778-69ac5d17e86a",
   "metadata": {},
   "outputs": [
    {
     "data": {
      "text/plain": [
       "Text(0, 0.5, 'Количество выпущенных игр')"
      ]
     },
     "execution_count": 32,
     "metadata": {},
     "output_type": "execute_result"
    },
    {
     "data": {
      "image/png": "[encoded data removed]",
      "text/plain": [
       "<Figure size 432x288 with 1 Axes>"
      ]
     },
     "metadata": {
      "needs_background": "light"
     },
     "output_type": "display_data"
    }
   ],
   "source": [
    "df.query('platform == \"X360\"').hist('year_of_release', color='lime', bins=20)\n",
    "plt.title('Количество выпускаемых игр в год X360')\n",
    "plt.xlabel('Год')\n",
    "plt.ylabel('Количество выпущенных игр')"
   ]
  },
  {
   "cell_type": "markdown",
   "id": "ff063f88-d758-447c-8452-aee34425b398",
   "metadata": {},
   "source": [
    "В целом, цикл жизни популярной консоли укладывается в 10-11 лет, однако первая половина цикла значительно превосходит вторую в количестве выпущенных игр.\n",
    "Исходя из этого, имеет смысл рассматривать платформы за последние 5 лет, таким образом мы получим только набирающие популярность платформы."
   ]
  },
  {
   "cell_type": "code",
   "execution_count": 33,
   "id": "45f79175-9498-4d47-91df-1eec1eea81df",
   "metadata": {},
   "outputs": [
    {
     "data": {
      "text/plain": [
       "PS3     493\n",
       "PSV     411\n",
       "3DS     396\n",
       "PS4     392\n",
       "X360    292\n",
       "PC      250\n",
       "XOne    247\n",
       "PSP     173\n",
       "WiiU    147\n",
       "Wii      54\n",
       "DS       31\n",
       "Name: platform, dtype: int64"
      ]
     },
     "execution_count": 33,
     "metadata": {},
     "output_type": "execute_result"
    }
   ],
   "source": [
    "df_upd = df.query('year_of_release > 2011')\n",
    "df_upd['platform'].value_counts()"
   ]
  },
  {
   "cell_type": "markdown",
   "id": "3d311e64-3fd5-4dfe-a05c-5a49dd0f8cf8",
   "metadata": {},
   "source": [
    "Посмотрим динамику по годам. "
   ]
  },
  {
   "cell_type": "code",
   "execution_count": 34,
   "id": "2ff2b573-d556-4c77-97c9-8262bca6631f",
   "metadata": {},
   "outputs": [
    {
     "data": {
      "text/html": [
       "<div>\n",
       "<style scoped>\n",
       "    .dataframe tbody tr th:only-of-type {\n",
       "        vertical-align: middle;\n",
       "    }\n",
       "\n",
       "    .dataframe tbody tr th {\n",
       "        vertical-align: top;\n",
       "    }\n",
       "\n",
       "    .dataframe thead th {\n",
       "        text-align: right;\n",
       "    }\n",
       "</style>\n",
       "<table border=\"1\" class=\"dataframe\">\n",
       "  <thead>\n",
       "    <tr style=\"text-align: right;\">\n",
       "      <th>year_of_release</th>\n",
       "      <th>2012</th>\n",
       "      <th>2013</th>\n",
       "      <th>2014</th>\n",
       "      <th>2015</th>\n",
       "      <th>2016</th>\n",
       "    </tr>\n",
       "    <tr>\n",
       "      <th>platform</th>\n",
       "      <th></th>\n",
       "      <th></th>\n",
       "      <th></th>\n",
       "      <th></th>\n",
       "      <th></th>\n",
       "    </tr>\n",
       "  </thead>\n",
       "  <tbody>\n",
       "    <tr>\n",
       "      <th>3DS</th>\n",
       "      <td>51.36</td>\n",
       "      <td>56.57</td>\n",
       "      <td>43.76</td>\n",
       "      <td>27.78</td>\n",
       "      <td>15.14</td>\n",
       "    </tr>\n",
       "    <tr>\n",
       "      <th>DS</th>\n",
       "      <td>11.01</td>\n",
       "      <td>1.54</td>\n",
       "      <td>NaN</td>\n",
       "      <td>NaN</td>\n",
       "      <td>NaN</td>\n",
       "    </tr>\n",
       "    <tr>\n",
       "      <th>PC</th>\n",
       "      <td>23.22</td>\n",
       "      <td>12.38</td>\n",
       "      <td>13.28</td>\n",
       "      <td>8.52</td>\n",
       "      <td>5.25</td>\n",
       "    </tr>\n",
       "    <tr>\n",
       "      <th>PS3</th>\n",
       "      <td>107.36</td>\n",
       "      <td>113.25</td>\n",
       "      <td>47.76</td>\n",
       "      <td>16.82</td>\n",
       "      <td>3.60</td>\n",
       "    </tr>\n",
       "    <tr>\n",
       "      <th>PS4</th>\n",
       "      <td>NaN</td>\n",
       "      <td>25.99</td>\n",
       "      <td>100.00</td>\n",
       "      <td>118.90</td>\n",
       "      <td>69.25</td>\n",
       "    </tr>\n",
       "    <tr>\n",
       "      <th>PSP</th>\n",
       "      <td>7.69</td>\n",
       "      <td>3.14</td>\n",
       "      <td>0.24</td>\n",
       "      <td>0.12</td>\n",
       "      <td>NaN</td>\n",
       "    </tr>\n",
       "    <tr>\n",
       "      <th>PSV</th>\n",
       "      <td>16.19</td>\n",
       "      <td>10.59</td>\n",
       "      <td>11.90</td>\n",
       "      <td>6.25</td>\n",
       "      <td>4.25</td>\n",
       "    </tr>\n",
       "    <tr>\n",
       "      <th>Wii</th>\n",
       "      <td>21.71</td>\n",
       "      <td>8.59</td>\n",
       "      <td>3.75</td>\n",
       "      <td>1.14</td>\n",
       "      <td>0.18</td>\n",
       "    </tr>\n",
       "    <tr>\n",
       "      <th>WiiU</th>\n",
       "      <td>17.56</td>\n",
       "      <td>21.65</td>\n",
       "      <td>22.03</td>\n",
       "      <td>16.35</td>\n",
       "      <td>4.60</td>\n",
       "    </tr>\n",
       "    <tr>\n",
       "      <th>X360</th>\n",
       "      <td>99.74</td>\n",
       "      <td>88.58</td>\n",
       "      <td>34.74</td>\n",
       "      <td>11.96</td>\n",
       "      <td>1.52</td>\n",
       "    </tr>\n",
       "    <tr>\n",
       "      <th>XOne</th>\n",
       "      <td>NaN</td>\n",
       "      <td>18.96</td>\n",
       "      <td>54.07</td>\n",
       "      <td>60.14</td>\n",
       "      <td>26.15</td>\n",
       "    </tr>\n",
       "  </tbody>\n",
       "</table>\n",
       "</div>"
      ],
      "text/plain": [
       "year_of_release    2012    2013    2014    2015   2016\n",
       "platform                                              \n",
       "3DS               51.36   56.57   43.76   27.78  15.14\n",
       "DS                11.01    1.54     NaN     NaN    NaN\n",
       "PC                23.22   12.38   13.28    8.52   5.25\n",
       "PS3              107.36  113.25   47.76   16.82   3.60\n",
       "PS4                 NaN   25.99  100.00  118.90  69.25\n",
       "PSP                7.69    3.14    0.24    0.12    NaN\n",
       "PSV               16.19   10.59   11.90    6.25   4.25\n",
       "Wii               21.71    8.59    3.75    1.14   0.18\n",
       "WiiU              17.56   21.65   22.03   16.35   4.60\n",
       "X360              99.74   88.58   34.74   11.96   1.52\n",
       "XOne                NaN   18.96   54.07   60.14  26.15"
      ]
     },
     "execution_count": 34,
     "metadata": {},
     "output_type": "execute_result"
    }
   ],
   "source": [
    "# таблица мне показалась нагляднее в данном конкретном случае, график выходил слишком пестрым и в нем гораздо легче запутаться.\n",
    "df_upd.pivot_table(index='platform', columns='year_of_release', values='total_sales', aggfunc='sum')"
   ]
  },
  {
   "cell_type": "markdown",
   "id": "833debab-4422-4dad-9551-24c4ae9cde97",
   "metadata": {},
   "source": [
    "Учитывая то, что данные за 2016 являются неполными, нас интересуют платформы показывающие рост на 2015 год, таких консолей всего две: PS4(PlayStation 4) и XOne(XBOX One).\n",
    "\n",
    "Посмотрим как распределены глобальные продажи на этих платформах."
   ]
  },
  {
   "cell_type": "code",
   "execution_count": 35,
   "id": "8edc87fc-b308-434f-8137-0be3e277934c",
   "metadata": {},
   "outputs": [
    {
     "data": {
      "image/png": "[encoded data removed]",
      "text/plain": [
       "<Figure size 720x720 with 1 Axes>"
      ]
     },
     "metadata": {
      "needs_background": "light"
     },
     "output_type": "display_data"
    }
   ],
   "source": [
    "xb_data = df_upd.query('platform==\"XOne\"')['total_sales']\n",
    "ps_data = df_upd.query('platform==\"PS4\"')['total_sales']\n",
    "bp_data = [xb_data, ps_data]\n",
    "plt.figure(figsize=(10, 10))\n",
    "plt.boxplot(bp_data)\n",
    "plt.xticks([1, 2], ['XOne', 'PS4'])\n",
    "plt.grid()"
   ]
  },
  {
   "cell_type": "code",
   "execution_count": 36,
   "id": "aa496c46-5d55-42ae-88ea-e7b725275d36",
   "metadata": {},
   "outputs": [
    {
     "data": {
      "image/png": "[encoded data removed]",
      "text/plain": [
       "<Figure size 720x720 with 1 Axes>"
      ]
     },
     "metadata": {
      "needs_background": "light"
     },
     "output_type": "display_data"
    }
   ],
   "source": [
    "plt.figure(figsize=(10, 10))\n",
    "plt.boxplot(bp_data)\n",
    "plt.xticks([1, 2], ['XOne', 'PS4'])\n",
    "plt.ylim(0, 1.8)\n",
    "plt.grid()"
   ]
  },
  {
   "cell_type": "markdown",
   "id": "8f0d35c3-3b87-44d7-a6bf-a218593e442e",
   "metadata": {},
   "source": [
    "На графике без ограничений, видно значительное превосходство PS4 в хитах, то есть играх, продажи которых щначительно превышают нормальные значения.  \n",
    "Основная масса же распределена весьма похоже, первый квартиль на одинаковом уровне, у XOne чуть выше медиана, тогда как у PS4 немного больше третий квартиль."
   ]
  },
  {
   "cell_type": "markdown",
   "id": "7ae7b6f0-0c86-4481-9c45-276ed99282ec",
   "metadata": {},
   "source": [
    "Рассмотрим зависимости между продажами игр и оценками пользователей и критиков, на примере PS4.\n",
    "Для лучшей наглядности графиков, ограничим число продаж пятью миллионами."
   ]
  },
  {
   "cell_type": "code",
   "execution_count": 37,
   "id": "38608dc6-467f-4970-aa19-b91183820f8d",
   "metadata": {},
   "outputs": [],
   "source": [
    "df_upd = df_upd.query('total_sales <= 5')"
   ]
  },
  {
   "cell_type": "code",
   "execution_count": 38,
   "id": "d3d45529-667d-4348-878f-6ff45a8a64ed",
   "metadata": {},
   "outputs": [
    {
     "data": {
      "text/plain": [
       "array([[<AxesSubplot:xlabel='total_sales', ylabel='total_sales'>,\n",
       "        <AxesSubplot:xlabel='user_score', ylabel='total_sales'>,\n",
       "        <AxesSubplot:xlabel='critic_score', ylabel='total_sales'>],\n",
       "       [<AxesSubplot:xlabel='total_sales', ylabel='user_score'>,\n",
       "        <AxesSubplot:xlabel='user_score', ylabel='user_score'>,\n",
       "        <AxesSubplot:xlabel='critic_score', ylabel='user_score'>],\n",
       "       [<AxesSubplot:xlabel='total_sales', ylabel='critic_score'>,\n",
       "        <AxesSubplot:xlabel='user_score', ylabel='critic_score'>,\n",
       "        <AxesSubplot:xlabel='critic_score', ylabel='critic_score'>]],\n",
       "      dtype=object)"
      ]
     },
     "execution_count": 38,
     "metadata": {},
     "output_type": "execute_result"
    },
    {
     "data": {
      "image/png": "[encoded data removed]",
      "text/plain": [
       "<Figure size 720x720 with 9 Axes>"
      ]
     },
     "metadata": {
      "needs_background": "light"
     },
     "output_type": "display_data"
    }
   ],
   "source": [
    "pd.plotting.scatter_matrix(df_upd.query('platform==\"PS4\"')[['total_sales', 'user_score', 'critic_score']], figsize=(10, 10))"
   ]
  },
  {
   "cell_type": "markdown",
   "id": "e6583fba-8887-47c3-8f3f-cacf33113fd8",
   "metadata": {},
   "source": [
    "На диаграмме рассеяния можно подметить, что игры с низкими оценками критиков не продаются большим тиражом, в то время как оценки пользователей в отношении успешных игр имеют больший разброс, что можно списать на флешмобы. Также прослеживается сильная корреляция между оценками критиков и пользователей. Сравним эти графики с аналогичными по платформе XOne."
   ]
  },
  {
   "cell_type": "code",
   "execution_count": 39,
   "id": "65e77df4-e06c-41f4-9550-cceabad2e0a7",
   "metadata": {},
   "outputs": [
    {
     "data": {
      "text/plain": [
       "array([[<AxesSubplot:xlabel='total_sales', ylabel='total_sales'>,\n",
       "        <AxesSubplot:xlabel='user_score', ylabel='total_sales'>,\n",
       "        <AxesSubplot:xlabel='critic_score', ylabel='total_sales'>],\n",
       "       [<AxesSubplot:xlabel='total_sales', ylabel='user_score'>,\n",
       "        <AxesSubplot:xlabel='user_score', ylabel='user_score'>,\n",
       "        <AxesSubplot:xlabel='critic_score', ylabel='user_score'>],\n",
       "       [<AxesSubplot:xlabel='total_sales', ylabel='critic_score'>,\n",
       "        <AxesSubplot:xlabel='user_score', ylabel='critic_score'>,\n",
       "        <AxesSubplot:xlabel='critic_score', ylabel='critic_score'>]],\n",
       "      dtype=object)"
      ]
     },
     "execution_count": 39,
     "metadata": {},
     "output_type": "execute_result"
    },
    {
     "data": {
      "image/png": "[encoded data removed]",
      "text/plain": [
       "<Figure size 720x720 with 9 Axes>"
      ]
     },
     "metadata": {
      "needs_background": "light"
     },
     "output_type": "display_data"
    }
   ],
   "source": [
    "pd.plotting.scatter_matrix(df_upd.query('platform==\"XOne\"')[['total_sales', 'user_score', 'critic_score']], figsize=(10, 10))"
   ]
  },
  {
   "cell_type": "markdown",
   "id": "51dc73a4-88cf-4835-ab4b-69f709c83d53",
   "metadata": {},
   "source": [
    "Общие тенденции совпадают.\n",
    "\n",
    "Теперь посмотрим на данные по жанрам за интересующий нас период."
   ]
  },
  {
   "cell_type": "code",
   "execution_count": 40,
   "id": "5318e33e-cb49-4c4c-88ed-8d43f1b93946",
   "metadata": {},
   "outputs": [
    {
     "data": {
      "text/html": [
       "<div>\n",
       "<style scoped>\n",
       "    .dataframe tbody tr th:only-of-type {\n",
       "        vertical-align: middle;\n",
       "    }\n",
       "\n",
       "    .dataframe tbody tr th {\n",
       "        vertical-align: top;\n",
       "    }\n",
       "\n",
       "    .dataframe thead th {\n",
       "        text-align: right;\n",
       "    }\n",
       "</style>\n",
       "<table border=\"1\" class=\"dataframe\">\n",
       "  <thead>\n",
       "    <tr style=\"text-align: right;\">\n",
       "      <th></th>\n",
       "      <th>mean</th>\n",
       "      <th>median</th>\n",
       "      <th>sum</th>\n",
       "    </tr>\n",
       "    <tr>\n",
       "      <th>genre</th>\n",
       "      <th></th>\n",
       "      <th></th>\n",
       "      <th></th>\n",
       "    </tr>\n",
       "  </thead>\n",
       "  <tbody>\n",
       "    <tr>\n",
       "      <th>Action</th>\n",
       "      <td>0.347153</td>\n",
       "      <td>0.115</td>\n",
       "      <td>354.79</td>\n",
       "    </tr>\n",
       "    <tr>\n",
       "      <th>Adventure</th>\n",
       "      <td>0.097450</td>\n",
       "      <td>0.030</td>\n",
       "      <td>29.43</td>\n",
       "    </tr>\n",
       "    <tr>\n",
       "      <th>Fighting</th>\n",
       "      <td>0.342037</td>\n",
       "      <td>0.130</td>\n",
       "      <td>36.94</td>\n",
       "    </tr>\n",
       "    <tr>\n",
       "      <th>Misc</th>\n",
       "      <td>0.337725</td>\n",
       "      <td>0.120</td>\n",
       "      <td>63.83</td>\n",
       "    </tr>\n",
       "    <tr>\n",
       "      <th>Platform</th>\n",
       "      <td>0.552651</td>\n",
       "      <td>0.190</td>\n",
       "      <td>45.87</td>\n",
       "    </tr>\n",
       "    <tr>\n",
       "      <th>Puzzle</th>\n",
       "      <td>0.174643</td>\n",
       "      <td>0.045</td>\n",
       "      <td>4.89</td>\n",
       "    </tr>\n",
       "    <tr>\n",
       "      <th>Racing</th>\n",
       "      <td>0.407105</td>\n",
       "      <td>0.135</td>\n",
       "      <td>46.41</td>\n",
       "    </tr>\n",
       "    <tr>\n",
       "      <th>Role-Playing</th>\n",
       "      <td>0.381896</td>\n",
       "      <td>0.130</td>\n",
       "      <td>139.01</td>\n",
       "    </tr>\n",
       "    <tr>\n",
       "      <th>Shooter</th>\n",
       "      <td>0.869955</td>\n",
       "      <td>0.410</td>\n",
       "      <td>194.00</td>\n",
       "    </tr>\n",
       "    <tr>\n",
       "      <th>Simulation</th>\n",
       "      <td>0.265769</td>\n",
       "      <td>0.115</td>\n",
       "      <td>20.73</td>\n",
       "    </tr>\n",
       "    <tr>\n",
       "      <th>Sports</th>\n",
       "      <td>0.577083</td>\n",
       "      <td>0.235</td>\n",
       "      <td>152.35</td>\n",
       "    </tr>\n",
       "    <tr>\n",
       "      <th>Strategy</th>\n",
       "      <td>0.187887</td>\n",
       "      <td>0.080</td>\n",
       "      <td>13.34</td>\n",
       "    </tr>\n",
       "  </tbody>\n",
       "</table>\n",
       "</div>"
      ],
      "text/plain": [
       "                  mean  median     sum\n",
       "genre                                 \n",
       "Action        0.347153   0.115  354.79\n",
       "Adventure     0.097450   0.030   29.43\n",
       "Fighting      0.342037   0.130   36.94\n",
       "Misc          0.337725   0.120   63.83\n",
       "Platform      0.552651   0.190   45.87\n",
       "Puzzle        0.174643   0.045    4.89\n",
       "Racing        0.407105   0.135   46.41\n",
       "Role-Playing  0.381896   0.130  139.01\n",
       "Shooter       0.869955   0.410  194.00\n",
       "Simulation    0.265769   0.115   20.73\n",
       "Sports        0.577083   0.235  152.35\n",
       "Strategy      0.187887   0.080   13.34"
      ]
     },
     "execution_count": 40,
     "metadata": {},
     "output_type": "execute_result"
    }
   ],
   "source": [
    "df_upd.pivot_table(index='genre', values='total_sales', aggfunc=('sum', 'mean', 'median'))"
   ]
  },
  {
   "cell_type": "markdown",
   "id": "be92b4c2-74c6-493e-946f-27774915666a",
   "metadata": {},
   "source": [
    "Наибольшие суммарные продажи с большим отрывом у жанра \"Экшн\", однако по средним значениям выделяются \"Шутеры\" и спортивные игры. Наименее популярными жанрами являются: \"Стратегии\", \"Пазлы\", \"Симуляторы\" и \"Адвенчуры(Приключенческие игры)\"."
   ]
  },
  {
   "cell_type": "markdown",
   "id": "22f71a64-5af8-417e-a678-37ab842b20ee",
   "metadata": {},
   "source": [
    "Теперь посмотрим те же цифры только по интересующим нас платформам."
   ]
  },
  {
   "cell_type": "code",
   "execution_count": 41,
   "id": "6dc64a0f-de82-4ab0-9f97-cda86b64d54c",
   "metadata": {},
   "outputs": [
    {
     "data": {
      "text/html": [
       "<div>\n",
       "<style scoped>\n",
       "    .dataframe tbody tr th:only-of-type {\n",
       "        vertical-align: middle;\n",
       "    }\n",
       "\n",
       "    .dataframe tbody tr th {\n",
       "        vertical-align: top;\n",
       "    }\n",
       "\n",
       "    .dataframe thead th {\n",
       "        text-align: right;\n",
       "    }\n",
       "</style>\n",
       "<table border=\"1\" class=\"dataframe\">\n",
       "  <thead>\n",
       "    <tr style=\"text-align: right;\">\n",
       "      <th></th>\n",
       "      <th>mean</th>\n",
       "      <th>median</th>\n",
       "      <th>sum</th>\n",
       "    </tr>\n",
       "    <tr>\n",
       "      <th>genre</th>\n",
       "      <th></th>\n",
       "      <th></th>\n",
       "      <th></th>\n",
       "    </tr>\n",
       "  </thead>\n",
       "  <tbody>\n",
       "    <tr>\n",
       "      <th>Action</th>\n",
       "      <td>0.508018</td>\n",
       "      <td>0.15</td>\n",
       "      <td>115.32</td>\n",
       "    </tr>\n",
       "    <tr>\n",
       "      <th>Adventure</th>\n",
       "      <td>0.214762</td>\n",
       "      <td>0.07</td>\n",
       "      <td>9.02</td>\n",
       "    </tr>\n",
       "    <tr>\n",
       "      <th>Fighting</th>\n",
       "      <td>0.444000</td>\n",
       "      <td>0.18</td>\n",
       "      <td>11.10</td>\n",
       "    </tr>\n",
       "    <tr>\n",
       "      <th>Misc</th>\n",
       "      <td>0.400513</td>\n",
       "      <td>0.18</td>\n",
       "      <td>15.62</td>\n",
       "    </tr>\n",
       "    <tr>\n",
       "      <th>Platform</th>\n",
       "      <td>0.507059</td>\n",
       "      <td>0.26</td>\n",
       "      <td>8.62</td>\n",
       "    </tr>\n",
       "    <tr>\n",
       "      <th>Puzzle</th>\n",
       "      <td>0.020000</td>\n",
       "      <td>0.02</td>\n",
       "      <td>0.02</td>\n",
       "    </tr>\n",
       "    <tr>\n",
       "      <th>Racing</th>\n",
       "      <td>0.562308</td>\n",
       "      <td>0.23</td>\n",
       "      <td>21.93</td>\n",
       "    </tr>\n",
       "    <tr>\n",
       "      <th>Role-Playing</th>\n",
       "      <td>0.505781</td>\n",
       "      <td>0.20</td>\n",
       "      <td>32.37</td>\n",
       "    </tr>\n",
       "    <tr>\n",
       "      <th>Shooter</th>\n",
       "      <td>1.318611</td>\n",
       "      <td>0.76</td>\n",
       "      <td>94.94</td>\n",
       "    </tr>\n",
       "    <tr>\n",
       "      <th>Simulation</th>\n",
       "      <td>0.192000</td>\n",
       "      <td>0.16</td>\n",
       "      <td>1.92</td>\n",
       "    </tr>\n",
       "    <tr>\n",
       "      <th>Sports</th>\n",
       "      <td>0.741852</td>\n",
       "      <td>0.36</td>\n",
       "      <td>60.09</td>\n",
       "    </tr>\n",
       "    <tr>\n",
       "      <th>Strategy</th>\n",
       "      <td>0.115556</td>\n",
       "      <td>0.08</td>\n",
       "      <td>1.04</td>\n",
       "    </tr>\n",
       "  </tbody>\n",
       "</table>\n",
       "</div>"
      ],
      "text/plain": [
       "                  mean  median     sum\n",
       "genre                                 \n",
       "Action        0.508018    0.15  115.32\n",
       "Adventure     0.214762    0.07    9.02\n",
       "Fighting      0.444000    0.18   11.10\n",
       "Misc          0.400513    0.18   15.62\n",
       "Platform      0.507059    0.26    8.62\n",
       "Puzzle        0.020000    0.02    0.02\n",
       "Racing        0.562308    0.23   21.93\n",
       "Role-Playing  0.505781    0.20   32.37\n",
       "Shooter       1.318611    0.76   94.94\n",
       "Simulation    0.192000    0.16    1.92\n",
       "Sports        0.741852    0.36   60.09\n",
       "Strategy      0.115556    0.08    1.04"
      ]
     },
     "execution_count": 41,
     "metadata": {},
     "output_type": "execute_result"
    }
   ],
   "source": [
    "df_upd.query('platform in [\"XOne\", \"PS4\"]').pivot_table(index='genre', values='total_sales', aggfunc=('sum', 'mean', 'median'))"
   ]
  },
  {
   "cell_type": "markdown",
   "id": "adaccdf5-7148-4ea9-8bf6-954805dfb729",
   "metadata": {},
   "source": [
    "В целом ситация схожая, однако общая сумма и особенно медиана по жанру \"Экшн\" значительно проседает по сравнению предыдущей таблицей."
   ]
  },
  {
   "cell_type": "markdown",
   "id": "4e91f8fb-c62f-4a98-9375-cc355738b02b",
   "metadata": {},
   "source": [
    "Далее рассмотрим распределение продаж по платформам и жанрам в трех основных регионах."
   ]
  },
  {
   "cell_type": "markdown",
   "id": "7a5f19fd-4430-4400-8ec4-dbd9b4746dd3",
   "metadata": {},
   "source": [
    "### Исследование предпочтений пользователей разных регионов"
   ]
  },
  {
   "cell_type": "code",
   "execution_count": 42,
   "id": "990c1820-35b1-4b3b-8f10-d6c694244a5b",
   "metadata": {},
   "outputs": [
    {
     "data": {
      "text/html": [
       "<div>\n",
       "<style scoped>\n",
       "    .dataframe tbody tr th:only-of-type {\n",
       "        vertical-align: middle;\n",
       "    }\n",
       "\n",
       "    .dataframe tbody tr th {\n",
       "        vertical-align: top;\n",
       "    }\n",
       "\n",
       "    .dataframe thead th {\n",
       "        text-align: right;\n",
       "    }\n",
       "</style>\n",
       "<table border=\"1\" class=\"dataframe\">\n",
       "  <thead>\n",
       "    <tr style=\"text-align: right;\">\n",
       "      <th></th>\n",
       "      <th>na_sales</th>\n",
       "      <th>platform_share</th>\n",
       "    </tr>\n",
       "    <tr>\n",
       "      <th>platform</th>\n",
       "      <th></th>\n",
       "      <th></th>\n",
       "    </tr>\n",
       "  </thead>\n",
       "  <tbody>\n",
       "    <tr>\n",
       "      <th>X360</th>\n",
       "      <td>98.839996</td>\n",
       "      <td>0.218866</td>\n",
       "    </tr>\n",
       "    <tr>\n",
       "      <th>PS4</th>\n",
       "      <td>83.500000</td>\n",
       "      <td>0.184898</td>\n",
       "    </tr>\n",
       "    <tr>\n",
       "      <th>XOne</th>\n",
       "      <td>82.500000</td>\n",
       "      <td>0.182684</td>\n",
       "    </tr>\n",
       "    <tr>\n",
       "      <th>PS3</th>\n",
       "      <td>78.349998</td>\n",
       "      <td>0.173494</td>\n",
       "    </tr>\n",
       "    <tr>\n",
       "      <th>3DS</th>\n",
       "      <td>32.770000</td>\n",
       "      <td>0.072564</td>\n",
       "    </tr>\n",
       "  </tbody>\n",
       "</table>\n",
       "</div>"
      ],
      "text/plain": [
       "           na_sales  platform_share\n",
       "platform                           \n",
       "X360      98.839996        0.218866\n",
       "PS4       83.500000        0.184898\n",
       "XOne      82.500000        0.182684\n",
       "PS3       78.349998        0.173494\n",
       "3DS       32.770000        0.072564"
      ]
     },
     "execution_count": 42,
     "metadata": {},
     "output_type": "execute_result"
    }
   ],
   "source": [
    "platform_na = df_upd.pivot_table(index='platform', values='na_sales', aggfunc='sum').sort_values(by='na_sales', ascending=False)\n",
    "platform_na['platform_share'] = platform_na['na_sales']/platform_na['na_sales'].sum()\n",
    "platform_na.head()"
   ]
  },
  {
   "cell_type": "markdown",
   "id": "ff5d3f3b-9379-4989-b0d4-057c7dc89b6e",
   "metadata": {},
   "source": [
    "В Северной Америке, XBOX и Playstation текущего поколения идут вровень, хотя в предыдущем поколении проажи XBOX были значительно выше."
   ]
  },
  {
   "cell_type": "code",
   "execution_count": 43,
   "id": "d9883c17-07e6-48f8-9d29-fbbfd63cebf7",
   "metadata": {},
   "outputs": [
    {
     "data": {
      "text/html": [
       "<div>\n",
       "<style scoped>\n",
       "    .dataframe tbody tr th:only-of-type {\n",
       "        vertical-align: middle;\n",
       "    }\n",
       "\n",
       "    .dataframe tbody tr th {\n",
       "        vertical-align: top;\n",
       "    }\n",
       "\n",
       "    .dataframe thead th {\n",
       "        text-align: right;\n",
       "    }\n",
       "</style>\n",
       "<table border=\"1\" class=\"dataframe\">\n",
       "  <thead>\n",
       "    <tr style=\"text-align: right;\">\n",
       "      <th></th>\n",
       "      <th>eu_sales</th>\n",
       "      <th>platform_share</th>\n",
       "    </tr>\n",
       "    <tr>\n",
       "      <th>platform</th>\n",
       "      <th></th>\n",
       "      <th></th>\n",
       "    </tr>\n",
       "  </thead>\n",
       "  <tbody>\n",
       "    <tr>\n",
       "      <th>PS4</th>\n",
       "      <td>97.910004</td>\n",
       "      <td>0.262247</td>\n",
       "    </tr>\n",
       "    <tr>\n",
       "      <th>PS3</th>\n",
       "      <td>72.089996</td>\n",
       "      <td>0.193090</td>\n",
       "    </tr>\n",
       "    <tr>\n",
       "      <th>X360</th>\n",
       "      <td>52.490002</td>\n",
       "      <td>0.140592</td>\n",
       "    </tr>\n",
       "    <tr>\n",
       "      <th>XOne</th>\n",
       "      <td>45.739998</td>\n",
       "      <td>0.122512</td>\n",
       "    </tr>\n",
       "    <tr>\n",
       "      <th>PC</th>\n",
       "      <td>35.599998</td>\n",
       "      <td>0.095353</td>\n",
       "    </tr>\n",
       "  </tbody>\n",
       "</table>\n",
       "</div>"
      ],
      "text/plain": [
       "           eu_sales  platform_share\n",
       "platform                           \n",
       "PS4       97.910004        0.262247\n",
       "PS3       72.089996        0.193090\n",
       "X360      52.490002        0.140592\n",
       "XOne      45.739998        0.122512\n",
       "PC        35.599998        0.095353"
      ]
     },
     "execution_count": 43,
     "metadata": {},
     "output_type": "execute_result"
    }
   ],
   "source": [
    "platform_eu = df_upd.pivot_table(index='platform', values='eu_sales', aggfunc='sum').sort_values(by='eu_sales', ascending=False)\n",
    "platform_eu['platform_share'] = platform_eu['eu_sales']/platform_eu['eu_sales'].sum()\n",
    "platform_eu.head()"
   ]
  },
  {
   "cell_type": "markdown",
   "id": "282f46bf-eb8e-4cc7-b865-5ab8be6408f9",
   "metadata": {},
   "source": [
    "В европейском регионе Playstation уверенно превосходит конкурентов, также отмечаем присутсвие PC списке наиболее популярных платформ."
   ]
  },
  {
   "cell_type": "code",
   "execution_count": 44,
   "id": "42150116-850d-44bf-923a-9f7e08d68887",
   "metadata": {},
   "outputs": [
    {
     "data": {
      "text/html": [
       "<div>\n",
       "<style scoped>\n",
       "    .dataframe tbody tr th:only-of-type {\n",
       "        vertical-align: middle;\n",
       "    }\n",
       "\n",
       "    .dataframe tbody tr th {\n",
       "        vertical-align: top;\n",
       "    }\n",
       "\n",
       "    .dataframe thead th {\n",
       "        text-align: right;\n",
       "    }\n",
       "</style>\n",
       "<table border=\"1\" class=\"dataframe\">\n",
       "  <thead>\n",
       "    <tr style=\"text-align: right;\">\n",
       "      <th></th>\n",
       "      <th>jp_sales</th>\n",
       "      <th>platform_share</th>\n",
       "    </tr>\n",
       "    <tr>\n",
       "      <th>platform</th>\n",
       "      <th></th>\n",
       "      <th></th>\n",
       "    </tr>\n",
       "  </thead>\n",
       "  <tbody>\n",
       "    <tr>\n",
       "      <th>3DS</th>\n",
       "      <td>66.889999</td>\n",
       "      <td>0.415079</td>\n",
       "    </tr>\n",
       "    <tr>\n",
       "      <th>PS3</th>\n",
       "      <td>32.639999</td>\n",
       "      <td>0.202544</td>\n",
       "    </tr>\n",
       "    <tr>\n",
       "      <th>PSV</th>\n",
       "      <td>21.039999</td>\n",
       "      <td>0.130562</td>\n",
       "    </tr>\n",
       "    <tr>\n",
       "      <th>PS4</th>\n",
       "      <td>14.080000</td>\n",
       "      <td>0.087372</td>\n",
       "    </tr>\n",
       "    <tr>\n",
       "      <th>PSP</th>\n",
       "      <td>10.470000</td>\n",
       "      <td>0.064971</td>\n",
       "    </tr>\n",
       "  </tbody>\n",
       "</table>\n",
       "</div>"
      ],
      "text/plain": [
       "           jp_sales  platform_share\n",
       "platform                           \n",
       "3DS       66.889999        0.415079\n",
       "PS3       32.639999        0.202544\n",
       "PSV       21.039999        0.130562\n",
       "PS4       14.080000        0.087372\n",
       "PSP       10.470000        0.064971"
      ]
     },
     "execution_count": 44,
     "metadata": {},
     "output_type": "execute_result"
    }
   ],
   "source": [
    "platform_jp = df_upd.pivot_table(index='platform', values='jp_sales', aggfunc='sum').sort_values(by='jp_sales', ascending=False)\n",
    "platform_jp['platform_share'] = platform_jp['jp_sales']/platform_jp['jp_sales'].sum()\n",
    "platform_jp.head()"
   ]
  },
  {
   "cell_type": "markdown",
   "id": "bf26d1b4-3e54-46f5-b447-002a3fe6601b",
   "metadata": {},
   "source": [
    "На японском рынке доминируют портативные консоли, на их долю приходится более 60% всех продаж. Также стоит отметить отсутствие обеих версий XBOX в топ-5."
   ]
  },
  {
   "cell_type": "code",
   "execution_count": 45,
   "id": "3699b434-3e1e-49b9-9c62-407f1b4f68e1",
   "metadata": {},
   "outputs": [
    {
     "data": {
      "text/html": [
       "<div>\n",
       "<style scoped>\n",
       "    .dataframe tbody tr th:only-of-type {\n",
       "        vertical-align: middle;\n",
       "    }\n",
       "\n",
       "    .dataframe tbody tr th {\n",
       "        vertical-align: top;\n",
       "    }\n",
       "\n",
       "    .dataframe thead th {\n",
       "        text-align: right;\n",
       "    }\n",
       "</style>\n",
       "<table border=\"1\" class=\"dataframe\">\n",
       "  <thead>\n",
       "    <tr style=\"text-align: right;\">\n",
       "      <th></th>\n",
       "      <th>na_sales</th>\n",
       "      <th>genre_share</th>\n",
       "    </tr>\n",
       "    <tr>\n",
       "      <th>genre</th>\n",
       "      <th></th>\n",
       "      <th></th>\n",
       "    </tr>\n",
       "  </thead>\n",
       "  <tbody>\n",
       "    <tr>\n",
       "      <th>Action</th>\n",
       "      <td>144.059998</td>\n",
       "      <td>0.318999</td>\n",
       "    </tr>\n",
       "    <tr>\n",
       "      <th>Shooter</th>\n",
       "      <td>90.070000</td>\n",
       "      <td>0.199446</td>\n",
       "    </tr>\n",
       "    <tr>\n",
       "      <th>Sports</th>\n",
       "      <td>78.169998</td>\n",
       "      <td>0.173096</td>\n",
       "    </tr>\n",
       "    <tr>\n",
       "      <th>Role-Playing</th>\n",
       "      <td>43.630001</td>\n",
       "      <td>0.096612</td>\n",
       "    </tr>\n",
       "    <tr>\n",
       "      <th>Misc</th>\n",
       "      <td>26.410000</td>\n",
       "      <td>0.058481</td>\n",
       "    </tr>\n",
       "  </tbody>\n",
       "</table>\n",
       "</div>"
      ],
      "text/plain": [
       "                na_sales  genre_share\n",
       "genre                                \n",
       "Action        144.059998     0.318999\n",
       "Shooter        90.070000     0.199446\n",
       "Sports         78.169998     0.173096\n",
       "Role-Playing   43.630001     0.096612\n",
       "Misc           26.410000     0.058481"
      ]
     },
     "execution_count": 45,
     "metadata": {},
     "output_type": "execute_result"
    }
   ],
   "source": [
    "genre_na = df_upd.pivot_table(index='genre', values='na_sales', aggfunc='sum').sort_values(by='na_sales', ascending=False)\n",
    "genre_na['genre_share'] = genre_na['na_sales']/genre_na['na_sales'].sum()\n",
    "genre_na.head()"
   ]
  },
  {
   "cell_type": "markdown",
   "id": "5396e090-7bf8-435e-bfb8-bddc6b32795f",
   "metadata": {},
   "source": [
    "Жанры Action, Shooter и Sports, в Северной Америке лидируют с заметным отрывом. На три самых популярных жанра приходится большу двух третей всего рынка. Немного удивляет жанр \"Разное\" в топ-5"
   ]
  },
  {
   "cell_type": "code",
   "execution_count": 46,
   "id": "341b81ab-4d17-4f03-a9ec-472b02d306ae",
   "metadata": {},
   "outputs": [
    {
     "data": {
      "text/html": [
       "<div>\n",
       "<style scoped>\n",
       "    .dataframe tbody tr th:only-of-type {\n",
       "        vertical-align: middle;\n",
       "    }\n",
       "\n",
       "    .dataframe tbody tr th {\n",
       "        vertical-align: top;\n",
       "    }\n",
       "\n",
       "    .dataframe thead th {\n",
       "        text-align: right;\n",
       "    }\n",
       "</style>\n",
       "<table border=\"1\" class=\"dataframe\">\n",
       "  <thead>\n",
       "    <tr style=\"text-align: right;\">\n",
       "      <th></th>\n",
       "      <th>eu_sales</th>\n",
       "      <th>genre_share</th>\n",
       "    </tr>\n",
       "    <tr>\n",
       "      <th>genre</th>\n",
       "      <th></th>\n",
       "      <th></th>\n",
       "    </tr>\n",
       "  </thead>\n",
       "  <tbody>\n",
       "    <tr>\n",
       "      <th>Action</th>\n",
       "      <td>121.739998</td>\n",
       "      <td>0.326075</td>\n",
       "    </tr>\n",
       "    <tr>\n",
       "      <th>Shooter</th>\n",
       "      <td>73.970001</td>\n",
       "      <td>0.198125</td>\n",
       "    </tr>\n",
       "    <tr>\n",
       "      <th>Sports</th>\n",
       "      <td>48.650002</td>\n",
       "      <td>0.130307</td>\n",
       "    </tr>\n",
       "    <tr>\n",
       "      <th>Role-Playing</th>\n",
       "      <td>32.250000</td>\n",
       "      <td>0.086380</td>\n",
       "    </tr>\n",
       "    <tr>\n",
       "      <th>Racing</th>\n",
       "      <td>25.139999</td>\n",
       "      <td>0.067336</td>\n",
       "    </tr>\n",
       "  </tbody>\n",
       "</table>\n",
       "</div>"
      ],
      "text/plain": [
       "                eu_sales  genre_share\n",
       "genre                                \n",
       "Action        121.739998     0.326075\n",
       "Shooter        73.970001     0.198125\n",
       "Sports         48.650002     0.130307\n",
       "Role-Playing   32.250000     0.086380\n",
       "Racing         25.139999     0.067336"
      ]
     },
     "execution_count": 46,
     "metadata": {},
     "output_type": "execute_result"
    }
   ],
   "source": [
    "genre_eu = df_upd.pivot_table(index='genre', values='eu_sales', aggfunc='sum').sort_values(by='eu_sales', ascending=False)\n",
    "genre_eu['genre_share'] = genre_eu['eu_sales']/genre_eu['eu_sales'].sum()\n",
    "genre_eu.head()"
   ]
  },
  {
   "cell_type": "markdown",
   "id": "7b3ad1ac-c5ba-43ed-bea0-921d83f41085",
   "metadata": {},
   "source": [
    "По Европе картина схожа с Северной Америкой, место \"Разного\" занимает более логичный Racing."
   ]
  },
  {
   "cell_type": "code",
   "execution_count": 47,
   "id": "4e6559bc-e780-4fe6-a032-6d9a5f4cf127",
   "metadata": {},
   "outputs": [
    {
     "data": {
      "text/html": [
       "<div>\n",
       "<style scoped>\n",
       "    .dataframe tbody tr th:only-of-type {\n",
       "        vertical-align: middle;\n",
       "    }\n",
       "\n",
       "    .dataframe tbody tr th {\n",
       "        vertical-align: top;\n",
       "    }\n",
       "\n",
       "    .dataframe thead th {\n",
       "        text-align: right;\n",
       "    }\n",
       "</style>\n",
       "<table border=\"1\" class=\"dataframe\">\n",
       "  <thead>\n",
       "    <tr style=\"text-align: right;\">\n",
       "      <th></th>\n",
       "      <th>jp_sales</th>\n",
       "      <th>genre_share</th>\n",
       "    </tr>\n",
       "    <tr>\n",
       "      <th>genre</th>\n",
       "      <th></th>\n",
       "      <th></th>\n",
       "    </tr>\n",
       "  </thead>\n",
       "  <tbody>\n",
       "    <tr>\n",
       "      <th>Role-Playing</th>\n",
       "      <td>52.349998</td>\n",
       "      <td>0.324853</td>\n",
       "    </tr>\n",
       "    <tr>\n",
       "      <th>Action</th>\n",
       "      <td>50.750000</td>\n",
       "      <td>0.314924</td>\n",
       "    </tr>\n",
       "    <tr>\n",
       "      <th>Misc</th>\n",
       "      <td>12.840000</td>\n",
       "      <td>0.079677</td>\n",
       "    </tr>\n",
       "    <tr>\n",
       "      <th>Adventure</th>\n",
       "      <td>8.240000</td>\n",
       "      <td>0.051132</td>\n",
       "    </tr>\n",
       "    <tr>\n",
       "      <th>Sports</th>\n",
       "      <td>7.750000</td>\n",
       "      <td>0.048092</td>\n",
       "    </tr>\n",
       "  </tbody>\n",
       "</table>\n",
       "</div>"
      ],
      "text/plain": [
       "               jp_sales  genre_share\n",
       "genre                               \n",
       "Role-Playing  52.349998     0.324853\n",
       "Action        50.750000     0.314924\n",
       "Misc          12.840000     0.079677\n",
       "Adventure      8.240000     0.051132\n",
       "Sports         7.750000     0.048092"
      ]
     },
     "execution_count": 47,
     "metadata": {},
     "output_type": "execute_result"
    }
   ],
   "source": [
    "genre_jp = df_upd.pivot_table(index='genre', values='jp_sales', aggfunc='sum').sort_values(by='jp_sales', ascending=False)\n",
    "genre_jp['genre_share'] = genre_jp['jp_sales']/genre_jp['jp_sales'].sum()\n",
    "genre_jp.head()"
   ]
  },
  {
   "cell_type": "markdown",
   "id": "9f822553-8a1b-40d1-b823-d3c207bdd983",
   "metadata": {},
   "source": [
    "В отличие от других регионов, в Японии всего два сверхпопулярных жанра. К популярному везде Action добавляется RPG. Японцы совсем не любят шутеры(нет даже в топ-5) и значительно меньше любят спортивные игры(разница в 2.5 раза относительно других регионов)."
   ]
  },
  {
   "cell_type": "markdown",
   "id": "2526acbc-2607-4be8-90f0-ba5033eca3f8",
   "metadata": {},
   "source": [
    "Посмотрим, влияют ли рейтинги ESRB на продажи в ."
   ]
  },
  {
   "cell_type": "markdown",
   "id": "94fdbab3-399a-41d0-81bf-025fe92899c7",
   "metadata": {},
   "source": [
    "#### Исследование влияния рейтинга ESRB в регионах"
   ]
  },
  {
   "cell_type": "code",
   "execution_count": 48,
   "id": "0ac559c7-ff43-4e97-bf7f-6038445d934f",
   "metadata": {},
   "outputs": [
    {
     "data": {
      "text/html": [
       "<div>\n",
       "<style scoped>\n",
       "    .dataframe tbody tr th:only-of-type {\n",
       "        vertical-align: middle;\n",
       "    }\n",
       "\n",
       "    .dataframe tbody tr th {\n",
       "        vertical-align: top;\n",
       "    }\n",
       "\n",
       "    .dataframe thead th {\n",
       "        text-align: right;\n",
       "    }\n",
       "</style>\n",
       "<table border=\"1\" class=\"dataframe\">\n",
       "  <thead>\n",
       "    <tr style=\"text-align: right;\">\n",
       "      <th></th>\n",
       "      <th>na_sales</th>\n",
       "      <th>rating_share</th>\n",
       "    </tr>\n",
       "    <tr>\n",
       "      <th>rating</th>\n",
       "      <th></th>\n",
       "      <th></th>\n",
       "    </tr>\n",
       "  </thead>\n",
       "  <tbody>\n",
       "    <tr>\n",
       "      <th>M</th>\n",
       "      <td>158.220001</td>\n",
       "      <td>0.350354</td>\n",
       "    </tr>\n",
       "    <tr>\n",
       "      <th>E</th>\n",
       "      <td>97.720001</td>\n",
       "      <td>0.216386</td>\n",
       "    </tr>\n",
       "    <tr>\n",
       "      <th>E10+</th>\n",
       "      <td>71.650002</td>\n",
       "      <td>0.158658</td>\n",
       "    </tr>\n",
       "    <tr>\n",
       "      <th>Unknown</th>\n",
       "      <td>62.330002</td>\n",
       "      <td>0.138020</td>\n",
       "    </tr>\n",
       "    <tr>\n",
       "      <th>T</th>\n",
       "      <td>61.680000</td>\n",
       "      <td>0.136581</td>\n",
       "    </tr>\n",
       "  </tbody>\n",
       "</table>\n",
       "</div>"
      ],
      "text/plain": [
       "           na_sales  rating_share\n",
       "rating                           \n",
       "M        158.220001      0.350354\n",
       "E         97.720001      0.216386\n",
       "E10+      71.650002      0.158658\n",
       "Unknown   62.330002      0.138020\n",
       "T         61.680000      0.136581"
      ]
     },
     "execution_count": 48,
     "metadata": {},
     "output_type": "execute_result"
    }
   ],
   "source": [
    "esrb_na = df_upd.pivot_table(index='rating', values='na_sales', aggfunc='sum').sort_values(by='na_sales', ascending=False)\n",
    "esrb_na['rating_share'] = esrb_na['na_sales']/esrb_na['na_sales'].sum()\n",
    "esrb_na"
   ]
  },
  {
   "cell_type": "code",
   "execution_count": 49,
   "id": "26d1bdb1-2e58-4799-b1bc-e4ff0d3b9fe1",
   "metadata": {},
   "outputs": [
    {
     "data": {
      "text/html": [
       "<div>\n",
       "<style scoped>\n",
       "    .dataframe tbody tr th:only-of-type {\n",
       "        vertical-align: middle;\n",
       "    }\n",
       "\n",
       "    .dataframe tbody tr th {\n",
       "        vertical-align: top;\n",
       "    }\n",
       "\n",
       "    .dataframe thead th {\n",
       "        text-align: right;\n",
       "    }\n",
       "</style>\n",
       "<table border=\"1\" class=\"dataframe\">\n",
       "  <thead>\n",
       "    <tr style=\"text-align: right;\">\n",
       "      <th></th>\n",
       "      <th>eu_sales</th>\n",
       "      <th>rating_share</th>\n",
       "    </tr>\n",
       "    <tr>\n",
       "      <th>rating</th>\n",
       "      <th></th>\n",
       "      <th></th>\n",
       "    </tr>\n",
       "  </thead>\n",
       "  <tbody>\n",
       "    <tr>\n",
       "      <th>M</th>\n",
       "      <td>135.940002</td>\n",
       "      <td>0.364109</td>\n",
       "    </tr>\n",
       "    <tr>\n",
       "      <th>E</th>\n",
       "      <td>75.120003</td>\n",
       "      <td>0.201205</td>\n",
       "    </tr>\n",
       "    <tr>\n",
       "      <th>Unknown</th>\n",
       "      <td>60.689999</td>\n",
       "      <td>0.162555</td>\n",
       "    </tr>\n",
       "    <tr>\n",
       "      <th>E10+</th>\n",
       "      <td>53.209999</td>\n",
       "      <td>0.142520</td>\n",
       "    </tr>\n",
       "    <tr>\n",
       "      <th>T</th>\n",
       "      <td>48.389999</td>\n",
       "      <td>0.129610</td>\n",
       "    </tr>\n",
       "  </tbody>\n",
       "</table>\n",
       "</div>"
      ],
      "text/plain": [
       "           eu_sales  rating_share\n",
       "rating                           \n",
       "M        135.940002      0.364109\n",
       "E         75.120003      0.201205\n",
       "Unknown   60.689999      0.162555\n",
       "E10+      53.209999      0.142520\n",
       "T         48.389999      0.129610"
      ]
     },
     "execution_count": 49,
     "metadata": {},
     "output_type": "execute_result"
    }
   ],
   "source": [
    "esrb_eu = df_upd.pivot_table(index='rating', values='eu_sales', aggfunc='sum').sort_values(by='eu_sales', ascending=False)\n",
    "esrb_eu['rating_share'] = esrb_eu['eu_sales']/esrb_eu['eu_sales'].sum()\n",
    "esrb_eu"
   ]
  },
  {
   "cell_type": "code",
   "execution_count": 50,
   "id": "4d792b9b-c4fb-4eb5-a951-22b2290c08b3",
   "metadata": {},
   "outputs": [
    {
     "data": {
      "text/html": [
       "<div>\n",
       "<style scoped>\n",
       "    .dataframe tbody tr th:only-of-type {\n",
       "        vertical-align: middle;\n",
       "    }\n",
       "\n",
       "    .dataframe tbody tr th {\n",
       "        vertical-align: top;\n",
       "    }\n",
       "\n",
       "    .dataframe thead th {\n",
       "        text-align: right;\n",
       "    }\n",
       "</style>\n",
       "<table border=\"1\" class=\"dataframe\">\n",
       "  <thead>\n",
       "    <tr style=\"text-align: right;\">\n",
       "      <th></th>\n",
       "      <th>jp_sales</th>\n",
       "      <th>rating_share</th>\n",
       "    </tr>\n",
       "    <tr>\n",
       "      <th>rating</th>\n",
       "      <th></th>\n",
       "      <th></th>\n",
       "    </tr>\n",
       "  </thead>\n",
       "  <tbody>\n",
       "    <tr>\n",
       "      <th>Unknown</th>\n",
       "      <td>91.050003</td>\n",
       "      <td>0.565002</td>\n",
       "    </tr>\n",
       "    <tr>\n",
       "      <th>T</th>\n",
       "      <td>25.670000</td>\n",
       "      <td>0.159293</td>\n",
       "    </tr>\n",
       "    <tr>\n",
       "      <th>E</th>\n",
       "      <td>18.500000</td>\n",
       "      <td>0.114800</td>\n",
       "    </tr>\n",
       "    <tr>\n",
       "      <th>M</th>\n",
       "      <td>17.740000</td>\n",
       "      <td>0.110084</td>\n",
       "    </tr>\n",
       "    <tr>\n",
       "      <th>E10+</th>\n",
       "      <td>8.190000</td>\n",
       "      <td>0.050822</td>\n",
       "    </tr>\n",
       "  </tbody>\n",
       "</table>\n",
       "</div>"
      ],
      "text/plain": [
       "          jp_sales  rating_share\n",
       "rating                          \n",
       "Unknown  91.050003      0.565002\n",
       "T        25.670000      0.159293\n",
       "E        18.500000      0.114800\n",
       "M        17.740000      0.110084\n",
       "E10+      8.190000      0.050822"
      ]
     },
     "execution_count": 50,
     "metadata": {},
     "output_type": "execute_result"
    }
   ],
   "source": [
    "esrb_jp = df_upd.pivot_table(index='rating', values='jp_sales', aggfunc='sum').sort_values(by='jp_sales', ascending=False)\n",
    "esrb_jp['rating_share'] = esrb_jp['jp_sales']/esrb_jp['jp_sales'].sum()\n",
    "esrb_jp"
   ]
  },
  {
   "cell_type": "markdown",
   "id": "2e0aa473-1829-4655-b2d7-02c8281cf9ab",
   "metadata": {},
   "source": [
    "В Европе и Северной Америке выделяются игры с рейтингом M(Mature) и в целом картина распределения крайне схожая. Это может говорить как о том, что Европа считается с рейтинговой системой созданной для Северной Америки, так и о том , что интересы пользователей этих регионов просто совпадают. Высокие показатели рейтинга M можно связать с популярностью жанров Action и Shooter, игры последнего жанра получают этот рейтинг практически по умолчанию. В этих регионах имеет смысл потратить дополнительные ресурсы на игры с рейтингом M.\n",
    "В Японии больше половины продаж приходится на игры без рейтинга ESRB, что говорит о том, что японцы не особо считаются с данной организацией и о том, что здесь популярны игры созданные для внутреннего рынка, о чём говорит отсутствие североамериканского рейтинга. Ориентироваться на рейтинг в этом регионе точно не стоит."
   ]
  },
  {
   "cell_type": "markdown",
   "id": "7145010f-4cb1-43ca-9b9d-6848a00b837e",
   "metadata": {},
   "source": [
    "Проверим пару гипотез связанных с оценками пользователей.\n",
    "\n",
    "Сперва проверим гипотезу о равенстве средних баллов игр на платформах PC и XOne.  \n",
    "В качестве нулевой гипотезы примем: \"Средние оценки пользователей PC и XOne одинаковы\".  \n",
    "Альтернативной гипотезой будет: \"Средние оценки пользователей PC и XOne различаются\"."
   ]
  },
  {
   "cell_type": "code",
   "execution_count": 51,
   "id": "29a7111d-79f2-4684-94bf-3948ea4afc6f",
   "metadata": {},
   "outputs": [
    {
     "name": "stdout",
     "output_type": "stream",
     "text": [
      "0.6084744880524482\n",
      "Не получилось отвергнуть нулевую гипотезу\n"
     ]
    }
   ],
   "source": [
    "alpha = 0.05\n",
    "sample_xbox = df_upd.query('platform == \"XOne\"')['user_score'] # выборка по XOne\n",
    "sample_xbox = sample_xbox.dropna() # избавляемся от пустых значений, иначе функция не сработает\n",
    "sample_pc = df_upd.query('platform == \"PC\"')['user_score'] # выборка по PC\n",
    "sample_pc = sample_pc.dropna()\n",
    "results = st.ttest_ind(sample_xbox, sample_pc, equal_var=False) # не оснований полагать о равном размере выборок, поэтому equal_var выставляем False\n",
    "print(results.pvalue)\n",
    "if results.pvalue < alpha:\n",
    "    print('Отвергаем нулевую гипотезу')\n",
    "else:\n",
    "    print('Не получилось отвергнуть нулевую гипотезу')"
   ]
  },
  {
   "cell_type": "markdown",
   "id": "b9e98a32-a610-4671-9438-77ab61c5c258",
   "metadata": {},
   "source": [
    "Делаем вывод, что пользовательские оценки по этим платформам действительно очень схожи."
   ]
  },
  {
   "cell_type": "markdown",
   "id": "afcaf460-00a8-451f-a284-4512db5cf897",
   "metadata": {},
   "source": [
    "Вторая гипотеза будет о разности среднего балла по жанрам Action и Sports.  \n",
    "За нулевую гипотезу возьмем: \"Средние баллы Action и Sports одинаковы\".  \n",
    "Соответственно, альтернативная гипотеза будет гласить \"Средние баллы Action и Sports различаются\"."
   ]
  },
  {
   "cell_type": "code",
   "execution_count": 52,
   "id": "b8ac5d28-f295-4ecf-bdbe-f952d453b82d",
   "metadata": {},
   "outputs": [
    {
     "name": "stdout",
     "output_type": "stream",
     "text": [
      "6.422515315426946e-19\n",
      "Отвергаем нулевую гипотезу\n"
     ]
    }
   ],
   "source": [
    "alpha = 0.05\n",
    "sample_action = df_upd.query('genre == \"Action\"')['user_score']\n",
    "sample_action = sample_action.dropna()\n",
    "sample_sports = df_upd.query('genre == \"Sports\"')['user_score']\n",
    "sample_sports = sample_sports.dropna()\n",
    "results = st.ttest_ind(sample_action, sample_sports, equal_var=False)\n",
    "print(results.pvalue)\n",
    "if results.pvalue < alpha:\n",
    "    print('Отвергаем нулевую гипотезу')\n",
    "else:\n",
    "    print('Не получилось отвергнуть нулевую гипотезу')"
   ]
  },
  {
   "cell_type": "markdown",
   "id": "8deafb90-7050-4e5d-aeae-327af89153a6",
   "metadata": {},
   "source": [
    "Таким образом, принимаем альтернативую гипотезу, средние оценки по эти жанрам не равны."
   ]
  },
  {
   "cell_type": "markdown",
   "id": "dc317da4-ee5e-42f0-a239-413b5b7ae10e",
   "metadata": {},
   "source": [
    "## Общий вывод"
   ]
  },
  {
   "cell_type": "markdown",
   "id": "f0230312-8443-4a0a-8da0-79d6cc3c8c3c",
   "metadata": {},
   "source": [
    "Имеющиеся в файле данные позволяют провести требуемое исследование, однако требуют обределенной обработки, в частности приведения данных к нужным форматам.  \n",
    "Названия столбцов были приведены к общему виду, форматы данных были изменены по необходимости или же для экономии ресурсов.  \n",
    "Часть данных была отброшена ввиду их неактульности для исследования. \n",
    "\n",
    "При исследовании был установлен \"срок жизни\" популярной платформы.   \n",
    "Выделен актуальный для исследования временной период.  \n",
    "Отмечены популярные платформы и жанры как для всего мира, так и для каждого из трех крупнейших регионов по отдельности.\n",
    "Проверены гипотезы схожести пользовательских оценков по платформам и жанрам.\n",
    "\n",
    "Глобально стоит сделать ставку на платформу PS4 и жанр Action.  \n",
    "В европейском  и североамериканском регионах рекомендуется направить ресурсы на работу XOne, а также с жанрами Shooter и Sports, помимо этого, стоит рассмотреть выделение дополнительных средств на продвижение игр с рейтингом M.\n",
    "На японском рынке нужно обратить внимание на жанр Role-Playing  и портативные консоли."
   ]
  }
 ],
 "metadata": {
  "ExecuteTimeLog": [
   {
    "duration": 1575,
    "start_time": "2022-05-20T08:54:39.860Z"
   },
   {
    "duration": 73,
    "start_time": "2022-05-20T08:54:41.438Z"
   },
   {
    "duration": 23,
    "start_time": "2022-05-20T08:54:41.513Z"
   },
   {
    "duration": 65,
    "start_time": "2022-05-20T08:54:41.538Z"
   },
   {
    "duration": 11,
    "start_time": "2022-05-20T08:54:41.606Z"
   },
   {
    "duration": 37,
    "start_time": "2022-05-20T08:54:41.619Z"
   },
   {
    "duration": 18,
    "start_time": "2022-05-20T08:54:41.658Z"
   },
   {
    "duration": 18,
    "start_time": "2022-05-20T08:54:41.678Z"
   },
   {
    "duration": 45,
    "start_time": "2022-05-20T08:54:41.704Z"
   },
   {
    "duration": 10,
    "start_time": "2022-05-20T08:54:41.752Z"
   },
   {
    "duration": 36,
    "start_time": "2022-05-20T08:54:41.764Z"
   },
   {
    "duration": 6,
    "start_time": "2022-05-20T08:54:41.819Z"
   },
   {
    "duration": 5,
    "start_time": "2022-05-20T08:54:41.827Z"
   },
   {
    "duration": 11,
    "start_time": "2022-05-20T08:54:41.834Z"
   },
   {
    "duration": 7,
    "start_time": "2022-05-20T08:54:41.847Z"
   },
   {
    "duration": 11,
    "start_time": "2022-05-20T08:54:41.856Z"
   },
   {
    "duration": 5,
    "start_time": "2022-05-20T08:54:41.869Z"
   },
   {
    "duration": 29,
    "start_time": "2022-05-20T08:54:41.875Z"
   },
   {
    "duration": 19,
    "start_time": "2022-05-20T08:54:41.906Z"
   },
   {
    "duration": 7,
    "start_time": "2022-05-20T08:54:41.927Z"
   },
   {
    "duration": 265,
    "start_time": "2022-05-20T08:54:41.936Z"
   },
   {
    "duration": 9,
    "start_time": "2022-05-20T08:54:42.205Z"
   },
   {
    "duration": 212,
    "start_time": "2022-05-20T08:54:42.216Z"
   },
   {
    "duration": 326,
    "start_time": "2022-05-20T08:54:42.433Z"
   },
   {
    "duration": 220,
    "start_time": "2022-05-20T08:54:42.762Z"
   },
   {
    "duration": 219,
    "start_time": "2022-05-20T08:54:42.984Z"
   },
   {
    "duration": 224,
    "start_time": "2022-05-20T08:54:43.207Z"
   },
   {
    "duration": 12,
    "start_time": "2022-05-20T08:54:43.435Z"
   },
   {
    "duration": 55,
    "start_time": "2022-05-20T08:54:43.449Z"
   },
   {
    "duration": 142,
    "start_time": "2022-05-20T08:54:43.510Z"
   },
   {
    "duration": 171,
    "start_time": "2022-05-20T08:54:43.653Z"
   },
   {
    "duration": 8,
    "start_time": "2022-05-20T08:54:43.827Z"
   },
   {
    "duration": 742,
    "start_time": "2022-05-20T08:54:43.837Z"
   },
   {
    "duration": 849,
    "start_time": "2022-05-20T08:54:44.586Z"
   },
   {
    "duration": 22,
    "start_time": "2022-05-20T08:54:45.437Z"
   },
   {
    "duration": 62,
    "start_time": "2022-05-20T08:54:45.460Z"
   },
   {
    "duration": 18,
    "start_time": "2022-05-20T08:54:45.523Z"
   },
   {
    "duration": 17,
    "start_time": "2022-05-20T08:54:45.543Z"
   },
   {
    "duration": 42,
    "start_time": "2022-05-20T08:54:45.561Z"
   },
   {
    "duration": 31,
    "start_time": "2022-05-20T08:54:45.609Z"
   },
   {
    "duration": 26,
    "start_time": "2022-05-20T08:54:45.643Z"
   },
   {
    "duration": 27,
    "start_time": "2022-05-20T08:54:45.670Z"
   },
   {
    "duration": 29,
    "start_time": "2022-05-20T08:54:45.699Z"
   },
   {
    "duration": 16,
    "start_time": "2022-05-20T08:54:45.732Z"
   },
   {
    "duration": 4,
    "start_time": "2022-05-20T09:00:29.359Z"
   },
   {
    "duration": 78,
    "start_time": "2022-05-20T09:00:29.366Z"
   },
   {
    "duration": 14,
    "start_time": "2022-05-20T09:00:29.446Z"
   },
   {
    "duration": 53,
    "start_time": "2022-05-20T09:00:29.462Z"
   },
   {
    "duration": 6,
    "start_time": "2022-05-20T09:00:29.520Z"
   },
   {
    "duration": 28,
    "start_time": "2022-05-20T09:00:29.528Z"
   },
   {
    "duration": 22,
    "start_time": "2022-05-20T09:00:29.559Z"
   },
   {
    "duration": 12,
    "start_time": "2022-05-20T09:00:29.584Z"
   },
   {
    "duration": 42,
    "start_time": "2022-05-20T09:00:29.606Z"
   },
   {
    "duration": 6,
    "start_time": "2022-05-20T09:00:29.651Z"
   },
   {
    "duration": 37,
    "start_time": "2022-05-20T09:00:29.659Z"
   },
   {
    "duration": 15,
    "start_time": "2022-05-20T09:00:29.705Z"
   },
   {
    "duration": 16,
    "start_time": "2022-05-20T09:00:29.729Z"
   },
   {
    "duration": 15,
    "start_time": "2022-05-20T09:00:29.747Z"
   },
   {
    "duration": 18,
    "start_time": "2022-05-20T09:00:29.764Z"
   },
   {
    "duration": 31,
    "start_time": "2022-05-20T09:00:29.783Z"
   },
   {
    "duration": 7,
    "start_time": "2022-05-20T09:00:29.819Z"
   },
   {
    "duration": 7,
    "start_time": "2022-05-20T09:00:29.828Z"
   },
   {
    "duration": 10,
    "start_time": "2022-05-20T09:00:29.836Z"
   },
   {
    "duration": 11,
    "start_time": "2022-05-20T09:00:29.847Z"
   },
   {
    "duration": 43,
    "start_time": "2022-05-20T09:00:29.860Z"
   }
  ],
  "kernelspec": {
   "display_name": "Python 3 (ipykernel)",
   "language": "python",
   "name": "python3"
  },
  "language_info": {
   "codemirror_mode": {
    "name": "ipython",
    "version": 3
   },
   "file_extension": ".py",
   "mimetype": "text/x-python",
   "name": "python",
   "nbconvert_exporter": "python",
   "pygments_lexer": "ipython3",
   "version": "3.9.7"
  },
  "toc": {
   "base_numbering": 1,
   "nav_menu": {},
   "number_sections": true,
   "sideBar": true,
   "skip_h1_title": false,
   "title_cell": "Table of Contents",
   "title_sidebar": "Contents",
   "toc_cell": false,
   "toc_position": {},
   "toc_section_display": true,
   "toc_window_display": true
  },
  "toc-autonumbering": false,
  "toc-showmarkdowntxt": false,
  "toc-showtags": true
 },
 "nbformat": 4,
 "nbformat_minor": 5
}
