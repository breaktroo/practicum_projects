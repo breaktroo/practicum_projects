{
 "cells": [
  {
   "cell_type": "markdown",
   "id": "223ab6e9-63b8-4054-91d9-983db29dcabc",
   "metadata": {},
   "source": [
    "# Cодержание  \n",
    " - 1. Загрузка и изучение данных  \n",
    " - 2. Обучение и проверка модели\n",
    " - 3. Подготовка к расчёту прибыли\n",
    " - 4. Расчёт прибыли и рисков\n",
    " - 5. Общий вывод"
   ]
  },
  {
   "cell_type": "markdown",
   "id": "390788ef-b5fb-44f2-8dba-65345e2d2dd7",
   "metadata": {
    "tags": []
   },
   "source": [
    "# Выбор локации для скважины\n",
    "Нужно решить, где бурить новую скважину.  \n",
    "Шаги для выбора локации обычно такие:  \n",
    "В избранном регионе собирают характеристики для скважин: качество нефти и объём её запасов;  \n",
    "Строят модель для предсказания объёма запасов в новых скважинах;  \n",
    "Выбирают скважины с самыми высокими оценками значений;  \n",
    "Определяют регион с максимальной суммарной прибылью отобранных скважин.  \n",
    "Нам предоставлены пробы нефти в трёх регионах. Характеристики для каждой скважины в регионе уже известны. Необходимо построить модель для определения региона, где добыча принесёт наибольшую прибыль.   \n",
    "Возможную прибыль и риски нужно проанализировать техникой Bootstrap."
   ]
  },
  {
   "cell_type": "markdown",
   "id": "36dc6367-a292-481c-b7a0-6d2744c914b4",
   "metadata": {},
   "source": [
    "**Описание данных:**  \n",
    "id — уникальный идентификатор скважины;  \n",
    "f0, f1, f2 — три признака точек (неважно, что они означают, но сами признаки значимы);  \n",
    "product — объём запасов в скважине (тыс. баррелей).  \n",
    "**Условия задачи:**  \n",
    "Для обучения модели подходит только линейная регрессия (остальные — недостаточно предсказуемые).  \n",
    "При разведке региона исследуют 500 точек, из которых с помощью машинного обучения выбирают 200 лучших для разработки.  \n",
    "Бюджет на разработку скважин в регионе — 10 млрд рублей.  \n",
    "При нынешних ценах один баррель сырья приносит 450 рублей дохода. Доход с каждой единицы продукта составляет 450 тыс. рублей, поскольку объём указан в тысячах баррелей.  \n",
    "После оценки рисков нужно оставить лишь те регионы, в которых вероятность убытков меньше 2.5%. Среди них выбирают регион с наибольшей средней прибылью.  "
   ]
  },
  {
   "cell_type": "markdown",
   "id": "f11572ff-6d01-4258-95a5-a37d2697ba61",
   "metadata": {},
   "source": [
    "## Загрузка и изучение данных"
   ]
  },
  {
   "cell_type": "code",
   "execution_count": 1,
   "id": "d6312558-6dfb-4ce8-a7be-35a0cec44e3c",
   "metadata": {
    "tags": []
   },
   "outputs": [],
   "source": [
    "import pandas as pd\n",
    "import numpy as np\n",
    "from scipy import stats as st\n",
    "from sklearn.model_selection import train_test_split\n",
    "from sklearn.linear_model import LinearRegression\n",
    "from sklearn.metrics import mean_squared_error\n",
    "from sklearn.preprocessing import StandardScaler"
   ]
  },
  {
   "cell_type": "markdown",
   "id": "2677ed19-adfd-4fa9-9b1d-003c1ffb65f8",
   "metadata": {},
   "source": [
    "Поскольку датасеты уже приведены к общему виду, на данном этапе будем рассматривать их вместе, для экономии времени."
   ]
  },
  {
   "cell_type": "code",
   "execution_count": 2,
   "id": "f54fef61-65b4-468d-8496-3c3c62c111df",
   "metadata": {},
   "outputs": [],
   "source": [
    "try:\n",
    "    df1 = pd.read_csv('geo_data_0.csv')\n",
    "    df2 = pd.read_csv('geo_data_1.csv')\n",
    "    df3 = pd.read_csv('geo_data_2.csv')\n",
    "except:\n",
    "    df1 = pd.read_csv('/datasets/geo_data_0.csv')\n",
    "    df2 = pd.read_csv('/datasets/geo_data_1.csv')\n",
    "    df3 = pd.read_csv('/datasets/geo_data_2.csv')"
   ]
  },
  {
   "cell_type": "code",
   "execution_count": 3,
   "id": "37d56b7a-1ff5-44b7-86df-9d873f4e9119",
   "metadata": {},
   "outputs": [
    {
     "name": "stdout",
     "output_type": "stream",
     "text": [
      "<class 'pandas.core.frame.DataFrame'>\n",
      "RangeIndex: 100000 entries, 0 to 99999\n",
      "Data columns (total 5 columns):\n",
      " #   Column   Non-Null Count   Dtype  \n",
      "---  ------   --------------   -----  \n",
      " 0   id       100000 non-null  object \n",
      " 1   f0       100000 non-null  float64\n",
      " 2   f1       100000 non-null  float64\n",
      " 3   f2       100000 non-null  float64\n",
      " 4   product  100000 non-null  float64\n",
      "dtypes: float64(4), object(1)\n",
      "memory usage: 3.8+ MB\n"
     ]
    }
   ],
   "source": [
    "df1.info()"
   ]
  },
  {
   "cell_type": "code",
   "execution_count": 4,
   "id": "981a5fe9-43a0-40dd-8e76-2e7451cccf61",
   "metadata": {},
   "outputs": [
    {
     "name": "stdout",
     "output_type": "stream",
     "text": [
      "<class 'pandas.core.frame.DataFrame'>\n",
      "RangeIndex: 100000 entries, 0 to 99999\n",
      "Data columns (total 5 columns):\n",
      " #   Column   Non-Null Count   Dtype  \n",
      "---  ------   --------------   -----  \n",
      " 0   id       100000 non-null  object \n",
      " 1   f0       100000 non-null  float64\n",
      " 2   f1       100000 non-null  float64\n",
      " 3   f2       100000 non-null  float64\n",
      " 4   product  100000 non-null  float64\n",
      "dtypes: float64(4), object(1)\n",
      "memory usage: 3.8+ MB\n"
     ]
    }
   ],
   "source": [
    "df2.info()"
   ]
  },
  {
   "cell_type": "code",
   "execution_count": 5,
   "id": "d0aa43c5-bd2d-4771-a315-a7fd5dfbdd0d",
   "metadata": {},
   "outputs": [
    {
     "name": "stdout",
     "output_type": "stream",
     "text": [
      "<class 'pandas.core.frame.DataFrame'>\n",
      "RangeIndex: 100000 entries, 0 to 99999\n",
      "Data columns (total 5 columns):\n",
      " #   Column   Non-Null Count   Dtype  \n",
      "---  ------   --------------   -----  \n",
      " 0   id       100000 non-null  object \n",
      " 1   f0       100000 non-null  float64\n",
      " 2   f1       100000 non-null  float64\n",
      " 3   f2       100000 non-null  float64\n",
      " 4   product  100000 non-null  float64\n",
      "dtypes: float64(4), object(1)\n",
      "memory usage: 3.8+ MB\n"
     ]
    }
   ],
   "source": [
    "df3.info()"
   ]
  },
  {
   "cell_type": "markdown",
   "id": "a8dfc6ae-8468-497b-a9e7-4d85177e3853",
   "metadata": {},
   "source": [
    "Пропусков нет, названия столбцов и числовые форматы признаков нас устраивают."
   ]
  },
  {
   "cell_type": "code",
   "execution_count": 6,
   "id": "7e93f7f7-1af3-4dd9-980b-c29265e0d939",
   "metadata": {},
   "outputs": [
    {
     "data": {
      "text/html": [
       "<div>\n",
       "<style scoped>\n",
       "    .dataframe tbody tr th:only-of-type {\n",
       "        vertical-align: middle;\n",
       "    }\n",
       "\n",
       "    .dataframe tbody tr th {\n",
       "        vertical-align: top;\n",
       "    }\n",
       "\n",
       "    .dataframe thead th {\n",
       "        text-align: right;\n",
       "    }\n",
       "</style>\n",
       "<table border=\"1\" class=\"dataframe\">\n",
       "  <thead>\n",
       "    <tr style=\"text-align: right;\">\n",
       "      <th></th>\n",
       "      <th>id</th>\n",
       "      <th>f0</th>\n",
       "      <th>f1</th>\n",
       "      <th>f2</th>\n",
       "      <th>product</th>\n",
       "    </tr>\n",
       "  </thead>\n",
       "  <tbody>\n",
       "    <tr>\n",
       "      <th>0</th>\n",
       "      <td>txEyH</td>\n",
       "      <td>0.705745</td>\n",
       "      <td>-0.497823</td>\n",
       "      <td>1.221170</td>\n",
       "      <td>105.280062</td>\n",
       "    </tr>\n",
       "    <tr>\n",
       "      <th>1</th>\n",
       "      <td>2acmU</td>\n",
       "      <td>1.334711</td>\n",
       "      <td>-0.340164</td>\n",
       "      <td>4.365080</td>\n",
       "      <td>73.037750</td>\n",
       "    </tr>\n",
       "    <tr>\n",
       "      <th>2</th>\n",
       "      <td>409Wp</td>\n",
       "      <td>1.022732</td>\n",
       "      <td>0.151990</td>\n",
       "      <td>1.419926</td>\n",
       "      <td>85.265647</td>\n",
       "    </tr>\n",
       "    <tr>\n",
       "      <th>3</th>\n",
       "      <td>iJLyR</td>\n",
       "      <td>-0.032172</td>\n",
       "      <td>0.139033</td>\n",
       "      <td>2.978566</td>\n",
       "      <td>168.620776</td>\n",
       "    </tr>\n",
       "    <tr>\n",
       "      <th>4</th>\n",
       "      <td>Xdl7t</td>\n",
       "      <td>1.988431</td>\n",
       "      <td>0.155413</td>\n",
       "      <td>4.751769</td>\n",
       "      <td>154.036647</td>\n",
       "    </tr>\n",
       "  </tbody>\n",
       "</table>\n",
       "</div>"
      ],
      "text/plain": [
       "      id        f0        f1        f2     product\n",
       "0  txEyH  0.705745 -0.497823  1.221170  105.280062\n",
       "1  2acmU  1.334711 -0.340164  4.365080   73.037750\n",
       "2  409Wp  1.022732  0.151990  1.419926   85.265647\n",
       "3  iJLyR -0.032172  0.139033  2.978566  168.620776\n",
       "4  Xdl7t  1.988431  0.155413  4.751769  154.036647"
      ]
     },
     "execution_count": 6,
     "metadata": {},
     "output_type": "execute_result"
    }
   ],
   "source": [
    "df1.head()"
   ]
  },
  {
   "cell_type": "code",
   "execution_count": 7,
   "id": "c8a0d384-903c-4d12-b272-728838375687",
   "metadata": {},
   "outputs": [
    {
     "data": {
      "text/html": [
       "<div>\n",
       "<style scoped>\n",
       "    .dataframe tbody tr th:only-of-type {\n",
       "        vertical-align: middle;\n",
       "    }\n",
       "\n",
       "    .dataframe tbody tr th {\n",
       "        vertical-align: top;\n",
       "    }\n",
       "\n",
       "    .dataframe thead th {\n",
       "        text-align: right;\n",
       "    }\n",
       "</style>\n",
       "<table border=\"1\" class=\"dataframe\">\n",
       "  <thead>\n",
       "    <tr style=\"text-align: right;\">\n",
       "      <th></th>\n",
       "      <th>id</th>\n",
       "      <th>f0</th>\n",
       "      <th>f1</th>\n",
       "      <th>f2</th>\n",
       "      <th>product</th>\n",
       "    </tr>\n",
       "  </thead>\n",
       "  <tbody>\n",
       "    <tr>\n",
       "      <th>0</th>\n",
       "      <td>kBEdx</td>\n",
       "      <td>-15.001348</td>\n",
       "      <td>-8.276000</td>\n",
       "      <td>-0.005876</td>\n",
       "      <td>3.179103</td>\n",
       "    </tr>\n",
       "    <tr>\n",
       "      <th>1</th>\n",
       "      <td>62mP7</td>\n",
       "      <td>14.272088</td>\n",
       "      <td>-3.475083</td>\n",
       "      <td>0.999183</td>\n",
       "      <td>26.953261</td>\n",
       "    </tr>\n",
       "    <tr>\n",
       "      <th>2</th>\n",
       "      <td>vyE1P</td>\n",
       "      <td>6.263187</td>\n",
       "      <td>-5.948386</td>\n",
       "      <td>5.001160</td>\n",
       "      <td>134.766305</td>\n",
       "    </tr>\n",
       "    <tr>\n",
       "      <th>3</th>\n",
       "      <td>KcrkZ</td>\n",
       "      <td>-13.081196</td>\n",
       "      <td>-11.506057</td>\n",
       "      <td>4.999415</td>\n",
       "      <td>137.945408</td>\n",
       "    </tr>\n",
       "    <tr>\n",
       "      <th>4</th>\n",
       "      <td>AHL4O</td>\n",
       "      <td>12.702195</td>\n",
       "      <td>-8.147433</td>\n",
       "      <td>5.004363</td>\n",
       "      <td>134.766305</td>\n",
       "    </tr>\n",
       "  </tbody>\n",
       "</table>\n",
       "</div>"
      ],
      "text/plain": [
       "      id         f0         f1        f2     product\n",
       "0  kBEdx -15.001348  -8.276000 -0.005876    3.179103\n",
       "1  62mP7  14.272088  -3.475083  0.999183   26.953261\n",
       "2  vyE1P   6.263187  -5.948386  5.001160  134.766305\n",
       "3  KcrkZ -13.081196 -11.506057  4.999415  137.945408\n",
       "4  AHL4O  12.702195  -8.147433  5.004363  134.766305"
      ]
     },
     "execution_count": 7,
     "metadata": {},
     "output_type": "execute_result"
    }
   ],
   "source": [
    "df2.head()"
   ]
  },
  {
   "cell_type": "code",
   "execution_count": 8,
   "id": "948ffb76-9ab9-4ecf-b43f-f1005a98647b",
   "metadata": {
    "tags": []
   },
   "outputs": [
    {
     "data": {
      "text/html": [
       "<div>\n",
       "<style scoped>\n",
       "    .dataframe tbody tr th:only-of-type {\n",
       "        vertical-align: middle;\n",
       "    }\n",
       "\n",
       "    .dataframe tbody tr th {\n",
       "        vertical-align: top;\n",
       "    }\n",
       "\n",
       "    .dataframe thead th {\n",
       "        text-align: right;\n",
       "    }\n",
       "</style>\n",
       "<table border=\"1\" class=\"dataframe\">\n",
       "  <thead>\n",
       "    <tr style=\"text-align: right;\">\n",
       "      <th></th>\n",
       "      <th>id</th>\n",
       "      <th>f0</th>\n",
       "      <th>f1</th>\n",
       "      <th>f2</th>\n",
       "      <th>product</th>\n",
       "    </tr>\n",
       "  </thead>\n",
       "  <tbody>\n",
       "    <tr>\n",
       "      <th>0</th>\n",
       "      <td>fwXo0</td>\n",
       "      <td>-1.146987</td>\n",
       "      <td>0.963328</td>\n",
       "      <td>-0.828965</td>\n",
       "      <td>27.758673</td>\n",
       "    </tr>\n",
       "    <tr>\n",
       "      <th>1</th>\n",
       "      <td>WJtFt</td>\n",
       "      <td>0.262778</td>\n",
       "      <td>0.269839</td>\n",
       "      <td>-2.530187</td>\n",
       "      <td>56.069697</td>\n",
       "    </tr>\n",
       "    <tr>\n",
       "      <th>2</th>\n",
       "      <td>ovLUW</td>\n",
       "      <td>0.194587</td>\n",
       "      <td>0.289035</td>\n",
       "      <td>-5.586433</td>\n",
       "      <td>62.871910</td>\n",
       "    </tr>\n",
       "    <tr>\n",
       "      <th>3</th>\n",
       "      <td>q6cA6</td>\n",
       "      <td>2.236060</td>\n",
       "      <td>-0.553760</td>\n",
       "      <td>0.930038</td>\n",
       "      <td>114.572842</td>\n",
       "    </tr>\n",
       "    <tr>\n",
       "      <th>4</th>\n",
       "      <td>WPMUX</td>\n",
       "      <td>-0.515993</td>\n",
       "      <td>1.716266</td>\n",
       "      <td>5.899011</td>\n",
       "      <td>149.600746</td>\n",
       "    </tr>\n",
       "  </tbody>\n",
       "</table>\n",
       "</div>"
      ],
      "text/plain": [
       "      id        f0        f1        f2     product\n",
       "0  fwXo0 -1.146987  0.963328 -0.828965   27.758673\n",
       "1  WJtFt  0.262778  0.269839 -2.530187   56.069697\n",
       "2  ovLUW  0.194587  0.289035 -5.586433   62.871910\n",
       "3  q6cA6  2.236060 -0.553760  0.930038  114.572842\n",
       "4  WPMUX -0.515993  1.716266  5.899011  149.600746"
      ]
     },
     "execution_count": 8,
     "metadata": {},
     "output_type": "execute_result"
    }
   ],
   "source": [
    "df3.head()"
   ]
  },
  {
   "cell_type": "markdown",
   "id": "3526c6af-615d-49d8-9134-117f533f565d",
   "metadata": {},
   "source": [
    "Можно отметить, что все признаки являются количественными."
   ]
  },
  {
   "cell_type": "code",
   "execution_count": 9,
   "id": "77f26717-b56b-4dc6-bb88-780e222ef5b5",
   "metadata": {},
   "outputs": [
    {
     "data": {
      "text/html": [
       "<div>\n",
       "<style scoped>\n",
       "    .dataframe tbody tr th:only-of-type {\n",
       "        vertical-align: middle;\n",
       "    }\n",
       "\n",
       "    .dataframe tbody tr th {\n",
       "        vertical-align: top;\n",
       "    }\n",
       "\n",
       "    .dataframe thead th {\n",
       "        text-align: right;\n",
       "    }\n",
       "</style>\n",
       "<table border=\"1\" class=\"dataframe\">\n",
       "  <thead>\n",
       "    <tr style=\"text-align: right;\">\n",
       "      <th></th>\n",
       "      <th>f0</th>\n",
       "      <th>f1</th>\n",
       "      <th>f2</th>\n",
       "      <th>product</th>\n",
       "    </tr>\n",
       "  </thead>\n",
       "  <tbody>\n",
       "    <tr>\n",
       "      <th>count</th>\n",
       "      <td>100000.000000</td>\n",
       "      <td>100000.000000</td>\n",
       "      <td>100000.000000</td>\n",
       "      <td>100000.000000</td>\n",
       "    </tr>\n",
       "    <tr>\n",
       "      <th>mean</th>\n",
       "      <td>0.500419</td>\n",
       "      <td>0.250143</td>\n",
       "      <td>2.502647</td>\n",
       "      <td>92.500000</td>\n",
       "    </tr>\n",
       "    <tr>\n",
       "      <th>std</th>\n",
       "      <td>0.871832</td>\n",
       "      <td>0.504433</td>\n",
       "      <td>3.248248</td>\n",
       "      <td>44.288691</td>\n",
       "    </tr>\n",
       "    <tr>\n",
       "      <th>min</th>\n",
       "      <td>-1.408605</td>\n",
       "      <td>-0.848218</td>\n",
       "      <td>-12.088328</td>\n",
       "      <td>0.000000</td>\n",
       "    </tr>\n",
       "    <tr>\n",
       "      <th>25%</th>\n",
       "      <td>-0.072580</td>\n",
       "      <td>-0.200881</td>\n",
       "      <td>0.287748</td>\n",
       "      <td>56.497507</td>\n",
       "    </tr>\n",
       "    <tr>\n",
       "      <th>50%</th>\n",
       "      <td>0.502360</td>\n",
       "      <td>0.250252</td>\n",
       "      <td>2.515969</td>\n",
       "      <td>91.849972</td>\n",
       "    </tr>\n",
       "    <tr>\n",
       "      <th>75%</th>\n",
       "      <td>1.073581</td>\n",
       "      <td>0.700646</td>\n",
       "      <td>4.715088</td>\n",
       "      <td>128.564089</td>\n",
       "    </tr>\n",
       "    <tr>\n",
       "      <th>max</th>\n",
       "      <td>2.362331</td>\n",
       "      <td>1.343769</td>\n",
       "      <td>16.003790</td>\n",
       "      <td>185.364347</td>\n",
       "    </tr>\n",
       "  </tbody>\n",
       "</table>\n",
       "</div>"
      ],
      "text/plain": [
       "                  f0             f1             f2        product\n",
       "count  100000.000000  100000.000000  100000.000000  100000.000000\n",
       "mean        0.500419       0.250143       2.502647      92.500000\n",
       "std         0.871832       0.504433       3.248248      44.288691\n",
       "min        -1.408605      -0.848218     -12.088328       0.000000\n",
       "25%        -0.072580      -0.200881       0.287748      56.497507\n",
       "50%         0.502360       0.250252       2.515969      91.849972\n",
       "75%         1.073581       0.700646       4.715088     128.564089\n",
       "max         2.362331       1.343769      16.003790     185.364347"
      ]
     },
     "execution_count": 9,
     "metadata": {},
     "output_type": "execute_result"
    }
   ],
   "source": [
    "df1.describe()"
   ]
  },
  {
   "cell_type": "code",
   "execution_count": 10,
   "id": "4901c1b2-ee72-4ecd-bb02-8734e82ffca0",
   "metadata": {},
   "outputs": [
    {
     "data": {
      "text/html": [
       "<div>\n",
       "<style scoped>\n",
       "    .dataframe tbody tr th:only-of-type {\n",
       "        vertical-align: middle;\n",
       "    }\n",
       "\n",
       "    .dataframe tbody tr th {\n",
       "        vertical-align: top;\n",
       "    }\n",
       "\n",
       "    .dataframe thead th {\n",
       "        text-align: right;\n",
       "    }\n",
       "</style>\n",
       "<table border=\"1\" class=\"dataframe\">\n",
       "  <thead>\n",
       "    <tr style=\"text-align: right;\">\n",
       "      <th></th>\n",
       "      <th>f0</th>\n",
       "      <th>f1</th>\n",
       "      <th>f2</th>\n",
       "      <th>product</th>\n",
       "    </tr>\n",
       "  </thead>\n",
       "  <tbody>\n",
       "    <tr>\n",
       "      <th>count</th>\n",
       "      <td>100000.000000</td>\n",
       "      <td>100000.000000</td>\n",
       "      <td>100000.000000</td>\n",
       "      <td>100000.000000</td>\n",
       "    </tr>\n",
       "    <tr>\n",
       "      <th>mean</th>\n",
       "      <td>1.141296</td>\n",
       "      <td>-4.796579</td>\n",
       "      <td>2.494541</td>\n",
       "      <td>68.825000</td>\n",
       "    </tr>\n",
       "    <tr>\n",
       "      <th>std</th>\n",
       "      <td>8.965932</td>\n",
       "      <td>5.119872</td>\n",
       "      <td>1.703572</td>\n",
       "      <td>45.944423</td>\n",
       "    </tr>\n",
       "    <tr>\n",
       "      <th>min</th>\n",
       "      <td>-31.609576</td>\n",
       "      <td>-26.358598</td>\n",
       "      <td>-0.018144</td>\n",
       "      <td>0.000000</td>\n",
       "    </tr>\n",
       "    <tr>\n",
       "      <th>25%</th>\n",
       "      <td>-6.298551</td>\n",
       "      <td>-8.267985</td>\n",
       "      <td>1.000021</td>\n",
       "      <td>26.953261</td>\n",
       "    </tr>\n",
       "    <tr>\n",
       "      <th>50%</th>\n",
       "      <td>1.153055</td>\n",
       "      <td>-4.813172</td>\n",
       "      <td>2.011479</td>\n",
       "      <td>57.085625</td>\n",
       "    </tr>\n",
       "    <tr>\n",
       "      <th>75%</th>\n",
       "      <td>8.621015</td>\n",
       "      <td>-1.332816</td>\n",
       "      <td>3.999904</td>\n",
       "      <td>107.813044</td>\n",
       "    </tr>\n",
       "    <tr>\n",
       "      <th>max</th>\n",
       "      <td>29.421755</td>\n",
       "      <td>18.734063</td>\n",
       "      <td>5.019721</td>\n",
       "      <td>137.945408</td>\n",
       "    </tr>\n",
       "  </tbody>\n",
       "</table>\n",
       "</div>"
      ],
      "text/plain": [
       "                  f0             f1             f2        product\n",
       "count  100000.000000  100000.000000  100000.000000  100000.000000\n",
       "mean        1.141296      -4.796579       2.494541      68.825000\n",
       "std         8.965932       5.119872       1.703572      45.944423\n",
       "min       -31.609576     -26.358598      -0.018144       0.000000\n",
       "25%        -6.298551      -8.267985       1.000021      26.953261\n",
       "50%         1.153055      -4.813172       2.011479      57.085625\n",
       "75%         8.621015      -1.332816       3.999904     107.813044\n",
       "max        29.421755      18.734063       5.019721     137.945408"
      ]
     },
     "execution_count": 10,
     "metadata": {},
     "output_type": "execute_result"
    }
   ],
   "source": [
    "df2.describe()"
   ]
  },
  {
   "cell_type": "code",
   "execution_count": 11,
   "id": "bacbe3c9-4e68-459c-a0e8-cef9987bce62",
   "metadata": {},
   "outputs": [
    {
     "data": {
      "text/html": [
       "<div>\n",
       "<style scoped>\n",
       "    .dataframe tbody tr th:only-of-type {\n",
       "        vertical-align: middle;\n",
       "    }\n",
       "\n",
       "    .dataframe tbody tr th {\n",
       "        vertical-align: top;\n",
       "    }\n",
       "\n",
       "    .dataframe thead th {\n",
       "        text-align: right;\n",
       "    }\n",
       "</style>\n",
       "<table border=\"1\" class=\"dataframe\">\n",
       "  <thead>\n",
       "    <tr style=\"text-align: right;\">\n",
       "      <th></th>\n",
       "      <th>f0</th>\n",
       "      <th>f1</th>\n",
       "      <th>f2</th>\n",
       "      <th>product</th>\n",
       "    </tr>\n",
       "  </thead>\n",
       "  <tbody>\n",
       "    <tr>\n",
       "      <th>count</th>\n",
       "      <td>100000.000000</td>\n",
       "      <td>100000.000000</td>\n",
       "      <td>100000.000000</td>\n",
       "      <td>100000.000000</td>\n",
       "    </tr>\n",
       "    <tr>\n",
       "      <th>mean</th>\n",
       "      <td>0.002023</td>\n",
       "      <td>-0.002081</td>\n",
       "      <td>2.495128</td>\n",
       "      <td>95.000000</td>\n",
       "    </tr>\n",
       "    <tr>\n",
       "      <th>std</th>\n",
       "      <td>1.732045</td>\n",
       "      <td>1.730417</td>\n",
       "      <td>3.473445</td>\n",
       "      <td>44.749921</td>\n",
       "    </tr>\n",
       "    <tr>\n",
       "      <th>min</th>\n",
       "      <td>-8.760004</td>\n",
       "      <td>-7.084020</td>\n",
       "      <td>-11.970335</td>\n",
       "      <td>0.000000</td>\n",
       "    </tr>\n",
       "    <tr>\n",
       "      <th>25%</th>\n",
       "      <td>-1.162288</td>\n",
       "      <td>-1.174820</td>\n",
       "      <td>0.130359</td>\n",
       "      <td>59.450441</td>\n",
       "    </tr>\n",
       "    <tr>\n",
       "      <th>50%</th>\n",
       "      <td>0.009424</td>\n",
       "      <td>-0.009482</td>\n",
       "      <td>2.484236</td>\n",
       "      <td>94.925613</td>\n",
       "    </tr>\n",
       "    <tr>\n",
       "      <th>75%</th>\n",
       "      <td>1.158535</td>\n",
       "      <td>1.163678</td>\n",
       "      <td>4.858794</td>\n",
       "      <td>130.595027</td>\n",
       "    </tr>\n",
       "    <tr>\n",
       "      <th>max</th>\n",
       "      <td>7.238262</td>\n",
       "      <td>7.844801</td>\n",
       "      <td>16.739402</td>\n",
       "      <td>190.029838</td>\n",
       "    </tr>\n",
       "  </tbody>\n",
       "</table>\n",
       "</div>"
      ],
      "text/plain": [
       "                  f0             f1             f2        product\n",
       "count  100000.000000  100000.000000  100000.000000  100000.000000\n",
       "mean        0.002023      -0.002081       2.495128      95.000000\n",
       "std         1.732045       1.730417       3.473445      44.749921\n",
       "min        -8.760004      -7.084020     -11.970335       0.000000\n",
       "25%        -1.162288      -1.174820       0.130359      59.450441\n",
       "50%         0.009424      -0.009482       2.484236      94.925613\n",
       "75%         1.158535       1.163678       4.858794     130.595027\n",
       "max         7.238262       7.844801      16.739402     190.029838"
      ]
     },
     "execution_count": 11,
     "metadata": {},
     "output_type": "execute_result"
    }
   ],
   "source": [
    "df3.describe()"
   ]
  },
  {
   "cell_type": "markdown",
   "id": "40c9f9e5-c053-4fd7-bb46-b7e15fc1d172",
   "metadata": {},
   "source": [
    "Минусовых значений запаса продукта не обнаружено, других явных аномалий также не обнаружено."
   ]
  },
  {
   "cell_type": "code",
   "execution_count": 12,
   "id": "38ba30a6-aed8-4647-9eae-46feb530339b",
   "metadata": {},
   "outputs": [
    {
     "data": {
      "text/plain": [
       "0"
      ]
     },
     "metadata": {},
     "output_type": "display_data"
    },
    {
     "data": {
      "text/plain": [
       "0"
      ]
     },
     "metadata": {},
     "output_type": "display_data"
    },
    {
     "data": {
      "text/plain": [
       "0"
      ]
     },
     "metadata": {},
     "output_type": "display_data"
    }
   ],
   "source": [
    "display(df1.duplicated().sum())\n",
    "display(df2.duplicated().sum())\n",
    "display(df3.duplicated().sum())"
   ]
  },
  {
   "cell_type": "markdown",
   "id": "cfbf72d2-9566-41cb-9b45-93aa35d03a0c",
   "metadata": {},
   "source": [
    "Полных дубликатов тоже нет.  \n",
    "Предобработка данных не требуется, можно переходить к обучению модели."
   ]
  },
  {
   "cell_type": "markdown",
   "id": "8f0f632d-312a-4842-b91f-5ea9462b5f2c",
   "metadata": {},
   "source": [
    "## Обучение и проверка модели"
   ]
  },
  {
   "cell_type": "markdown",
   "id": "6e50cfdd-8b97-4ab4-a14e-b533a2274201",
   "metadata": {},
   "source": [
    "В условиях задачи заложено использование линейной регрессии, поэтому другие модели трогать не будем."
   ]
  },
  {
   "cell_type": "code",
   "execution_count": 13,
   "id": "cf0f634e-27b3-4bf8-b69e-e8fcd295eff5",
   "metadata": {
    "tags": []
   },
   "outputs": [],
   "source": [
    "model = LinearRegression()\n",
    "# скейлер для масштаюирования признаков, лишним не будет\n",
    "scaler = StandardScaler()"
   ]
  },
  {
   "cell_type": "markdown",
   "id": "ee925f14-89cf-4ab6-a1e9-cb4173e948ae",
   "metadata": {},
   "source": [
    "Столбец 'id' в расчетах нам не понадобится, его просто отбрасываем.  \n",
    "Целевым признаком является 'product'."
   ]
  },
  {
   "cell_type": "markdown",
   "id": "8660500f-6ba6-4840-8938-cc9931b19df3",
   "metadata": {
    "tags": []
   },
   "source": [
    "Разбиваем данные на обучающую и валидационную выборки в соотношении 3 к 1.  \n",
    "Масштабируем признаки при помощи StandartScaler.  \n",
    "Выводим среднее значение предсказания модели и RMSE.  \n",
    "Выполним эти действия для трех датасетов и сравним результаты."
   ]
  },
  {
   "cell_type": "markdown",
   "id": "eb52fa97-9c9b-4658-85cf-4fbf20553104",
   "metadata": {},
   "source": [
    "Я не стал создавать отдельные переменные для признаков по каждому из датасетов, поскольку мы работаем с одной и той же моделью и удобнее просто перезаписать их, не меняя код основной части обучения и проверки."
   ]
  },
  {
   "cell_type": "code",
   "execution_count": 14,
   "id": "87458758-e0fd-4c1d-96ee-0db9212b196b",
   "metadata": {},
   "outputs": [],
   "source": [
    "features = df1.drop(columns={'id', 'product'})\n",
    "target = df1['product']"
   ]
  },
  {
   "cell_type": "code",
   "execution_count": 15,
   "id": "08e52cfb-7738-4628-a347-e36ea8aae66b",
   "metadata": {},
   "outputs": [
    {
     "data": {
      "text/plain": [
       "92.59256778438035"
      ]
     },
     "metadata": {},
     "output_type": "display_data"
    },
    {
     "data": {
      "text/plain": [
       "'RMSE:'"
      ]
     },
     "metadata": {},
     "output_type": "display_data"
    },
    {
     "data": {
      "text/plain": [
       "37.5794217150813"
      ]
     },
     "metadata": {},
     "output_type": "display_data"
    }
   ],
   "source": [
    "features_train, features_valid, target_train, target_valid = train_test_split(features, target, test_size=0.25, random_state=12345)\n",
    "scaler.fit(features_train)\n",
    "features_train = scaler.transform(features_train)\n",
    "features_valid = scaler.transform(features_valid)\n",
    "model.fit(features_train, target_train)\n",
    "predictions = model.predict(features_valid)\n",
    "rmse = mean_squared_error(target_valid, predictions, squared=False)\n",
    "display(predictions.mean())\n",
    "display('RMSE:', rmse)"
   ]
  },
  {
   "cell_type": "code",
   "execution_count": 16,
   "id": "6124cdda-962e-47de-9739-2fcd340f98e0",
   "metadata": {},
   "outputs": [],
   "source": [
    "features = df2.drop(columns={'id', 'product'})\n",
    "target = df2['product']"
   ]
  },
  {
   "cell_type": "code",
   "execution_count": 17,
   "id": "6fd6756a-12af-4d54-9d83-ef1914ffd167",
   "metadata": {},
   "outputs": [
    {
     "data": {
      "text/plain": [
       "68.728546895446"
      ]
     },
     "metadata": {},
     "output_type": "display_data"
    },
    {
     "data": {
      "text/plain": [
       "'RMSE:'"
      ]
     },
     "metadata": {},
     "output_type": "display_data"
    },
    {
     "data": {
      "text/plain": [
       "0.8930992867756167"
      ]
     },
     "metadata": {},
     "output_type": "display_data"
    }
   ],
   "source": [
    "features_train, features_valid, target_train, target_valid = train_test_split(features, target, test_size=0.25, random_state=12345)\n",
    "scaler.fit(features_train)\n",
    "features_train = scaler.transform(features_train)\n",
    "features_valid = scaler.transform(features_valid)\n",
    "model.fit(features_train, target_train)\n",
    "predictions = model.predict(features_valid)\n",
    "rmse = mean_squared_error(target_valid, predictions, squared=False)\n",
    "display(predictions.mean())\n",
    "display('RMSE:', rmse)"
   ]
  },
  {
   "cell_type": "code",
   "execution_count": 18,
   "id": "d40c17dd-5ad9-4fd4-a71a-722f3ecb6daa",
   "metadata": {},
   "outputs": [],
   "source": [
    "features = df3.drop(columns={'id', 'product'})\n",
    "target = df3['product']"
   ]
  },
  {
   "cell_type": "code",
   "execution_count": 19,
   "id": "ed7c4889-843b-484d-bda5-ad675eb5d994",
   "metadata": {},
   "outputs": [
    {
     "data": {
      "text/plain": [
       "94.96504596800489"
      ]
     },
     "metadata": {},
     "output_type": "display_data"
    },
    {
     "data": {
      "text/plain": [
       "'RMSE:'"
      ]
     },
     "metadata": {},
     "output_type": "display_data"
    },
    {
     "data": {
      "text/plain": [
       "40.02970873393434"
      ]
     },
     "metadata": {},
     "output_type": "display_data"
    }
   ],
   "source": [
    "features_train, features_valid, target_train, target_valid = train_test_split(features, target, test_size=0.25, random_state=12345)\n",
    "scaler.fit(features_train)\n",
    "features_train = scaler.transform(features_train)\n",
    "features_valid = scaler.transform(features_valid)\n",
    "model.fit(features_train, target_train)\n",
    "predictions = model.predict(features_valid)\n",
    "rmse = mean_squared_error(target_valid, predictions, squared=False)\n",
    "display(predictions.mean())\n",
    "display('RMSE:', rmse)"
   ]
  },
  {
   "cell_type": "markdown",
   "id": "c7b83001-c5c1-40b3-86bf-1cf411ee5785",
   "metadata": {},
   "source": [
    "Результаты по первому и третьему региону в целом похожи.  \n",
    "По второму региону модель работает значительно точнее, однако средний уровень предсказанных запасов также сильно ниже.  \n",
    "Дальнейшие выводы по качеству модели для каждого региона можно будет сделать только после подсчета прибыли и рисков."
   ]
  },
  {
   "cell_type": "markdown",
   "id": "8d6766ab-46fb-4c80-a5d0-6fe3f054255b",
   "metadata": {},
   "source": [
    "## Подготовка к расчёту прибыли"
   ]
  },
  {
   "cell_type": "markdown",
   "id": "cfa608df-f8f9-441b-a645-177fe8d83d04",
   "metadata": {},
   "source": [
    "При нынешних ценах один баррель сырья приносит 450 рублей дохода. Доход с каждой единицы продукта составляет 450 тыс. рублей, поскольку объём указан в тысячах баррелей.  \n",
    "На разработку 200 месторождений в регионе выделяется 10 миллиардов рублей.  \n",
    "Обладая этими данными, вычислим минимальный запас сырья для безубыточной разработки месторождения и затем сравним его с средними запасами в каждом регионе."
   ]
  },
  {
   "cell_type": "code",
   "execution_count": 20,
   "id": "b2e3fe82-b087-4f00-964d-a2241cae9c87",
   "metadata": {},
   "outputs": [
    {
     "data": {
      "text/plain": [
       "'минимальный объем сырья необходимый для безубыточности:'"
      ]
     },
     "metadata": {},
     "output_type": "display_data"
    },
    {
     "data": {
      "text/plain": [
       "111.11111111111111"
      ]
     },
     "metadata": {},
     "output_type": "display_data"
    },
    {
     "data": {
      "text/plain": [
       "'средний запас сырья в первом регионе:'"
      ]
     },
     "metadata": {},
     "output_type": "display_data"
    },
    {
     "data": {
      "text/plain": [
       "92.49999999999974"
      ]
     },
     "metadata": {},
     "output_type": "display_data"
    },
    {
     "data": {
      "text/plain": [
       "'средний запас сырья во втором регионе:'"
      ]
     },
     "metadata": {},
     "output_type": "display_data"
    },
    {
     "data": {
      "text/plain": [
       "68.82500000002561"
      ]
     },
     "metadata": {},
     "output_type": "display_data"
    },
    {
     "data": {
      "text/plain": [
       "'средний запас сырья в третьем регионе:'"
      ]
     },
     "metadata": {},
     "output_type": "display_data"
    },
    {
     "data": {
      "text/plain": [
       "95.00000000000041"
      ]
     },
     "metadata": {},
     "output_type": "display_data"
    }
   ],
   "source": [
    "UNIT_INCOME = 450000\n",
    "REGION_BUDGET = 10000000000\n",
    "SINGLE_BUDGET = REGION_BUDGET / 200\n",
    "MINIMAL_PRODUCT = SINGLE_BUDGET / UNIT_INCOME\n",
    "display('минимальный объем сырья необходимый для безубыточности:', MINIMAL_PRODUCT)\n",
    "display('средний запас сырья в первом регионе:', df1['product'].mean())\n",
    "display('средний запас сырья во втором регионе:', df2['product'].mean())\n",
    "display('средний запас сырья в третьем регионе:', df3['product'].mean())"
   ]
  },
  {
   "cell_type": "markdown",
   "id": "cd40ab7d-0486-40e1-8540-68cb622080ab",
   "metadata": {},
   "source": [
    "Ни в одном регионе, средний запас сырья не превышает минимальный необходимый для безубыточности месторождения.  \n",
    "Это говорит нам о важности дополнительных средств оценки потенциала, в том числе машинного обучения.  \n",
    "Подготовим функцию для расчета прибыли:"
   ]
  },
  {
   "cell_type": "markdown",
   "id": "e8c86775-f28e-4373-bd56-ab5eff699284",
   "metadata": {},
   "source": [
    "Поскольку нам известно что при разведке региона исследуют 500 точек, из которых с помощью машинного обучения выбирают 200 лучших для разработки, функция будет отбирать 200 самых богатых месторождений по предсказанию модели, затем по их идексам берутся настоящие данные из столбца 'product', которые находятся в переменной с целевым признаком, эти данные суммируются и из них вычитаем 10 млрд. бюджета."
   ]
  },
  {
   "cell_type": "code",
   "execution_count": 21,
   "id": "d5e1ccde-cfe4-4d84-9b1c-01106b7f854d",
   "metadata": {},
   "outputs": [],
   "source": [
    "def profit_check(target, predictions):\n",
    "    pred_sorted = predictions.nlargest(n=200)\n",
    "    selected = target[pred_sorted.index]\n",
    "    profit = selected.sum() * UNIT_INCOME - 10000000000\n",
    "    return profit"
   ]
  },
  {
   "cell_type": "markdown",
   "id": "032b1bb7-bcc5-4222-96cf-416998403acb",
   "metadata": {},
   "source": [
    "## Расчёт прибыли и рисков"
   ]
  },
  {
   "cell_type": "markdown",
   "id": "3064efd8-2e54-4ad1-b7c6-d7a860eeb563",
   "metadata": {},
   "source": [
    "Для того, чтобы посмотреть распределение прибыли, также оценить вероятность убытков, применим технику Boostrap."
   ]
  },
  {
   "cell_type": "code",
   "execution_count": 22,
   "id": "58b80b16-71e4-4963-9226-43ac60904247",
   "metadata": {},
   "outputs": [],
   "source": [
    "# Случайное значение для Boostrap\n",
    "state = np.random.RandomState(12345)\n",
    "sample_size = 500"
   ]
  },
  {
   "cell_type": "code",
   "execution_count": 23,
   "id": "02f4d83e-7f36-4311-9b87-0ee26b5f40f2",
   "metadata": {},
   "outputs": [
    {
     "data": {
      "text/plain": [
       "'средняя прибыль:'"
      ]
     },
     "metadata": {},
     "output_type": "display_data"
    },
    {
     "data": {
      "text/plain": [
       "380710890.70907456"
      ]
     },
     "metadata": {},
     "output_type": "display_data"
    },
    {
     "data": {
      "text/plain": [
       "'вероятность убытка:'"
      ]
     },
     "metadata": {},
     "output_type": "display_data"
    },
    {
     "data": {
      "text/plain": [
       "0.072"
      ]
     },
     "metadata": {},
     "output_type": "display_data"
    },
    {
     "data": {
      "text/plain": [
       "'95% доверительный интервал:'"
      ]
     },
     "metadata": {},
     "output_type": "display_data"
    },
    {
     "data": {
      "text/plain": [
       "-126947638.03180212"
      ]
     },
     "metadata": {},
     "output_type": "display_data"
    },
    {
     "data": {
      "text/plain": [
       "879613967.8477957"
      ]
     },
     "metadata": {},
     "output_type": "display_data"
    }
   ],
   "source": [
    "features = df1.drop(columns={'id', 'product'})\n",
    "target = df1['product']\n",
    "features_train, features_valid, target_train, target_valid = train_test_split(features, target, test_size=0.25, random_state=12345)\n",
    "scaler.fit(features_train)\n",
    "features_train = scaler.transform(features_train)\n",
    "features_valid = scaler.transform(features_valid)\n",
    "model.fit(features_train, target_train)\n",
    "predictions = model.predict(features_valid)\n",
    "target_valid = pd.Series(target_valid).reset_index(drop=True)\n",
    "predictions = pd.Series(predictions).reset_index(drop=True)\n",
    "profits = []\n",
    "for i in range(1000):\n",
    "    target_subsample = target_valid.sample(n=500, random_state=state)\n",
    "    predictions_subsample = predictions[target_subsample.index]\n",
    "    profits.append(profit_check(target_subsample, predictions_subsample))\n",
    "profits = pd.Series(profits)\n",
    "display('средняя прибыль:', profits.mean())\n",
    "display('вероятность убытка:', (profits < 0).mean())\n",
    "display('95% доверительный интервал:' , profits.quantile(0.025), profits.quantile(0.975))"
   ]
  },
  {
   "cell_type": "code",
   "execution_count": 24,
   "id": "7c48caa4-3b58-463a-a339-428c40f4f0f1",
   "metadata": {},
   "outputs": [
    {
     "data": {
      "text/plain": [
       "'средняя прибыль:'"
      ]
     },
     "metadata": {},
     "output_type": "display_data"
    },
    {
     "data": {
      "text/plain": [
       "454785434.76571316"
      ]
     },
     "metadata": {},
     "output_type": "display_data"
    },
    {
     "data": {
      "text/plain": [
       "'вероятность убытка:'"
      ]
     },
     "metadata": {},
     "output_type": "display_data"
    },
    {
     "data": {
      "text/plain": [
       "0.013"
      ]
     },
     "metadata": {},
     "output_type": "display_data"
    },
    {
     "data": {
      "text/plain": [
       "'95% доверительный интервал:'"
      ]
     },
     "metadata": {},
     "output_type": "display_data"
    },
    {
     "data": {
      "text/plain": [
       "46730084.769206285"
      ]
     },
     "metadata": {},
     "output_type": "display_data"
    },
    {
     "data": {
      "text/plain": [
       "840213356.26002"
      ]
     },
     "metadata": {},
     "output_type": "display_data"
    }
   ],
   "source": [
    "features = df2.drop(columns={'id', 'product'})\n",
    "target = df2['product']\n",
    "features_train, features_valid, target_train, target_valid = train_test_split(features, target, test_size=0.25, random_state=12345)\n",
    "scaler.fit(features_train)\n",
    "features_train = scaler.transform(features_train)\n",
    "features_valid = scaler.transform(features_valid)\n",
    "model.fit(features_train, target_train)\n",
    "predictions = model.predict(features_valid)\n",
    "target_valid = pd.Series(target_valid).reset_index(drop=True)\n",
    "predictions = pd.Series(predictions).reset_index(drop=True)\n",
    "profits = []\n",
    "for i in range(1000):\n",
    "    target_subsample = target_valid.sample(n=500, random_state=state)\n",
    "    predictions_subsample = predictions[target_subsample.index]\n",
    "    profits.append(profit_check(target_subsample, predictions_subsample))\n",
    "profits = pd.Series(profits)\n",
    "display('средняя прибыль:', profits.mean())\n",
    "display('вероятность убытка:', (profits < 0).mean())\n",
    "display('95% доверительный интервал:' , profits.quantile(0.025), profits.quantile(0.975))"
   ]
  },
  {
   "cell_type": "code",
   "execution_count": 25,
   "id": "ecbacd52-5866-43ab-a2cc-b578425d7c1f",
   "metadata": {},
   "outputs": [
    {
     "data": {
      "text/plain": [
       "'средняя прибыль:'"
      ]
     },
     "metadata": {},
     "output_type": "display_data"
    },
    {
     "data": {
      "text/plain": [
       "389217073.6855697"
      ]
     },
     "metadata": {},
     "output_type": "display_data"
    },
    {
     "data": {
      "text/plain": [
       "'вероятность убытка:'"
      ]
     },
     "metadata": {},
     "output_type": "display_data"
    },
    {
     "data": {
      "text/plain": [
       "0.073"
      ]
     },
     "metadata": {},
     "output_type": "display_data"
    },
    {
     "data": {
      "text/plain": [
       "'95% доверительный интервал:'"
      ]
     },
     "metadata": {},
     "output_type": "display_data"
    },
    {
     "data": {
      "text/plain": [
       "-115609565.77767342"
      ]
     },
     "metadata": {},
     "output_type": "display_data"
    },
    {
     "data": {
      "text/plain": [
       "906512590.1730093"
      ]
     },
     "metadata": {},
     "output_type": "display_data"
    }
   ],
   "source": [
    "features = df3.drop(columns={'id', 'product'})\n",
    "target = df3['product']\n",
    "features_train, features_valid, target_train, target_valid = train_test_split(features, target, test_size=0.25, random_state=12345)\n",
    "scaler.fit(features_train)\n",
    "features_train = scaler.transform(features_train)\n",
    "features_valid = scaler.transform(features_valid)\n",
    "model.fit(features_train, target_train)\n",
    "predictions = model.predict(features_valid)\n",
    "target_valid = pd.Series(target_valid).reset_index(drop=True)\n",
    "predictions = pd.Series(predictions).reset_index(drop=True)\n",
    "profits = []\n",
    "for i in range(1000):\n",
    "    target_subsample = target_valid.sample(n=500, random_state=state)\n",
    "    predictions_subsample = predictions[target_subsample.index]\n",
    "    profits.append(profit_check(target_subsample, predictions_subsample))\n",
    "profits = pd.Series(profits)\n",
    "display('средняя прибыль:', profits.mean())\n",
    "display('вероятность убытка:', (profits < 0).mean())\n",
    "display('95% доверительный интервал:' , profits.quantile(0.025), profits.quantile(0.975))"
   ]
  },
  {
   "cell_type": "markdown",
   "id": "7158e03f-f3d2-41c4-b4f6-e6907287176f",
   "metadata": {},
   "source": [
    "## Общий вывод\n",
    "Предоставленные данные не требовали предобработки.  \n",
    "Данные из столбца 'id' были отброшены за ненадобностью для выполнения задачи.  \n",
    "Заявленная по условию задачи модель(линейная регрессия) дала наиболее точные прогнозы по второму региону.  \n",
    "Была написана формула для для расчёта прибыли по выбранным скважинам и предсказаниям модели.  \n",
    "С применением этой формулы и метода Boostrap, были посчитаны прибыль и риски для каждого региона.  \n",
    "Во втором регионе, несмотря на самый низкий средний уровень запасов сырья, прогнозируется наибольшая прибыль, а также наименьший шанс убытка(ниже требуемых 2.5%).  \n",
    "К разработке рекоммендуется второй регион, так как, это регион, на данных которого, модель показала наилучший RMSE, и вполне вероятно, что высокая прогнозируемая прибыль и низкая вероятность убытков обусловлена именно точностью предсказаний.  "
   ]
  }
 ],
 "metadata": {
  "kernelspec": {
   "display_name": "Python 3 (ipykernel)",
   "language": "python",
   "name": "python3"
  },
  "language_info": {
   "codemirror_mode": {
    "name": "ipython",
    "version": 3
   },
   "file_extension": ".py",
   "mimetype": "text/x-python",
   "name": "python",
   "nbconvert_exporter": "python",
   "pygments_lexer": "ipython3",
   "version": "3.9.7"
  },
  "toc": {
   "base_numbering": 1,
   "nav_menu": {},
   "number_sections": true,
   "sideBar": true,
   "skip_h1_title": true,
   "title_cell": "Table of Contents",
   "title_sidebar": "Contents",
   "toc_cell": false,
   "toc_position": {},
   "toc_section_display": true,
   "toc_window_display": false
  }
 },
 "nbformat": 4,
 "nbformat_minor": 5
}
