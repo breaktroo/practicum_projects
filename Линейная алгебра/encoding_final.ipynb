{
 "cells": [
  {
   "cell_type": "markdown",
   "id": "07007ece-6b7c-48dd-ad08-1e01dffb37dc",
   "metadata": {},
   "source": [
    "<h1>Содержание<span class=\"tocSkip\"></span></h1>\n",
    "<div class=\"toc\"><ul class=\"toc-item\"><li><span><a href=\"#Загрузка-данных\" data-toc-modified-id=\"Загрузка-данных-1\"><span class=\"toc-item-num\">1&nbsp;&nbsp;</span>Загрузка данных</a></span></li><li><span><a href=\"#Умножение-матриц\" data-toc-modified-id=\"Умножение-матриц-2\"><span class=\"toc-item-num\">2&nbsp;&nbsp;</span>Умножение матриц</a></span></li><li><span><a href=\"#Алгоритм-преобразования\" data-toc-modified-id=\"Алгоритм-преобразования-3\"><span class=\"toc-item-num\">3&nbsp;&nbsp;</span>Алгоритм преобразования</a></span></li><li><span><a href=\"#Общий-вывод\" data-toc-modified-id=\"Общий-вывод-4\"><span class=\"toc-item-num\">4&nbsp;&nbsp;</span>Общий вывод</a></span></li>"
   ]
  },
  {
   "cell_type": "markdown",
   "id": "9ded2672-08ed-4324-b934-71004ec5186d",
   "metadata": {},
   "source": [
    "# Защита персональных данных клиентов"
   ]
  },
  {
   "cell_type": "markdown",
   "id": "1ea4e996-796d-43b9-8bd3-04c40194721f",
   "metadata": {},
   "source": [
    "Вам нужно защитить данные клиентов страховой компании «Хоть потоп». Разработайте такой метод преобразования данных, чтобы по ним было сложно восстановить персональную информацию. Обоснуйте корректность его работы.\n",
    "\n",
    "Нужно защитить данные, чтобы при преобразовании качество моделей машинного обучения не ухудшилось. Подбирать наилучшую модель не требуется."
   ]
  },
  {
   "cell_type": "markdown",
   "id": "d8f5794e-260d-4393-979d-23b75f0b3359",
   "metadata": {},
   "source": [
    "## Загрузка данных"
   ]
  },
  {
   "cell_type": "code",
   "execution_count": 1,
   "id": "4a73cd25-cbc0-4754-a0fa-b117304da78d",
   "metadata": {},
   "outputs": [],
   "source": [
    "import pandas as pd\n",
    "import numpy as np\n",
    "from sklearn.linear_model import LinearRegression\n",
    "from sklearn.metrics import r2_score\n",
    "from sklearn.model_selection import cross_val_score"
   ]
  },
  {
   "cell_type": "code",
   "execution_count": 2,
   "id": "3565e52e-990b-4276-aecf-934f37b30ac6",
   "metadata": {},
   "outputs": [],
   "source": [
    "try:\n",
    "    df = pd.read_csv('insurance.csv')\n",
    "except:\n",
    "    df = pd.read_csv('/datasets/isurance.csv')"
   ]
  },
  {
   "cell_type": "code",
   "execution_count": 3,
   "id": "94b96b52-6e58-4169-972b-e8a2edcc23e6",
   "metadata": {},
   "outputs": [
    {
     "name": "stdout",
     "output_type": "stream",
     "text": [
      "<class 'pandas.core.frame.DataFrame'>\n",
      "RangeIndex: 5000 entries, 0 to 4999\n",
      "Data columns (total 5 columns):\n",
      " #   Column             Non-Null Count  Dtype  \n",
      "---  ------             --------------  -----  \n",
      " 0   Пол                5000 non-null   int64  \n",
      " 1   Возраст            5000 non-null   float64\n",
      " 2   Зарплата           5000 non-null   float64\n",
      " 3   Члены семьи        5000 non-null   int64  \n",
      " 4   Страховые выплаты  5000 non-null   int64  \n",
      "dtypes: float64(2), int64(3)\n",
      "memory usage: 195.4 KB\n"
     ]
    }
   ],
   "source": [
    "df.info()"
   ]
  },
  {
   "cell_type": "markdown",
   "id": "f672bf09-471d-4a61-8558-3b802ab094cb",
   "metadata": {},
   "source": [
    "Пропуски отсутствуют. Все данные имеют числовой формат."
   ]
  },
  {
   "cell_type": "code",
   "execution_count": 4,
   "id": "38c37183-afba-4f1f-874a-ee3e3099c2c1",
   "metadata": {},
   "outputs": [
    {
     "data": {
      "text/html": [
       "<div>\n",
       "<style scoped>\n",
       "    .dataframe tbody tr th:only-of-type {\n",
       "        vertical-align: middle;\n",
       "    }\n",
       "\n",
       "    .dataframe tbody tr th {\n",
       "        vertical-align: top;\n",
       "    }\n",
       "\n",
       "    .dataframe thead th {\n",
       "        text-align: right;\n",
       "    }\n",
       "</style>\n",
       "<table border=\"1\" class=\"dataframe\">\n",
       "  <thead>\n",
       "    <tr style=\"text-align: right;\">\n",
       "      <th></th>\n",
       "      <th>Пол</th>\n",
       "      <th>Возраст</th>\n",
       "      <th>Зарплата</th>\n",
       "      <th>Члены семьи</th>\n",
       "      <th>Страховые выплаты</th>\n",
       "    </tr>\n",
       "  </thead>\n",
       "  <tbody>\n",
       "    <tr>\n",
       "      <th>0</th>\n",
       "      <td>1</td>\n",
       "      <td>41.0</td>\n",
       "      <td>49600.0</td>\n",
       "      <td>1</td>\n",
       "      <td>0</td>\n",
       "    </tr>\n",
       "    <tr>\n",
       "      <th>1</th>\n",
       "      <td>0</td>\n",
       "      <td>46.0</td>\n",
       "      <td>38000.0</td>\n",
       "      <td>1</td>\n",
       "      <td>1</td>\n",
       "    </tr>\n",
       "    <tr>\n",
       "      <th>2</th>\n",
       "      <td>0</td>\n",
       "      <td>29.0</td>\n",
       "      <td>21000.0</td>\n",
       "      <td>0</td>\n",
       "      <td>0</td>\n",
       "    </tr>\n",
       "    <tr>\n",
       "      <th>3</th>\n",
       "      <td>0</td>\n",
       "      <td>21.0</td>\n",
       "      <td>41700.0</td>\n",
       "      <td>2</td>\n",
       "      <td>0</td>\n",
       "    </tr>\n",
       "    <tr>\n",
       "      <th>4</th>\n",
       "      <td>1</td>\n",
       "      <td>28.0</td>\n",
       "      <td>26100.0</td>\n",
       "      <td>0</td>\n",
       "      <td>0</td>\n",
       "    </tr>\n",
       "  </tbody>\n",
       "</table>\n",
       "</div>"
      ],
      "text/plain": [
       "   Пол  Возраст  Зарплата  Члены семьи  Страховые выплаты\n",
       "0    1     41.0   49600.0            1                  0\n",
       "1    0     46.0   38000.0            1                  1\n",
       "2    0     29.0   21000.0            0                  0\n",
       "3    0     21.0   41700.0            2                  0\n",
       "4    1     28.0   26100.0            0                  0"
      ]
     },
     "execution_count": 4,
     "metadata": {},
     "output_type": "execute_result"
    }
   ],
   "source": [
    "df.head()"
   ]
  },
  {
   "cell_type": "code",
   "execution_count": 5,
   "id": "84207c8d-539f-47a5-98d3-3024a9a68008",
   "metadata": {},
   "outputs": [
    {
     "data": {
      "text/html": [
       "<div>\n",
       "<style scoped>\n",
       "    .dataframe tbody tr th:only-of-type {\n",
       "        vertical-align: middle;\n",
       "    }\n",
       "\n",
       "    .dataframe tbody tr th {\n",
       "        vertical-align: top;\n",
       "    }\n",
       "\n",
       "    .dataframe thead th {\n",
       "        text-align: right;\n",
       "    }\n",
       "</style>\n",
       "<table border=\"1\" class=\"dataframe\">\n",
       "  <thead>\n",
       "    <tr style=\"text-align: right;\">\n",
       "      <th></th>\n",
       "      <th>Пол</th>\n",
       "      <th>Возраст</th>\n",
       "      <th>Зарплата</th>\n",
       "      <th>Члены семьи</th>\n",
       "      <th>Страховые выплаты</th>\n",
       "    </tr>\n",
       "  </thead>\n",
       "  <tbody>\n",
       "    <tr>\n",
       "      <th>count</th>\n",
       "      <td>5000.000000</td>\n",
       "      <td>5000.000000</td>\n",
       "      <td>5000.000000</td>\n",
       "      <td>5000.000000</td>\n",
       "      <td>5000.000000</td>\n",
       "    </tr>\n",
       "    <tr>\n",
       "      <th>mean</th>\n",
       "      <td>0.499000</td>\n",
       "      <td>30.952800</td>\n",
       "      <td>39916.360000</td>\n",
       "      <td>1.194200</td>\n",
       "      <td>0.148000</td>\n",
       "    </tr>\n",
       "    <tr>\n",
       "      <th>std</th>\n",
       "      <td>0.500049</td>\n",
       "      <td>8.440807</td>\n",
       "      <td>9900.083569</td>\n",
       "      <td>1.091387</td>\n",
       "      <td>0.463183</td>\n",
       "    </tr>\n",
       "    <tr>\n",
       "      <th>min</th>\n",
       "      <td>0.000000</td>\n",
       "      <td>18.000000</td>\n",
       "      <td>5300.000000</td>\n",
       "      <td>0.000000</td>\n",
       "      <td>0.000000</td>\n",
       "    </tr>\n",
       "    <tr>\n",
       "      <th>25%</th>\n",
       "      <td>0.000000</td>\n",
       "      <td>24.000000</td>\n",
       "      <td>33300.000000</td>\n",
       "      <td>0.000000</td>\n",
       "      <td>0.000000</td>\n",
       "    </tr>\n",
       "    <tr>\n",
       "      <th>50%</th>\n",
       "      <td>0.000000</td>\n",
       "      <td>30.000000</td>\n",
       "      <td>40200.000000</td>\n",
       "      <td>1.000000</td>\n",
       "      <td>0.000000</td>\n",
       "    </tr>\n",
       "    <tr>\n",
       "      <th>75%</th>\n",
       "      <td>1.000000</td>\n",
       "      <td>37.000000</td>\n",
       "      <td>46600.000000</td>\n",
       "      <td>2.000000</td>\n",
       "      <td>0.000000</td>\n",
       "    </tr>\n",
       "    <tr>\n",
       "      <th>max</th>\n",
       "      <td>1.000000</td>\n",
       "      <td>65.000000</td>\n",
       "      <td>79000.000000</td>\n",
       "      <td>6.000000</td>\n",
       "      <td>5.000000</td>\n",
       "    </tr>\n",
       "  </tbody>\n",
       "</table>\n",
       "</div>"
      ],
      "text/plain": [
       "               Пол      Возраст      Зарплата  Члены семьи  Страховые выплаты\n",
       "count  5000.000000  5000.000000   5000.000000  5000.000000        5000.000000\n",
       "mean      0.499000    30.952800  39916.360000     1.194200           0.148000\n",
       "std       0.500049     8.440807   9900.083569     1.091387           0.463183\n",
       "min       0.000000    18.000000   5300.000000     0.000000           0.000000\n",
       "25%       0.000000    24.000000  33300.000000     0.000000           0.000000\n",
       "50%       0.000000    30.000000  40200.000000     1.000000           0.000000\n",
       "75%       1.000000    37.000000  46600.000000     2.000000           0.000000\n",
       "max       1.000000    65.000000  79000.000000     6.000000           5.000000"
      ]
     },
     "execution_count": 5,
     "metadata": {},
     "output_type": "execute_result"
    }
   ],
   "source": [
    "df.describe()"
   ]
  },
  {
   "cell_type": "code",
   "execution_count": 6,
   "id": "f5a3da1d-b542-4784-b19f-721cadc7cfd3",
   "metadata": {},
   "outputs": [
    {
     "data": {
      "text/plain": [
       "array([1, 0], dtype=int64)"
      ]
     },
     "execution_count": 6,
     "metadata": {},
     "output_type": "execute_result"
    }
   ],
   "source": [
    "df['Пол'].unique()"
   ]
  },
  {
   "cell_type": "code",
   "execution_count": 7,
   "id": "8a524bac-2c30-4b76-a7b3-12a3f3d2632f",
   "metadata": {},
   "outputs": [
    {
     "data": {
      "text/plain": [
       "array([1, 0, 2, 4, 3, 5, 6], dtype=int64)"
      ]
     },
     "execution_count": 7,
     "metadata": {},
     "output_type": "execute_result"
    }
   ],
   "source": [
    "df['Члены семьи'].unique()"
   ]
  },
  {
   "cell_type": "code",
   "execution_count": 8,
   "id": "f99af99a-7c81-40c8-b998-ebde1f0d583c",
   "metadata": {},
   "outputs": [
    {
     "data": {
      "text/plain": [
       "array([41., 46., 29., 21., 28., 43., 39., 25., 36., 32., 38., 23., 40.,\n",
       "       34., 26., 42., 27., 33., 47., 30., 19., 31., 22., 20., 24., 18.,\n",
       "       37., 48., 45., 44., 52., 49., 35., 56., 65., 55., 57., 54., 50.,\n",
       "       53., 51., 58., 59., 60., 61., 62.])"
      ]
     },
     "execution_count": 8,
     "metadata": {},
     "output_type": "execute_result"
    }
   ],
   "source": [
    "df['Возраст'].unique()"
   ]
  },
  {
   "cell_type": "markdown",
   "id": "6f38aa95-824d-4990-b7b5-a85ff2893986",
   "metadata": {},
   "source": [
    "Отклонений в данных не обнаружено."
   ]
  },
  {
   "cell_type": "markdown",
   "id": "0238e0a5-5bce-42ae-af9b-4f9dfabdea10",
   "metadata": {},
   "source": [
    "Проверим наличие дубликатов, однако в виду малого количества признаков и отсутствия столбца с полностью уникальными значениями вроде id или номера договора, не будем отбрасывать их."
   ]
  },
  {
   "cell_type": "code",
   "execution_count": 9,
   "id": "9ec9e9bf-fc13-44c7-ad78-472a0cd9c7f1",
   "metadata": {},
   "outputs": [
    {
     "data": {
      "text/plain": [
       "0.0306"
      ]
     },
     "execution_count": 9,
     "metadata": {},
     "output_type": "execute_result"
    }
   ],
   "source": [
    "df.duplicated().mean()"
   ]
  },
  {
   "cell_type": "markdown",
   "id": "f2c02bb6-2360-44f2-b694-d5439257f032",
   "metadata": {},
   "source": [
    "Преобразовавать значения возраста и зарплаты и в формат цельных чисел int нет смысла, поскольку кодирование всё равно вернет их к float64."
   ]
  },
  {
   "cell_type": "markdown",
   "id": "e036579c-5c94-4d3d-8658-7101091b559d",
   "metadata": {},
   "source": [
    "## Умножение матриц"
   ]
  },
  {
   "cell_type": "markdown",
   "id": "0d8ada34-fad9-4b39-aa91-21c0b44842b2",
   "metadata": {},
   "source": [
    "Необходимо ответить на вопрос:  \n",
    "Изменится ли качество линейной регрессии при умножении признаков на обратимую матрицу?"
   ]
  },
  {
   "cell_type": "code",
   "execution_count": 10,
   "id": "39ac540d-0586-43e9-8958-9479433e8fdb",
   "metadata": {},
   "outputs": [],
   "source": [
    "features = df.drop(columns = ('Страховые выплаты'))\n",
    "target = df['Страховые выплаты']"
   ]
  },
  {
   "cell_type": "markdown",
   "id": "48cd8c93-2b0b-4d5b-ba1a-a1e222170f91",
   "metadata": {},
   "source": [
    "Проверим методом кросс-валидации результаты линейной регрессии на исходных данных."
   ]
  },
  {
   "cell_type": "code",
   "execution_count": 11,
   "id": "ce5ec12d-3234-49c5-bd73-b1e2659a9fc0",
   "metadata": {},
   "outputs": [
    {
     "data": {
      "text/plain": [
       "array([0.43045434, 0.42998266, 0.41239744, 0.42264271])"
      ]
     },
     "execution_count": 11,
     "metadata": {},
     "output_type": "execute_result"
    }
   ],
   "source": [
    "model = LinearRegression()\n",
    "cross_val_score(model, features, target, scoring='r2', cv=4)"
   ]
  },
  {
   "cell_type": "markdown",
   "id": "a893529f-da5e-4c81-a93c-3efc0243c4ae",
   "metadata": {},
   "source": [
    "Теперь получим случайную квадратную матрицу пригодную для умножения признаков.  \n",
    "Функцией np.linalg.inv проверим её обратимость(в случае необратимости получим сообщение об ошибке, вероятность этого крайне мала и в таком случае просто перезапустим ячейку).  "
   ]
  },
  {
   "cell_type": "code",
   "execution_count": 12,
   "id": "a2b1334c-128a-4dac-9896-26c4d7d9d1c6",
   "metadata": {},
   "outputs": [],
   "source": [
    "matrix = np.random.normal(size=(4, 4))\n",
    "np.linalg.inv(matrix)\n",
    "features = features.dot(matrix)"
   ]
  },
  {
   "cell_type": "code",
   "execution_count": 13,
   "id": "33f2dd91-1129-4527-9d50-2c76a1b788b2",
   "metadata": {
    "tags": []
   },
   "outputs": [
    {
     "data": {
      "text/plain": [
       "array([0.43045434, 0.42998266, 0.41239744, 0.42264271])"
      ]
     },
     "execution_count": 13,
     "metadata": {},
     "output_type": "execute_result"
    }
   ],
   "source": [
    "model = LinearRegression()\n",
    "cross_val_score(model, features, target, scoring='r2', cv=4)"
   ]
  },
  {
   "cell_type": "markdown",
   "id": "e358fff0-00a2-45df-a451-f4313fdba05b",
   "metadata": {},
   "source": [
    "Результаты линейной регрессии остались **неизменными**.  \n",
    "Рассмотрим формулы задействованные в вычислениях, чтобы объяснить это."
   ]
  },
  {
   "cell_type": "markdown",
   "id": "587a008d-f748-4877-bd66-c55861911313",
   "metadata": {},
   "source": [
    "Обозначения:\n",
    "\n",
    "- $X$ — матрица признаков (нулевой столбец состоит из единиц)\n",
    "\n",
    "- $y$ — вектор целевого признака\n",
    "\n",
    "- $P$ — матрица, на которую умножаются признаки\n",
    "\n",
    "- $w$ — вектор весов линейной регрессии (нулевой элемент равен сдвигу)\n",
    "\n",
    "Предсказания:\n",
    "\n",
    "$$\n",
    "a = Xw\n",
    "$$\n",
    "\n",
    "Задача обучения:\n",
    "\n",
    "$$\n",
    "w = \\arg\\min_w MSE(Xw, y)\n",
    "$$\n",
    "\n",
    "Формула обучения:\n",
    "\n",
    "$$\n",
    "w = (X^T X)^{-1} X^T y\n",
    "$$"
   ]
  },
  {
   "cell_type": "markdown",
   "id": "b3ad33ed-7f23-47c7-9949-08a6f5c5cb27",
   "metadata": {},
   "source": [
    "Матрица признаков после умножения будет равна - $XP$  \n",
    "Соответственно формулы предсказания и обучения приобретут следующий вид: \n",
    "\n",
    "$$a_1 = XPw_1$$\n",
    "$$w_1 = ((XP)^T XP)^{-1} (XP)^T y$$  \n",
    "\n",
    "Пользуясь свойством ассоциативности($((XP)^T XP)^{-1}$ можно представить как $(((XP)^T X)P)^{-1}$) раскрываем первые скобки, применив одно из свойств обратной матрицы: $(AB)^{-1} = B^{-1}A^{-1}$:\n",
    "\n",
    "$$w_1 = P^{-1}((XP)^T X)^{-1}(XP)^T y$$  \n",
    "\n",
    "Далее раскрываем скобки транспонированных матриц:  \n",
    "\n",
    "$$w_1 = P^{-1}(P^T X^T X)^{-1}P^T X^T y$$\n",
    "\n",
    "Представив $(P^T X^T X)^{-1}$ как $(P^T (X^T X))^{-1}$, раскрываем скобки обратной матрицы:  \n",
    "\n",
    "$$w_1 = P^{-1}(X^T X)^{-1}(P^T)^{-1}P^T X^T y$$\n",
    "\n",
    "Поскольку $(P^T)^{-1}P^T = E$, а умножение на E ничего не меняет, сокращаем уравнение до:  \n",
    "\n",
    "$$w_1 = P^{-1}(X^T X)^{-1}X^T y$$  \n",
    "\n",
    "Поскольку $(X^T X)^{-1}X^T y = w$, получаем, что:\n",
    "\n",
    "$$w_1 = P^{-1}w$$\n",
    "\n",
    "Подставим это значение в формулу $a_1 = XPw_1$:  \n",
    "\n",
    "$$a_1 = XPP^{-1}w$$  \n",
    "\n",
    "Отбрасываем $PP^{-1}=E$ и получаем: $$a_1 = Xw = a$$"
   ]
  },
  {
   "cell_type": "markdown",
   "id": "bc933589-eb8b-4581-bd60-1ffd9c603881",
   "metadata": {
    "tags": []
   },
   "source": [
    "## Алгоритм преобразования"
   ]
  },
  {
   "cell_type": "markdown",
   "id": "9968304b-8bf3-41d4-a03f-63532cd6288e",
   "metadata": {},
   "source": [
    "Наша задача состоит только в защите данных.  \n",
    "То есть нужно привести данные к такому виду, чтобы не было возможности получить их в исходном виде, не имея доступа к самому алгоритму.  "
   ]
  },
  {
   "cell_type": "code",
   "execution_count": 15,
   "id": "57307772-1438-4824-a972-2f1ad5840622",
   "metadata": {},
   "outputs": [],
   "source": [
    "def encode(feaures):\n",
    "    try:\n",
    "        coder = np.random.normal(size=(4, 4))\n",
    "        coder = np.linalg.inv(coder)\n",
    "        str_error = None\n",
    "    except:\n",
    "        coder = np.random.normal(size=(4, 4))\n",
    "        coder = np.linalg.inv(coder)\n",
    "    encoded_features = features.dot(coder)\n",
    "    return encoded_features"
   ]
  },
  {
   "cell_type": "markdown",
   "id": "f49cec6d-5875-4873-a51d-4ff3ec207f5d",
   "metadata": {},
   "source": [
    "Умножение на обратимую матрицу не только изменит признаки до неузнаваемости, но заменит названия столбцов.  \n",
    "Использование обратной случайной матрицы выступает своебразной гарантией её обратимости.  \n",
    "Конструкцию try/except применяется на случай генерации необратимой матрицы."
   ]
  },
  {
   "cell_type": "markdown",
   "id": "a0acf6b6-9955-4766-8c6a-7e70bb359723",
   "metadata": {},
   "source": [
    "Осталось проверить алгоритм.  \n",
    "Для начала еще раз взглянем на изначальные признаки."
   ]
  },
  {
   "cell_type": "code",
   "execution_count": 16,
   "id": "8ceb97b4-56be-4c41-8900-03c494a06c6b",
   "metadata": {},
   "outputs": [
    {
     "data": {
      "text/html": [
       "<div>\n",
       "<style scoped>\n",
       "    .dataframe tbody tr th:only-of-type {\n",
       "        vertical-align: middle;\n",
       "    }\n",
       "\n",
       "    .dataframe tbody tr th {\n",
       "        vertical-align: top;\n",
       "    }\n",
       "\n",
       "    .dataframe thead th {\n",
       "        text-align: right;\n",
       "    }\n",
       "</style>\n",
       "<table border=\"1\" class=\"dataframe\">\n",
       "  <thead>\n",
       "    <tr style=\"text-align: right;\">\n",
       "      <th></th>\n",
       "      <th>Пол</th>\n",
       "      <th>Возраст</th>\n",
       "      <th>Зарплата</th>\n",
       "      <th>Члены семьи</th>\n",
       "    </tr>\n",
       "  </thead>\n",
       "  <tbody>\n",
       "    <tr>\n",
       "      <th>0</th>\n",
       "      <td>1</td>\n",
       "      <td>41.0</td>\n",
       "      <td>49600.0</td>\n",
       "      <td>1</td>\n",
       "    </tr>\n",
       "    <tr>\n",
       "      <th>1</th>\n",
       "      <td>0</td>\n",
       "      <td>46.0</td>\n",
       "      <td>38000.0</td>\n",
       "      <td>1</td>\n",
       "    </tr>\n",
       "    <tr>\n",
       "      <th>2</th>\n",
       "      <td>0</td>\n",
       "      <td>29.0</td>\n",
       "      <td>21000.0</td>\n",
       "      <td>0</td>\n",
       "    </tr>\n",
       "    <tr>\n",
       "      <th>3</th>\n",
       "      <td>0</td>\n",
       "      <td>21.0</td>\n",
       "      <td>41700.0</td>\n",
       "      <td>2</td>\n",
       "    </tr>\n",
       "    <tr>\n",
       "      <th>4</th>\n",
       "      <td>1</td>\n",
       "      <td>28.0</td>\n",
       "      <td>26100.0</td>\n",
       "      <td>0</td>\n",
       "    </tr>\n",
       "    <tr>\n",
       "      <th>5</th>\n",
       "      <td>1</td>\n",
       "      <td>43.0</td>\n",
       "      <td>41000.0</td>\n",
       "      <td>2</td>\n",
       "    </tr>\n",
       "    <tr>\n",
       "      <th>6</th>\n",
       "      <td>1</td>\n",
       "      <td>39.0</td>\n",
       "      <td>39700.0</td>\n",
       "      <td>2</td>\n",
       "    </tr>\n",
       "    <tr>\n",
       "      <th>7</th>\n",
       "      <td>1</td>\n",
       "      <td>25.0</td>\n",
       "      <td>38600.0</td>\n",
       "      <td>4</td>\n",
       "    </tr>\n",
       "    <tr>\n",
       "      <th>8</th>\n",
       "      <td>1</td>\n",
       "      <td>36.0</td>\n",
       "      <td>49700.0</td>\n",
       "      <td>1</td>\n",
       "    </tr>\n",
       "    <tr>\n",
       "      <th>9</th>\n",
       "      <td>1</td>\n",
       "      <td>32.0</td>\n",
       "      <td>51700.0</td>\n",
       "      <td>1</td>\n",
       "    </tr>\n",
       "  </tbody>\n",
       "</table>\n",
       "</div>"
      ],
      "text/plain": [
       "   Пол  Возраст  Зарплата  Члены семьи\n",
       "0    1     41.0   49600.0            1\n",
       "1    0     46.0   38000.0            1\n",
       "2    0     29.0   21000.0            0\n",
       "3    0     21.0   41700.0            2\n",
       "4    1     28.0   26100.0            0\n",
       "5    1     43.0   41000.0            2\n",
       "6    1     39.0   39700.0            2\n",
       "7    1     25.0   38600.0            4\n",
       "8    1     36.0   49700.0            1\n",
       "9    1     32.0   51700.0            1"
      ]
     },
     "execution_count": 16,
     "metadata": {},
     "output_type": "execute_result"
    }
   ],
   "source": [
    "features = df.drop(columns = ('Страховые выплаты'))\n",
    "target = df['Страховые выплаты']\n",
    "features.head(10)"
   ]
  },
  {
   "cell_type": "code",
   "execution_count": 17,
   "id": "ca4db3d0-05a5-415a-a3d0-3adeb262432e",
   "metadata": {},
   "outputs": [
    {
     "data": {
      "text/plain": [
       "array([0.43045434, 0.42998266, 0.41239744, 0.42264271])"
      ]
     },
     "execution_count": 17,
     "metadata": {},
     "output_type": "execute_result"
    }
   ],
   "source": [
    "model = LinearRegression()\n",
    "cross_val_score(model, features, target, scoring='r2', cv=4)"
   ]
  },
  {
   "cell_type": "markdown",
   "id": "bd116c1b-966b-4505-a192-6730aa0cfdb3",
   "metadata": {},
   "source": [
    "Преобразуем их при помощи написанной функции."
   ]
  },
  {
   "cell_type": "code",
   "execution_count": 18,
   "id": "24f34a29-7954-4df8-bc73-cb1ecc339df0",
   "metadata": {},
   "outputs": [
    {
     "data": {
      "text/html": [
       "<div>\n",
       "<style scoped>\n",
       "    .dataframe tbody tr th:only-of-type {\n",
       "        vertical-align: middle;\n",
       "    }\n",
       "\n",
       "    .dataframe tbody tr th {\n",
       "        vertical-align: top;\n",
       "    }\n",
       "\n",
       "    .dataframe thead th {\n",
       "        text-align: right;\n",
       "    }\n",
       "</style>\n",
       "<table border=\"1\" class=\"dataframe\">\n",
       "  <thead>\n",
       "    <tr style=\"text-align: right;\">\n",
       "      <th></th>\n",
       "      <th>0</th>\n",
       "      <th>1</th>\n",
       "      <th>2</th>\n",
       "      <th>3</th>\n",
       "    </tr>\n",
       "  </thead>\n",
       "  <tbody>\n",
       "    <tr>\n",
       "      <th>0</th>\n",
       "      <td>-4243.192570</td>\n",
       "      <td>18876.715887</td>\n",
       "      <td>-12963.766733</td>\n",
       "      <td>2626.067106</td>\n",
       "    </tr>\n",
       "    <tr>\n",
       "      <th>1</th>\n",
       "      <td>-3239.027466</td>\n",
       "      <td>14451.646374</td>\n",
       "      <td>-9913.347409</td>\n",
       "      <td>1987.411903</td>\n",
       "    </tr>\n",
       "    <tr>\n",
       "      <th>2</th>\n",
       "      <td>-1787.357325</td>\n",
       "      <td>7984.410397</td>\n",
       "      <td>-5474.831432</td>\n",
       "      <td>1093.546956</td>\n",
       "    </tr>\n",
       "    <tr>\n",
       "      <th>3</th>\n",
       "      <td>-3577.749913</td>\n",
       "      <td>15878.499659</td>\n",
       "      <td>-10913.222431</td>\n",
       "      <td>2228.087551</td>\n",
       "    </tr>\n",
       "    <tr>\n",
       "      <th>4</th>\n",
       "      <td>-2227.835722</td>\n",
       "      <td>9929.104356</td>\n",
       "      <td>-6814.873257</td>\n",
       "      <td>1372.095504</td>\n",
       "    </tr>\n",
       "    <tr>\n",
       "      <th>5</th>\n",
       "      <td>-3499.587746</td>\n",
       "      <td>15596.443056</td>\n",
       "      <td>-10703.441806</td>\n",
       "      <td>2152.924269</td>\n",
       "    </tr>\n",
       "    <tr>\n",
       "      <th>6</th>\n",
       "      <td>-3390.718557</td>\n",
       "      <td>15103.700978</td>\n",
       "      <td>-10367.205981</td>\n",
       "      <td>2088.903253</td>\n",
       "    </tr>\n",
       "    <tr>\n",
       "      <th>7</th>\n",
       "      <td>-3306.238831</td>\n",
       "      <td>14692.473918</td>\n",
       "      <td>-10092.874716</td>\n",
       "      <td>2048.061774</td>\n",
       "    </tr>\n",
       "    <tr>\n",
       "      <th>8</th>\n",
       "      <td>-4255.844407</td>\n",
       "      <td>18918.304690</td>\n",
       "      <td>-12996.088360</td>\n",
       "      <td>2639.838302</td>\n",
       "    </tr>\n",
       "    <tr>\n",
       "      <th>9</th>\n",
       "      <td>-4431.518098</td>\n",
       "      <td>19683.420072</td>\n",
       "      <td>-13525.727402</td>\n",
       "      <td>2755.255916</td>\n",
       "    </tr>\n",
       "  </tbody>\n",
       "</table>\n",
       "</div>"
      ],
      "text/plain": [
       "             0             1             2            3\n",
       "0 -4243.192570  18876.715887 -12963.766733  2626.067106\n",
       "1 -3239.027466  14451.646374  -9913.347409  1987.411903\n",
       "2 -1787.357325   7984.410397  -5474.831432  1093.546956\n",
       "3 -3577.749913  15878.499659 -10913.222431  2228.087551\n",
       "4 -2227.835722   9929.104356  -6814.873257  1372.095504\n",
       "5 -3499.587746  15596.443056 -10703.441806  2152.924269\n",
       "6 -3390.718557  15103.700978 -10367.205981  2088.903253\n",
       "7 -3306.238831  14692.473918 -10092.874716  2048.061774\n",
       "8 -4255.844407  18918.304690 -12996.088360  2639.838302\n",
       "9 -4431.518098  19683.420072 -13525.727402  2755.255916"
      ]
     },
     "execution_count": 18,
     "metadata": {},
     "output_type": "execute_result"
    }
   ],
   "source": [
    "features = encode(features)\n",
    "features.head(10)"
   ]
  },
  {
   "cell_type": "markdown",
   "id": "0e347f59-9af2-4422-ba60-4043764cff16",
   "metadata": {},
   "source": [
    "Значения изменились до неузнаваемости, даже определить категорию столбца не прдставляется возможным.  \n",
    "Проверим результаты линейной регрессии на преобразованных данных."
   ]
  },
  {
   "cell_type": "code",
   "execution_count": 19,
   "id": "3b797b90-50ea-4b8b-9cf4-06b56b06e94f",
   "metadata": {},
   "outputs": [
    {
     "data": {
      "text/plain": [
       "array([0.43045434, 0.42998266, 0.41239744, 0.42264271])"
      ]
     },
     "execution_count": 19,
     "metadata": {},
     "output_type": "execute_result"
    }
   ],
   "source": [
    "model = LinearRegression()\n",
    "cross_val_score(model, features, target, scoring='r2', cv=4)"
   ]
  },
  {
   "cell_type": "markdown",
   "id": "d4a59445-ed24-4a0c-a32e-0f4fd7189eba",
   "metadata": {},
   "source": [
    "Результаты идентичны, задача выполнена!"
   ]
  },
  {
   "cell_type": "markdown",
   "id": "ebb5627a-3f23-42db-8e5b-db23430ee525",
   "metadata": {},
   "source": [
    "## Общий вывод"
   ]
  },
  {
   "cell_type": "markdown",
   "id": "6743155e-caa3-42fa-8580-51c5352bada9",
   "metadata": {},
   "source": [
    "Предоставленные данные в полном объеме соответствовали поставленной задаче и не требовали дополнительной предобработки.  \n",
    "Был дан и обоснован ответ на вопрос об изменении качества линейной регрессии при умножении признаков на обратимую матрицу.  \n",
    "Алгоритм преобразования данных был написан и успешно проверен."
   ]
  }
 ],
 "metadata": {
  "ExecuteTimeLog": [
   {
    "duration": 1346,
    "start_time": "2022-07-31T17:44:06.502Z"
   },
   {
    "duration": 133,
    "start_time": "2022-07-31T17:44:07.851Z"
   },
   {
    "duration": 13,
    "start_time": "2022-07-31T17:44:07.989Z"
   },
   {
    "duration": 20,
    "start_time": "2022-07-31T17:44:08.004Z"
   },
   {
    "duration": 21,
    "start_time": "2022-07-31T17:44:08.026Z"
   },
   {
    "duration": 14,
    "start_time": "2022-07-31T17:44:08.049Z"
   },
   {
    "duration": 48,
    "start_time": "2022-07-31T17:44:08.064Z"
   },
   {
    "duration": 6,
    "start_time": "2022-07-31T17:44:08.114Z"
   },
   {
    "duration": 8,
    "start_time": "2022-07-31T17:44:08.122Z"
   },
   {
    "duration": 12,
    "start_time": "2022-07-31T17:44:08.132Z"
   },
   {
    "duration": 38,
    "start_time": "2022-07-31T17:44:08.145Z"
   },
   {
    "duration": 32,
    "start_time": "2022-07-31T17:44:08.185Z"
   },
   {
    "duration": 61,
    "start_time": "2022-07-31T17:44:08.221Z"
   },
   {
    "duration": 9,
    "start_time": "2022-07-31T17:44:08.284Z"
   },
   {
    "duration": 97,
    "start_time": "2022-07-31T17:44:08.295Z"
   },
   {
    "duration": 42,
    "start_time": "2022-07-31T17:44:08.397Z"
   },
   {
    "duration": 11,
    "start_time": "2022-07-31T17:44:08.440Z"
   },
   {
    "duration": 176,
    "start_time": "2022-07-31T17:44:08.457Z"
   },
   {
    "duration": 127,
    "start_time": "2022-07-31T17:44:29.574Z"
   }
  ],
  "kernelspec": {
   "display_name": "Python 3 (ipykernel)",
   "language": "python",
   "name": "python3"
  },
  "language_info": {
   "codemirror_mode": {
    "name": "ipython",
    "version": 3
   },
   "file_extension": ".py",
   "mimetype": "text/x-python",
   "name": "python",
   "nbconvert_exporter": "python",
   "pygments_lexer": "ipython3",
   "version": "3.9.7"
  },
  "toc": {
   "base_numbering": 1,
   "nav_menu": {},
   "number_sections": true,
   "sideBar": true,
   "skip_h1_title": true,
   "title_cell": "Table of Contents",
   "title_sidebar": "Contents",
   "toc_cell": false,
   "toc_position": {},
   "toc_section_display": true,
   "toc_window_display": false
  }
 },
 "nbformat": 4,
 "nbformat_minor": 5
}
