{
 "cells": [
  {
   "cell_type": "markdown",
   "id": "322105de-e89b-46bd-ba7e-4fdf5a985ddd",
   "metadata": {},
   "source": [
    "<h1>Содержание<span class=\"tocSkip\"></span></h1>\n",
    "<div class=\"toc\">\n",
    "    <ul class=\"toc-item\">\n",
    "        <li>\n",
    "            <span>\n",
    "                <a href=\"#Изучение-данных-из-файла\" data-toc-modified-id=\"Изучение-данных-из-файла-1\"><span class=\"toc-item-num\">1&nbsp;&nbsp;</span>Изучение данных из файла</a>\n",
    "            </span>\n",
    "        </li>\n",
    "            <li>\n",
    "            <span>\n",
    "                <a href=\"#Разделение-исходных-данных-на-выборки\" data-toc-modified-id=\"Разделение-исходных-данных-на-выборки-2\"><span class=\"toc-item-num\">2&nbsp;&nbsp;</span>Разделение исходных данных на выборки</a></span>\n",
    "        </li>\n",
    "            <li>\n",
    "            <span>\n",
    "                <a href=\"#Выбор-лучшей-модели\" data-toc-modified-id=\"Выбор-лучшей-модели-3\"><span class=\"toc-item-num\">3&nbsp;&nbsp;</span>Выбор лучшей модели</a>\n",
    "            </span>\n",
    "        </li>\n",
    "            <li>\n",
    "            <span>\n",
    "                <a href=\"#Проверка-качества-и-вменяемости-выбранной-модели\" data-toc-modified-id=\"Проверка-качества-и-вменяемости-выбранной-модели-4\"><span class=\"toc-item-num\">4&nbsp;&nbsp;</span>Проверка качества и вменяемости выбранной модели</a>\n",
    "            </span>\n",
    "        </li>\n",
    "            <li>\n",
    "             <a href=\"#Общий-вывод\" data-toc-modified-id=\"Общий-вывод-5\"><span class=\"toc-item-num\">5&nbsp;&nbsp;</span>Общий вывод</a></span>\n",
    "    \n",
    " </div>"
   ]
  },
  {
   "cell_type": "markdown",
   "id": "c26802f4-71d7-47ee-886e-c1800e3f126f",
   "metadata": {},
   "source": [
    "# Рекомендация тарифов\n",
    "Оператор мобильной связи «Мегалайн» выяснил: многие клиенты пользуются архивными тарифами. Они хотят построить систему, способную проанализировать поведение клиентов и предложить пользователям новый тариф: «Смарт» или «Ультра».\n",
    "В нашем распоряжении данные о поведении клиентов, которые уже перешли на эти тарифы. Нужно построить модель для задачи классификации, которая выберет подходящий тариф.\n",
    "\n",
    "Описание данных  \n",
    "Каждый объект в наборе данных — это информация о поведении одного пользователя за месяц. Известно:  \n",
    "сalls — количество звонков,  \n",
    "minutes — суммарная длительность звонков в минутах,  \n",
    "messages — количество sms-сообщений,  \n",
    "mb_used — израсходованный интернет-трафик в Мб,  \n",
    "is_ultra — каким тарифом пользовался в течение месяца («Ультра» — 1, «Смарт» — 0).\n",
    "\n",
    "Для выполнения задачи необходимо сравнить несколько моделей классификации и сделать выбор в пользу обладающей наибольшим параметром accuracy, то есть долей правильных ответов."
   ]
  },
  {
   "cell_type": "markdown",
   "id": "a14f3c29-f7bb-47fa-9eb1-a91c98f0291c",
   "metadata": {},
   "source": [
    "## Изучение данных из файла"
   ]
  },
  {
   "cell_type": "code",
   "execution_count": 1,
   "id": "1f71a677-e2f2-4136-9587-c000fce1c013",
   "metadata": {},
   "outputs": [],
   "source": [
    "import pandas as pd\n",
    "from sklearn.model_selection import train_test_split\n",
    "from sklearn.tree import DecisionTreeClassifier\n",
    "from sklearn.ensemble import RandomForestClassifier\n",
    "from sklearn.linear_model import LogisticRegression\n",
    "from sklearn.metrics import accuracy_score\n",
    "from sklearn.dummy import DummyClassifier"
   ]
  },
  {
   "cell_type": "code",
   "execution_count": 2,
   "id": "6261c196-6288-41fd-9ab6-e8f6a9008555",
   "metadata": {},
   "outputs": [],
   "source": [
    "try:\n",
    "    df = pd.read_csv('users_behavior.csv')\n",
    "except:\n",
    "    df = pd.read_csv('/datasets/users_behavior.csv')"
   ]
  },
  {
   "cell_type": "markdown",
   "id": "91ba5763-9048-4f19-b78a-76e34ae6f7f0",
   "metadata": {},
   "source": [
    "У нас есть информация о том, что данные уже предобработаны, поэтому просто быстро осмотрим датасет."
   ]
  },
  {
   "cell_type": "code",
   "execution_count": 3,
   "id": "6b658e96-e64c-48b2-8fbc-0d9ba3343724",
   "metadata": {},
   "outputs": [
    {
     "name": "stdout",
     "output_type": "stream",
     "text": [
      "<class 'pandas.core.frame.DataFrame'>\n",
      "RangeIndex: 3214 entries, 0 to 3213\n",
      "Data columns (total 5 columns):\n",
      " #   Column    Non-Null Count  Dtype  \n",
      "---  ------    --------------  -----  \n",
      " 0   calls     3214 non-null   float64\n",
      " 1   minutes   3214 non-null   float64\n",
      " 2   messages  3214 non-null   float64\n",
      " 3   mb_used   3214 non-null   float64\n",
      " 4   is_ultra  3214 non-null   int64  \n",
      "dtypes: float64(4), int64(1)\n",
      "memory usage: 125.7 KB\n"
     ]
    }
   ],
   "source": [
    "df.info()"
   ]
  },
  {
   "cell_type": "code",
   "execution_count": 4,
   "id": "29d6cac3-791f-4068-9104-f0d375cfb0ca",
   "metadata": {},
   "outputs": [
    {
     "data": {
      "text/html": [
       "<div>\n",
       "<style scoped>\n",
       "    .dataframe tbody tr th:only-of-type {\n",
       "        vertical-align: middle;\n",
       "    }\n",
       "\n",
       "    .dataframe tbody tr th {\n",
       "        vertical-align: top;\n",
       "    }\n",
       "\n",
       "    .dataframe thead th {\n",
       "        text-align: right;\n",
       "    }\n",
       "</style>\n",
       "<table border=\"1\" class=\"dataframe\">\n",
       "  <thead>\n",
       "    <tr style=\"text-align: right;\">\n",
       "      <th></th>\n",
       "      <th>calls</th>\n",
       "      <th>minutes</th>\n",
       "      <th>messages</th>\n",
       "      <th>mb_used</th>\n",
       "      <th>is_ultra</th>\n",
       "    </tr>\n",
       "  </thead>\n",
       "  <tbody>\n",
       "    <tr>\n",
       "      <th>0</th>\n",
       "      <td>40.0</td>\n",
       "      <td>311.90</td>\n",
       "      <td>83.0</td>\n",
       "      <td>19915.42</td>\n",
       "      <td>0</td>\n",
       "    </tr>\n",
       "    <tr>\n",
       "      <th>1</th>\n",
       "      <td>85.0</td>\n",
       "      <td>516.75</td>\n",
       "      <td>56.0</td>\n",
       "      <td>22696.96</td>\n",
       "      <td>0</td>\n",
       "    </tr>\n",
       "    <tr>\n",
       "      <th>2</th>\n",
       "      <td>77.0</td>\n",
       "      <td>467.66</td>\n",
       "      <td>86.0</td>\n",
       "      <td>21060.45</td>\n",
       "      <td>0</td>\n",
       "    </tr>\n",
       "    <tr>\n",
       "      <th>3</th>\n",
       "      <td>106.0</td>\n",
       "      <td>745.53</td>\n",
       "      <td>81.0</td>\n",
       "      <td>8437.39</td>\n",
       "      <td>1</td>\n",
       "    </tr>\n",
       "    <tr>\n",
       "      <th>4</th>\n",
       "      <td>66.0</td>\n",
       "      <td>418.74</td>\n",
       "      <td>1.0</td>\n",
       "      <td>14502.75</td>\n",
       "      <td>0</td>\n",
       "    </tr>\n",
       "  </tbody>\n",
       "</table>\n",
       "</div>"
      ],
      "text/plain": [
       "   calls  minutes  messages   mb_used  is_ultra\n",
       "0   40.0   311.90      83.0  19915.42         0\n",
       "1   85.0   516.75      56.0  22696.96         0\n",
       "2   77.0   467.66      86.0  21060.45         0\n",
       "3  106.0   745.53      81.0   8437.39         1\n",
       "4   66.0   418.74       1.0  14502.75         0"
      ]
     },
     "execution_count": 4,
     "metadata": {},
     "output_type": "execute_result"
    }
   ],
   "source": [
    "df.head()"
   ]
  },
  {
   "cell_type": "code",
   "execution_count": 5,
   "id": "55ddfb02-d073-4c49-90d6-fc26f239cc4e",
   "metadata": {},
   "outputs": [
    {
     "data": {
      "text/html": [
       "<div>\n",
       "<style scoped>\n",
       "    .dataframe tbody tr th:only-of-type {\n",
       "        vertical-align: middle;\n",
       "    }\n",
       "\n",
       "    .dataframe tbody tr th {\n",
       "        vertical-align: top;\n",
       "    }\n",
       "\n",
       "    .dataframe thead th {\n",
       "        text-align: right;\n",
       "    }\n",
       "</style>\n",
       "<table border=\"1\" class=\"dataframe\">\n",
       "  <thead>\n",
       "    <tr style=\"text-align: right;\">\n",
       "      <th></th>\n",
       "      <th>calls</th>\n",
       "      <th>minutes</th>\n",
       "      <th>messages</th>\n",
       "      <th>mb_used</th>\n",
       "      <th>is_ultra</th>\n",
       "    </tr>\n",
       "  </thead>\n",
       "  <tbody>\n",
       "    <tr>\n",
       "      <th>count</th>\n",
       "      <td>3214.000000</td>\n",
       "      <td>3214.000000</td>\n",
       "      <td>3214.000000</td>\n",
       "      <td>3214.000000</td>\n",
       "      <td>3214.000000</td>\n",
       "    </tr>\n",
       "    <tr>\n",
       "      <th>mean</th>\n",
       "      <td>63.038892</td>\n",
       "      <td>438.208787</td>\n",
       "      <td>38.281269</td>\n",
       "      <td>17207.673836</td>\n",
       "      <td>0.306472</td>\n",
       "    </tr>\n",
       "    <tr>\n",
       "      <th>std</th>\n",
       "      <td>33.236368</td>\n",
       "      <td>234.569872</td>\n",
       "      <td>36.148326</td>\n",
       "      <td>7570.968246</td>\n",
       "      <td>0.461100</td>\n",
       "    </tr>\n",
       "    <tr>\n",
       "      <th>min</th>\n",
       "      <td>0.000000</td>\n",
       "      <td>0.000000</td>\n",
       "      <td>0.000000</td>\n",
       "      <td>0.000000</td>\n",
       "      <td>0.000000</td>\n",
       "    </tr>\n",
       "    <tr>\n",
       "      <th>25%</th>\n",
       "      <td>40.000000</td>\n",
       "      <td>274.575000</td>\n",
       "      <td>9.000000</td>\n",
       "      <td>12491.902500</td>\n",
       "      <td>0.000000</td>\n",
       "    </tr>\n",
       "    <tr>\n",
       "      <th>50%</th>\n",
       "      <td>62.000000</td>\n",
       "      <td>430.600000</td>\n",
       "      <td>30.000000</td>\n",
       "      <td>16943.235000</td>\n",
       "      <td>0.000000</td>\n",
       "    </tr>\n",
       "    <tr>\n",
       "      <th>75%</th>\n",
       "      <td>82.000000</td>\n",
       "      <td>571.927500</td>\n",
       "      <td>57.000000</td>\n",
       "      <td>21424.700000</td>\n",
       "      <td>1.000000</td>\n",
       "    </tr>\n",
       "    <tr>\n",
       "      <th>max</th>\n",
       "      <td>244.000000</td>\n",
       "      <td>1632.060000</td>\n",
       "      <td>224.000000</td>\n",
       "      <td>49745.730000</td>\n",
       "      <td>1.000000</td>\n",
       "    </tr>\n",
       "  </tbody>\n",
       "</table>\n",
       "</div>"
      ],
      "text/plain": [
       "             calls      minutes     messages       mb_used     is_ultra\n",
       "count  3214.000000  3214.000000  3214.000000   3214.000000  3214.000000\n",
       "mean     63.038892   438.208787    38.281269  17207.673836     0.306472\n",
       "std      33.236368   234.569872    36.148326   7570.968246     0.461100\n",
       "min       0.000000     0.000000     0.000000      0.000000     0.000000\n",
       "25%      40.000000   274.575000     9.000000  12491.902500     0.000000\n",
       "50%      62.000000   430.600000    30.000000  16943.235000     0.000000\n",
       "75%      82.000000   571.927500    57.000000  21424.700000     1.000000\n",
       "max     244.000000  1632.060000   224.000000  49745.730000     1.000000"
      ]
     },
     "execution_count": 5,
     "metadata": {},
     "output_type": "execute_result"
    }
   ],
   "source": [
    "df.describe()"
   ]
  },
  {
   "cell_type": "code",
   "execution_count": 6,
   "id": "7c145947-ebf7-4e7c-8fd6-03365a5adc8f",
   "metadata": {},
   "outputs": [
    {
     "data": {
      "text/plain": [
       "0    0.693528\n",
       "1    0.306472\n",
       "Name: is_ultra, dtype: float64"
      ]
     },
     "execution_count": 6,
     "metadata": {},
     "output_type": "execute_result"
    }
   ],
   "source": [
    "df['is_ultra'].value_counts(normalize=True)"
   ]
  },
  {
   "cell_type": "markdown",
   "id": "83661262-1988-42ce-b150-9200b473384b",
   "metadata": {},
   "source": [
    "Пропусков нет.  \n",
    "Форматы данных подхотят для наших задач.  \n",
    "Названия столбцов соответствуют хорошему стилю.  \n",
    "Данные по целевому показателю 'is_ultra', не сбалансированы, можно сделать вывод, что необходимо построить модель которая покажет результат выше 70%, которые можно получить просто заполнив столбец доминирующим значением."
   ]
  },
  {
   "cell_type": "markdown",
   "id": "ba747ea1-2d13-4cc6-9e5c-00b8a27e921e",
   "metadata": {},
   "source": [
    "## Разделение исходных данных на выборки"
   ]
  },
  {
   "cell_type": "markdown",
   "id": "5cef8696-f18f-4e91-9271-0f070e72eb3a",
   "metadata": {},
   "source": [
    "Для начала разобьем датасет на признаки, целевым признаком будут данные из столбца \"is_ultra\"."
   ]
  },
  {
   "cell_type": "code",
   "execution_count": 7,
   "id": "f3fc0321-e0ca-474a-b340-9c142902a3b9",
   "metadata": {
    "tags": []
   },
   "outputs": [],
   "source": [
    "features = df.drop('is_ultra', axis=1)\n",
    "target = df['is_ultra']"
   ]
  },
  {
   "cell_type": "markdown",
   "id": "fdafd283-47ef-44f0-ae99-ac40fe309dd0",
   "metadata": {},
   "source": [
    "Теперь данные надо разделить на три выборки: обучающую, валидационную и тестовую.  \n",
    "Общепринятые пропорции - 3:1:1(Обучающая:валидационная:тесмтовая).  \n",
    "Проще всего это будет сделать в два этапа, сначала разбив даанные на обучающие и валидационные, а потом отделив от обучающих тестовые."
   ]
  },
  {
   "cell_type": "code",
   "execution_count": 8,
   "id": "882932e8-1228-43ca-9fba-690c2c283c3d",
   "metadata": {},
   "outputs": [],
   "source": [
    "features_train, features_valid, target_train, target_valid = train_test_split(features, target, test_size=0.2, random_state=12345, stratify=target)\n",
    "features_train, features_test, target_train, target_test = train_test_split(features_train, target_train, test_size=0.25, random_state=12345, stratify=target_train)"
   ]
  },
  {
   "cell_type": "markdown",
   "id": "4e7b65ac-2f5a-4da3-b34f-b31ad898ae76",
   "metadata": {},
   "source": [
    "Проверим правильно ли разделились выборки."
   ]
  },
  {
   "cell_type": "code",
   "execution_count": 9,
   "id": "2ca9c0e8-386d-453c-984e-310e189b06e3",
   "metadata": {
    "scrolled": true
   },
   "outputs": [
    {
     "data": {
      "text/plain": [
       "(1928, 4)"
      ]
     },
     "metadata": {},
     "output_type": "display_data"
    },
    {
     "data": {
      "text/plain": [
       "(643, 4)"
      ]
     },
     "metadata": {},
     "output_type": "display_data"
    },
    {
     "data": {
      "text/plain": [
       "(643, 4)"
      ]
     },
     "metadata": {},
     "output_type": "display_data"
    }
   ],
   "source": [
    "display(features_train.shape)\n",
    "display(features_valid.shape)\n",
    "display(features_test.shape)"
   ]
  },
  {
   "cell_type": "markdown",
   "id": "9390a702-97af-4eae-b894-e5c6fd51825a",
   "metadata": {},
   "source": [
    "Выборки готовы, значит можно переходить к оценке моделей."
   ]
  },
  {
   "cell_type": "markdown",
   "id": "33577263-152b-4a00-bf8c-f52e88430f5d",
   "metadata": {},
   "source": [
    "## Выбор лучшей модели"
   ]
  },
  {
   "cell_type": "markdown",
   "id": "eed32c85-f57a-4e07-bb27-f78e480fb707",
   "metadata": {},
   "source": [
    "Будем выбирать из трех моделей классификации:  \n",
    " - Дерево решений DecisionTreeClassifier;\n",
    " - Случайный лес RandomForestClassifier;\n",
    " - Логистическая регрессия LogisticRegression."
   ]
  },
  {
   "cell_type": "markdown",
   "id": "33a64922-b347-44c6-b5f1-37210d106976",
   "metadata": {},
   "source": [
    "Начнем с дерева решений.  \n",
    "Сразу рассмотрим варианты с разной глубиной(depth) и выделим наиболее удачный."
   ]
  },
  {
   "cell_type": "code",
   "execution_count": 10,
   "id": "51d2b002-327a-4718-9202-f33baf47a7f4",
   "metadata": {
    "tags": []
   },
   "outputs": [
    {
     "data": {
      "text/plain": [
       "'best result'"
      ]
     },
     "metadata": {},
     "output_type": "display_data"
    },
    {
     "data": {
      "text/plain": [
       "0.7993779160186625"
      ]
     },
     "metadata": {},
     "output_type": "display_data"
    },
    {
     "data": {
      "text/plain": [
       "'best depth'"
      ]
     },
     "metadata": {},
     "output_type": "display_data"
    },
    {
     "data": {
      "text/plain": [
       "3"
      ]
     },
     "metadata": {},
     "output_type": "display_data"
    }
   ],
   "source": [
    "best_model = None\n",
    "best_result = 0\n",
    "best_depth = 0\n",
    "for depth in range(1, 11):\n",
    "    model = DecisionTreeClassifier(random_state=12345, max_depth=depth)\n",
    "    model.fit(features_train, target_train)\n",
    "    predictions_valid = model.predict(features_valid)\n",
    "    result = accuracy_score(target_valid, predictions_valid)\n",
    "    if result > best_result:\n",
    "        best_model = model\n",
    "        best_result = result\n",
    "        best_depth = depth\n",
    "display('best result', best_result)\n",
    "display('best depth', best_depth)"
   ]
  },
  {
   "cell_type": "markdown",
   "id": "407595ae-aa07-4cb7-9153-785c3240d0f5",
   "metadata": {},
   "source": [
    "Наибольший параметр accuracy показало дерево с глубиной 3.  \n",
    "  \n",
    "Далее рассмотрим модель случайного леса.  \n",
    "Как и с деревом решений, проверим сразу несколько вариантов с разными гиперпараметрами, в данном случае это будут n-estimators(количество деревьев) и глубина(depth)."
   ]
  },
  {
   "cell_type": "code",
   "execution_count": 11,
   "id": "38eefc49-5219-4ca2-8b9b-e6612735982a",
   "metadata": {},
   "outputs": [
    {
     "data": {
      "text/plain": [
       "'best result'"
      ]
     },
     "metadata": {},
     "output_type": "display_data"
    },
    {
     "data": {
      "text/plain": [
       "0.8211508553654744"
      ]
     },
     "metadata": {},
     "output_type": "display_data"
    },
    {
     "data": {
      "text/plain": [
       "'best est'"
      ]
     },
     "metadata": {},
     "output_type": "display_data"
    },
    {
     "data": {
      "text/plain": [
       "90"
      ]
     },
     "metadata": {},
     "output_type": "display_data"
    },
    {
     "data": {
      "text/plain": [
       "'best depth'"
      ]
     },
     "metadata": {},
     "output_type": "display_data"
    },
    {
     "data": {
      "text/plain": [
       "10"
      ]
     },
     "metadata": {},
     "output_type": "display_data"
    }
   ],
   "source": [
    "best_model = None\n",
    "best_result = 0\n",
    "best_depth = 0\n",
    "for est in range(70, 130, 10):\n",
    "    for depth in range (1, 11):\n",
    "        model = RandomForestClassifier(random_state=12345, n_estimators=est, max_depth=depth)\n",
    "        model.fit(features_train, target_train)\n",
    "        predictions_valid = model.predict(features_valid)\n",
    "        result = accuracy_score(target_valid, predictions_valid)\n",
    "        if result > best_result:\n",
    "            best_model = model\n",
    "            best_result = result\n",
    "            best_est = est\n",
    "            best_depth = depth\n",
    "display('best result', best_result)\n",
    "display('best est', best_est)\n",
    "display('best depth', best_depth)"
   ]
  },
  {
   "cell_type": "markdown",
   "id": "46d04c55-c71d-4871-b5d4-fe128b11453b",
   "metadata": {},
   "source": [
    "Лучший результат показал лес из 90 деревьев с глубиной 10.\n",
    "\n",
    "И в заключение проверим логистическую регрессию.  \n",
    "Тут нет особого смысла в переборе разных гиперпараметров, так что просто выставим достаточно высокий порог max-iter."
   ]
  },
  {
   "cell_type": "code",
   "execution_count": 12,
   "id": "8e0f3c5b-8439-491a-83ae-6514e7274c0a",
   "metadata": {},
   "outputs": [
    {
     "data": {
      "text/plain": [
       "0.7371695178849145"
      ]
     },
     "execution_count": 12,
     "metadata": {},
     "output_type": "execute_result"
    }
   ],
   "source": [
    "model = LogisticRegression(random_state=12345, solver='lbfgs', max_iter=1000)\n",
    "model.fit(features_train, target_train)\n",
    "predictions_valid = model.predict(features_valid)\n",
    "result = accuracy_score(target_valid, predictions_valid)\n",
    "result"
   ]
  },
  {
   "cell_type": "markdown",
   "id": "848080e3-aed3-4264-b630-bf00f82378ca",
   "metadata": {},
   "source": [
    "Логистическая регрессия показала худший результат, даже до 75% accuracy."
   ]
  },
  {
   "cell_type": "markdown",
   "id": "4108b5f6-f6de-4370-88c9-2350dce1a68e",
   "metadata": {},
   "source": [
    "Делаем промежуточный вывод, что лучший параметр accuracy показала модуль случайного леса с гиперпараметрами n-estimators=31 и depth=10.    \n",
    "Осталось проверить её на тестовой выборке."
   ]
  },
  {
   "cell_type": "markdown",
   "id": "2bdc4b4c-e0e4-4aa2-9f7e-7c9be7c06c97",
   "metadata": {},
   "source": [
    "## Проверка качества и вменяемости выбранной модели"
   ]
  },
  {
   "cell_type": "markdown",
   "id": "af4bc780-df9b-4a5d-8856-bec7a11582a6",
   "metadata": {},
   "source": [
    "Для успешного выполнения задач необходимо получить на тестовой выборке accuracy выше 75%."
   ]
  },
  {
   "cell_type": "code",
   "execution_count": 13,
   "id": "f825d460-e434-4990-8916-cc1de9da6b90",
   "metadata": {},
   "outputs": [],
   "source": [
    "# Дообучим модель добавив к обучающей выборке валидационную.\n",
    "features_train = features_train.append(features_valid)\n",
    "target_train = target_train.append(target_valid)"
   ]
  },
  {
   "cell_type": "code",
   "execution_count": 14,
   "id": "70057725-cabd-4478-80d7-0f7b3b996f1a",
   "metadata": {},
   "outputs": [
    {
     "data": {
      "text/plain": [
       "0.8242612752721618"
      ]
     },
     "execution_count": 14,
     "metadata": {},
     "output_type": "execute_result"
    }
   ],
   "source": [
    "model = RandomForestClassifier(random_state=12345, n_estimators=90, max_depth=10)\n",
    "model.fit(features_train, target_train)\n",
    "predictions_test = model.predict(features_test)\n",
    "result = accuracy_score(target_test, predictions_test)\n",
    "result"
   ]
  },
  {
   "cell_type": "markdown",
   "id": "6a535612-6a4f-4581-990f-74ad76bb1a16",
   "metadata": {},
   "source": [
    "Более 82% нас полностью устраивает!  \n",
    "Напоследок проверим выбранную модель на вменяемость, сравнив её результат с моделью просто заполняющей всё наиболее популярным значением.  \n",
    "Такую модель получим при помощи DummyClassifier."
   ]
  },
  {
   "cell_type": "code",
   "execution_count": 16,
   "id": "41e97619-cf2c-4172-85d2-7aa480cdbfda",
   "metadata": {},
   "outputs": [
    {
     "data": {
      "text/plain": [
       "0.6936236391912908"
      ]
     },
     "execution_count": 16,
     "metadata": {},
     "output_type": "execute_result"
    }
   ],
   "source": [
    "dummy_clf = DummyClassifier(strategy=\"most_frequent\")\n",
    "dummy_clf.fit(features_train, target_train)\n",
    "predictions_dummy = dummy_clf.predict(features_test)\n",
    "dummy_clf_result = accuracy_score(target_test, predictions_dummy)\n",
    "dummy_clf_result"
   ]
  },
  {
   "cell_type": "markdown",
   "id": "7f986049-740c-49a4-9aac-471f106b174d",
   "metadata": {},
   "source": [
    "Разница в 13% довольно ощутима, модель можно признать вменяемой!"
   ]
  },
  {
   "cell_type": "markdown",
   "id": "60ac420e-e972-4a42-9c2c-171eb9721567",
   "metadata": {},
   "source": [
    "## Общий вывод\n",
    "Исходные данные были предоставленны в форматах приемлимых для выполнения поставленной задачи.  \n",
    "Данные были разбиты на обучающую, валидационную и тестовую выборки в соотношении 3:1:1.  \n",
    "Было проведено сравнения моделей дерева решений, случайного леса и логистической регрессии.  \n",
    "Выбор был сделан в пользу модели случайного леса с количеством деревьев равным 21 и глубиной равной 10.  \n",
    "Выбранная модель успешно прошла проверку качества и вменяемости, следовательно рекомендуется использовать именно её."
   ]
  }
 ],
 "metadata": {
  "ExecuteTimeLog": [
   {
    "duration": 903,
    "start_time": "2022-06-04T19:43:37.717Z"
   },
   {
    "duration": 32,
    "start_time": "2022-06-04T19:43:38.622Z"
   },
   {
    "duration": 12,
    "start_time": "2022-06-04T19:43:38.655Z"
   },
   {
    "duration": 27,
    "start_time": "2022-06-04T19:43:38.669Z"
   },
   {
    "duration": 25,
    "start_time": "2022-06-04T19:43:38.697Z"
   },
   {
    "duration": 4,
    "start_time": "2022-06-04T19:43:38.723Z"
   },
   {
    "duration": 10,
    "start_time": "2022-06-04T19:43:38.729Z"
   },
   {
    "duration": 8,
    "start_time": "2022-06-04T19:43:38.742Z"
   },
   {
    "duration": 76,
    "start_time": "2022-06-04T19:43:38.751Z"
   },
   {
    "duration": 2472,
    "start_time": "2022-06-04T19:43:38.829Z"
   },
   {
    "duration": 49,
    "start_time": "2022-06-04T19:43:41.303Z"
   },
   {
    "duration": 105,
    "start_time": "2022-06-04T19:43:41.354Z"
   },
   {
    "duration": 412,
    "start_time": "2022-06-04T19:43:41.461Z"
   },
   {
    "duration": 4,
    "start_time": "2022-06-04T19:44:07.591Z"
   },
   {
    "duration": 402,
    "start_time": "2022-06-04T19:44:53.349Z"
   },
   {
    "duration": 443,
    "start_time": "2022-06-04T19:44:55.116Z"
   },
   {
    "duration": 438,
    "start_time": "2022-06-04T19:44:56.696Z"
   },
   {
    "duration": 417,
    "start_time": "2022-06-04T19:44:58.301Z"
   },
   {
    "duration": 941,
    "start_time": "2022-06-06T05:59:04.570Z"
   },
   {
    "duration": 29,
    "start_time": "2022-06-06T05:59:05.513Z"
   },
   {
    "duration": 11,
    "start_time": "2022-06-06T05:59:05.543Z"
   },
   {
    "duration": 17,
    "start_time": "2022-06-06T05:59:05.556Z"
   },
   {
    "duration": 27,
    "start_time": "2022-06-06T05:59:05.575Z"
   },
   {
    "duration": 7,
    "start_time": "2022-06-06T05:59:05.604Z"
   },
   {
    "duration": 3,
    "start_time": "2022-06-06T05:59:05.613Z"
   },
   {
    "duration": 37,
    "start_time": "2022-06-06T05:59:05.618Z"
   },
   {
    "duration": 6,
    "start_time": "2022-06-06T05:59:05.657Z"
   },
   {
    "duration": 96,
    "start_time": "2022-06-06T05:59:05.665Z"
   },
   {
    "duration": 13354,
    "start_time": "2022-06-06T05:59:05.763Z"
   },
   {
    "duration": 47,
    "start_time": "2022-06-06T05:59:19.119Z"
   },
   {
    "duration": 4,
    "start_time": "2022-06-06T05:59:19.169Z"
   },
   {
    "duration": 341,
    "start_time": "2022-06-06T05:59:19.174Z"
   },
   {
    "duration": 2,
    "start_time": "2022-06-06T05:59:19.517Z"
   },
   {
    "duration": 12,
    "start_time": "2022-06-06T05:59:19.520Z"
   }
  ],
  "kernelspec": {
   "display_name": "Python 3 (ipykernel)",
   "language": "python",
   "name": "python3"
  },
  "language_info": {
   "codemirror_mode": {
    "name": "ipython",
    "version": 3
   },
   "file_extension": ".py",
   "mimetype": "text/x-python",
   "name": "python",
   "nbconvert_exporter": "python",
   "pygments_lexer": "ipython3",
   "version": "3.9.7"
  },
  "toc": {
   "base_numbering": 1,
   "nav_menu": {},
   "number_sections": true,
   "sideBar": true,
   "skip_h1_title": true,
   "title_cell": "Table of Contents",
   "title_sidebar": "Contents",
   "toc_cell": false,
   "toc_position": {},
   "toc_section_display": true,
   "toc_window_display": false
  },
  "toc-autonumbering": false,
  "toc-showmarkdowntxt": false
 },
 "nbformat": 4,
 "nbformat_minor": 5
}
