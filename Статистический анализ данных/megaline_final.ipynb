{
 "cells": [
  {
   "cell_type": "markdown",
   "id": "12ed18bd-d43e-4e2b-ad32-832da64130f5",
   "metadata": {
    "tags": []
   },
   "source": [
    "<h1>Содержание<span class=\"tocSkip\"></span></h1>\n",
    "<div class=\"toc\"><ul class=\"toc-item\"><li><span><a href=\"#Изучение-данных-из-файла-и-предобработка\" data-toc-modified-id=\"Изучение-данных-из-файла-1-и-предобработка\"><span class=\"toc-item-num\">1&nbsp;&nbsp;</span>Изучение данных из файла и предобработка</a></span><ul class=\"toc-item\"><li><span><a href=\"#Вывод\" data-toc-modified-id=\"Вывод-1.1\"><span class=\"toc-item-num\">1.1&nbsp;&nbsp;</span>Вывод</a></span></li></ul></li><li><span><a href=\"#Расчёты-и-добавление-результатов-в-таблицу\" data-toc-modified-id=\"Расчёты-и-добавление-результатов-в-таблицу-2\"><span class=\"toc-item-num\">2&nbsp;&nbsp;</span>Расчёты и добавление результатов в таблицу</a></span></li><li><span><a href=\"#Исследовательский-анализ-данных\" data-toc-modified-id=\"Исследовательский-анализ-данных-3\"><span class=\"toc-item-num\">3&nbsp;&nbsp;</span>Исследовательский анализ данных</a></span></li><li><span><a href=\"#Общий-вывод\" data-toc-modified-id=\"Общий-вывод-4\"><span class=\"toc-item-num\">4&nbsp;&nbsp;</span>Общий вывод</a></span>"
   ]
  },
  {
   "cell_type": "markdown",
   "id": "6c8875d4-e5c0-4186-aad9-1d8876e5ccf2",
   "metadata": {
    "tags": []
   },
   "source": [
    "# Определение перспективного тарифа для телеком-компании\n",
    "Клиентам предлагают два тарифных плана: «Смарт» и «Ультра». Чтобы скорректировать рекламный бюджет, коммерческий департамент хочет понять, какой тариф приносит больше денег.\n",
    "Нам предстоит сделать предварительный анализ тарифов на небольшой выборке клиентов. В нашем распоряжении данные 500 пользователей «Мегалайна»: кто они, откуда, каким тарифом пользуются, сколько звонков и сообщений каждый отправил за 2018 год. Нужно проанализировать поведение клиентов и сделать вывод — какой тариф лучше.\n",
    "\n",
    "Описание данных\n",
    "\n",
    "Таблица users (информация о пользователях):\n",
    "\n",
    "user_id — уникальный идентификатор пользователя\n",
    "\n",
    "first_name — имя пользователя\n",
    "\n",
    "last_name — фамилия пользователя\n",
    "\n",
    "age — возраст пользователя (годы)\n",
    "\n",
    "reg_date — дата подключения тарифа (день, месяц, год)\n",
    "\n",
    "churn_date — дата прекращения пользования тарифом (если значение пропущено, то тариф ещё действовал на момент выгрузки данных)\n",
    "\n",
    "city — город проживания пользователя\n",
    "\n",
    "tariff — название тарифного плана\n",
    "\n",
    "Таблица calls (информация о звонках):\n",
    "\n",
    "id — уникальный номер звонка\n",
    "\n",
    "call_date — дата звонка\n",
    "\n",
    "duration — длительность звонка в минутах\n",
    "\n",
    "user_id — идентификатор пользователя, сделавшего звонок\n",
    "\n",
    "\n",
    "Таблица messages (информация о сообщениях):\n",
    "\n",
    "id — уникальный номер сообщения\n",
    "\n",
    "message_date — дата сообщения\n",
    "\n",
    "user_id — идентификатор пользователя, отправившего сообщение\n",
    "\n",
    "Таблица internet (информация об интернет-сессиях):\n",
    "\n",
    "id — уникальный номер сессии\n",
    "\n",
    "mb_used — объём потраченного за сессию интернет-трафика (в мегабайтах)\n",
    "\n",
    "session_date — дата интернет-сессии\n",
    "\n",
    "user_id — идентификатор пользователя\n",
    "\n",
    "Таблица tariffs (информация о тарифах):\n",
    "\n",
    "tariff_name — название тарифа\n",
    "\n",
    "rub_monthly_fee — ежемесячная абонентская плата в рублях\n",
    "\n",
    "minutes_included — количество минут разговора в месяц, включённых в абонентскую плату\n",
    "\n",
    "messages_included — количество сообщений в месяц, включённых в абонентскую плату\n",
    "\n",
    "mb_per_month_included — объём интернет-трафика, включённого в абонентскую плату (в мегабайтах)\n",
    "\n",
    "rub_per_minute — стоимость минуты разговора сверх тарифного пакета (например, если в тарифе 100 минут разговора в месяц, то со 101 минуты будет взиматься плата)\n",
    "\n",
    "rub_per_message — стоимость отправки сообщения сверх тарифного пакета\n",
    "\n",
    "rub_per_gb — стоимость дополнительного гигабайта интернет-трафика сверх тарифного пакета (1 гигабайт = 1024 мегабайта)\n",
    "\n",
    "Для достижения поставленной цели необходимо собрать данные из нескольких датасетов в один и провести исследовательский анализ."
   ]
  },
  {
   "cell_type": "markdown",
   "id": "ec47bf15-bb0e-4baf-b43f-8c712635f8a4",
   "metadata": {},
   "source": [
    "## Изучение данных из файла"
   ]
  },
  {
   "cell_type": "code",
   "execution_count": 1,
   "id": "8298b0d5-c871-4110-ac61-c296c8eaff72",
   "metadata": {
    "tags": []
   },
   "outputs": [],
   "source": [
    "import pandas as pd\n",
    "import numpy as np\n",
    "import matplotlib.pyplot as plt\n",
    "from scipy import stats as st"
   ]
  },
  {
   "cell_type": "markdown",
   "id": "410c77bc-aa9a-4b97-8d7e-206e1aebb550",
   "metadata": {},
   "source": [
    "В рамках предобработки рассмотрим каждый из предоставленных датасетов по отдельности."
   ]
  },
  {
   "cell_type": "code",
   "execution_count": 2,
   "id": "9b60a0ad-5aca-4dd1-a7ae-48555f503957",
   "metadata": {
    "tags": []
   },
   "outputs": [],
   "source": [
    "try:\n",
    "    calls = pd.read_csv('calls.csv')\n",
    "except:\n",
    "    calls = pd.read_csv('/datasets/calls.csv')"
   ]
  },
  {
   "cell_type": "code",
   "execution_count": 3,
   "id": "d4063c39-3265-414d-981e-645e181f90cc",
   "metadata": {},
   "outputs": [
    {
     "data": {
      "text/html": [
       "<div>\n",
       "<style scoped>\n",
       "    .dataframe tbody tr th:only-of-type {\n",
       "        vertical-align: middle;\n",
       "    }\n",
       "\n",
       "    .dataframe tbody tr th {\n",
       "        vertical-align: top;\n",
       "    }\n",
       "\n",
       "    .dataframe thead th {\n",
       "        text-align: right;\n",
       "    }\n",
       "</style>\n",
       "<table border=\"1\" class=\"dataframe\">\n",
       "  <thead>\n",
       "    <tr style=\"text-align: right;\">\n",
       "      <th></th>\n",
       "      <th>id</th>\n",
       "      <th>call_date</th>\n",
       "      <th>duration</th>\n",
       "      <th>user_id</th>\n",
       "    </tr>\n",
       "  </thead>\n",
       "  <tbody>\n",
       "    <tr>\n",
       "      <th>0</th>\n",
       "      <td>1000_0</td>\n",
       "      <td>2018-07-25</td>\n",
       "      <td>0.00</td>\n",
       "      <td>1000</td>\n",
       "    </tr>\n",
       "    <tr>\n",
       "      <th>1</th>\n",
       "      <td>1000_1</td>\n",
       "      <td>2018-08-17</td>\n",
       "      <td>0.00</td>\n",
       "      <td>1000</td>\n",
       "    </tr>\n",
       "    <tr>\n",
       "      <th>2</th>\n",
       "      <td>1000_2</td>\n",
       "      <td>2018-06-11</td>\n",
       "      <td>2.85</td>\n",
       "      <td>1000</td>\n",
       "    </tr>\n",
       "    <tr>\n",
       "      <th>3</th>\n",
       "      <td>1000_3</td>\n",
       "      <td>2018-09-21</td>\n",
       "      <td>13.80</td>\n",
       "      <td>1000</td>\n",
       "    </tr>\n",
       "    <tr>\n",
       "      <th>4</th>\n",
       "      <td>1000_4</td>\n",
       "      <td>2018-12-15</td>\n",
       "      <td>5.18</td>\n",
       "      <td>1000</td>\n",
       "    </tr>\n",
       "  </tbody>\n",
       "</table>\n",
       "</div>"
      ],
      "text/plain": [
       "       id   call_date  duration  user_id\n",
       "0  1000_0  2018-07-25      0.00     1000\n",
       "1  1000_1  2018-08-17      0.00     1000\n",
       "2  1000_2  2018-06-11      2.85     1000\n",
       "3  1000_3  2018-09-21     13.80     1000\n",
       "4  1000_4  2018-12-15      5.18     1000"
      ]
     },
     "execution_count": 3,
     "metadata": {},
     "output_type": "execute_result"
    }
   ],
   "source": [
    "calls.head()"
   ]
  },
  {
   "cell_type": "code",
   "execution_count": 4,
   "id": "9c8d2e74-dd10-48b9-a44f-2570c4054a66",
   "metadata": {},
   "outputs": [
    {
     "name": "stdout",
     "output_type": "stream",
     "text": [
      "<class 'pandas.core.frame.DataFrame'>\n",
      "RangeIndex: 202607 entries, 0 to 202606\n",
      "Data columns (total 4 columns):\n",
      " #   Column     Non-Null Count   Dtype  \n",
      "---  ------     --------------   -----  \n",
      " 0   id         202607 non-null  object \n",
      " 1   call_date  202607 non-null  object \n",
      " 2   duration   202607 non-null  float64\n",
      " 3   user_id    202607 non-null  int64  \n",
      "dtypes: float64(1), int64(1), object(2)\n",
      "memory usage: 6.2+ MB\n"
     ]
    }
   ],
   "source": [
    "calls.info()"
   ]
  },
  {
   "cell_type": "markdown",
   "id": "f7340309-7a08-4ccd-9dd9-17adfa5a4295",
   "metadata": {},
   "source": [
    "Необходимо привести столбец с датой к формату \"datetime\". А также округлить длительность звонка в большую сторону в связи с особенностью учета расхода по тарифу. Форматы столбцов 'duration' и 'user_id' изменены для экономии памяти."
   ]
  },
  {
   "cell_type": "code",
   "execution_count": 5,
   "id": "64c94f79-ee57-42db-b9d8-1b4ab7db052d",
   "metadata": {},
   "outputs": [
    {
     "data": {
      "text/plain": [
       "0"
      ]
     },
     "execution_count": 5,
     "metadata": {},
     "output_type": "execute_result"
    }
   ],
   "source": [
    "calls['call_date'] = pd.to_datetime(calls['call_date'], format='%Y-%m-%d')\n",
    "calls['duration'] = calls['duration'].apply(np.ceil)\n",
    "calls['duration'] = calls['duration'].astype('int32')\n",
    "calls['user_id'] = calls['user_id'].astype('int32')\n",
    "calls.duplicated().sum()"
   ]
  },
  {
   "cell_type": "markdown",
   "id": "b661671d-6b43-493e-808e-95d20fe4d0ca",
   "metadata": {},
   "source": [
    "Создаем столбец  с параметром месяца."
   ]
  },
  {
   "cell_type": "code",
   "execution_count": 6,
   "id": "cb7d917b-32e5-49c5-a44f-ad34572b3863",
   "metadata": {},
   "outputs": [],
   "source": [
    "calls['month'] = calls['call_date'].dt.month"
   ]
  },
  {
   "cell_type": "code",
   "execution_count": 7,
   "id": "6810c850-6ebf-4b96-8a50-527950455199",
   "metadata": {},
   "outputs": [
    {
     "data": {
      "text/html": [
       "<div>\n",
       "<style scoped>\n",
       "    .dataframe tbody tr th:only-of-type {\n",
       "        vertical-align: middle;\n",
       "    }\n",
       "\n",
       "    .dataframe tbody tr th {\n",
       "        vertical-align: top;\n",
       "    }\n",
       "\n",
       "    .dataframe thead th {\n",
       "        text-align: right;\n",
       "    }\n",
       "</style>\n",
       "<table border=\"1\" class=\"dataframe\">\n",
       "  <thead>\n",
       "    <tr style=\"text-align: right;\">\n",
       "      <th></th>\n",
       "      <th>duration</th>\n",
       "      <th>user_id</th>\n",
       "      <th>month</th>\n",
       "    </tr>\n",
       "  </thead>\n",
       "  <tbody>\n",
       "    <tr>\n",
       "      <th>count</th>\n",
       "      <td>202607.000000</td>\n",
       "      <td>202607.000000</td>\n",
       "      <td>202607.000000</td>\n",
       "    </tr>\n",
       "    <tr>\n",
       "      <th>mean</th>\n",
       "      <td>7.158198</td>\n",
       "      <td>1253.940619</td>\n",
       "      <td>8.574067</td>\n",
       "    </tr>\n",
       "    <tr>\n",
       "      <th>std</th>\n",
       "      <td>5.959173</td>\n",
       "      <td>144.722751</td>\n",
       "      <td>2.787093</td>\n",
       "    </tr>\n",
       "    <tr>\n",
       "      <th>min</th>\n",
       "      <td>0.000000</td>\n",
       "      <td>1000.000000</td>\n",
       "      <td>1.000000</td>\n",
       "    </tr>\n",
       "    <tr>\n",
       "      <th>25%</th>\n",
       "      <td>2.000000</td>\n",
       "      <td>1126.000000</td>\n",
       "      <td>7.000000</td>\n",
       "    </tr>\n",
       "    <tr>\n",
       "      <th>50%</th>\n",
       "      <td>6.000000</td>\n",
       "      <td>1260.000000</td>\n",
       "      <td>9.000000</td>\n",
       "    </tr>\n",
       "    <tr>\n",
       "      <th>75%</th>\n",
       "      <td>11.000000</td>\n",
       "      <td>1379.000000</td>\n",
       "      <td>11.000000</td>\n",
       "    </tr>\n",
       "    <tr>\n",
       "      <th>max</th>\n",
       "      <td>38.000000</td>\n",
       "      <td>1499.000000</td>\n",
       "      <td>12.000000</td>\n",
       "    </tr>\n",
       "  </tbody>\n",
       "</table>\n",
       "</div>"
      ],
      "text/plain": [
       "            duration        user_id          month\n",
       "count  202607.000000  202607.000000  202607.000000\n",
       "mean        7.158198    1253.940619       8.574067\n",
       "std         5.959173     144.722751       2.787093\n",
       "min         0.000000    1000.000000       1.000000\n",
       "25%         2.000000    1126.000000       7.000000\n",
       "50%         6.000000    1260.000000       9.000000\n",
       "75%        11.000000    1379.000000      11.000000\n",
       "max        38.000000    1499.000000      12.000000"
      ]
     },
     "execution_count": 7,
     "metadata": {},
     "output_type": "execute_result"
    }
   ],
   "source": [
    "calls.describe()"
   ]
  },
  {
   "cell_type": "markdown",
   "id": "0d742871-3ae7-4118-8188-f3d5eb7ac151",
   "metadata": {},
   "source": [
    "Сразу получим данные с месячным расходом минут."
   ]
  },
  {
   "cell_type": "code",
   "execution_count": 8,
   "id": "e0f52aaf-bb0f-4c94-a5ed-3269d1a00b3d",
   "metadata": {},
   "outputs": [
    {
     "data": {
      "text/plain": [
       "user_id  month\n",
       "1000     5        159\n",
       "         6        172\n",
       "         7        340\n",
       "         8        408\n",
       "         9        466\n",
       "                 ... \n",
       "1498     10       247\n",
       "1499     9         70\n",
       "         10       449\n",
       "         11       612\n",
       "         12       492\n",
       "Name: duration, Length: 3174, dtype: int32"
      ]
     },
     "execution_count": 8,
     "metadata": {},
     "output_type": "execute_result"
    }
   ],
   "source": [
    "monthly_calls = calls.groupby(['user_id', 'month'])['duration'].sum()\n",
    "monthly_calls"
   ]
  },
  {
   "cell_type": "code",
   "execution_count": 9,
   "id": "f971cc09-2e85-4216-a6c8-633c4617d2a4",
   "metadata": {},
   "outputs": [],
   "source": [
    "try:\n",
    "    internet = pd.read_csv('internet.csv')\n",
    "except:\n",
    "    internet = pd.read_csv('/datasets/internet.csv')"
   ]
  },
  {
   "cell_type": "code",
   "execution_count": 10,
   "id": "5daee247-f750-4d22-af57-3e62ffcbba11",
   "metadata": {},
   "outputs": [
    {
     "data": {
      "text/html": [
       "<div>\n",
       "<style scoped>\n",
       "    .dataframe tbody tr th:only-of-type {\n",
       "        vertical-align: middle;\n",
       "    }\n",
       "\n",
       "    .dataframe tbody tr th {\n",
       "        vertical-align: top;\n",
       "    }\n",
       "\n",
       "    .dataframe thead th {\n",
       "        text-align: right;\n",
       "    }\n",
       "</style>\n",
       "<table border=\"1\" class=\"dataframe\">\n",
       "  <thead>\n",
       "    <tr style=\"text-align: right;\">\n",
       "      <th></th>\n",
       "      <th>Unnamed: 0</th>\n",
       "      <th>id</th>\n",
       "      <th>mb_used</th>\n",
       "      <th>session_date</th>\n",
       "      <th>user_id</th>\n",
       "    </tr>\n",
       "  </thead>\n",
       "  <tbody>\n",
       "    <tr>\n",
       "      <th>0</th>\n",
       "      <td>0</td>\n",
       "      <td>1000_0</td>\n",
       "      <td>112.95</td>\n",
       "      <td>2018-11-25</td>\n",
       "      <td>1000</td>\n",
       "    </tr>\n",
       "    <tr>\n",
       "      <th>1</th>\n",
       "      <td>1</td>\n",
       "      <td>1000_1</td>\n",
       "      <td>1052.81</td>\n",
       "      <td>2018-09-07</td>\n",
       "      <td>1000</td>\n",
       "    </tr>\n",
       "    <tr>\n",
       "      <th>2</th>\n",
       "      <td>2</td>\n",
       "      <td>1000_2</td>\n",
       "      <td>1197.26</td>\n",
       "      <td>2018-06-25</td>\n",
       "      <td>1000</td>\n",
       "    </tr>\n",
       "    <tr>\n",
       "      <th>3</th>\n",
       "      <td>3</td>\n",
       "      <td>1000_3</td>\n",
       "      <td>550.27</td>\n",
       "      <td>2018-08-22</td>\n",
       "      <td>1000</td>\n",
       "    </tr>\n",
       "    <tr>\n",
       "      <th>4</th>\n",
       "      <td>4</td>\n",
       "      <td>1000_4</td>\n",
       "      <td>302.56</td>\n",
       "      <td>2018-09-24</td>\n",
       "      <td>1000</td>\n",
       "    </tr>\n",
       "  </tbody>\n",
       "</table>\n",
       "</div>"
      ],
      "text/plain": [
       "   Unnamed: 0      id  mb_used session_date  user_id\n",
       "0           0  1000_0   112.95   2018-11-25     1000\n",
       "1           1  1000_1  1052.81   2018-09-07     1000\n",
       "2           2  1000_2  1197.26   2018-06-25     1000\n",
       "3           3  1000_3   550.27   2018-08-22     1000\n",
       "4           4  1000_4   302.56   2018-09-24     1000"
      ]
     },
     "execution_count": 10,
     "metadata": {},
     "output_type": "execute_result"
    }
   ],
   "source": [
    "internet.head(5)"
   ]
  },
  {
   "cell_type": "code",
   "execution_count": 11,
   "id": "254526c3-a547-4cd9-ba90-a7a521af67be",
   "metadata": {},
   "outputs": [
    {
     "name": "stdout",
     "output_type": "stream",
     "text": [
      "<class 'pandas.core.frame.DataFrame'>\n",
      "RangeIndex: 149396 entries, 0 to 149395\n",
      "Data columns (total 5 columns):\n",
      " #   Column        Non-Null Count   Dtype  \n",
      "---  ------        --------------   -----  \n",
      " 0   Unnamed: 0    149396 non-null  int64  \n",
      " 1   id            149396 non-null  object \n",
      " 2   mb_used       149396 non-null  float64\n",
      " 3   session_date  149396 non-null  object \n",
      " 4   user_id       149396 non-null  int64  \n",
      "dtypes: float64(1), int64(2), object(2)\n",
      "memory usage: 5.7+ MB\n"
     ]
    }
   ],
   "source": [
    "internet.info()"
   ]
  },
  {
   "cell_type": "markdown",
   "id": "e6b3bfd1-c341-4b19-a7be-9186e08bc32d",
   "metadata": {},
   "source": [
    "Снова переводим столбец с датой в нужный формат, а также переводим столбцы с данными в более экономные форматы."
   ]
  },
  {
   "cell_type": "code",
   "execution_count": 12,
   "id": "c32eca40-890e-441c-a8f6-6c7104c25008",
   "metadata": {},
   "outputs": [
    {
     "data": {
      "text/plain": [
       "0"
      ]
     },
     "execution_count": 12,
     "metadata": {},
     "output_type": "execute_result"
    }
   ],
   "source": [
    "internet['session_date'] = pd.to_datetime(internet['session_date'], format='%Y-%m-%d')\n",
    "internet['mb_used'] = internet['mb_used'].astype('float32')\n",
    "internet['user_id'] = internet['user_id'].astype('int32')\n",
    "internet.duplicated().sum()"
   ]
  },
  {
   "cell_type": "markdown",
   "id": "7d1c3fde-8e32-4382-8e90-0aaa872b78a4",
   "metadata": {},
   "source": [
    "Создаем столбец  с параметром месяца. Также удаляем столбец просто дублирующий индекс."
   ]
  },
  {
   "cell_type": "code",
   "execution_count": 13,
   "id": "5997902e-bf9e-4b81-bb41-c315f1827f49",
   "metadata": {},
   "outputs": [],
   "source": [
    "internet['month'] = internet['session_date'].dt.month"
   ]
  },
  {
   "cell_type": "code",
   "execution_count": 14,
   "id": "49080bcd-ae62-424e-af3d-6102ea81b970",
   "metadata": {},
   "outputs": [],
   "source": [
    "internet.drop('Unnamed: 0', axis=1, inplace=True)"
   ]
  },
  {
   "cell_type": "code",
   "execution_count": 15,
   "id": "a7df8aa1-fd21-4d35-b8bf-ac4670fa3b11",
   "metadata": {},
   "outputs": [
    {
     "data": {
      "text/html": [
       "<div>\n",
       "<style scoped>\n",
       "    .dataframe tbody tr th:only-of-type {\n",
       "        vertical-align: middle;\n",
       "    }\n",
       "\n",
       "    .dataframe tbody tr th {\n",
       "        vertical-align: top;\n",
       "    }\n",
       "\n",
       "    .dataframe thead th {\n",
       "        text-align: right;\n",
       "    }\n",
       "</style>\n",
       "<table border=\"1\" class=\"dataframe\">\n",
       "  <thead>\n",
       "    <tr style=\"text-align: right;\">\n",
       "      <th></th>\n",
       "      <th>mb_used</th>\n",
       "      <th>user_id</th>\n",
       "      <th>month</th>\n",
       "    </tr>\n",
       "  </thead>\n",
       "  <tbody>\n",
       "    <tr>\n",
       "      <th>count</th>\n",
       "      <td>149396.000000</td>\n",
       "      <td>149396.000000</td>\n",
       "      <td>149396.000000</td>\n",
       "    </tr>\n",
       "    <tr>\n",
       "      <th>mean</th>\n",
       "      <td>370.192444</td>\n",
       "      <td>1252.099842</td>\n",
       "      <td>8.563315</td>\n",
       "    </tr>\n",
       "    <tr>\n",
       "      <th>std</th>\n",
       "      <td>278.300964</td>\n",
       "      <td>144.050823</td>\n",
       "      <td>2.788717</td>\n",
       "    </tr>\n",
       "    <tr>\n",
       "      <th>min</th>\n",
       "      <td>0.000000</td>\n",
       "      <td>1000.000000</td>\n",
       "      <td>1.000000</td>\n",
       "    </tr>\n",
       "    <tr>\n",
       "      <th>25%</th>\n",
       "      <td>138.187496</td>\n",
       "      <td>1130.000000</td>\n",
       "      <td>7.000000</td>\n",
       "    </tr>\n",
       "    <tr>\n",
       "      <th>50%</th>\n",
       "      <td>348.014999</td>\n",
       "      <td>1251.000000</td>\n",
       "      <td>9.000000</td>\n",
       "    </tr>\n",
       "    <tr>\n",
       "      <th>75%</th>\n",
       "      <td>559.552490</td>\n",
       "      <td>1380.000000</td>\n",
       "      <td>11.000000</td>\n",
       "    </tr>\n",
       "    <tr>\n",
       "      <th>max</th>\n",
       "      <td>1724.829956</td>\n",
       "      <td>1499.000000</td>\n",
       "      <td>12.000000</td>\n",
       "    </tr>\n",
       "  </tbody>\n",
       "</table>\n",
       "</div>"
      ],
      "text/plain": [
       "             mb_used        user_id          month\n",
       "count  149396.000000  149396.000000  149396.000000\n",
       "mean      370.192444    1252.099842       8.563315\n",
       "std       278.300964     144.050823       2.788717\n",
       "min         0.000000    1000.000000       1.000000\n",
       "25%       138.187496    1130.000000       7.000000\n",
       "50%       348.014999    1251.000000       9.000000\n",
       "75%       559.552490    1380.000000      11.000000\n",
       "max      1724.829956    1499.000000      12.000000"
      ]
     },
     "execution_count": 15,
     "metadata": {},
     "output_type": "execute_result"
    }
   ],
   "source": [
    "internet.describe()"
   ]
  },
  {
   "cell_type": "markdown",
   "id": "9a8bf0c9-3516-4aa8-97b7-95072aa65014",
   "metadata": {},
   "source": [
    "Получаем данные по месячному расходу интернет-траффика."
   ]
  },
  {
   "cell_type": "code",
   "execution_count": 16,
   "id": "40892e57-2807-4b19-a794-ba97a36ffbe3",
   "metadata": {},
   "outputs": [
    {
     "data": {
      "text/plain": [
       "user_id  month\n",
       "1000     5         2253.489990\n",
       "         6        23233.769531\n",
       "         7        14003.639648\n",
       "         8        14055.929688\n",
       "         9        14568.910156\n",
       "                      ...     \n",
       "1498     10       20579.359375\n",
       "1499     9         1845.750000\n",
       "         10       17788.509766\n",
       "         11       17963.310547\n",
       "         12       13055.580078\n",
       "Name: mb_used, Length: 3203, dtype: float32"
      ]
     },
     "execution_count": 16,
     "metadata": {},
     "output_type": "execute_result"
    }
   ],
   "source": [
    "monthly_internet = internet.groupby(['user_id', 'month'])['mb_used'].sum()\n",
    "monthly_internet"
   ]
  },
  {
   "cell_type": "code",
   "execution_count": 17,
   "id": "823b020d-efb5-4e62-ba63-7ee289476786",
   "metadata": {},
   "outputs": [],
   "source": [
    "try:\n",
    "    messages = pd.read_csv('messages.csv')\n",
    "except:\n",
    "    messages = pd.read_csv('/datasets/messages.csv')"
   ]
  },
  {
   "cell_type": "code",
   "execution_count": 18,
   "id": "41dc0fcc-b721-4a5a-a294-d33e756e0d47",
   "metadata": {},
   "outputs": [
    {
     "data": {
      "text/html": [
       "<div>\n",
       "<style scoped>\n",
       "    .dataframe tbody tr th:only-of-type {\n",
       "        vertical-align: middle;\n",
       "    }\n",
       "\n",
       "    .dataframe tbody tr th {\n",
       "        vertical-align: top;\n",
       "    }\n",
       "\n",
       "    .dataframe thead th {\n",
       "        text-align: right;\n",
       "    }\n",
       "</style>\n",
       "<table border=\"1\" class=\"dataframe\">\n",
       "  <thead>\n",
       "    <tr style=\"text-align: right;\">\n",
       "      <th></th>\n",
       "      <th>id</th>\n",
       "      <th>message_date</th>\n",
       "      <th>user_id</th>\n",
       "    </tr>\n",
       "  </thead>\n",
       "  <tbody>\n",
       "    <tr>\n",
       "      <th>0</th>\n",
       "      <td>1000_0</td>\n",
       "      <td>2018-06-27</td>\n",
       "      <td>1000</td>\n",
       "    </tr>\n",
       "    <tr>\n",
       "      <th>1</th>\n",
       "      <td>1000_1</td>\n",
       "      <td>2018-10-08</td>\n",
       "      <td>1000</td>\n",
       "    </tr>\n",
       "    <tr>\n",
       "      <th>2</th>\n",
       "      <td>1000_2</td>\n",
       "      <td>2018-08-04</td>\n",
       "      <td>1000</td>\n",
       "    </tr>\n",
       "    <tr>\n",
       "      <th>3</th>\n",
       "      <td>1000_3</td>\n",
       "      <td>2018-06-16</td>\n",
       "      <td>1000</td>\n",
       "    </tr>\n",
       "    <tr>\n",
       "      <th>4</th>\n",
       "      <td>1000_4</td>\n",
       "      <td>2018-12-05</td>\n",
       "      <td>1000</td>\n",
       "    </tr>\n",
       "  </tbody>\n",
       "</table>\n",
       "</div>"
      ],
      "text/plain": [
       "       id message_date  user_id\n",
       "0  1000_0   2018-06-27     1000\n",
       "1  1000_1   2018-10-08     1000\n",
       "2  1000_2   2018-08-04     1000\n",
       "3  1000_3   2018-06-16     1000\n",
       "4  1000_4   2018-12-05     1000"
      ]
     },
     "execution_count": 18,
     "metadata": {},
     "output_type": "execute_result"
    }
   ],
   "source": [
    "messages.head(5)"
   ]
  },
  {
   "cell_type": "code",
   "execution_count": 19,
   "id": "03282665-552f-43d3-89f1-58d69863c8ef",
   "metadata": {},
   "outputs": [
    {
     "name": "stdout",
     "output_type": "stream",
     "text": [
      "<class 'pandas.core.frame.DataFrame'>\n",
      "RangeIndex: 123036 entries, 0 to 123035\n",
      "Data columns (total 3 columns):\n",
      " #   Column        Non-Null Count   Dtype \n",
      "---  ------        --------------   ----- \n",
      " 0   id            123036 non-null  object\n",
      " 1   message_date  123036 non-null  object\n",
      " 2   user_id       123036 non-null  int64 \n",
      "dtypes: int64(1), object(2)\n",
      "memory usage: 2.8+ MB\n"
     ]
    }
   ],
   "source": [
    "messages.info()"
   ]
  },
  {
   "cell_type": "markdown",
   "id": "de655abf-4f8a-43d4-82cd-388316d5a710",
   "metadata": {},
   "source": [
    "Меняем форматы аналогично предыдущим датасетам."
   ]
  },
  {
   "cell_type": "code",
   "execution_count": 20,
   "id": "49f850d2-c396-4e8c-9393-6d25908a3d89",
   "metadata": {},
   "outputs": [
    {
     "data": {
      "text/plain": [
       "0"
      ]
     },
     "execution_count": 20,
     "metadata": {},
     "output_type": "execute_result"
    }
   ],
   "source": [
    "messages['message_date'] = pd.to_datetime(messages['message_date'], format='%Y-%m-%d')\n",
    "messages['user_id'] = messages['user_id'].astype('int32')\n",
    "messages.duplicated().sum()"
   ]
  },
  {
   "cell_type": "markdown",
   "id": "2c696ad1-478e-497d-889d-6aa2331b2a9f",
   "metadata": {},
   "source": [
    "Столбец 'id' не дает никакой дополнительной информации, стоит просто от него избавиться."
   ]
  },
  {
   "cell_type": "code",
   "execution_count": 21,
   "id": "203f196e-1050-4f8a-b869-2bcb7817f919",
   "metadata": {},
   "outputs": [],
   "source": [
    "messages.drop('id', axis=1, inplace=True)"
   ]
  },
  {
   "cell_type": "markdown",
   "id": "a5dc4afe-538f-4ca9-9dfd-2e8010e479b9",
   "metadata": {},
   "source": [
    "Снова получаем данные по месяцам."
   ]
  },
  {
   "cell_type": "code",
   "execution_count": 22,
   "id": "a0b647a6-d75d-4a36-8012-aa3cec0294c1",
   "metadata": {},
   "outputs": [],
   "source": [
    "messages['month'] = messages['message_date'].dt.month"
   ]
  },
  {
   "cell_type": "code",
   "execution_count": 23,
   "id": "84425af5-e478-4a1f-8c39-6ecdada3c9ee",
   "metadata": {},
   "outputs": [
    {
     "data": {
      "text/plain": [
       "426"
      ]
     },
     "execution_count": 23,
     "metadata": {},
     "output_type": "execute_result"
    }
   ],
   "source": [
    "messages['user_id'].value_counts().count()"
   ]
  },
  {
   "cell_type": "markdown",
   "id": "1726a09e-48c1-4f7a-bf46-459fc266fcb2",
   "metadata": {},
   "source": [
    "Получаем данные по месячному расходу сообщений."
   ]
  },
  {
   "cell_type": "code",
   "execution_count": 24,
   "id": "a1774708-8f93-4763-8297-350250d505a3",
   "metadata": {},
   "outputs": [
    {
     "data": {
      "text/plain": [
       "user_id  month\n",
       "1000     5        22\n",
       "         6        60\n",
       "         7        75\n",
       "         8        81\n",
       "         9        57\n",
       "                  ..\n",
       "1498     10       42\n",
       "1499     9        11\n",
       "         10       48\n",
       "         11       59\n",
       "         12       66\n",
       "Name: message_date, Length: 2717, dtype: int64"
      ]
     },
     "execution_count": 24,
     "metadata": {},
     "output_type": "execute_result"
    }
   ],
   "source": [
    "monthly_messages = messages.groupby(['user_id', 'month'])['message_date'].count()\n",
    "monthly_messages"
   ]
  },
  {
   "cell_type": "code",
   "execution_count": 25,
   "id": "fba16bee-5e2e-4d03-904e-9f076be1481e",
   "metadata": {},
   "outputs": [],
   "source": [
    "try:\n",
    "    tariffs = pd.read_csv('tariffs.csv')\n",
    "except:\n",
    "    tariffs = pd.read_csv('/datasets/tariffs.csv')"
   ]
  },
  {
   "cell_type": "code",
   "execution_count": 26,
   "id": "40ec3a3c-852f-49f1-8037-a3e0b99033e9",
   "metadata": {},
   "outputs": [
    {
     "data": {
      "text/html": [
       "<div>\n",
       "<style scoped>\n",
       "    .dataframe tbody tr th:only-of-type {\n",
       "        vertical-align: middle;\n",
       "    }\n",
       "\n",
       "    .dataframe tbody tr th {\n",
       "        vertical-align: top;\n",
       "    }\n",
       "\n",
       "    .dataframe thead th {\n",
       "        text-align: right;\n",
       "    }\n",
       "</style>\n",
       "<table border=\"1\" class=\"dataframe\">\n",
       "  <thead>\n",
       "    <tr style=\"text-align: right;\">\n",
       "      <th></th>\n",
       "      <th>messages_included</th>\n",
       "      <th>mb_per_month_included</th>\n",
       "      <th>minutes_included</th>\n",
       "      <th>rub_monthly_fee</th>\n",
       "      <th>rub_per_gb</th>\n",
       "      <th>rub_per_message</th>\n",
       "      <th>rub_per_minute</th>\n",
       "      <th>tariff_name</th>\n",
       "    </tr>\n",
       "  </thead>\n",
       "  <tbody>\n",
       "    <tr>\n",
       "      <th>0</th>\n",
       "      <td>50</td>\n",
       "      <td>15360</td>\n",
       "      <td>500</td>\n",
       "      <td>550</td>\n",
       "      <td>200</td>\n",
       "      <td>3</td>\n",
       "      <td>3</td>\n",
       "      <td>smart</td>\n",
       "    </tr>\n",
       "    <tr>\n",
       "      <th>1</th>\n",
       "      <td>1000</td>\n",
       "      <td>30720</td>\n",
       "      <td>3000</td>\n",
       "      <td>1950</td>\n",
       "      <td>150</td>\n",
       "      <td>1</td>\n",
       "      <td>1</td>\n",
       "      <td>ultra</td>\n",
       "    </tr>\n",
       "  </tbody>\n",
       "</table>\n",
       "</div>"
      ],
      "text/plain": [
       "   messages_included  mb_per_month_included  minutes_included  \\\n",
       "0                 50                  15360               500   \n",
       "1               1000                  30720              3000   \n",
       "\n",
       "   rub_monthly_fee  rub_per_gb  rub_per_message  rub_per_minute tariff_name  \n",
       "0              550         200                3               3       smart  \n",
       "1             1950         150                1               1       ultra  "
      ]
     },
     "execution_count": 26,
     "metadata": {},
     "output_type": "execute_result"
    }
   ],
   "source": [
    "tariffs.head(5)"
   ]
  },
  {
   "cell_type": "code",
   "execution_count": 27,
   "id": "d8694e79-5fca-4760-988c-ab76d340bff6",
   "metadata": {},
   "outputs": [
    {
     "name": "stdout",
     "output_type": "stream",
     "text": [
      "<class 'pandas.core.frame.DataFrame'>\n",
      "RangeIndex: 2 entries, 0 to 1\n",
      "Data columns (total 8 columns):\n",
      " #   Column                 Non-Null Count  Dtype \n",
      "---  ------                 --------------  ----- \n",
      " 0   messages_included      2 non-null      int64 \n",
      " 1   mb_per_month_included  2 non-null      int64 \n",
      " 2   minutes_included       2 non-null      int64 \n",
      " 3   rub_monthly_fee        2 non-null      int64 \n",
      " 4   rub_per_gb             2 non-null      int64 \n",
      " 5   rub_per_message        2 non-null      int64 \n",
      " 6   rub_per_minute         2 non-null      int64 \n",
      " 7   tariff_name            2 non-null      object\n",
      "dtypes: int64(7), object(1)\n",
      "memory usage: 256.0+ bytes\n"
     ]
    }
   ],
   "source": [
    "tariffs.info()"
   ]
  },
  {
   "cell_type": "markdown",
   "id": "25bed704-a067-44b3-9423-def53448e2c9",
   "metadata": {},
   "source": [
    "Все данные в таблице с тарифами в порядке, форматы для экономии решено не менять, в виду малого объема."
   ]
  },
  {
   "cell_type": "code",
   "execution_count": 28,
   "id": "f7030b30-766a-4c2c-be0e-5ec733ba9a58",
   "metadata": {},
   "outputs": [],
   "source": [
    "try:\n",
    "    users = pd.read_csv('users.csv')\n",
    "except:\n",
    "    users = pd.read_csv('/datasets/users.csv')"
   ]
  },
  {
   "cell_type": "code",
   "execution_count": 29,
   "id": "c6f2791a-cb2a-42e8-bce7-7d90b9bb45da",
   "metadata": {},
   "outputs": [
    {
     "data": {
      "text/html": [
       "<div>\n",
       "<style scoped>\n",
       "    .dataframe tbody tr th:only-of-type {\n",
       "        vertical-align: middle;\n",
       "    }\n",
       "\n",
       "    .dataframe tbody tr th {\n",
       "        vertical-align: top;\n",
       "    }\n",
       "\n",
       "    .dataframe thead th {\n",
       "        text-align: right;\n",
       "    }\n",
       "</style>\n",
       "<table border=\"1\" class=\"dataframe\">\n",
       "  <thead>\n",
       "    <tr style=\"text-align: right;\">\n",
       "      <th></th>\n",
       "      <th>user_id</th>\n",
       "      <th>age</th>\n",
       "      <th>churn_date</th>\n",
       "      <th>city</th>\n",
       "      <th>first_name</th>\n",
       "      <th>last_name</th>\n",
       "      <th>reg_date</th>\n",
       "      <th>tariff</th>\n",
       "    </tr>\n",
       "  </thead>\n",
       "  <tbody>\n",
       "    <tr>\n",
       "      <th>0</th>\n",
       "      <td>1000</td>\n",
       "      <td>52</td>\n",
       "      <td>NaN</td>\n",
       "      <td>Краснодар</td>\n",
       "      <td>Рафаил</td>\n",
       "      <td>Верещагин</td>\n",
       "      <td>2018-05-25</td>\n",
       "      <td>ultra</td>\n",
       "    </tr>\n",
       "    <tr>\n",
       "      <th>1</th>\n",
       "      <td>1001</td>\n",
       "      <td>41</td>\n",
       "      <td>NaN</td>\n",
       "      <td>Москва</td>\n",
       "      <td>Иван</td>\n",
       "      <td>Ежов</td>\n",
       "      <td>2018-11-01</td>\n",
       "      <td>smart</td>\n",
       "    </tr>\n",
       "    <tr>\n",
       "      <th>2</th>\n",
       "      <td>1002</td>\n",
       "      <td>59</td>\n",
       "      <td>NaN</td>\n",
       "      <td>Стерлитамак</td>\n",
       "      <td>Евгений</td>\n",
       "      <td>Абрамович</td>\n",
       "      <td>2018-06-17</td>\n",
       "      <td>smart</td>\n",
       "    </tr>\n",
       "    <tr>\n",
       "      <th>3</th>\n",
       "      <td>1003</td>\n",
       "      <td>23</td>\n",
       "      <td>NaN</td>\n",
       "      <td>Москва</td>\n",
       "      <td>Белла</td>\n",
       "      <td>Белякова</td>\n",
       "      <td>2018-08-17</td>\n",
       "      <td>ultra</td>\n",
       "    </tr>\n",
       "    <tr>\n",
       "      <th>4</th>\n",
       "      <td>1004</td>\n",
       "      <td>68</td>\n",
       "      <td>NaN</td>\n",
       "      <td>Новокузнецк</td>\n",
       "      <td>Татьяна</td>\n",
       "      <td>Авдеенко</td>\n",
       "      <td>2018-05-14</td>\n",
       "      <td>ultra</td>\n",
       "    </tr>\n",
       "  </tbody>\n",
       "</table>\n",
       "</div>"
      ],
      "text/plain": [
       "   user_id  age churn_date         city first_name  last_name    reg_date  \\\n",
       "0     1000   52        NaN    Краснодар     Рафаил  Верещагин  2018-05-25   \n",
       "1     1001   41        NaN       Москва       Иван       Ежов  2018-11-01   \n",
       "2     1002   59        NaN  Стерлитамак    Евгений  Абрамович  2018-06-17   \n",
       "3     1003   23        NaN       Москва      Белла   Белякова  2018-08-17   \n",
       "4     1004   68        NaN  Новокузнецк    Татьяна   Авдеенко  2018-05-14   \n",
       "\n",
       "  tariff  \n",
       "0  ultra  \n",
       "1  smart  \n",
       "2  smart  \n",
       "3  ultra  \n",
       "4  ultra  "
      ]
     },
     "execution_count": 29,
     "metadata": {},
     "output_type": "execute_result"
    }
   ],
   "source": [
    "users.head(5)"
   ]
  },
  {
   "cell_type": "code",
   "execution_count": 30,
   "id": "c685ab1a-ea63-49f2-9e35-fd363e729012",
   "metadata": {},
   "outputs": [
    {
     "name": "stdout",
     "output_type": "stream",
     "text": [
      "<class 'pandas.core.frame.DataFrame'>\n",
      "RangeIndex: 500 entries, 0 to 499\n",
      "Data columns (total 8 columns):\n",
      " #   Column      Non-Null Count  Dtype \n",
      "---  ------      --------------  ----- \n",
      " 0   user_id     500 non-null    int64 \n",
      " 1   age         500 non-null    int64 \n",
      " 2   churn_date  38 non-null     object\n",
      " 3   city        500 non-null    object\n",
      " 4   first_name  500 non-null    object\n",
      " 5   last_name   500 non-null    object\n",
      " 6   reg_date    500 non-null    object\n",
      " 7   tariff      500 non-null    object\n",
      "dtypes: int64(2), object(6)\n",
      "memory usage: 31.4+ KB\n"
     ]
    }
   ],
   "source": [
    "users.info()"
   ]
  },
  {
   "cell_type": "markdown",
   "id": "19d504c7-9b1d-4292-86d2-d9eb3127463b",
   "metadata": {},
   "source": [
    "В данных по пользователям имеются столбцы с датами заключения и расторжения договора, приведем их формату datetime. Данные в столбцах 'user_id' и 'age' переведем в формат int32 для экономии памяти."
   ]
  },
  {
   "cell_type": "code",
   "execution_count": 31,
   "id": "8c60a168-33b5-4411-beab-e45ced644908",
   "metadata": {},
   "outputs": [
    {
     "data": {
      "text/plain": [
       "0"
      ]
     },
     "execution_count": 31,
     "metadata": {},
     "output_type": "execute_result"
    }
   ],
   "source": [
    "users['reg_date'] = pd.to_datetime(users['reg_date'], format='%Y-%m-%d')\n",
    "users['churn_date'] = pd.to_datetime(users['churn_date'], format='%Y-%m-%d')\n",
    "users['user_id'] = users['user_id'].astype('int32')\n",
    "users['age'] = users['age'].astype('int32')\n",
    "users.duplicated().sum()"
   ]
  },
  {
   "cell_type": "code",
   "execution_count": 32,
   "id": "8ec14540-677f-4847-b664-27d8b7487730",
   "metadata": {},
   "outputs": [
    {
     "data": {
      "text/plain": [
       "array(['Краснодар', 'Москва', 'Стерлитамак', 'Новокузнецк',\n",
       "       'Набережные Челны', 'Ульяновск', 'Челябинск', 'Пермь', 'Тюмень',\n",
       "       'Самара', 'Санкт-Петербург', 'Иваново', 'Чебоксары', 'Омск', 'Уфа',\n",
       "       'Томск', 'Чита', 'Мурманск', 'Петрозаводск', 'Тверь',\n",
       "       'Екатеринбург', 'Махачкала', 'Вологда', 'Череповец', 'Ярославль',\n",
       "       'Сочи', 'Хабаровск', 'Ставрополь', 'Рязань', 'Улан-Удэ', 'Тула',\n",
       "       'Саратов', 'Ростов-на-Дону', 'Казань', 'Иркутск', 'Курск',\n",
       "       'Калуга', 'Якутск', 'Астрахань', 'Химки', 'Владикавказ',\n",
       "       'Волгоград', 'Саранск', 'Ижевск', 'Новосибирск', 'Брянск',\n",
       "       'Тольятти', 'Нижний Тагил', 'Орёл', 'Белгород', 'Воронеж',\n",
       "       'Волжский', 'Курган', 'Барнаул', 'Красноярск', 'Архангельск',\n",
       "       'Липецк', 'Кемерово', 'Киров', 'Сургут', 'Пенза', 'Магнитогорск',\n",
       "       'Нижний Новгород', 'Кострома', 'Владивосток', 'Тамбов', 'Балашиха',\n",
       "       'Севастополь', 'Калининград', 'Оренбург', 'Смоленск',\n",
       "       'Нижневартовск', 'Владимир', 'Новороссийск', 'Грозный', 'Подольск'],\n",
       "      dtype=object)"
      ]
     },
     "execution_count": 32,
     "metadata": {},
     "output_type": "execute_result"
    }
   ],
   "source": [
    "users['city'].unique()"
   ]
  },
  {
   "cell_type": "code",
   "execution_count": 33,
   "id": "f69c7a6d-0029-4211-9a8b-90805a0ba15d",
   "metadata": {},
   "outputs": [
    {
     "data": {
      "text/plain": [
       "user_id         0\n",
       "age             0\n",
       "churn_date    462\n",
       "city            0\n",
       "first_name      0\n",
       "last_name       0\n",
       "reg_date        0\n",
       "tariff          0\n",
       "dtype: int64"
      ]
     },
     "execution_count": 33,
     "metadata": {},
     "output_type": "execute_result"
    }
   ],
   "source": [
    "users.isna().sum()"
   ]
  },
  {
   "cell_type": "markdown",
   "id": "aa1451dd-0147-41dd-b150-e8208d5f03d0",
   "metadata": {},
   "source": [
    "### Вывод\n",
    "В целом данные пригодны для анализа. Удалены ненужные столбцы, календарные значения приведены в нужный формат, часть форматов изменена для снижения нагрузки."
   ]
  },
  {
   "cell_type": "markdown",
   "id": "6acc6dac-f5cd-46ae-a77d-b22f63e29306",
   "metadata": {},
   "source": [
    "## Расчёты и добавление результатов в таблицу"
   ]
  },
  {
   "cell_type": "markdown",
   "id": "06245172-03ee-4d4d-8902-bd8aab057df5",
   "metadata": {},
   "source": [
    "Приступим к формированию датасета для исследования.\n",
    "\n",
    "Для начала объединим месячные расходы каждого пользователя. Поскольку у нас нет информации о порядке списания абонентской платы, будем исходить из того, что лимиты обновляются первого числа календарного месяца, либо в день заключения договора."
   ]
  },
  {
   "cell_type": "code",
   "execution_count": 34,
   "id": "ce62c474-4201-4af3-89c9-75d3f8bcaa64",
   "metadata": {},
   "outputs": [
    {
     "data": {
      "text/html": [
       "<div>\n",
       "<style scoped>\n",
       "    .dataframe tbody tr th:only-of-type {\n",
       "        vertical-align: middle;\n",
       "    }\n",
       "\n",
       "    .dataframe tbody tr th {\n",
       "        vertical-align: top;\n",
       "    }\n",
       "\n",
       "    .dataframe thead th {\n",
       "        text-align: right;\n",
       "    }\n",
       "</style>\n",
       "<table border=\"1\" class=\"dataframe\">\n",
       "  <thead>\n",
       "    <tr style=\"text-align: right;\">\n",
       "      <th></th>\n",
       "      <th></th>\n",
       "      <th>duration</th>\n",
       "      <th>mb_used</th>\n",
       "      <th>message_date</th>\n",
       "    </tr>\n",
       "    <tr>\n",
       "      <th>user_id</th>\n",
       "      <th>month</th>\n",
       "      <th></th>\n",
       "      <th></th>\n",
       "      <th></th>\n",
       "    </tr>\n",
       "  </thead>\n",
       "  <tbody>\n",
       "    <tr>\n",
       "      <th rowspan=\"5\" valign=\"top\">1000</th>\n",
       "      <th>5</th>\n",
       "      <td>159.0</td>\n",
       "      <td>2253.489990</td>\n",
       "      <td>22.0</td>\n",
       "    </tr>\n",
       "    <tr>\n",
       "      <th>6</th>\n",
       "      <td>172.0</td>\n",
       "      <td>23233.769531</td>\n",
       "      <td>60.0</td>\n",
       "    </tr>\n",
       "    <tr>\n",
       "      <th>7</th>\n",
       "      <td>340.0</td>\n",
       "      <td>14003.639648</td>\n",
       "      <td>75.0</td>\n",
       "    </tr>\n",
       "    <tr>\n",
       "      <th>8</th>\n",
       "      <td>408.0</td>\n",
       "      <td>14055.929688</td>\n",
       "      <td>81.0</td>\n",
       "    </tr>\n",
       "    <tr>\n",
       "      <th>9</th>\n",
       "      <td>466.0</td>\n",
       "      <td>14568.910156</td>\n",
       "      <td>57.0</td>\n",
       "    </tr>\n",
       "    <tr>\n",
       "      <th>...</th>\n",
       "      <th>...</th>\n",
       "      <td>...</td>\n",
       "      <td>...</td>\n",
       "      <td>...</td>\n",
       "    </tr>\n",
       "    <tr>\n",
       "      <th rowspan=\"5\" valign=\"top\">1489</th>\n",
       "      <th>8</th>\n",
       "      <td>0.0</td>\n",
       "      <td>11050.559570</td>\n",
       "      <td>17.0</td>\n",
       "    </tr>\n",
       "    <tr>\n",
       "      <th>9</th>\n",
       "      <td>0.0</td>\n",
       "      <td>17206.300781</td>\n",
       "      <td>32.0</td>\n",
       "    </tr>\n",
       "    <tr>\n",
       "      <th>10</th>\n",
       "      <td>0.0</td>\n",
       "      <td>19559.439453</td>\n",
       "      <td>21.0</td>\n",
       "    </tr>\n",
       "    <tr>\n",
       "      <th>11</th>\n",
       "      <td>0.0</td>\n",
       "      <td>17491.560547</td>\n",
       "      <td>20.0</td>\n",
       "    </tr>\n",
       "    <tr>\n",
       "      <th>12</th>\n",
       "      <td>0.0</td>\n",
       "      <td>17322.509766</td>\n",
       "      <td>35.0</td>\n",
       "    </tr>\n",
       "  </tbody>\n",
       "</table>\n",
       "<p>3214 rows × 3 columns</p>\n",
       "</div>"
      ],
      "text/plain": [
       "               duration       mb_used  message_date\n",
       "user_id month                                      \n",
       "1000    5         159.0   2253.489990          22.0\n",
       "        6         172.0  23233.769531          60.0\n",
       "        7         340.0  14003.639648          75.0\n",
       "        8         408.0  14055.929688          81.0\n",
       "        9         466.0  14568.910156          57.0\n",
       "...                 ...           ...           ...\n",
       "1489    8           0.0  11050.559570          17.0\n",
       "        9           0.0  17206.300781          32.0\n",
       "        10          0.0  19559.439453          21.0\n",
       "        11          0.0  17491.560547          20.0\n",
       "        12          0.0  17322.509766          35.0\n",
       "\n",
       "[3214 rows x 3 columns]"
      ]
     },
     "execution_count": 34,
     "metadata": {},
     "output_type": "execute_result"
    }
   ],
   "source": [
    "df = pd.merge(monthly_calls, monthly_internet, on=['user_id', 'month'], how='outer')\n",
    "df = pd.merge(df, monthly_messages, on=['user_id', 'month'], how='outer')\n",
    "df = df.fillna(0)\n",
    "df"
   ]
  },
  {
   "cell_type": "markdown",
   "id": "da1ab134-bc94-447f-a9e8-8c035e46394c",
   "metadata": {},
   "source": [
    "Добавим графы тарифа и города для удобства расчетов."
   ]
  },
  {
   "cell_type": "code",
   "execution_count": 35,
   "id": "bcf3bff3-b5fd-414f-86c7-1fbd0073156b",
   "metadata": {},
   "outputs": [],
   "source": [
    "# Просто столбце у меня достать не получилось, все пустыми значениями было заполнено.\n",
    "df = df.merge(users, how='left', on='user_id')"
   ]
  },
  {
   "cell_type": "code",
   "execution_count": 36,
   "id": "33ec0b53-2afb-447f-807b-a5fed6bc0bc9",
   "metadata": {},
   "outputs": [
    {
     "data": {
      "text/html": [
       "<div>\n",
       "<style scoped>\n",
       "    .dataframe tbody tr th:only-of-type {\n",
       "        vertical-align: middle;\n",
       "    }\n",
       "\n",
       "    .dataframe tbody tr th {\n",
       "        vertical-align: top;\n",
       "    }\n",
       "\n",
       "    .dataframe thead th {\n",
       "        text-align: right;\n",
       "    }\n",
       "</style>\n",
       "<table border=\"1\" class=\"dataframe\">\n",
       "  <thead>\n",
       "    <tr style=\"text-align: right;\">\n",
       "      <th></th>\n",
       "      <th>user_id</th>\n",
       "      <th>duration</th>\n",
       "      <th>mb_used</th>\n",
       "      <th>message_date</th>\n",
       "      <th>city</th>\n",
       "      <th>tariff</th>\n",
       "    </tr>\n",
       "  </thead>\n",
       "  <tbody>\n",
       "    <tr>\n",
       "      <th>0</th>\n",
       "      <td>1000</td>\n",
       "      <td>159.0</td>\n",
       "      <td>2253.489990</td>\n",
       "      <td>22.0</td>\n",
       "      <td>Краснодар</td>\n",
       "      <td>ultra</td>\n",
       "    </tr>\n",
       "    <tr>\n",
       "      <th>1</th>\n",
       "      <td>1000</td>\n",
       "      <td>172.0</td>\n",
       "      <td>23233.769531</td>\n",
       "      <td>60.0</td>\n",
       "      <td>Краснодар</td>\n",
       "      <td>ultra</td>\n",
       "    </tr>\n",
       "    <tr>\n",
       "      <th>2</th>\n",
       "      <td>1000</td>\n",
       "      <td>340.0</td>\n",
       "      <td>14003.639648</td>\n",
       "      <td>75.0</td>\n",
       "      <td>Краснодар</td>\n",
       "      <td>ultra</td>\n",
       "    </tr>\n",
       "    <tr>\n",
       "      <th>3</th>\n",
       "      <td>1000</td>\n",
       "      <td>408.0</td>\n",
       "      <td>14055.929688</td>\n",
       "      <td>81.0</td>\n",
       "      <td>Краснодар</td>\n",
       "      <td>ultra</td>\n",
       "    </tr>\n",
       "    <tr>\n",
       "      <th>4</th>\n",
       "      <td>1000</td>\n",
       "      <td>466.0</td>\n",
       "      <td>14568.910156</td>\n",
       "      <td>57.0</td>\n",
       "      <td>Краснодар</td>\n",
       "      <td>ultra</td>\n",
       "    </tr>\n",
       "  </tbody>\n",
       "</table>\n",
       "</div>"
      ],
      "text/plain": [
       "   user_id  duration       mb_used  message_date       city tariff\n",
       "0     1000     159.0   2253.489990          22.0  Краснодар  ultra\n",
       "1     1000     172.0  23233.769531          60.0  Краснодар  ultra\n",
       "2     1000     340.0  14003.639648          75.0  Краснодар  ultra\n",
       "3     1000     408.0  14055.929688          81.0  Краснодар  ultra\n",
       "4     1000     466.0  14568.910156          57.0  Краснодар  ultra"
      ]
     },
     "execution_count": 36,
     "metadata": {},
     "output_type": "execute_result"
    }
   ],
   "source": [
    "df = df.drop(columns=['age', 'churn_date', 'first_name', 'last_name', 'reg_date'], axis=1) \n",
    "df.head()"
   ]
  },
  {
   "cell_type": "markdown",
   "id": "f50d4718-8463-4eb7-b417-f51e0ef5d9ad",
   "metadata": {},
   "source": [
    "Переведем расход интернет-траффика в гигабайты, поскольку оплата сверх тарифа списывается сразу за гигабайт."
   ]
  },
  {
   "cell_type": "code",
   "execution_count": 37,
   "id": "05a5af9c-bb22-4028-b09b-ec5f2f6fc600",
   "metadata": {},
   "outputs": [],
   "source": [
    "df['mb_used'] = (df['mb_used'] / 1024).apply(np.ceil) # округляем в большую сторону как и с минутами."
   ]
  },
  {
   "cell_type": "code",
   "execution_count": 38,
   "id": "ca8c95fa-e297-4005-9e1b-15328c71f150",
   "metadata": {},
   "outputs": [
    {
     "data": {
      "text/html": [
       "<div>\n",
       "<style scoped>\n",
       "    .dataframe tbody tr th:only-of-type {\n",
       "        vertical-align: middle;\n",
       "    }\n",
       "\n",
       "    .dataframe tbody tr th {\n",
       "        vertical-align: top;\n",
       "    }\n",
       "\n",
       "    .dataframe thead th {\n",
       "        text-align: right;\n",
       "    }\n",
       "</style>\n",
       "<table border=\"1\" class=\"dataframe\">\n",
       "  <thead>\n",
       "    <tr style=\"text-align: right;\">\n",
       "      <th></th>\n",
       "      <th>user_id</th>\n",
       "      <th>duration</th>\n",
       "      <th>mb_used</th>\n",
       "      <th>message_date</th>\n",
       "      <th>city</th>\n",
       "      <th>tariff</th>\n",
       "    </tr>\n",
       "  </thead>\n",
       "  <tbody>\n",
       "    <tr>\n",
       "      <th>0</th>\n",
       "      <td>1000</td>\n",
       "      <td>159.0</td>\n",
       "      <td>3.0</td>\n",
       "      <td>22.0</td>\n",
       "      <td>Краснодар</td>\n",
       "      <td>ultra</td>\n",
       "    </tr>\n",
       "    <tr>\n",
       "      <th>1</th>\n",
       "      <td>1000</td>\n",
       "      <td>172.0</td>\n",
       "      <td>23.0</td>\n",
       "      <td>60.0</td>\n",
       "      <td>Краснодар</td>\n",
       "      <td>ultra</td>\n",
       "    </tr>\n",
       "    <tr>\n",
       "      <th>2</th>\n",
       "      <td>1000</td>\n",
       "      <td>340.0</td>\n",
       "      <td>14.0</td>\n",
       "      <td>75.0</td>\n",
       "      <td>Краснодар</td>\n",
       "      <td>ultra</td>\n",
       "    </tr>\n",
       "    <tr>\n",
       "      <th>3</th>\n",
       "      <td>1000</td>\n",
       "      <td>408.0</td>\n",
       "      <td>14.0</td>\n",
       "      <td>81.0</td>\n",
       "      <td>Краснодар</td>\n",
       "      <td>ultra</td>\n",
       "    </tr>\n",
       "    <tr>\n",
       "      <th>4</th>\n",
       "      <td>1000</td>\n",
       "      <td>466.0</td>\n",
       "      <td>15.0</td>\n",
       "      <td>57.0</td>\n",
       "      <td>Краснодар</td>\n",
       "      <td>ultra</td>\n",
       "    </tr>\n",
       "  </tbody>\n",
       "</table>\n",
       "</div>"
      ],
      "text/plain": [
       "   user_id  duration  mb_used  message_date       city tariff\n",
       "0     1000     159.0      3.0          22.0  Краснодар  ultra\n",
       "1     1000     172.0     23.0          60.0  Краснодар  ultra\n",
       "2     1000     340.0     14.0          75.0  Краснодар  ultra\n",
       "3     1000     408.0     14.0          81.0  Краснодар  ultra\n",
       "4     1000     466.0     15.0          57.0  Краснодар  ultra"
      ]
     },
     "execution_count": 38,
     "metadata": {},
     "output_type": "execute_result"
    }
   ],
   "source": [
    "df.head()"
   ]
  },
  {
   "cell_type": "markdown",
   "id": "98cb94b7-afc6-42c2-a74d-adf973018ed0",
   "metadata": {},
   "source": [
    "Переименуем столбцы для большего соответствия."
   ]
  },
  {
   "cell_type": "code",
   "execution_count": 39,
   "id": "68680687-7fd2-4d01-90e5-c4d6dd835299",
   "metadata": {},
   "outputs": [],
   "source": [
    "df = df.rename(columns={'duration': 'minutes_used', 'mb_used': 'gb_used', 'message_date': 'messages_used'})"
   ]
  },
  {
   "cell_type": "code",
   "execution_count": 40,
   "id": "12748e8e-aaa9-4db3-892e-4c619b857281",
   "metadata": {
    "tags": []
   },
   "outputs": [
    {
     "data": {
      "text/plain": [
       "user_id          0\n",
       "minutes_used     0\n",
       "gb_used          0\n",
       "messages_used    0\n",
       "city             0\n",
       "tariff           0\n",
       "dtype: int64"
      ]
     },
     "execution_count": 40,
     "metadata": {},
     "output_type": "execute_result"
    }
   ],
   "source": [
    "df.isna().sum()"
   ]
  },
  {
   "cell_type": "code",
   "execution_count": 41,
   "id": "1b3bc2e9-e577-49c9-96af-f41c6b87952a",
   "metadata": {},
   "outputs": [],
   "source": [
    "df=df.fillna(0)"
   ]
  },
  {
   "cell_type": "markdown",
   "id": "d3d9605c-850c-4c49-b9ec-cd46c5601278",
   "metadata": {},
   "source": [
    "Подсчитаем месячный доход с каждого пользователя."
   ]
  },
  {
   "cell_type": "code",
   "execution_count": 42,
   "id": "e0c4b8c2-ab4f-486d-acdc-ffa05f5c3889",
   "metadata": {},
   "outputs": [],
   "source": [
    "# функция для вычисления месячного дохода с пользователя\n",
    "def income_sum(row):\n",
    "    income = 0\n",
    "    if row['tariff'] == 'ultra':\n",
    "        income += 1950\n",
    "        if row['minutes_used'] > 3000:\n",
    "            income += row['minutes_used'] - 3000\n",
    "        if row['messages_used'] > 1000:\n",
    "            income += row['messages_used'] - 1000\n",
    "        if row['gb_used'] > 30:\n",
    "            income += (row['gb_used'] - 30) * 150\n",
    "    else:\n",
    "        income += 550\n",
    "        if row['minutes_used'] > 500:\n",
    "            income += (row['minutes_used']- 500) * 3\n",
    "        if row['messages_used'] > 50:\n",
    "            income += (row['messages_used'] - 50) * 3\n",
    "        if row['gb_used'] > 15:\n",
    "            income += (row['gb_used'] - 15) * 200     \n",
    "    return income"
   ]
  },
  {
   "cell_type": "code",
   "execution_count": 43,
   "id": "84a0ae4d-9b2e-4ba9-8dc2-1bbac6d0a1a3",
   "metadata": {},
   "outputs": [],
   "source": [
    "def income_sum_upd(row):\n",
    "    income = 0\n",
    "    if row['tariff'] == 'ultra':\n",
    "        income += 1950\n",
    "        if row['minutes_used'] > tariffs.loc[1]['minutes_included']:\n",
    "            income += row['minutes_used'] - tariffs.loc[1]['minutes_included'] * tariffs.loc[1]['rub_per_minute']\n",
    "        if row['messages_used'] > tariffs.loc[1]['messages_included']:\n",
    "            income += row['messages_used'] - tariffs.loc[1]['messages_included'] * tariffs.loc[1]['rub_per_message']\n",
    "        if row['gb_used'] > tariffs.loc[1]['mb_per_month_included'] / 1024:\n",
    "            income += (row['gb_used'] - 30) * tariffs.loc[1]['rub_per_gb']\n",
    "    else:\n",
    "        income += 550\n",
    "        if row['minutes_used'] > tariffs.loc[0]['minutes_included']:\n",
    "            income += (row['minutes_used']- tariffs.loc[0]['minutes_included']) * tariffs.loc[0]['rub_per_minute']\n",
    "        if row['messages_used'] > tariffs.loc[0]['messages_included']:\n",
    "            income += (row['messages_used'] - tariffs.loc[0]['messages_included']) * tariffs.loc[0]['rub_per_message']\n",
    "        if row['gb_used'] > tariffs.loc[0]['mb_per_month_included'] / 1024:\n",
    "            income += (row['gb_used'] - 15) * tariffs.loc[0]['rub_per_gb']     \n",
    "    return income"
   ]
  },
  {
   "cell_type": "code",
   "execution_count": 44,
   "id": "427b0414-2d85-477f-948e-2f9a9b345943",
   "metadata": {},
   "outputs": [],
   "source": [
    "df['income'] = df.apply(income_sum_upd, axis=1)"
   ]
  },
  {
   "cell_type": "code",
   "execution_count": 45,
   "id": "9ca4aaec-d495-46c0-8677-3333c218e0c9",
   "metadata": {},
   "outputs": [
    {
     "data": {
      "text/html": [
       "<div>\n",
       "<style scoped>\n",
       "    .dataframe tbody tr th:only-of-type {\n",
       "        vertical-align: middle;\n",
       "    }\n",
       "\n",
       "    .dataframe tbody tr th {\n",
       "        vertical-align: top;\n",
       "    }\n",
       "\n",
       "    .dataframe thead th {\n",
       "        text-align: right;\n",
       "    }\n",
       "</style>\n",
       "<table border=\"1\" class=\"dataframe\">\n",
       "  <thead>\n",
       "    <tr style=\"text-align: right;\">\n",
       "      <th></th>\n",
       "      <th>user_id</th>\n",
       "      <th>minutes_used</th>\n",
       "      <th>gb_used</th>\n",
       "      <th>messages_used</th>\n",
       "      <th>city</th>\n",
       "      <th>tariff</th>\n",
       "      <th>income</th>\n",
       "    </tr>\n",
       "  </thead>\n",
       "  <tbody>\n",
       "    <tr>\n",
       "      <th>0</th>\n",
       "      <td>1000</td>\n",
       "      <td>159.0</td>\n",
       "      <td>3.0</td>\n",
       "      <td>22.0</td>\n",
       "      <td>Краснодар</td>\n",
       "      <td>ultra</td>\n",
       "      <td>1950.0</td>\n",
       "    </tr>\n",
       "    <tr>\n",
       "      <th>1</th>\n",
       "      <td>1000</td>\n",
       "      <td>172.0</td>\n",
       "      <td>23.0</td>\n",
       "      <td>60.0</td>\n",
       "      <td>Краснодар</td>\n",
       "      <td>ultra</td>\n",
       "      <td>1950.0</td>\n",
       "    </tr>\n",
       "    <tr>\n",
       "      <th>2</th>\n",
       "      <td>1000</td>\n",
       "      <td>340.0</td>\n",
       "      <td>14.0</td>\n",
       "      <td>75.0</td>\n",
       "      <td>Краснодар</td>\n",
       "      <td>ultra</td>\n",
       "      <td>1950.0</td>\n",
       "    </tr>\n",
       "    <tr>\n",
       "      <th>3</th>\n",
       "      <td>1000</td>\n",
       "      <td>408.0</td>\n",
       "      <td>14.0</td>\n",
       "      <td>81.0</td>\n",
       "      <td>Краснодар</td>\n",
       "      <td>ultra</td>\n",
       "      <td>1950.0</td>\n",
       "    </tr>\n",
       "    <tr>\n",
       "      <th>4</th>\n",
       "      <td>1000</td>\n",
       "      <td>466.0</td>\n",
       "      <td>15.0</td>\n",
       "      <td>57.0</td>\n",
       "      <td>Краснодар</td>\n",
       "      <td>ultra</td>\n",
       "      <td>1950.0</td>\n",
       "    </tr>\n",
       "  </tbody>\n",
       "</table>\n",
       "</div>"
      ],
      "text/plain": [
       "   user_id  minutes_used  gb_used  messages_used       city tariff  income\n",
       "0     1000         159.0      3.0           22.0  Краснодар  ultra  1950.0\n",
       "1     1000         172.0     23.0           60.0  Краснодар  ultra  1950.0\n",
       "2     1000         340.0     14.0           75.0  Краснодар  ultra  1950.0\n",
       "3     1000         408.0     14.0           81.0  Краснодар  ultra  1950.0\n",
       "4     1000         466.0     15.0           57.0  Краснодар  ultra  1950.0"
      ]
     },
     "execution_count": 45,
     "metadata": {},
     "output_type": "execute_result"
    }
   ],
   "source": [
    "df.head()"
   ]
  },
  {
   "cell_type": "markdown",
   "id": "5c3432cd-10fd-4417-af6f-5d40864fc2b9",
   "metadata": {},
   "source": [
    "## Исследовательский анализ данных"
   ]
  },
  {
   "cell_type": "markdown",
   "id": "fb322e75-3215-418c-9305-01bd809ef67d",
   "metadata": {},
   "source": [
    "Рассмотрим распределение абонентов по уровню расхода минут, смс и интернета, для каждого тарифа."
   ]
  },
  {
   "cell_type": "code",
   "execution_count": 46,
   "id": "f648cfdd-44bb-491d-affc-5101b77740c7",
   "metadata": {},
   "outputs": [
    {
     "data": {
      "text/plain": [
       "Text(0, 0.5, 'Количество пользователей')"
      ]
     },
     "execution_count": 46,
     "metadata": {},
     "output_type": "execute_result"
    },
    {
     "data": {
      "image/png": "[encoded data removed]",
      "text/plain": [
       "<Figure size 432x288 with 1 Axes>"
      ]
     },
     "metadata": {
      "needs_background": "light"
     },
     "output_type": "display_data"
    }
   ],
   "source": [
    "df.query('tariff == \"ultra\"').hist('minutes_used', color='green', bins=10)\n",
    "plt.title('Расход минут по тарифу \"Ультра\"')\n",
    "plt.xlabel('Потраченные минуты')\n",
    "plt.ylabel('Количество пользователей')"
   ]
  },
  {
   "cell_type": "code",
   "execution_count": 47,
   "id": "45888ae4-c6d9-4138-a0cd-fd4af484f14f",
   "metadata": {},
   "outputs": [
    {
     "data": {
      "text/plain": [
       "Text(0, 0.5, 'Количество пользователей')"
      ]
     },
     "execution_count": 47,
     "metadata": {},
     "output_type": "execute_result"
    },
    {
     "data": {
      "image/png": "[encoded data removed]",
      "text/plain": [
       "<Figure size 432x288 with 1 Axes>"
      ]
     },
     "metadata": {
      "needs_background": "light"
     },
     "output_type": "display_data"
    }
   ],
   "source": [
    "df.query('tariff == \"ultra\"').hist('messages_used', color='red', bins=10)\n",
    "plt.title('Расход смс по тарифу \"Ультра\"')\n",
    "plt.xlabel('Потраченные сообщения')\n",
    "plt.ylabel('Количество пользователей')"
   ]
  },
  {
   "cell_type": "code",
   "execution_count": 48,
   "id": "0bd9ed07-dc56-4c35-a5ed-61d955e3bc6c",
   "metadata": {},
   "outputs": [
    {
     "data": {
      "text/plain": [
       "Text(0, 0.5, 'Количество пользователей')"
      ]
     },
     "execution_count": 48,
     "metadata": {},
     "output_type": "execute_result"
    },
    {
     "data": {
      "image/png": "[encoded data removed]",
      "text/plain": [
       "<Figure size 432x288 with 1 Axes>"
      ]
     },
     "metadata": {
      "needs_background": "light"
     },
     "output_type": "display_data"
    }
   ],
   "source": [
    "df.query('tariff == \"ultra\"').hist('gb_used', color='blue', bins=10)\n",
    "plt.title('Расход интернет-трафика по тарифу \"Ультра\"')\n",
    "plt.xlabel('Потраченные гигабайты')\n",
    "plt.ylabel('Количество пользователей')"
   ]
  },
  {
   "cell_type": "code",
   "execution_count": 49,
   "id": "ccb73322-6699-4271-ad4b-780c629f71ca",
   "metadata": {},
   "outputs": [
    {
     "data": {
      "text/plain": [
       "Text(0, 0.5, 'Количество пользователей')"
      ]
     },
     "execution_count": 49,
     "metadata": {},
     "output_type": "execute_result"
    },
    {
     "data": {
      "image/png": "[encoded data removed]",
      "text/plain": [
       "<Figure size 432x288 with 1 Axes>"
      ]
     },
     "metadata": {
      "needs_background": "light"
     },
     "output_type": "display_data"
    }
   ],
   "source": [
    "df.query('tariff == \"smart\"').hist('minutes_used', color='green', bins=10)\n",
    "plt.title('Расход минут по тарифу \"Смарт\"')\n",
    "plt.xlabel('Потраченные минуты')\n",
    "plt.ylabel('Количество пользователей')"
   ]
  },
  {
   "cell_type": "code",
   "execution_count": 50,
   "id": "fb5283b6-7a5e-4b93-9978-347658d76058",
   "metadata": {},
   "outputs": [
    {
     "data": {
      "text/plain": [
       "Text(0, 0.5, 'Количество пользователей')"
      ]
     },
     "execution_count": 50,
     "metadata": {},
     "output_type": "execute_result"
    },
    {
     "data": {
      "image/png": "[encoded data removed]",
      "text/plain": [
       "<Figure size 432x288 with 1 Axes>"
      ]
     },
     "metadata": {
      "needs_background": "light"
     },
     "output_type": "display_data"
    }
   ],
   "source": [
    "df.query('tariff == \"smart\"').hist('messages_used', color='red', bins=10)\n",
    "plt.title('Расход смс по тарифу \"Смарт\"')\n",
    "plt.xlabel('Потраченные сообщения')\n",
    "plt.ylabel('Количество пользователей')"
   ]
  },
  {
   "cell_type": "code",
   "execution_count": 51,
   "id": "4eb17b42-a4f8-478f-a0ba-a5c4e281d52f",
   "metadata": {},
   "outputs": [
    {
     "data": {
      "text/plain": [
       "Text(0, 0.5, 'Количество пользователей')"
      ]
     },
     "execution_count": 51,
     "metadata": {},
     "output_type": "execute_result"
    },
    {
     "data": {
      "image/png": "[encoded data removed]",
      "text/plain": [
       "<Figure size 432x288 with 1 Axes>"
      ]
     },
     "metadata": {
      "needs_background": "light"
     },
     "output_type": "display_data"
    }
   ],
   "source": [
    "df.query('tariff == \"smart\"').hist('gb_used', color='blue', bins=10)\n",
    "plt.title('Расход интернет-трафика по тарифу \"Смарт\"')\n",
    "plt.xlabel('Потраченные гигабайты')\n",
    "plt.ylabel('Количество пользователей')"
   ]
  },
  {
   "cell_type": "markdown",
   "id": "7dd195a8-c673-4203-83da-db9cbc5c35b0",
   "metadata": {},
   "source": [
    "Графики расхода минут и гигабайтов интеренета обладают нормальным распределением. Значительная доля абонентов либо совсем не использует смс, либо используют их по минимуму, это легко объясняется массовостью интеренет-мессенджеров, которые не идут в счет сообщений по тарифам."
   ]
  },
  {
   "cell_type": "markdown",
   "id": "ed81195c-1de2-4c6e-974d-8b5d48b03eac",
   "metadata": {},
   "source": [
    "Получим данные по разбросу значений для каждого вида услуг, а также месячной прибыли."
   ]
  },
  {
   "cell_type": "code",
   "execution_count": 52,
   "id": "b895fac2-9eb8-490a-8171-5d44d250a497",
   "metadata": {},
   "outputs": [
    {
     "data": {
      "text/html": [
       "<div>\n",
       "<style scoped>\n",
       "    .dataframe tbody tr th:only-of-type {\n",
       "        vertical-align: middle;\n",
       "    }\n",
       "\n",
       "    .dataframe tbody tr th {\n",
       "        vertical-align: top;\n",
       "    }\n",
       "\n",
       "    .dataframe thead th {\n",
       "        text-align: right;\n",
       "    }\n",
       "</style>\n",
       "<table border=\"1\" class=\"dataframe\">\n",
       "  <thead>\n",
       "    <tr style=\"text-align: right;\">\n",
       "      <th></th>\n",
       "      <th>mean</th>\n",
       "      <th>median</th>\n",
       "      <th>std</th>\n",
       "      <th>var</th>\n",
       "    </tr>\n",
       "    <tr>\n",
       "      <th>tariff</th>\n",
       "      <th></th>\n",
       "      <th></th>\n",
       "      <th></th>\n",
       "      <th></th>\n",
       "    </tr>\n",
       "  </thead>\n",
       "  <tbody>\n",
       "    <tr>\n",
       "      <th>smart</th>\n",
       "      <td>417.934948</td>\n",
       "      <td>422.0</td>\n",
       "      <td>190.313730</td>\n",
       "      <td>36219.315784</td>\n",
       "    </tr>\n",
       "    <tr>\n",
       "      <th>ultra</th>\n",
       "      <td>526.623350</td>\n",
       "      <td>518.0</td>\n",
       "      <td>317.606098</td>\n",
       "      <td>100873.633397</td>\n",
       "    </tr>\n",
       "  </tbody>\n",
       "</table>\n",
       "</div>"
      ],
      "text/plain": [
       "              mean  median         std            var\n",
       "tariff                                               \n",
       "smart   417.934948   422.0  190.313730   36219.315784\n",
       "ultra   526.623350   518.0  317.606098  100873.633397"
      ]
     },
     "execution_count": 52,
     "metadata": {},
     "output_type": "execute_result"
    }
   ],
   "source": [
    "df.pivot_table(index='tariff', values='minutes_used', aggfunc=('mean', 'median', 'var', 'std'))"
   ]
  },
  {
   "cell_type": "code",
   "execution_count": 53,
   "id": "c9acfd34-d123-4272-ba9c-5d5757dae4e3",
   "metadata": {},
   "outputs": [
    {
     "data": {
      "text/html": [
       "<div>\n",
       "<style scoped>\n",
       "    .dataframe tbody tr th:only-of-type {\n",
       "        vertical-align: middle;\n",
       "    }\n",
       "\n",
       "    .dataframe tbody tr th {\n",
       "        vertical-align: top;\n",
       "    }\n",
       "\n",
       "    .dataframe thead th {\n",
       "        text-align: right;\n",
       "    }\n",
       "</style>\n",
       "<table border=\"1\" class=\"dataframe\">\n",
       "  <thead>\n",
       "    <tr style=\"text-align: right;\">\n",
       "      <th></th>\n",
       "      <th>mean</th>\n",
       "      <th>median</th>\n",
       "      <th>std</th>\n",
       "      <th>var</th>\n",
       "    </tr>\n",
       "    <tr>\n",
       "      <th>tariff</th>\n",
       "      <th></th>\n",
       "      <th></th>\n",
       "      <th></th>\n",
       "      <th></th>\n",
       "    </tr>\n",
       "  </thead>\n",
       "  <tbody>\n",
       "    <tr>\n",
       "      <th>smart</th>\n",
       "      <td>33.384029</td>\n",
       "      <td>28.0</td>\n",
       "      <td>28.227876</td>\n",
       "      <td>796.812958</td>\n",
       "    </tr>\n",
       "    <tr>\n",
       "      <th>ultra</th>\n",
       "      <td>49.363452</td>\n",
       "      <td>38.0</td>\n",
       "      <td>47.804457</td>\n",
       "      <td>2285.266143</td>\n",
       "    </tr>\n",
       "  </tbody>\n",
       "</table>\n",
       "</div>"
      ],
      "text/plain": [
       "             mean  median        std          var\n",
       "tariff                                           \n",
       "smart   33.384029    28.0  28.227876   796.812958\n",
       "ultra   49.363452    38.0  47.804457  2285.266143"
      ]
     },
     "execution_count": 53,
     "metadata": {},
     "output_type": "execute_result"
    }
   ],
   "source": [
    "df.pivot_table(index='tariff', values='messages_used', aggfunc=('mean', 'median', 'var', 'std'))"
   ]
  },
  {
   "cell_type": "code",
   "execution_count": 54,
   "id": "533f5c97-54bf-4496-841b-4f18f3f6e991",
   "metadata": {},
   "outputs": [
    {
     "data": {
      "text/html": [
       "<div>\n",
       "<style scoped>\n",
       "    .dataframe tbody tr th:only-of-type {\n",
       "        vertical-align: middle;\n",
       "    }\n",
       "\n",
       "    .dataframe tbody tr th {\n",
       "        vertical-align: top;\n",
       "    }\n",
       "\n",
       "    .dataframe thead th {\n",
       "        text-align: right;\n",
       "    }\n",
       "</style>\n",
       "<table border=\"1\" class=\"dataframe\">\n",
       "  <thead>\n",
       "    <tr style=\"text-align: right;\">\n",
       "      <th></th>\n",
       "      <th>mean</th>\n",
       "      <th>median</th>\n",
       "      <th>std</th>\n",
       "      <th>var</th>\n",
       "    </tr>\n",
       "    <tr>\n",
       "      <th>tariff</th>\n",
       "      <th></th>\n",
       "      <th></th>\n",
       "      <th></th>\n",
       "      <th></th>\n",
       "    </tr>\n",
       "  </thead>\n",
       "  <tbody>\n",
       "    <tr>\n",
       "      <th>smart</th>\n",
       "      <td>16.328848</td>\n",
       "      <td>17.0</td>\n",
       "      <td>5.747061</td>\n",
       "      <td>33.028706</td>\n",
       "    </tr>\n",
       "    <tr>\n",
       "      <th>ultra</th>\n",
       "      <td>19.494417</td>\n",
       "      <td>19.0</td>\n",
       "      <td>9.853511</td>\n",
       "      <td>97.091690</td>\n",
       "    </tr>\n",
       "  </tbody>\n",
       "</table>\n",
       "</div>"
      ],
      "text/plain": [
       "             mean  median       std        var\n",
       "tariff                                        \n",
       "smart   16.328848    17.0  5.747061  33.028706\n",
       "ultra   19.494417    19.0  9.853511  97.091690"
      ]
     },
     "execution_count": 54,
     "metadata": {},
     "output_type": "execute_result"
    }
   ],
   "source": [
    "df.pivot_table(index='tariff', values='gb_used', aggfunc=('mean', 'median', 'var', 'std'))"
   ]
  },
  {
   "cell_type": "code",
   "execution_count": 55,
   "id": "d02252f3-dd27-4e0a-a9f5-72354492b93a",
   "metadata": {},
   "outputs": [
    {
     "data": {
      "text/html": [
       "<div>\n",
       "<style scoped>\n",
       "    .dataframe tbody tr th:only-of-type {\n",
       "        vertical-align: middle;\n",
       "    }\n",
       "\n",
       "    .dataframe tbody tr th {\n",
       "        vertical-align: top;\n",
       "    }\n",
       "\n",
       "    .dataframe thead th {\n",
       "        text-align: right;\n",
       "    }\n",
       "</style>\n",
       "<table border=\"1\" class=\"dataframe\">\n",
       "  <thead>\n",
       "    <tr style=\"text-align: right;\">\n",
       "      <th></th>\n",
       "      <th>mean</th>\n",
       "      <th>median</th>\n",
       "      <th>std</th>\n",
       "      <th>var</th>\n",
       "    </tr>\n",
       "    <tr>\n",
       "      <th>tariff</th>\n",
       "      <th></th>\n",
       "      <th></th>\n",
       "      <th></th>\n",
       "      <th></th>\n",
       "    </tr>\n",
       "  </thead>\n",
       "  <tbody>\n",
       "    <tr>\n",
       "      <th>smart</th>\n",
       "      <td>1289.973531</td>\n",
       "      <td>1023.0</td>\n",
       "      <td>818.404367</td>\n",
       "      <td>669785.708006</td>\n",
       "    </tr>\n",
       "    <tr>\n",
       "      <th>ultra</th>\n",
       "      <td>2070.152284</td>\n",
       "      <td>1950.0</td>\n",
       "      <td>376.187114</td>\n",
       "      <td>141516.745079</td>\n",
       "    </tr>\n",
       "  </tbody>\n",
       "</table>\n",
       "</div>"
      ],
      "text/plain": [
       "               mean  median         std            var\n",
       "tariff                                                \n",
       "smart   1289.973531  1023.0  818.404367  669785.708006\n",
       "ultra   2070.152284  1950.0  376.187114  141516.745079"
      ]
     },
     "execution_count": 55,
     "metadata": {},
     "output_type": "execute_result"
    }
   ],
   "source": [
    "df.pivot_table(index='tariff', values='income', aggfunc=('mean', 'median', 'var', 'std'))"
   ]
  },
  {
   "cell_type": "markdown",
   "id": "48cd7909-4688-4e66-a4c2-84ee14fbc5e4",
   "metadata": {},
   "source": [
    "Разброс значений расхода по тарифу \"Ультра\" выше, что в целом логично, по этому тарифу предоставляется значительно больше лимит звонков, смс и интернета.\n",
    "\n",
    "Более интересными выглядят данные по прибыли, тариф \"Смарт\" в среднем приносит больше половины от прибыли тарифа \"Ультра\", при стоимости почти в 4 раза меньше. Также по этому показателю разброс тарифа \"Смарт\" в разы превышает аналогиченые показатели по тарифу \"Ультра\". Можно предположить, что часть пользователей генерирует сверхприбыли за счет сильного превышения лимитов установленных абонентской платой."
   ]
  },
  {
   "cell_type": "markdown",
   "id": "374c7514-fd39-4a9c-8a37-5163abecd4ee",
   "metadata": {},
   "source": [
    "Проверим пару гипотез.\n",
    "\n",
    "Сначала проверим гипотезу о равенстве средней выручки между тарифами:\n",
    "\n",
    "Нулевая гипотеза - \"Средняя выручка по тарифам \"Смарт\" и \"Ультра\" равна\".\n",
    "\n",
    "Альтернативная гипотеза - \"Средняя выручка пользователей тарифов \"Ультра\" и \"Смарт\" различаются\""
   ]
  },
  {
   "cell_type": "code",
   "execution_count": 56,
   "id": "dd371ef4-673f-45bb-bf9f-b3504be7f39b",
   "metadata": {},
   "outputs": [
    {
     "name": "stdout",
     "output_type": "stream",
     "text": [
      "4.2606313931076085e-250\n",
      "Отвергаем нулевую гипотезу\n"
     ]
    }
   ],
   "source": [
    "alpha = 0.05 # одно из общепринятых значений.\n",
    "sample_smart = df.query('tariff == \"smart\"')['income'] # выборка по тарифу \"Смарт\"\n",
    "sample_ultra = df.query('tariff == \"ultra\"')['income'] # выборка по тарифу \"Ультра\"\n",
    "results = st.ttest_ind(sample_smart, sample_ultra, equal_var=False) # мы уже виделу разницу в вариациях, к тому же выборки имеют разный размер, следоватьельно необходимо выставить параметр equal_var=False\n",
    "print(results.pvalue) # результаты вывожу как в тренажере, для наглядности.\n",
    "if results.pvalue < alpha: \n",
    "    print('Отвергаем нулевую гипотезу')\n",
    "else:\n",
    "    print('Не получилось отвергнуть нулевую гипотезу')"
   ]
  },
  {
   "cell_type": "markdown",
   "id": "60b5200c-727d-4f7c-8195-b4b789d7259f",
   "metadata": {},
   "source": [
    "Следовательно принимает альтернативную гипотезу. Выручка по тарифам различается."
   ]
  },
  {
   "cell_type": "markdown",
   "id": "6b6485fd-de84-410e-aef3-2d78fc477d51",
   "metadata": {},
   "source": [
    "Вторая гипотеза, о равенстве выручки между абонентами из Москвы и остальных городов:\n",
    "\n",
    "Нулевая гипотеза - \"Средняя выручка пользователей из Москвы не отличается от выручки пользователей из других регионов\".\n",
    "\n",
    "Альтернативная гипотеза - \"Средняя выручка пользователей из Москвы не равна выручке пользователей из других регионов\"."
   ]
  },
  {
   "cell_type": "code",
   "execution_count": 57,
   "id": "9bb08d3a-220a-439c-9f07-6e83eb3fecde",
   "metadata": {},
   "outputs": [
    {
     "name": "stdout",
     "output_type": "stream",
     "text": [
      "0.5257376663729298\n",
      "Не получилось отвергнуть нулевую гипотезу\n"
     ]
    }
   ],
   "source": [
    "alpha = 0.01 # второе общепринятое значение\n",
    "sample_moscow = df.query('city == \"Москва\"')['income'] # выборка по Москве\n",
    "sample_regions = df.query('city != \"Москва\"')['income'] # выборка по остальным городам\n",
    "results = st.ttest_ind(sample_moscow, sample_regions, equal_var=False) # аналагочно проверке предыдущей гипотезы, в связи с разным размером выборок, выставляем параметр equal_var=False\n",
    "print(results.pvalue)\n",
    "if results.pvalue < alpha:\n",
    "    print('Отвергаем нулевую гипотезу')\n",
    "else:\n",
    "    print('Не получилось отвергнуть нулевую гипотезу')"
   ]
  },
  {
   "cell_type": "markdown",
   "id": "8651905b-369c-4e57-8f39-1f589c97870b",
   "metadata": {},
   "source": [
    "Делаем вывод, что средняя выручка в Московском регионе не сильно отличается от остальных."
   ]
  },
  {
   "cell_type": "markdown",
   "id": "0a823f7a-ed81-40ea-8541-9b58f93d6c78",
   "metadata": {},
   "source": [
    "## Общий вывод\n",
    "Предоставленная выборка абонентов достаточно репрезентативна для проведения исследования. Календарные значения требуют изменения формата.Из нескольких предоставленных датасетов был собран один, также были добавлены вычислений месячной выручки.\n",
    "\n",
    "При исследовании установлено, что средняя выручка по тарифам различается. Тариф \"Ультра\" в среднем приносит больше прибыли в связи с изначально более высокой стоимостью, однако пользователи тарифа \"Смарт\" значительно чаще превышают лимиты установленные абонентской платой, тем самым генерируя прибыль выше ожидаемой. Абоненты из Москвы не приносят больше прибыли относительно регионов.\n",
    "\n",
    "Тарифы сильно различаются в цене и том, как каждый из них генерирует прибыль. Скорее всего они также направлены на разную аудиторию. В случае необходимости выбора одного, чисто математически, исходя из предоставленных данных, следует сделать выбор в пользщу тарифа \"Ультра\". Тариф \"Смарт\" генерирует за счет абонентов превышающих месячные лимиты, что является более рисковым методом по сравнению с более высокой базовой ценой в тарифе \"Ультра\". Альтернативным вариантом, при ставке на тариф \"Смарт\", может быть повышение цен на услуги сверх предоставленных лимитов."
   ]
  }
 ],
 "metadata": {
  "ExecuteTimeLog": [
   {
    "duration": 112,
    "start_time": "2022-05-11T20:17:32.744Z"
   },
   {
    "duration": 1951,
    "start_time": "2022-05-11T20:25:53.168Z"
   },
   {
    "duration": 592,
    "start_time": "2022-05-11T20:25:55.123Z"
   },
   {
    "duration": 18,
    "start_time": "2022-05-11T20:25:55.718Z"
   },
   {
    "duration": 37,
    "start_time": "2022-05-11T20:25:55.739Z"
   },
   {
    "duration": 225,
    "start_time": "2022-05-11T20:25:55.778Z"
   },
   {
    "duration": 40,
    "start_time": "2022-05-11T20:25:56.005Z"
   },
   {
    "duration": 54,
    "start_time": "2022-05-11T20:25:56.048Z"
   },
   {
    "duration": 44,
    "start_time": "2022-05-11T20:25:56.104Z"
   },
   {
    "duration": 372,
    "start_time": "2022-05-11T20:25:56.150Z"
   },
   {
    "duration": 18,
    "start_time": "2022-05-11T20:25:56.528Z"
   },
   {
    "duration": 33,
    "start_time": "2022-05-11T20:25:56.548Z"
   },
   {
    "duration": 175,
    "start_time": "2022-05-11T20:25:56.583Z"
   },
   {
    "duration": 24,
    "start_time": "2022-05-11T20:25:56.761Z"
   },
   {
    "duration": 37,
    "start_time": "2022-05-11T20:25:56.787Z"
   },
   {
    "duration": 37,
    "start_time": "2022-05-11T20:25:56.827Z"
   },
   {
    "duration": 24,
    "start_time": "2022-05-11T20:25:56.867Z"
   },
   {
    "duration": 377,
    "start_time": "2022-05-11T20:25:56.893Z"
   },
   {
    "duration": 11,
    "start_time": "2022-05-11T20:25:57.272Z"
   },
   {
    "duration": 43,
    "start_time": "2022-05-11T20:25:57.285Z"
   },
   {
    "duration": 110,
    "start_time": "2022-05-11T20:25:57.330Z"
   },
   {
    "duration": 10,
    "start_time": "2022-05-11T20:25:57.443Z"
   },
   {
    "duration": 27,
    "start_time": "2022-05-11T20:25:57.457Z"
   },
   {
    "duration": 39,
    "start_time": "2022-05-11T20:25:57.487Z"
   },
   {
    "duration": 20,
    "start_time": "2022-05-11T20:25:57.528Z"
   },
   {
    "duration": 92,
    "start_time": "2022-05-11T20:25:57.550Z"
   },
   {
    "duration": 13,
    "start_time": "2022-05-11T20:25:57.644Z"
   },
   {
    "duration": 28,
    "start_time": "2022-05-11T20:25:57.660Z"
   },
   {
    "duration": 85,
    "start_time": "2022-05-11T20:25:57.695Z"
   },
   {
    "duration": 16,
    "start_time": "2022-05-11T20:25:57.783Z"
   },
   {
    "duration": 22,
    "start_time": "2022-05-11T20:25:57.801Z"
   },
   {
    "duration": 24,
    "start_time": "2022-05-11T20:25:57.826Z"
   },
   {
    "duration": 9,
    "start_time": "2022-05-11T20:25:57.853Z"
   },
   {
    "duration": 13,
    "start_time": "2022-05-11T20:25:57.865Z"
   },
   {
    "duration": 76,
    "start_time": "2022-05-11T20:25:57.880Z"
   },
   {
    "duration": 19,
    "start_time": "2022-05-11T20:25:57.960Z"
   },
   {
    "duration": 47,
    "start_time": "2022-05-11T20:25:57.982Z"
   },
   {
    "duration": 18,
    "start_time": "2022-05-11T20:25:58.032Z"
   },
   {
    "duration": 22,
    "start_time": "2022-05-11T20:25:58.053Z"
   },
   {
    "duration": 11,
    "start_time": "2022-05-11T20:25:58.078Z"
   },
   {
    "duration": 42,
    "start_time": "2022-05-11T20:25:58.093Z"
   },
   {
    "duration": 14,
    "start_time": "2022-05-11T20:25:58.139Z"
   },
   {
    "duration": 18,
    "start_time": "2022-05-11T20:25:58.156Z"
   },
   {
    "duration": 114,
    "start_time": "2022-05-11T20:25:58.182Z"
   },
   {
    "duration": 26,
    "start_time": "2022-05-11T20:25:58.298Z"
   },
   {
    "duration": 311,
    "start_time": "2022-05-11T20:25:58.327Z"
   },
   {
    "duration": 232,
    "start_time": "2022-05-11T20:25:58.640Z"
   },
   {
    "duration": 234,
    "start_time": "2022-05-11T20:25:58.875Z"
   },
   {
    "duration": 261,
    "start_time": "2022-05-11T20:25:59.111Z"
   },
   {
    "duration": 257,
    "start_time": "2022-05-11T20:25:59.374Z"
   },
   {
    "duration": 258,
    "start_time": "2022-05-11T20:25:59.634Z"
   },
   {
    "duration": 49,
    "start_time": "2022-05-11T20:25:59.894Z"
   },
   {
    "duration": 27,
    "start_time": "2022-05-11T20:25:59.945Z"
   },
   {
    "duration": 58,
    "start_time": "2022-05-11T20:25:59.974Z"
   },
   {
    "duration": 27,
    "start_time": "2022-05-11T20:26:00.035Z"
   },
   {
    "duration": 20,
    "start_time": "2022-05-11T20:26:00.064Z"
   },
   {
    "duration": 44,
    "start_time": "2022-05-11T20:26:00.087Z"
   },
   {
    "duration": 257,
    "start_time": "2022-05-11T20:26:07.631Z"
   },
   {
    "duration": 62,
    "start_time": "2022-05-11T20:27:44.505Z"
   },
   {
    "duration": 1498,
    "start_time": "2022-05-11T21:29:07.691Z"
   },
   {
    "duration": 258,
    "start_time": "2022-05-11T21:29:09.192Z"
   },
   {
    "duration": 18,
    "start_time": "2022-05-11T21:29:09.452Z"
   },
   {
    "duration": 61,
    "start_time": "2022-05-11T21:29:09.473Z"
   },
   {
    "duration": 201,
    "start_time": "2022-05-11T21:29:09.536Z"
   },
   {
    "duration": 32,
    "start_time": "2022-05-11T21:29:09.739Z"
   },
   {
    "duration": 70,
    "start_time": "2022-05-11T21:29:09.773Z"
   },
   {
    "duration": 30,
    "start_time": "2022-05-11T21:29:09.845Z"
   },
   {
    "duration": 225,
    "start_time": "2022-05-11T21:29:09.878Z"
   },
   {
    "duration": 20,
    "start_time": "2022-05-11T21:29:10.107Z"
   },
   {
    "duration": 33,
    "start_time": "2022-05-11T21:29:10.129Z"
   },
   {
    "duration": 165,
    "start_time": "2022-05-11T21:29:10.164Z"
   },
   {
    "duration": 24,
    "start_time": "2022-05-11T21:29:10.331Z"
   },
   {
    "duration": 17,
    "start_time": "2022-05-11T21:29:10.357Z"
   },
   {
    "duration": 67,
    "start_time": "2022-05-11T21:29:10.376Z"
   },
   {
    "duration": 23,
    "start_time": "2022-05-11T21:29:10.445Z"
   },
   {
    "duration": 157,
    "start_time": "2022-05-11T21:29:10.470Z"
   },
   {
    "duration": 11,
    "start_time": "2022-05-11T21:29:10.629Z"
   },
   {
    "duration": 28,
    "start_time": "2022-05-11T21:29:10.642Z"
   },
   {
    "duration": 114,
    "start_time": "2022-05-11T21:29:10.673Z"
   },
   {
    "duration": 7,
    "start_time": "2022-05-11T21:29:10.789Z"
   },
   {
    "duration": 38,
    "start_time": "2022-05-11T21:29:10.798Z"
   },
   {
    "duration": 8,
    "start_time": "2022-05-11T21:29:10.838Z"
   },
   {
    "duration": 19,
    "start_time": "2022-05-11T21:29:10.848Z"
   },
   {
    "duration": 55,
    "start_time": "2022-05-11T21:29:10.870Z"
   },
   {
    "duration": 11,
    "start_time": "2022-05-11T21:29:10.927Z"
   },
   {
    "duration": 20,
    "start_time": "2022-05-11T21:29:10.940Z"
   },
   {
    "duration": 61,
    "start_time": "2022-05-11T21:29:10.966Z"
   },
   {
    "duration": 15,
    "start_time": "2022-05-11T21:29:11.029Z"
   },
   {
    "duration": 19,
    "start_time": "2022-05-11T21:29:11.047Z"
   },
   {
    "duration": 19,
    "start_time": "2022-05-11T21:29:11.068Z"
   },
   {
    "duration": 37,
    "start_time": "2022-05-11T21:29:11.089Z"
   },
   {
    "duration": 11,
    "start_time": "2022-05-11T21:29:11.129Z"
   },
   {
    "duration": 41,
    "start_time": "2022-05-11T21:29:11.142Z"
   },
   {
    "duration": 38,
    "start_time": "2022-05-11T21:29:11.186Z"
   },
   {
    "duration": 17,
    "start_time": "2022-05-11T21:29:11.227Z"
   },
   {
    "duration": 10,
    "start_time": "2022-05-11T21:29:11.246Z"
   },
   {
    "duration": 14,
    "start_time": "2022-05-11T21:29:11.258Z"
   },
   {
    "duration": 7,
    "start_time": "2022-05-11T21:29:11.274Z"
   },
   {
    "duration": 46,
    "start_time": "2022-05-11T21:29:11.284Z"
   },
   {
    "duration": 6,
    "start_time": "2022-05-11T21:29:11.332Z"
   },
   {
    "duration": 11,
    "start_time": "2022-05-11T21:29:11.340Z"
   },
   {
    "duration": 119,
    "start_time": "2022-05-11T21:29:11.354Z"
   },
   {
    "duration": 15,
    "start_time": "2022-05-11T21:29:11.475Z"
   },
   {
    "duration": 276,
    "start_time": "2022-05-11T21:29:11.492Z"
   },
   {
    "duration": 241,
    "start_time": "2022-05-11T21:29:11.771Z"
   },
   {
    "duration": 242,
    "start_time": "2022-05-11T21:29:12.015Z"
   },
   {
    "duration": 246,
    "start_time": "2022-05-11T21:29:12.259Z"
   },
   {
    "duration": 251,
    "start_time": "2022-05-11T21:29:12.507Z"
   },
   {
    "duration": 253,
    "start_time": "2022-05-11T21:29:12.761Z"
   },
   {
    "duration": 41,
    "start_time": "2022-05-11T21:29:13.016Z"
   },
   {
    "duration": 29,
    "start_time": "2022-05-11T21:29:13.059Z"
   },
   {
    "duration": 60,
    "start_time": "2022-05-11T21:29:13.090Z"
   },
   {
    "duration": 30,
    "start_time": "2022-05-11T21:29:13.153Z"
   },
   {
    "duration": 49,
    "start_time": "2022-05-11T21:29:13.186Z"
   },
   {
    "duration": 16,
    "start_time": "2022-05-11T21:29:13.238Z"
   },
   {
    "duration": 1478,
    "start_time": "2022-05-13T12:39:52.294Z"
   },
   {
    "duration": 292,
    "start_time": "2022-05-13T12:39:53.774Z"
   },
   {
    "duration": 14,
    "start_time": "2022-05-13T12:39:54.068Z"
   },
   {
    "duration": 42,
    "start_time": "2022-05-13T12:39:54.085Z"
   },
   {
    "duration": 155,
    "start_time": "2022-05-13T12:39:54.129Z"
   },
   {
    "duration": 23,
    "start_time": "2022-05-13T12:39:54.286Z"
   },
   {
    "duration": 51,
    "start_time": "2022-05-13T12:39:54.311Z"
   },
   {
    "duration": 25,
    "start_time": "2022-05-13T12:39:54.364Z"
   },
   {
    "duration": 255,
    "start_time": "2022-05-13T12:39:54.391Z"
   },
   {
    "duration": 9,
    "start_time": "2022-05-13T12:39:54.649Z"
   },
   {
    "duration": 26,
    "start_time": "2022-05-13T12:39:54.660Z"
   },
   {
    "duration": 101,
    "start_time": "2022-05-13T12:39:54.688Z"
   },
   {
    "duration": 18,
    "start_time": "2022-05-13T12:39:54.790Z"
   },
   {
    "duration": 20,
    "start_time": "2022-05-13T12:39:54.810Z"
   },
   {
    "duration": 27,
    "start_time": "2022-05-13T12:39:54.832Z"
   },
   {
    "duration": 17,
    "start_time": "2022-05-13T12:39:54.861Z"
   },
   {
    "duration": 239,
    "start_time": "2022-05-13T12:39:54.879Z"
   },
   {
    "duration": 7,
    "start_time": "2022-05-13T12:39:55.119Z"
   },
   {
    "duration": 51,
    "start_time": "2022-05-13T12:39:55.128Z"
   },
   {
    "duration": 82,
    "start_time": "2022-05-13T12:39:55.181Z"
   },
   {
    "duration": 5,
    "start_time": "2022-05-13T12:39:55.265Z"
   },
   {
    "duration": 25,
    "start_time": "2022-05-13T12:39:55.272Z"
   },
   {
    "duration": 15,
    "start_time": "2022-05-13T12:39:55.299Z"
   },
   {
    "duration": 27,
    "start_time": "2022-05-13T12:39:55.316Z"
   },
   {
    "duration": 148,
    "start_time": "2022-05-13T12:39:55.344Z"
   },
   {
    "duration": 8,
    "start_time": "2022-05-13T12:39:55.494Z"
   },
   {
    "duration": 26,
    "start_time": "2022-05-13T12:39:55.503Z"
   },
   {
    "duration": 182,
    "start_time": "2022-05-13T12:39:55.533Z"
   },
   {
    "duration": 10,
    "start_time": "2022-05-13T12:39:55.717Z"
   },
   {
    "duration": 41,
    "start_time": "2022-05-13T12:39:55.729Z"
   },
   {
    "duration": 44,
    "start_time": "2022-05-13T12:39:55.772Z"
   },
   {
    "duration": 22,
    "start_time": "2022-05-13T12:39:55.818Z"
   },
   {
    "duration": 31,
    "start_time": "2022-05-13T12:39:55.843Z"
   },
   {
    "duration": 45,
    "start_time": "2022-05-13T12:39:55.876Z"
   },
   {
    "duration": 11,
    "start_time": "2022-05-13T12:39:55.923Z"
   },
   {
    "duration": 29,
    "start_time": "2022-05-13T12:39:55.936Z"
   },
   {
    "duration": 24,
    "start_time": "2022-05-13T12:39:55.968Z"
   },
   {
    "duration": 28,
    "start_time": "2022-05-13T12:39:55.994Z"
   },
   {
    "duration": 29,
    "start_time": "2022-05-13T12:39:56.024Z"
   },
   {
    "duration": 25,
    "start_time": "2022-05-13T12:39:56.055Z"
   },
   {
    "duration": 26,
    "start_time": "2022-05-13T12:39:56.081Z"
   },
   {
    "duration": 26,
    "start_time": "2022-05-13T12:39:56.109Z"
   },
   {
    "duration": 47,
    "start_time": "2022-05-13T12:39:56.138Z"
   },
   {
    "duration": 1716,
    "start_time": "2022-05-13T12:39:56.186Z"
   },
   {
    "duration": 11,
    "start_time": "2022-05-13T12:39:57.904Z"
   },
   {
    "duration": 280,
    "start_time": "2022-05-13T12:39:57.923Z"
   },
   {
    "duration": 146,
    "start_time": "2022-05-13T12:39:58.206Z"
   },
   {
    "duration": 177,
    "start_time": "2022-05-13T12:39:58.353Z"
   },
   {
    "duration": 162,
    "start_time": "2022-05-13T12:39:58.531Z"
   },
   {
    "duration": 166,
    "start_time": "2022-05-13T12:39:58.695Z"
   },
   {
    "duration": 159,
    "start_time": "2022-05-13T12:39:58.863Z"
   },
   {
    "duration": 19,
    "start_time": "2022-05-13T12:39:59.024Z"
   },
   {
    "duration": 18,
    "start_time": "2022-05-13T12:39:59.045Z"
   },
   {
    "duration": 38,
    "start_time": "2022-05-13T12:39:59.064Z"
   },
   {
    "duration": 30,
    "start_time": "2022-05-13T12:39:59.104Z"
   },
   {
    "duration": 21,
    "start_time": "2022-05-13T12:39:59.136Z"
   },
   {
    "duration": 40,
    "start_time": "2022-05-13T12:39:59.159Z"
   }
  ],
  "kernelspec": {
   "display_name": "Python 3 (ipykernel)",
   "language": "python",
   "name": "python3"
  },
  "language_info": {
   "codemirror_mode": {
    "name": "ipython",
    "version": 3
   },
   "file_extension": ".py",
   "mimetype": "text/x-python",
   "name": "python",
   "nbconvert_exporter": "python",
   "pygments_lexer": "ipython3",
   "version": "3.9.7"
  },
  "toc": {
   "base_numbering": 1,
   "nav_menu": {},
   "number_sections": true,
   "sideBar": true,
   "skip_h1_title": true,
   "title_cell": "Table of Contents",
   "title_sidebar": "Contents",
   "toc_cell": false,
   "toc_position": {},
   "toc_section_display": true,
   "toc_window_display": false
  },
  "toc-autonumbering": false,
  "toc-showmarkdowntxt": true
 },
 "nbformat": 4,
 "nbformat_minor": 5
}
