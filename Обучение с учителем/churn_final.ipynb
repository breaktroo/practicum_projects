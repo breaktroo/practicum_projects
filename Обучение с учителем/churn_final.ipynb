{
 "cells": [
  {
   "cell_type": "markdown",
   "id": "a3d221ae-22e8-4a52-b19c-8c2d51af7f8e",
   "metadata": {},
   "source": [
    "# Cодержание  \n",
    " - 1. Изучение данных из файла и предобработка  \n",
    "   - 1.1. Осмотр данных\n",
    "   - 1.2. Предобработка данных\n",
    " - 2. Обучение модели без учета дисбаланса классов\n",
    " - 3. Выбор модели с учетом дисбаланса классов\n",
    "   - 3.1. Изменение размера выборки\n",
    " - 4. Общий вывод"
   ]
  },
  {
   "cell_type": "markdown",
   "id": "9192f2fa-d233-4bb3-8447-bd8f83d09f9b",
   "metadata": {
    "tags": []
   },
   "source": [
    "# Отток клиентов\n",
    "\n",
    "Банковские маркетологи посчитали: сохранять текущих клиентов дешевле, чем привлекать новых.  \n",
    "Нужно спрогнозировать, уйдёт клиент из банка в ближайшее время или нет. Вам предоставлены исторические данные о поведении клиентов и расторжении договоров с банком.  \n",
    "\n",
    "**Описание данных:**  \n",
    "*Признаки:*  \n",
    "RowNumber — индекс строки в данных  \n",
    "CustomerId — уникальный идентификатор клиента  \n",
    "Surname — фамилия  \n",
    "CreditScore — кредитный рейтинг  \n",
    "Geography — страна проживания  \n",
    "Gender — пол  \n",
    "Age — возраст  \n",
    "Tenure — сколько лет человек является клиентом банка  \n",
    "Balance — баланс на счёте  \n",
    "NumOfProducts — количество продуктов банка, используемых клиентом  \n",
    "HasCrCard — наличие кредитной карты  \n",
    "IsActiveMember — активность клиента  \n",
    "EstimatedSalary — предполагаемая зарплата  \n",
    "*Целевой признак:*  \n",
    "Exited — факт ухода клиента  \n",
    "\n",
    "Для выполнения поставленной задачи необходимо построить модель с значением F1-меры выше 0.59.  "
   ]
  },
  {
   "cell_type": "markdown",
   "id": "f8fa2892-dfb6-4119-baa3-4373a99cd542",
   "metadata": {
    "tags": []
   },
   "source": [
    "## Изучение данных из файла и предобработка"
   ]
  },
  {
   "cell_type": "code",
   "execution_count": 1,
   "id": "a7210203-6671-4f51-ae34-7b320dd3c3b4",
   "metadata": {},
   "outputs": [],
   "source": [
    "import pandas as pd\n",
    "import numpy as np\n",
    "import matplotlib.pyplot as plt\n",
    "import warnings\n",
    "from sklearn.model_selection import train_test_split\n",
    "from sklearn.tree import DecisionTreeClassifier\n",
    "from sklearn.ensemble import RandomForestClassifier\n",
    "from sklearn.linear_model import LogisticRegression\n",
    "from sklearn.preprocessing import OrdinalEncoder\n",
    "from sklearn.metrics import f1_score\n",
    "from sklearn.metrics import roc_auc_score\n",
    "from sklearn.metrics import roc_curve\n",
    "from sklearn.preprocessing import StandardScaler\n",
    "from sklearn.utils import shuffle"
   ]
  },
  {
   "cell_type": "code",
   "execution_count": 2,
   "id": "5125baab-cc9a-47b3-ab85-6a05f4ce6018",
   "metadata": {},
   "outputs": [],
   "source": [
    "warnings.filterwarnings('ignore')"
   ]
  },
  {
   "cell_type": "code",
   "execution_count": 3,
   "id": "23a73279-8100-447b-b36c-d8cbe2421080",
   "metadata": {},
   "outputs": [],
   "source": [
    "try:\n",
    "    df = pd.read_csv('Churn.csv')\n",
    "except:\n",
    "    df = pd.read_csv('/datasets/Churn.csv')"
   ]
  },
  {
   "cell_type": "markdown",
   "id": "ce861410-8c9a-4473-bce0-d1e57bc13ea8",
   "metadata": {},
   "source": [
    "### Осмотр данных"
   ]
  },
  {
   "cell_type": "code",
   "execution_count": 4,
   "id": "8a316267-7de8-4a87-84e8-0af0eabd9ab4",
   "metadata": {},
   "outputs": [
    {
     "name": "stdout",
     "output_type": "stream",
     "text": [
      "<class 'pandas.core.frame.DataFrame'>\n",
      "RangeIndex: 10000 entries, 0 to 9999\n",
      "Data columns (total 14 columns):\n",
      " #   Column           Non-Null Count  Dtype  \n",
      "---  ------           --------------  -----  \n",
      " 0   RowNumber        10000 non-null  int64  \n",
      " 1   CustomerId       10000 non-null  int64  \n",
      " 2   Surname          10000 non-null  object \n",
      " 3   CreditScore      10000 non-null  int64  \n",
      " 4   Geography        10000 non-null  object \n",
      " 5   Gender           10000 non-null  object \n",
      " 6   Age              10000 non-null  int64  \n",
      " 7   Tenure           9091 non-null   float64\n",
      " 8   Balance          10000 non-null  float64\n",
      " 9   NumOfProducts    10000 non-null  int64  \n",
      " 10  HasCrCard        10000 non-null  int64  \n",
      " 11  IsActiveMember   10000 non-null  int64  \n",
      " 12  EstimatedSalary  10000 non-null  float64\n",
      " 13  Exited           10000 non-null  int64  \n",
      "dtypes: float64(3), int64(8), object(3)\n",
      "memory usage: 1.1+ MB\n"
     ]
    }
   ],
   "source": [
    "df.info()"
   ]
  },
  {
   "cell_type": "markdown",
   "id": "29b8ac65-f08e-4aa1-be3d-211a863a6921",
   "metadata": {},
   "source": [
    "Сразу отмечаем, что пропуски имеются только в одном столбце."
   ]
  },
  {
   "cell_type": "code",
   "execution_count": 5,
   "id": "065ef271-0a1f-46c0-9749-ecf386791080",
   "metadata": {},
   "outputs": [
    {
     "data": {
      "text/html": [
       "<div>\n",
       "<style scoped>\n",
       "    .dataframe tbody tr th:only-of-type {\n",
       "        vertical-align: middle;\n",
       "    }\n",
       "\n",
       "    .dataframe tbody tr th {\n",
       "        vertical-align: top;\n",
       "    }\n",
       "\n",
       "    .dataframe thead th {\n",
       "        text-align: right;\n",
       "    }\n",
       "</style>\n",
       "<table border=\"1\" class=\"dataframe\">\n",
       "  <thead>\n",
       "    <tr style=\"text-align: right;\">\n",
       "      <th></th>\n",
       "      <th>RowNumber</th>\n",
       "      <th>CustomerId</th>\n",
       "      <th>Surname</th>\n",
       "      <th>CreditScore</th>\n",
       "      <th>Geography</th>\n",
       "      <th>Gender</th>\n",
       "      <th>Age</th>\n",
       "      <th>Tenure</th>\n",
       "      <th>Balance</th>\n",
       "      <th>NumOfProducts</th>\n",
       "      <th>HasCrCard</th>\n",
       "      <th>IsActiveMember</th>\n",
       "      <th>EstimatedSalary</th>\n",
       "      <th>Exited</th>\n",
       "    </tr>\n",
       "  </thead>\n",
       "  <tbody>\n",
       "    <tr>\n",
       "      <th>0</th>\n",
       "      <td>1</td>\n",
       "      <td>15634602</td>\n",
       "      <td>Hargrave</td>\n",
       "      <td>619</td>\n",
       "      <td>France</td>\n",
       "      <td>Female</td>\n",
       "      <td>42</td>\n",
       "      <td>2.0</td>\n",
       "      <td>0.00</td>\n",
       "      <td>1</td>\n",
       "      <td>1</td>\n",
       "      <td>1</td>\n",
       "      <td>101348.88</td>\n",
       "      <td>1</td>\n",
       "    </tr>\n",
       "    <tr>\n",
       "      <th>1</th>\n",
       "      <td>2</td>\n",
       "      <td>15647311</td>\n",
       "      <td>Hill</td>\n",
       "      <td>608</td>\n",
       "      <td>Spain</td>\n",
       "      <td>Female</td>\n",
       "      <td>41</td>\n",
       "      <td>1.0</td>\n",
       "      <td>83807.86</td>\n",
       "      <td>1</td>\n",
       "      <td>0</td>\n",
       "      <td>1</td>\n",
       "      <td>112542.58</td>\n",
       "      <td>0</td>\n",
       "    </tr>\n",
       "    <tr>\n",
       "      <th>2</th>\n",
       "      <td>3</td>\n",
       "      <td>15619304</td>\n",
       "      <td>Onio</td>\n",
       "      <td>502</td>\n",
       "      <td>France</td>\n",
       "      <td>Female</td>\n",
       "      <td>42</td>\n",
       "      <td>8.0</td>\n",
       "      <td>159660.80</td>\n",
       "      <td>3</td>\n",
       "      <td>1</td>\n",
       "      <td>0</td>\n",
       "      <td>113931.57</td>\n",
       "      <td>1</td>\n",
       "    </tr>\n",
       "    <tr>\n",
       "      <th>3</th>\n",
       "      <td>4</td>\n",
       "      <td>15701354</td>\n",
       "      <td>Boni</td>\n",
       "      <td>699</td>\n",
       "      <td>France</td>\n",
       "      <td>Female</td>\n",
       "      <td>39</td>\n",
       "      <td>1.0</td>\n",
       "      <td>0.00</td>\n",
       "      <td>2</td>\n",
       "      <td>0</td>\n",
       "      <td>0</td>\n",
       "      <td>93826.63</td>\n",
       "      <td>0</td>\n",
       "    </tr>\n",
       "    <tr>\n",
       "      <th>4</th>\n",
       "      <td>5</td>\n",
       "      <td>15737888</td>\n",
       "      <td>Mitchell</td>\n",
       "      <td>850</td>\n",
       "      <td>Spain</td>\n",
       "      <td>Female</td>\n",
       "      <td>43</td>\n",
       "      <td>2.0</td>\n",
       "      <td>125510.82</td>\n",
       "      <td>1</td>\n",
       "      <td>1</td>\n",
       "      <td>1</td>\n",
       "      <td>79084.10</td>\n",
       "      <td>0</td>\n",
       "    </tr>\n",
       "  </tbody>\n",
       "</table>\n",
       "</div>"
      ],
      "text/plain": [
       "   RowNumber  CustomerId   Surname  CreditScore Geography  Gender  Age  \\\n",
       "0          1    15634602  Hargrave          619    France  Female   42   \n",
       "1          2    15647311      Hill          608     Spain  Female   41   \n",
       "2          3    15619304      Onio          502    France  Female   42   \n",
       "3          4    15701354      Boni          699    France  Female   39   \n",
       "4          5    15737888  Mitchell          850     Spain  Female   43   \n",
       "\n",
       "   Tenure    Balance  NumOfProducts  HasCrCard  IsActiveMember  \\\n",
       "0     2.0       0.00              1          1               1   \n",
       "1     1.0   83807.86              1          0               1   \n",
       "2     8.0  159660.80              3          1               0   \n",
       "3     1.0       0.00              2          0               0   \n",
       "4     2.0  125510.82              1          1               1   \n",
       "\n",
       "   EstimatedSalary  Exited  \n",
       "0        101348.88       1  \n",
       "1        112542.58       0  \n",
       "2        113931.57       1  \n",
       "3         93826.63       0  \n",
       "4         79084.10       0  "
      ]
     },
     "execution_count": 5,
     "metadata": {},
     "output_type": "execute_result"
    }
   ],
   "source": [
    "df.head()"
   ]
  },
  {
   "cell_type": "markdown",
   "id": "1bda1450-2978-4927-80ca-cc5e0028ddb9",
   "metadata": {},
   "source": [
    "Названия столбцов не соответствуют хорошему стилю."
   ]
  },
  {
   "cell_type": "code",
   "execution_count": 6,
   "id": "883aba79-bb6b-45ec-843d-77904de940f5",
   "metadata": {},
   "outputs": [
    {
     "data": {
      "text/html": [
       "<div>\n",
       "<style scoped>\n",
       "    .dataframe tbody tr th:only-of-type {\n",
       "        vertical-align: middle;\n",
       "    }\n",
       "\n",
       "    .dataframe tbody tr th {\n",
       "        vertical-align: top;\n",
       "    }\n",
       "\n",
       "    .dataframe thead th {\n",
       "        text-align: right;\n",
       "    }\n",
       "</style>\n",
       "<table border=\"1\" class=\"dataframe\">\n",
       "  <thead>\n",
       "    <tr style=\"text-align: right;\">\n",
       "      <th></th>\n",
       "      <th>RowNumber</th>\n",
       "      <th>CustomerId</th>\n",
       "      <th>CreditScore</th>\n",
       "      <th>Age</th>\n",
       "      <th>Tenure</th>\n",
       "      <th>Balance</th>\n",
       "      <th>NumOfProducts</th>\n",
       "      <th>HasCrCard</th>\n",
       "      <th>IsActiveMember</th>\n",
       "      <th>EstimatedSalary</th>\n",
       "      <th>Exited</th>\n",
       "    </tr>\n",
       "  </thead>\n",
       "  <tbody>\n",
       "    <tr>\n",
       "      <th>count</th>\n",
       "      <td>10000.00000</td>\n",
       "      <td>1.000000e+04</td>\n",
       "      <td>10000.000000</td>\n",
       "      <td>10000.000000</td>\n",
       "      <td>9091.000000</td>\n",
       "      <td>10000.000000</td>\n",
       "      <td>10000.000000</td>\n",
       "      <td>10000.00000</td>\n",
       "      <td>10000.000000</td>\n",
       "      <td>10000.000000</td>\n",
       "      <td>10000.000000</td>\n",
       "    </tr>\n",
       "    <tr>\n",
       "      <th>mean</th>\n",
       "      <td>5000.50000</td>\n",
       "      <td>1.569094e+07</td>\n",
       "      <td>650.528800</td>\n",
       "      <td>38.921800</td>\n",
       "      <td>4.997690</td>\n",
       "      <td>76485.889288</td>\n",
       "      <td>1.530200</td>\n",
       "      <td>0.70550</td>\n",
       "      <td>0.515100</td>\n",
       "      <td>100090.239881</td>\n",
       "      <td>0.203700</td>\n",
       "    </tr>\n",
       "    <tr>\n",
       "      <th>std</th>\n",
       "      <td>2886.89568</td>\n",
       "      <td>7.193619e+04</td>\n",
       "      <td>96.653299</td>\n",
       "      <td>10.487806</td>\n",
       "      <td>2.894723</td>\n",
       "      <td>62397.405202</td>\n",
       "      <td>0.581654</td>\n",
       "      <td>0.45584</td>\n",
       "      <td>0.499797</td>\n",
       "      <td>57510.492818</td>\n",
       "      <td>0.402769</td>\n",
       "    </tr>\n",
       "    <tr>\n",
       "      <th>min</th>\n",
       "      <td>1.00000</td>\n",
       "      <td>1.556570e+07</td>\n",
       "      <td>350.000000</td>\n",
       "      <td>18.000000</td>\n",
       "      <td>0.000000</td>\n",
       "      <td>0.000000</td>\n",
       "      <td>1.000000</td>\n",
       "      <td>0.00000</td>\n",
       "      <td>0.000000</td>\n",
       "      <td>11.580000</td>\n",
       "      <td>0.000000</td>\n",
       "    </tr>\n",
       "    <tr>\n",
       "      <th>25%</th>\n",
       "      <td>2500.75000</td>\n",
       "      <td>1.562853e+07</td>\n",
       "      <td>584.000000</td>\n",
       "      <td>32.000000</td>\n",
       "      <td>2.000000</td>\n",
       "      <td>0.000000</td>\n",
       "      <td>1.000000</td>\n",
       "      <td>0.00000</td>\n",
       "      <td>0.000000</td>\n",
       "      <td>51002.110000</td>\n",
       "      <td>0.000000</td>\n",
       "    </tr>\n",
       "    <tr>\n",
       "      <th>50%</th>\n",
       "      <td>5000.50000</td>\n",
       "      <td>1.569074e+07</td>\n",
       "      <td>652.000000</td>\n",
       "      <td>37.000000</td>\n",
       "      <td>5.000000</td>\n",
       "      <td>97198.540000</td>\n",
       "      <td>1.000000</td>\n",
       "      <td>1.00000</td>\n",
       "      <td>1.000000</td>\n",
       "      <td>100193.915000</td>\n",
       "      <td>0.000000</td>\n",
       "    </tr>\n",
       "    <tr>\n",
       "      <th>75%</th>\n",
       "      <td>7500.25000</td>\n",
       "      <td>1.575323e+07</td>\n",
       "      <td>718.000000</td>\n",
       "      <td>44.000000</td>\n",
       "      <td>7.000000</td>\n",
       "      <td>127644.240000</td>\n",
       "      <td>2.000000</td>\n",
       "      <td>1.00000</td>\n",
       "      <td>1.000000</td>\n",
       "      <td>149388.247500</td>\n",
       "      <td>0.000000</td>\n",
       "    </tr>\n",
       "    <tr>\n",
       "      <th>max</th>\n",
       "      <td>10000.00000</td>\n",
       "      <td>1.581569e+07</td>\n",
       "      <td>850.000000</td>\n",
       "      <td>92.000000</td>\n",
       "      <td>10.000000</td>\n",
       "      <td>250898.090000</td>\n",
       "      <td>4.000000</td>\n",
       "      <td>1.00000</td>\n",
       "      <td>1.000000</td>\n",
       "      <td>199992.480000</td>\n",
       "      <td>1.000000</td>\n",
       "    </tr>\n",
       "  </tbody>\n",
       "</table>\n",
       "</div>"
      ],
      "text/plain": [
       "         RowNumber    CustomerId   CreditScore           Age       Tenure  \\\n",
       "count  10000.00000  1.000000e+04  10000.000000  10000.000000  9091.000000   \n",
       "mean    5000.50000  1.569094e+07    650.528800     38.921800     4.997690   \n",
       "std     2886.89568  7.193619e+04     96.653299     10.487806     2.894723   \n",
       "min        1.00000  1.556570e+07    350.000000     18.000000     0.000000   \n",
       "25%     2500.75000  1.562853e+07    584.000000     32.000000     2.000000   \n",
       "50%     5000.50000  1.569074e+07    652.000000     37.000000     5.000000   \n",
       "75%     7500.25000  1.575323e+07    718.000000     44.000000     7.000000   \n",
       "max    10000.00000  1.581569e+07    850.000000     92.000000    10.000000   \n",
       "\n",
       "             Balance  NumOfProducts    HasCrCard  IsActiveMember  \\\n",
       "count   10000.000000   10000.000000  10000.00000    10000.000000   \n",
       "mean    76485.889288       1.530200      0.70550        0.515100   \n",
       "std     62397.405202       0.581654      0.45584        0.499797   \n",
       "min         0.000000       1.000000      0.00000        0.000000   \n",
       "25%         0.000000       1.000000      0.00000        0.000000   \n",
       "50%     97198.540000       1.000000      1.00000        1.000000   \n",
       "75%    127644.240000       2.000000      1.00000        1.000000   \n",
       "max    250898.090000       4.000000      1.00000        1.000000   \n",
       "\n",
       "       EstimatedSalary        Exited  \n",
       "count     10000.000000  10000.000000  \n",
       "mean     100090.239881      0.203700  \n",
       "std       57510.492818      0.402769  \n",
       "min          11.580000      0.000000  \n",
       "25%       51002.110000      0.000000  \n",
       "50%      100193.915000      0.000000  \n",
       "75%      149388.247500      0.000000  \n",
       "max      199992.480000      1.000000  "
      ]
     },
     "execution_count": 6,
     "metadata": {},
     "output_type": "execute_result"
    }
   ],
   "source": [
    "df.describe()"
   ]
  },
  {
   "cell_type": "markdown",
   "id": "f56289f9-a0d1-426e-b89b-247150737922",
   "metadata": {},
   "source": [
    "Глядя на эту таблицу можно сразу выделить нужные нам количественные признаки."
   ]
  },
  {
   "cell_type": "markdown",
   "id": "ef0646e9-d918-4a47-8075-cea04a080e25",
   "metadata": {},
   "source": [
    "### Предобработка данных"
   ]
  },
  {
   "cell_type": "code",
   "execution_count": 7,
   "id": "99eeb0b3-5148-4716-822c-81341615932b",
   "metadata": {},
   "outputs": [],
   "source": [
    "numeric = ['credit_score', 'age', 'tenure', 'balance', 'num_of_products', 'estimated_salary']"
   ]
  },
  {
   "cell_type": "markdown",
   "id": "482735fa-b1dd-465c-ac60-b87887a43091",
   "metadata": {},
   "source": [
    "Приведем названия столбцов к хорошему стилю."
   ]
  },
  {
   "cell_type": "code",
   "execution_count": 8,
   "id": "6e7bae5c-46df-4649-a05f-ae198c554109",
   "metadata": {},
   "outputs": [],
   "source": [
    "df.columns = df.columns.str.lower()"
   ]
  },
  {
   "cell_type": "code",
   "execution_count": 9,
   "id": "4c38095f-802d-41cc-8d1c-2c5642389a29",
   "metadata": {},
   "outputs": [],
   "source": [
    "df = df.rename(columns={'rownumber': 'row_number', 'customerid': 'customer_id', 'creditscore': 'credit_score', 'numofproducts': 'num_of_products', 'hascrcard': 'has_cr_card', \n",
    "                        'isactivemember': 'is_active_member', 'estimatedsalary': 'estimated_salary'}) "
   ]
  },
  {
   "cell_type": "code",
   "execution_count": 10,
   "id": "c78aa572-1360-4a5f-a208-d42be0250ba7",
   "metadata": {},
   "outputs": [
    {
     "data": {
      "text/plain": [
       "Index(['row_number', 'customer_id', 'surname', 'credit_score', 'geography',\n",
       "       'gender', 'age', 'tenure', 'balance', 'num_of_products', 'has_cr_card',\n",
       "       'is_active_member', 'estimated_salary', 'exited'],\n",
       "      dtype='object')"
      ]
     },
     "execution_count": 10,
     "metadata": {},
     "output_type": "execute_result"
    }
   ],
   "source": [
    "df.columns"
   ]
  },
  {
   "cell_type": "markdown",
   "id": "172b8290-c21a-424d-8506-12f99f59718f",
   "metadata": {},
   "source": [
    "Проверим данные на явные дубликаты."
   ]
  },
  {
   "cell_type": "code",
   "execution_count": 11,
   "id": "a69faa7a-5c4c-477a-86ce-a93252714578",
   "metadata": {},
   "outputs": [
    {
     "data": {
      "text/plain": [
       "0"
      ]
     },
     "execution_count": 11,
     "metadata": {},
     "output_type": "execute_result"
    }
   ],
   "source": [
    "df.duplicated().sum()"
   ]
  },
  {
   "cell_type": "markdown",
   "id": "3a7b195e-9e8d-48da-b8a9-b186d395e781",
   "metadata": {},
   "source": [
    "Категориальные признаки необходимо преобразовать в численные.  \n",
    "Сделаем это техникой прямого кодирования One-Hot Encoding, поскольку она работает со всеми моделями. "
   ]
  },
  {
   "cell_type": "code",
   "execution_count": 12,
   "id": "6f155cf9-0b69-46f5-8adf-471dfed357d0",
   "metadata": {
    "tags": []
   },
   "outputs": [],
   "source": [
    "df['gender'] = pd.get_dummies(df['gender'], drop_first=True)"
   ]
  },
  {
   "cell_type": "code",
   "execution_count": 13,
   "id": "ce343f3e-769e-4e94-afaa-04b76b699754",
   "metadata": {},
   "outputs": [],
   "source": [
    "df = pd.concat([df, pd.get_dummies(df['geography'], drop_first=True)], axis=1)"
   ]
  },
  {
   "cell_type": "code",
   "execution_count": 14,
   "id": "5280476e-2ea9-46de-a490-2d6af766ca23",
   "metadata": {},
   "outputs": [],
   "source": [
    "# приводим новые столбцы к нижнему регистру\n",
    "df.columns = df.columns.str.lower()"
   ]
  },
  {
   "cell_type": "markdown",
   "id": "b1e80f6d-bee1-4ea1-b134-80baa693aa88",
   "metadata": {},
   "source": [
    "Часть столбцов содержит данные никак не помогающих нашему исследованию.  \n",
    "Избавимся от них, вместе со столбцом 'geography', данные из которого перешли в два новых столбца."
   ]
  },
  {
   "cell_type": "code",
   "execution_count": 15,
   "id": "60a210b4-ac95-4703-8333-806f499636a5",
   "metadata": {},
   "outputs": [],
   "source": [
    "df = df.drop(columns={'geography', 'row_number', 'customer_id', 'surname'}, axis=1)"
   ]
  },
  {
   "cell_type": "markdown",
   "id": "bab1e883-f0cb-4231-b94b-d001ab54fa59",
   "metadata": {},
   "source": [
    "Единственный столбец с пропусками - 'tenure'.  \n",
    "Поскольку очевидного варианта для заполнения прощенных значений у нас нет, удалим строки с пропусками, предварительно созранив их в отдельную переменную."
   ]
  },
  {
   "cell_type": "code",
   "execution_count": 16,
   "id": "82f34baa-95ff-47ed-bd44-e71246ed6160",
   "metadata": {},
   "outputs": [],
   "source": [
    "tenure_nan = df[df['tenure'].isna()]"
   ]
  },
  {
   "cell_type": "code",
   "execution_count": 17,
   "id": "eb59881f-4d10-4546-905b-a2f0ce70b1d8",
   "metadata": {},
   "outputs": [
    {
     "data": {
      "text/plain": [
       "(10000, 12)"
      ]
     },
     "execution_count": 17,
     "metadata": {},
     "output_type": "execute_result"
    }
   ],
   "source": [
    "df.shape"
   ]
  },
  {
   "cell_type": "code",
   "execution_count": 18,
   "id": "b5607846-7663-4101-81e1-8a93d798481a",
   "metadata": {},
   "outputs": [],
   "source": [
    "df.drop(df[df['tenure'].isna()].index, inplace=True)"
   ]
  },
  {
   "cell_type": "code",
   "execution_count": 19,
   "id": "63c126ad-9b6b-4a65-a181-fc4691bb0216",
   "metadata": {},
   "outputs": [
    {
     "data": {
      "text/plain": [
       "(9091, 12)"
      ]
     },
     "execution_count": 19,
     "metadata": {},
     "output_type": "execute_result"
    }
   ],
   "source": [
    "df.shape"
   ]
  },
  {
   "cell_type": "code",
   "execution_count": 20,
   "id": "bd93c858-4c94-4ed5-b834-ba553c995c07",
   "metadata": {},
   "outputs": [
    {
     "data": {
      "text/plain": [
       "0    0.796062\n",
       "1    0.203938\n",
       "Name: exited, dtype: float64"
      ]
     },
     "execution_count": 20,
     "metadata": {},
     "output_type": "execute_result"
    }
   ],
   "source": [
    "df['exited'].value_counts(normalize=True)"
   ]
  },
  {
   "cell_type": "markdown",
   "id": "e3e8688a-9815-4ad9-b6da-c5bc11a8e83e",
   "metadata": {},
   "source": [
    "Виден сильный дисбаланс в целевом признаке, в дальнейшем это необходимо учесть."
   ]
  },
  {
   "cell_type": "markdown",
   "id": "581b2457-32f9-4f02-b7ce-761a5fbe1617",
   "metadata": {
    "tags": []
   },
   "source": [
    "## Обучение модели без учета дисбаланса классов"
   ]
  },
  {
   "cell_type": "markdown",
   "id": "87874159-e858-41b8-9e0b-15482c6737ae",
   "metadata": {},
   "source": [
    "Делим датасет на признаки, целевой - данные из столбца 'exited'."
   ]
  },
  {
   "cell_type": "code",
   "execution_count": 21,
   "id": "3b2e5ac5-0312-4cd0-9989-5488cb0c5361",
   "metadata": {},
   "outputs": [],
   "source": [
    "features = df.drop('exited', axis=1)\n",
    "target = df['exited']"
   ]
  },
  {
   "cell_type": "markdown",
   "id": "407859ae-428f-4290-b12e-6fc557a7e3d0",
   "metadata": {},
   "source": [
    "Разбиваем данные на три выборки: обкчающую, валидационную и тестовую.  \n",
    "Соотношение 3:1:1"
   ]
  },
  {
   "cell_type": "code",
   "execution_count": 22,
   "id": "7a5cb4ee-875d-4f25-be3c-f2c676713b07",
   "metadata": {},
   "outputs": [],
   "source": [
    "features_train, features_valid, target_train, target_valid = train_test_split(features, target, test_size=0.2, random_state=12345)\n",
    "features_train, features_test, target_train, target_test = train_test_split(features_train, target_train, test_size=0.25, random_state=12345)"
   ]
  },
  {
   "cell_type": "code",
   "execution_count": 23,
   "id": "c145620b-7cc0-46cb-b73f-3c1651fb04be",
   "metadata": {},
   "outputs": [
    {
     "data": {
      "text/plain": [
       "(5454, 11)"
      ]
     },
     "metadata": {},
     "output_type": "display_data"
    },
    {
     "data": {
      "text/plain": [
       "(1819, 11)"
      ]
     },
     "metadata": {},
     "output_type": "display_data"
    },
    {
     "data": {
      "text/plain": [
       "(1818, 11)"
      ]
     },
     "metadata": {},
     "output_type": "display_data"
    }
   ],
   "source": [
    "display(features_train.shape)\n",
    "display(features_valid.shape)\n",
    "display(features_test.shape)"
   ]
  },
  {
   "cell_type": "markdown",
   "id": "447de5a0-5a26-44e2-9b72-6df5f98dd70e",
   "metadata": {},
   "source": [
    "Проверим три модели:  \n",
    " - Дерево решений DecisionTreeClassifier;\n",
    " - Случайный лес RandomForestClassifier;\n",
    " - Логистическая регрессия LogisticRegression."
   ]
  },
  {
   "cell_type": "code",
   "execution_count": 24,
   "id": "6f521c13-7d49-41a2-9b45-737250c5925c",
   "metadata": {},
   "outputs": [
    {
     "data": {
      "text/plain": [
       "'best result'"
      ]
     },
     "metadata": {},
     "output_type": "display_data"
    },
    {
     "data": {
      "text/plain": [
       "0.5948406676783005"
      ]
     },
     "metadata": {},
     "output_type": "display_data"
    },
    {
     "data": {
      "text/plain": [
       "'best depth'"
      ]
     },
     "metadata": {},
     "output_type": "display_data"
    },
    {
     "data": {
      "text/plain": [
       "9"
      ]
     },
     "metadata": {},
     "output_type": "display_data"
    }
   ],
   "source": [
    "best_model = None\n",
    "best_result = 0\n",
    "best_depth = 0\n",
    "for depth in range(1, 11):\n",
    "    model = DecisionTreeClassifier(random_state=12345, max_depth=depth)\n",
    "    model.fit(features_train, target_train)\n",
    "    predictions_valid = model.predict(features_valid)\n",
    "    result = f1_score(target_valid, predictions_valid)\n",
    "    if result > best_result:\n",
    "        best_model = model\n",
    "        best_result = result\n",
    "        best_depth = depth\n",
    "display('best result', best_result)\n",
    "display('best depth', best_depth)"
   ]
  },
  {
   "cell_type": "code",
   "execution_count": 25,
   "id": "064c5d17-25a6-4df1-9e2d-e0f8189fcc60",
   "metadata": {},
   "outputs": [
    {
     "data": {
      "text/plain": [
       "'best result'"
      ]
     },
     "metadata": {},
     "output_type": "display_data"
    },
    {
     "data": {
      "text/plain": [
       "0.5385996409335727"
      ]
     },
     "metadata": {},
     "output_type": "display_data"
    },
    {
     "data": {
      "text/plain": [
       "'best est'"
      ]
     },
     "metadata": {},
     "output_type": "display_data"
    },
    {
     "data": {
      "text/plain": [
       "110"
      ]
     },
     "metadata": {},
     "output_type": "display_data"
    },
    {
     "data": {
      "text/plain": [
       "'best depth'"
      ]
     },
     "metadata": {},
     "output_type": "display_data"
    },
    {
     "data": {
      "text/plain": [
       "9"
      ]
     },
     "metadata": {},
     "output_type": "display_data"
    }
   ],
   "source": [
    "best_model = None\n",
    "best_result = 0\n",
    "best_depth = 0\n",
    "for est in range(70, 130, 10):\n",
    "    for depth in range (1, 11):\n",
    "        model = RandomForestClassifier(random_state=12345, n_estimators=est, max_depth=depth)\n",
    "        model.fit(features_train, target_train)\n",
    "        predictions_valid = model.predict(features_valid)\n",
    "        result = f1_score(target_valid, predictions_valid)\n",
    "        if result > best_result:\n",
    "            best_model = model\n",
    "            best_result = result\n",
    "            best_est = est\n",
    "            best_depth = depth\n",
    "display('best result', best_result)\n",
    "display('best est', best_est)\n",
    "display('best depth', best_depth)"
   ]
  },
  {
   "cell_type": "code",
   "execution_count": 26,
   "id": "de95b868-852a-44b1-b92b-883c9588b3e7",
   "metadata": {},
   "outputs": [
    {
     "data": {
      "text/plain": [
       "'result'"
      ]
     },
     "metadata": {},
     "output_type": "display_data"
    },
    {
     "data": {
      "text/plain": [
       "0.02624671916010499"
      ]
     },
     "metadata": {},
     "output_type": "display_data"
    }
   ],
   "source": [
    "model = LogisticRegression(random_state=12345, solver='liblinear', max_iter=1000)\n",
    "model.fit(features_train, target_train)\n",
    "predictions_valid = model.predict(features_valid)\n",
    "result = f1_score(target_valid, predictions_valid)\n",
    "display('result', result)"
   ]
  },
  {
   "cell_type": "markdown",
   "id": "29554255-35e1-4c99-9d45-cb30872866f0",
   "metadata": {},
   "source": [
    "Единственной моделью показавшей достаточный результат, оказалось дерево решений с глубиной равной 9.  \n",
    "Для чистоты эксперимента, проверим эту модель на тестовой выборке."
   ]
  },
  {
   "cell_type": "code",
   "execution_count": 27,
   "id": "aa66a800-3089-4283-a59d-4db612312436",
   "metadata": {},
   "outputs": [
    {
     "data": {
      "text/plain": [
       "0.5560675883256528"
      ]
     },
     "execution_count": 27,
     "metadata": {},
     "output_type": "execute_result"
    }
   ],
   "source": [
    "model = DecisionTreeClassifier(random_state=12345, max_depth=9)\n",
    "model.fit(features_train, target_train)\n",
    "predictions_test = model.predict(features_test)\n",
    "result = f1_score(target_test, predictions_test)\n",
    "result"
   ]
  },
  {
   "cell_type": "code",
   "execution_count": 28,
   "id": "ae3599fb-7de8-4bd1-80c2-e2b8b56eab91",
   "metadata": {},
   "outputs": [
    {
     "data": {
      "text/plain": [
       "0.8029894402392301"
      ]
     },
     "execution_count": 28,
     "metadata": {},
     "output_type": "execute_result"
    }
   ],
   "source": [
    "probabilities_valid = model.predict_proba(features_valid)\n",
    "probabilities_one_valid = probabilities_valid[:, 1]\n",
    "auc_roc = roc_auc_score(target_valid, probabilities_one_valid)\n",
    "auc_roc"
   ]
  },
  {
   "cell_type": "markdown",
   "id": "304ac8c2-779f-4e63-b67a-27e2d60875e4",
   "metadata": {},
   "source": [
    "Не самый плохой результат, но стоит взглянуть на график ROC-кривой."
   ]
  },
  {
   "cell_type": "code",
   "execution_count": 29,
   "id": "e63bcb8d-09d4-4543-b391-3a460b72d4c4",
   "metadata": {},
   "outputs": [
    {
     "data": {
      "image/png": "[encoded data removed]",
      "text/plain": [
       "<Figure size 432x288 with 1 Axes>"
      ]
     },
     "metadata": {
      "needs_background": "light"
     },
     "output_type": "display_data"
    }
   ],
   "source": [
    "fpr, tpr, thresholds = roc_curve(target_valid, probabilities_one_valid)\n",
    "plt.figure()\n",
    "plt.plot(fpr, tpr)\n",
    "plt.plot([0, 1], [0, 1], linestyle='--')\n",
    "plt.xlim([0.0, 1.0])\n",
    "plt.ylim([0.0, 1.0])\n",
    "plt.xlabel(\"False Positive Rate\")\n",
    "plt.ylabel(\"True Positive Rate\")\n",
    "plt.title(\"ROC-кривая\")\n",
    "plt.show()"
   ]
  },
  {
   "cell_type": "markdown",
   "id": "712435f2-1df5-40b6-a321-16c298ca79b1",
   "metadata": {},
   "source": [
    "График AUC-ROC говорит о том, что мы на верном пути, однако принимать эту модель явно рано.\n",
    "Результат неплохой, но недостаточный для успешного выполнения задачи.  \n",
    "Необходимо уделить больше внимания гиперпараметрам и выравниванию классов."
   ]
  },
  {
   "cell_type": "markdown",
   "id": "0cbd6ab6-d672-4578-8057-dcac5c8eea5f",
   "metadata": {},
   "source": [
    "## Выбор модели с учетом дисбаланса классов."
   ]
  },
  {
   "cell_type": "markdown",
   "id": "fb58c5ab-f0e0-423e-9122-50848797144a",
   "metadata": {},
   "source": [
    "В первую очередь, при разделении на выборки, добавим параметр 'stratify', это поможет сохранить соотношение классов в выборках."
   ]
  },
  {
   "cell_type": "code",
   "execution_count": 30,
   "id": "c045d099-07c6-41b2-b478-f0a23a8e2a84",
   "metadata": {},
   "outputs": [],
   "source": [
    "features_train, features_valid, target_train, target_valid = train_test_split(features, target, test_size=0.2, random_state=12345, stratify=target)\n",
    "features_train, features_test, target_train, target_test = train_test_split(features_train, target_train, test_size=0.25, random_state=12345, stratify=target_train)"
   ]
  },
  {
   "cell_type": "code",
   "execution_count": 31,
   "id": "0a637a95-f741-438a-bf77-c3d5e238dd31",
   "metadata": {},
   "outputs": [
    {
     "data": {
      "text/plain": [
       "(5454, 11)"
      ]
     },
     "metadata": {},
     "output_type": "display_data"
    },
    {
     "data": {
      "text/plain": [
       "(1819, 11)"
      ]
     },
     "metadata": {},
     "output_type": "display_data"
    },
    {
     "data": {
      "text/plain": [
       "(1818, 11)"
      ]
     },
     "metadata": {},
     "output_type": "display_data"
    }
   ],
   "source": [
    "display(features_train.shape)\n",
    "display(features_valid.shape)\n",
    "display(features_test.shape)"
   ]
  },
  {
   "cell_type": "markdown",
   "id": "f0fad0ef-b5cf-4eb4-81c3-978e373f86e4",
   "metadata": {},
   "source": [
    "Далее, проведем масштабировние количественных признаков.  \n",
    "Для этого применим StandardScaler."
   ]
  },
  {
   "cell_type": "code",
   "execution_count": 32,
   "id": "28880445-8124-4bc0-85c5-7127cd63b422",
   "metadata": {},
   "outputs": [],
   "source": [
    "scaler = StandardScaler()"
   ]
  },
  {
   "cell_type": "code",
   "execution_count": 33,
   "id": "4f6b4cc2-b78a-4960-ad02-090291e7b786",
   "metadata": {},
   "outputs": [
    {
     "data": {
      "text/html": [
       "<style>#sk-container-id-1 {color: black;background-color: white;}#sk-container-id-1 pre{padding: 0;}#sk-container-id-1 div.sk-toggleable {background-color: white;}#sk-container-id-1 label.sk-toggleable__label {cursor: pointer;display: block;width: 100%;margin-bottom: 0;padding: 0.3em;box-sizing: border-box;text-align: center;}#sk-container-id-1 label.sk-toggleable__label-arrow:before {content: \"▸\";float: left;margin-right: 0.25em;color: #696969;}#sk-container-id-1 label.sk-toggleable__label-arrow:hover:before {color: black;}#sk-container-id-1 div.sk-estimator:hover label.sk-toggleable__label-arrow:before {color: black;}#sk-container-id-1 div.sk-toggleable__content {max-height: 0;max-width: 0;overflow: hidden;text-align: left;background-color: #f0f8ff;}#sk-container-id-1 div.sk-toggleable__content pre {margin: 0.2em;color: black;border-radius: 0.25em;background-color: #f0f8ff;}#sk-container-id-1 input.sk-toggleable__control:checked~div.sk-toggleable__content {max-height: 200px;max-width: 100%;overflow: auto;}#sk-container-id-1 input.sk-toggleable__control:checked~label.sk-toggleable__label-arrow:before {content: \"▾\";}#sk-container-id-1 div.sk-estimator input.sk-toggleable__control:checked~label.sk-toggleable__label {background-color: #d4ebff;}#sk-container-id-1 div.sk-label input.sk-toggleable__control:checked~label.sk-toggleable__label {background-color: #d4ebff;}#sk-container-id-1 input.sk-hidden--visually {border: 0;clip: rect(1px 1px 1px 1px);clip: rect(1px, 1px, 1px, 1px);height: 1px;margin: -1px;overflow: hidden;padding: 0;position: absolute;width: 1px;}#sk-container-id-1 div.sk-estimator {font-family: monospace;background-color: #f0f8ff;border: 1px dotted black;border-radius: 0.25em;box-sizing: border-box;margin-bottom: 0.5em;}#sk-container-id-1 div.sk-estimator:hover {background-color: #d4ebff;}#sk-container-id-1 div.sk-parallel-item::after {content: \"\";width: 100%;border-bottom: 1px solid gray;flex-grow: 1;}#sk-container-id-1 div.sk-label:hover label.sk-toggleable__label {background-color: #d4ebff;}#sk-container-id-1 div.sk-serial::before {content: \"\";position: absolute;border-left: 1px solid gray;box-sizing: border-box;top: 0;bottom: 0;left: 50%;z-index: 0;}#sk-container-id-1 div.sk-serial {display: flex;flex-direction: column;align-items: center;background-color: white;padding-right: 0.2em;padding-left: 0.2em;position: relative;}#sk-container-id-1 div.sk-item {position: relative;z-index: 1;}#sk-container-id-1 div.sk-parallel {display: flex;align-items: stretch;justify-content: center;background-color: white;position: relative;}#sk-container-id-1 div.sk-item::before, #sk-container-id-1 div.sk-parallel-item::before {content: \"\";position: absolute;border-left: 1px solid gray;box-sizing: border-box;top: 0;bottom: 0;left: 50%;z-index: -1;}#sk-container-id-1 div.sk-parallel-item {display: flex;flex-direction: column;z-index: 1;position: relative;background-color: white;}#sk-container-id-1 div.sk-parallel-item:first-child::after {align-self: flex-end;width: 50%;}#sk-container-id-1 div.sk-parallel-item:last-child::after {align-self: flex-start;width: 50%;}#sk-container-id-1 div.sk-parallel-item:only-child::after {width: 0;}#sk-container-id-1 div.sk-dashed-wrapped {border: 1px dashed gray;margin: 0 0.4em 0.5em 0.4em;box-sizing: border-box;padding-bottom: 0.4em;background-color: white;}#sk-container-id-1 div.sk-label label {font-family: monospace;font-weight: bold;display: inline-block;line-height: 1.2em;}#sk-container-id-1 div.sk-label-container {text-align: center;}#sk-container-id-1 div.sk-container {/* jupyter's `normalize.less` sets `[hidden] { display: none; }` but bootstrap.min.css set `[hidden] { display: none !important; }` so we also need the `!important` here to be able to override the default hidden behavior on the sphinx rendered scikit-learn.org. See: https://github.com/scikit-learn/scikit-learn/issues/21755 */display: inline-block !important;position: relative;}#sk-container-id-1 div.sk-text-repr-fallback {display: none;}</style><div id=\"sk-container-id-1\" class=\"sk-top-container\"><div class=\"sk-text-repr-fallback\"><pre>StandardScaler()</pre><b>In a Jupyter environment, please rerun this cell to show the HTML representation or trust the notebook. <br />On GitHub, the HTML representation is unable to render, please try loading this page with nbviewer.org.</b></div><div class=\"sk-container\" hidden><div class=\"sk-item\"><div class=\"sk-estimator sk-toggleable\"><input class=\"sk-toggleable__control sk-hidden--visually\" id=\"sk-estimator-id-1\" type=\"checkbox\" checked><label for=\"sk-estimator-id-1\" class=\"sk-toggleable__label sk-toggleable__label-arrow\">StandardScaler</label><div class=\"sk-toggleable__content\"><pre>StandardScaler()</pre></div></div></div></div></div>"
      ],
      "text/plain": [
       "StandardScaler()"
      ]
     },
     "execution_count": 33,
     "metadata": {},
     "output_type": "execute_result"
    }
   ],
   "source": [
    "scaler.fit(features_train[numeric])"
   ]
  },
  {
   "cell_type": "code",
   "execution_count": 34,
   "id": "5671b64e-0074-4c54-9961-6781818739aa",
   "metadata": {
    "tags": []
   },
   "outputs": [],
   "source": [
    "features_train[numeric] = scaler.transform(features_train[numeric])\n",
    "features_valid[numeric] = scaler.transform(features_valid[numeric])\n",
    "features_test[numeric] = scaler.transform(features_test[numeric])"
   ]
  },
  {
   "cell_type": "markdown",
   "id": "665b015e-a459-4fe3-b8b6-56048756268b",
   "metadata": {},
   "source": [
    "Снова проверим те же три вида моделей."
   ]
  },
  {
   "cell_type": "code",
   "execution_count": 35,
   "id": "8541f8a4-c2b3-4555-bd53-02414b131f99",
   "metadata": {},
   "outputs": [
    {
     "data": {
      "text/plain": [
       "'best result'"
      ]
     },
     "metadata": {},
     "output_type": "display_data"
    },
    {
     "data": {
      "text/plain": [
       "0.5691823899371069"
      ]
     },
     "metadata": {},
     "output_type": "display_data"
    },
    {
     "data": {
      "text/plain": [
       "'best depth'"
      ]
     },
     "metadata": {},
     "output_type": "display_data"
    },
    {
     "data": {
      "text/plain": [
       "7"
      ]
     },
     "metadata": {},
     "output_type": "display_data"
    }
   ],
   "source": [
    "best_model = None\n",
    "best_result = 0\n",
    "best_depth = 0\n",
    "for depth in range(1, 11):\n",
    "    model = DecisionTreeClassifier(random_state=12345, max_depth=depth)\n",
    "    model.fit(features_train, target_train)\n",
    "    predictions_valid = model.predict(features_valid)\n",
    "    result = f1_score(target_valid, predictions_valid)\n",
    "    if result > best_result:\n",
    "        best_model = model\n",
    "        best_result = result\n",
    "        best_depth = depth\n",
    "display('best result', best_result)\n",
    "display('best depth', best_depth)"
   ]
  },
  {
   "cell_type": "code",
   "execution_count": 36,
   "id": "ae07a953-8f24-4b2f-ad94-17f759093667",
   "metadata": {},
   "outputs": [
    {
     "data": {
      "text/plain": [
       "'best result'"
      ]
     },
     "metadata": {},
     "output_type": "display_data"
    },
    {
     "data": {
      "text/plain": [
       "0.6043405676126878"
      ]
     },
     "metadata": {},
     "output_type": "display_data"
    },
    {
     "data": {
      "text/plain": [
       "'best est'"
      ]
     },
     "metadata": {},
     "output_type": "display_data"
    },
    {
     "data": {
      "text/plain": [
       "70"
      ]
     },
     "metadata": {},
     "output_type": "display_data"
    },
    {
     "data": {
      "text/plain": [
       "'best depth'"
      ]
     },
     "metadata": {},
     "output_type": "display_data"
    },
    {
     "data": {
      "text/plain": [
       "9"
      ]
     },
     "metadata": {},
     "output_type": "display_data"
    }
   ],
   "source": [
    "best_model = None\n",
    "best_result = 0\n",
    "best_depth = 0\n",
    "for est in range(70, 130, 10):\n",
    "    for depth in range (1, 11):\n",
    "        model = RandomForestClassifier(random_state=12345, n_estimators=est, max_depth=depth)\n",
    "        model.fit(features_train, target_train)\n",
    "        predictions_valid = model.predict(features_valid)\n",
    "        result = f1_score(target_valid, predictions_valid)\n",
    "        if result > best_result:\n",
    "            best_model = model\n",
    "            best_result = result\n",
    "            best_est = est\n",
    "            best_depth = depth\n",
    "display('best result', best_result)\n",
    "display('best est', best_est)\n",
    "display('best depth', best_depth)"
   ]
  },
  {
   "cell_type": "code",
   "execution_count": 37,
   "id": "bf641a1b-31ed-4ab5-9d11-99dbffd71318",
   "metadata": {},
   "outputs": [
    {
     "data": {
      "text/plain": [
       "'result'"
      ]
     },
     "metadata": {},
     "output_type": "display_data"
    },
    {
     "data": {
      "text/plain": [
       "0.33918128654970764"
      ]
     },
     "metadata": {},
     "output_type": "display_data"
    }
   ],
   "source": [
    "model = LogisticRegression(random_state=12345, solver='liblinear', max_iter=1000)\n",
    "model.fit(features_train, target_train)\n",
    "predictions_valid = model.predict(features_valid)\n",
    "result = f1_score(target_valid, predictions_valid)\n",
    "display('result', result)"
   ]
  },
  {
   "cell_type": "markdown",
   "id": "52f748a5-2c6f-406b-8293-06fa7ec06a4a",
   "metadata": {},
   "source": [
    "Качество дерева решений упало, но зато выросли метрики случайного леса, его и попробуем протестировать на третьей выборке.  \n",
    "\n",
    "Совместим обучающую и валидационную выборки."
   ]
  },
  {
   "cell_type": "code",
   "execution_count": 38,
   "id": "1d367375-9e42-4f79-ab6f-358a4c8cd43b",
   "metadata": {},
   "outputs": [],
   "source": [
    "#features_train = features_train.append(features_valid)\n",
    "#target_train = target_train.append(target_valid)"
   ]
  },
  {
   "cell_type": "code",
   "execution_count": 39,
   "id": "d2bc9deb-9a62-4aa6-8890-d830a8142568",
   "metadata": {},
   "outputs": [
    {
     "data": {
      "text/plain": [
       "0.5597147950089126"
      ]
     },
     "execution_count": 39,
     "metadata": {},
     "output_type": "execute_result"
    }
   ],
   "source": [
    "model = RandomForestClassifier(n_estimators = 70, max_depth=9, random_state=12345)\n",
    "model.fit(features_train, target_train)\n",
    "predictions_test = model.predict(features_test)\n",
    "result = f1_score(target_test, predictions_test)\n",
    "result"
   ]
  },
  {
   "cell_type": "markdown",
   "id": "a3bdfcb2-1d42-49e4-99e5-c3914c2e94ff",
   "metadata": {},
   "source": [
    "Недостаточный результат, требуется доработка."
   ]
  },
  {
   "cell_type": "markdown",
   "id": "784d2070-b594-4f07-a2d9-2233779280bb",
   "metadata": {},
   "source": [
    "Проверим метрику AUC-ROC для нашей модели."
   ]
  },
  {
   "cell_type": "code",
   "execution_count": 40,
   "id": "d6bb8ca3-8a83-4cd9-ba26-12b7f74651f1",
   "metadata": {},
   "outputs": [
    {
     "data": {
      "text/plain": [
       "0.8606740778246043"
      ]
     },
     "execution_count": 40,
     "metadata": {},
     "output_type": "execute_result"
    }
   ],
   "source": [
    "probabilities_valid = model.predict_proba(features_valid)\n",
    "probabilities_one_valid = probabilities_valid[:, 1]\n",
    "auc_roc = roc_auc_score(target_valid, probabilities_one_valid)\n",
    "auc_roc"
   ]
  },
  {
   "cell_type": "code",
   "execution_count": 41,
   "id": "5a9fbf04-49bb-4ad4-939b-68a8b14ce95a",
   "metadata": {},
   "outputs": [
    {
     "data": {
      "image/png": "[encoded data removed]",
      "text/plain": [
       "<Figure size 432x288 with 1 Axes>"
      ]
     },
     "metadata": {
      "needs_background": "light"
     },
     "output_type": "display_data"
    }
   ],
   "source": [
    "import matplotlib.pyplot as plt\n",
    "fpr, tpr, thresholds = roc_curve(target_valid, probabilities_one_valid)\n",
    "plt.figure()\n",
    "plt.plot(fpr, tpr)\n",
    "plt.plot([0, 1], [0, 1], linestyle='--')\n",
    "plt.xlim([0.0, 1.0])\n",
    "plt.ylim([0.0, 1.0])\n",
    "plt.xlabel(\"False Positive Rate\")\n",
    "plt.ylabel(\"True Positive Rate\")\n",
    "plt.title(\"ROC-кривая\")\n",
    "plt.show()"
   ]
  },
  {
   "cell_type": "markdown",
   "id": "d70a73e9-c429-4d54-bf66-eb27d159b85d",
   "metadata": {},
   "source": [
    "Качество модели повысилось, но потенциал для роста явно имеется.  \n",
    "\n",
    "Попробуем как увеличить, так и уменьшить выборку. "
   ]
  },
  {
   "cell_type": "markdown",
   "id": "d05bb701-967d-4851-bb18-ca229d081a3f",
   "metadata": {},
   "source": [
    "### Изменение размера выборки"
   ]
  },
  {
   "cell_type": "markdown",
   "id": "33731ef6-763b-4a20-bd9c-fdf29ddc5f85",
   "metadata": {},
   "source": [
    "При осмотре данных, мы получили соотношение 80/20 в целевом признаке.  \n",
    "Увеличим количество положительных исходов в 4 раза для первой выборки."
   ]
  },
  {
   "cell_type": "code",
   "execution_count": 42,
   "id": "db12e846-cc22-42df-8def-eaa3c5399a71",
   "metadata": {},
   "outputs": [],
   "source": [
    "# изобретать ничего не стал, те же функции , что и в тренажере.\n",
    "def upsample(features, target, repeat):\n",
    "    features_zeros = features[target == 0]\n",
    "    features_ones = features[target == 1]\n",
    "    target_zeros = target[target == 0]\n",
    "    target_ones = target[target == 1]\n",
    "\n",
    "    features_upsampled = pd.concat([features_zeros] + [features_ones] * repeat)\n",
    "    target_upsampled = pd.concat([target_zeros] + [target_ones] * repeat)\n",
    "    \n",
    "    features_upsampled, target_upsampled = shuffle(\n",
    "        features_upsampled, target_upsampled, random_state=12345)\n",
    "    \n",
    "    return features_upsampled, target_upsampled\n",
    "\n",
    "features_upsampled, target_upsampled = upsample(features_train, target_train, 4)"
   ]
  },
  {
   "cell_type": "markdown",
   "id": "933aecb1-0b73-4114-8910-03a3fef6f9c5",
   "metadata": {},
   "source": [
    "И оставим только четверть отрицательных исходов для второй."
   ]
  },
  {
   "cell_type": "code",
   "execution_count": 43,
   "id": "16172ade-12b1-4000-a4e4-41a82cf052b8",
   "metadata": {},
   "outputs": [],
   "source": [
    "def downsample(features, target, fraction):\n",
    "    features_zeros = features[target == 0]\n",
    "    features_ones = features[target == 1]\n",
    "    target_zeros = target[target == 0]\n",
    "    target_ones = target[target == 1]\n",
    "\n",
    "    features_downsampled = pd.concat(\n",
    "        [features_zeros.sample(frac=fraction, random_state=12345)] + [features_ones])\n",
    "    target_downsampled = pd.concat(\n",
    "        [target_zeros.sample(frac=fraction, random_state=12345)] + [target_ones])\n",
    "    \n",
    "    features_downsampled, target_downsampled = shuffle(\n",
    "        features_downsampled, target_downsampled, random_state=12345)\n",
    "    \n",
    "    return features_downsampled, target_downsampled\n",
    "\n",
    "features_downsampled, target_downsampled = downsample(features_train, target_train, 0.25)"
   ]
  },
  {
   "cell_type": "markdown",
   "id": "71005e15-87cf-4b47-b90e-2d6b32c81b60",
   "metadata": {},
   "source": [
    "По обеим выборкам, проведем поиск модели случайного леса.  "
   ]
  },
  {
   "cell_type": "code",
   "execution_count": 44,
   "id": "74202110-d3d3-41b1-8cc8-a26617e8fdf2",
   "metadata": {},
   "outputs": [
    {
     "data": {
      "text/plain": [
       "'best result'"
      ]
     },
     "metadata": {},
     "output_type": "display_data"
    },
    {
     "data": {
      "text/plain": [
       "0.6233766233766234"
      ]
     },
     "metadata": {},
     "output_type": "display_data"
    },
    {
     "data": {
      "text/plain": [
       "'best est'"
      ]
     },
     "metadata": {},
     "output_type": "display_data"
    },
    {
     "data": {
      "text/plain": [
       "110"
      ]
     },
     "metadata": {},
     "output_type": "display_data"
    },
    {
     "data": {
      "text/plain": [
       "'best depth'"
      ]
     },
     "metadata": {},
     "output_type": "display_data"
    },
    {
     "data": {
      "text/plain": [
       "9"
      ]
     },
     "metadata": {},
     "output_type": "display_data"
    }
   ],
   "source": [
    "best_model = None\n",
    "best_result = 0\n",
    "best_depth = 0\n",
    "for est in range(70, 130, 10):\n",
    "    for depth in range (1, 11):\n",
    "        model = RandomForestClassifier(random_state=12345, n_estimators=est, max_depth=depth)\n",
    "        model.fit(features_upsampled, target_upsampled)\n",
    "        predictions_valid = model.predict(features_valid)\n",
    "        result = f1_score(target_valid, predictions_valid)\n",
    "        if result > best_result:\n",
    "            best_model = model\n",
    "            best_result = result\n",
    "            best_est = est\n",
    "            best_depth = depth\n",
    "display('best result', best_result)\n",
    "display('best est', best_est)\n",
    "display('best depth', best_depth)"
   ]
  },
  {
   "cell_type": "code",
   "execution_count": 45,
   "id": "f5fba041-fb46-4390-aa2e-2a65bf21fb8a",
   "metadata": {
    "tags": []
   },
   "outputs": [
    {
     "data": {
      "text/plain": [
       "'best result'"
      ]
     },
     "metadata": {},
     "output_type": "display_data"
    },
    {
     "data": {
      "text/plain": [
       "0.6019210245464247"
      ]
     },
     "metadata": {},
     "output_type": "display_data"
    },
    {
     "data": {
      "text/plain": [
       "'best est'"
      ]
     },
     "metadata": {},
     "output_type": "display_data"
    },
    {
     "data": {
      "text/plain": [
       "90"
      ]
     },
     "metadata": {},
     "output_type": "display_data"
    },
    {
     "data": {
      "text/plain": [
       "'best depth'"
      ]
     },
     "metadata": {},
     "output_type": "display_data"
    },
    {
     "data": {
      "text/plain": [
       "9"
      ]
     },
     "metadata": {},
     "output_type": "display_data"
    }
   ],
   "source": [
    "best_model = None\n",
    "best_result = 0\n",
    "best_depth = 0\n",
    "for est in range(70, 130, 10):\n",
    "    for depth in range (1, 11):\n",
    "        model = RandomForestClassifier(random_state=12345, n_estimators=est, max_depth=depth)\n",
    "        model.fit(features_downsampled, target_downsampled)\n",
    "        predictions_valid = model.predict(features_valid)\n",
    "        result = f1_score(target_valid, predictions_valid)\n",
    "        if result > best_result:\n",
    "            best_model = model\n",
    "            best_result = result\n",
    "            best_est = est\n",
    "            best_depth = depth\n",
    "display('best result', best_result)\n",
    "display('best est', best_est)\n",
    "display('best depth', best_depth)"
   ]
  },
  {
   "cell_type": "markdown",
   "id": "30eea45e-e5f1-4220-ae84-8186988ed336",
   "metadata": {},
   "source": [
    "Возьмем модель с лучшим результатом, а именно случайный лес из 110 деревьев и глубиной 9 для увеличенной выборки."
   ]
  },
  {
   "cell_type": "code",
   "execution_count": 46,
   "id": "e7ab4f3b-ebae-4aa4-b494-20a763f5cd08",
   "metadata": {},
   "outputs": [],
   "source": [
    "features_train = features_train.append(features_valid)\n",
    "target_train = target_train.append(target_valid)\n",
    "features_upsampled, target_upsampled = upsample(features_train, target_train, 4)"
   ]
  },
  {
   "cell_type": "code",
   "execution_count": 47,
   "id": "bfa9d89b-062d-4db1-ad6f-7f3cc36a705d",
   "metadata": {
    "tags": []
   },
   "outputs": [
    {
     "data": {
      "text/plain": [
       "0.6032863849765258"
      ]
     },
     "execution_count": 47,
     "metadata": {},
     "output_type": "execute_result"
    }
   ],
   "source": [
    "model = RandomForestClassifier(n_estimators = 110, max_depth=9, random_state=12345)\n",
    "model.fit(features_upsampled, target_upsampled)\n",
    "predictions_test = model.predict(features_test)\n",
    "result = f1_score(target_test, predictions_test)\n",
    "result"
   ]
  },
  {
   "cell_type": "markdown",
   "id": "9bda9922-965c-4ea8-8c23-88167ad1e550",
   "metadata": {},
   "source": [
    "Отлично, на всякий случай еще раз проверим AUC-ROC."
   ]
  },
  {
   "cell_type": "code",
   "execution_count": 48,
   "id": "8195d10f-026b-4139-b9b3-f91d263196c1",
   "metadata": {},
   "outputs": [
    {
     "data": {
      "text/plain": [
       "0.9435786510997602"
      ]
     },
     "execution_count": 48,
     "metadata": {},
     "output_type": "execute_result"
    }
   ],
   "source": [
    "probabilities_valid = model.predict_proba(features_valid)\n",
    "probabilities_one_valid = probabilities_valid[:, 1]\n",
    "auc_roc = roc_auc_score(target_valid, probabilities_one_valid)\n",
    "auc_roc"
   ]
  },
  {
   "cell_type": "code",
   "execution_count": 49,
   "id": "a834921a-3d1d-4672-94d0-871bd2422feb",
   "metadata": {},
   "outputs": [
    {
     "data": {
      "image/png": "[encoded data removed]",
      "text/plain": [
       "<Figure size 432x288 with 1 Axes>"
      ]
     },
     "metadata": {
      "needs_background": "light"
     },
     "output_type": "display_data"
    }
   ],
   "source": [
    "fpr, tpr, thresholds = roc_curve(target_valid, probabilities_one_valid)\n",
    "plt.figure()\n",
    "plt.plot(fpr, tpr)\n",
    "plt.plot([0, 1], [0, 1], linestyle='--')\n",
    "plt.xlim([0.0, 1.0])\n",
    "plt.ylim([0.0, 1.0])\n",
    "plt.xlabel(\"False Positive Rate\")\n",
    "plt.ylabel(\"True Positive Rate\")\n",
    "plt.title(\"ROC-кривая\")\n",
    "plt.show()"
   ]
  },
  {
   "cell_type": "markdown",
   "id": "e0e1852a-9c43-44a8-a9da-af6f6cb7d589",
   "metadata": {},
   "source": [
    "Нужная модель готова!"
   ]
  },
  {
   "cell_type": "markdown",
   "id": "19806ddf-cce8-4bb8-8cd6-a151846881b0",
   "metadata": {},
   "source": [
    "## Общий вывод"
   ]
  },
  {
   "cell_type": "markdown",
   "id": "983ba797-7a53-434d-b60e-750d18692b45",
   "metadata": {},
   "source": [
    "Предоставленный датасет содержит достаточный объем данных для выполнения поставленной задачи.  \n",
    "Часть признаков, таких как фамилия и id клиента были отброшены, категориальные признаки были приведены к численному формату.  \n",
    "От части данных пришлось отказаться, поскольку нет четкого варианта заполнения пропусков в одном из столбцов, доля этих данных не достигает 10%, поэтому их потеря не критична для исследования.  \n",
    "Изначально выбор модели был проведен без учета дисбаланса классов и не дал желаемых результатов.  \n",
    "Далее была проведена стратификация при разделении выборок и масштабирование признаков, однако результат всё еще был недостаточным.  \n",
    "Необходимое значение F1 было получено после увеличения выборки положительных значений, метрика AUC-ROC подтвердила качество модели."
   ]
  }
 ],
 "metadata": {
  "ExecuteTimeLog": [
   {
    "duration": 1625,
    "start_time": "2022-06-20T19:06:34.720Z"
   },
   {
    "duration": 109,
    "start_time": "2022-06-20T19:06:36.350Z"
   },
   {
    "duration": 24,
    "start_time": "2022-06-20T19:06:36.461Z"
   },
   {
    "duration": 97,
    "start_time": "2022-06-20T19:06:36.491Z"
   },
   {
    "duration": 60,
    "start_time": "2022-06-20T19:06:36.594Z"
   },
   {
    "duration": 9,
    "start_time": "2022-06-20T19:06:36.656Z"
   },
   {
    "duration": 32,
    "start_time": "2022-06-20T19:06:36.669Z"
   },
   {
    "duration": 16,
    "start_time": "2022-06-20T19:06:36.704Z"
   },
   {
    "duration": 95,
    "start_time": "2022-06-20T19:06:36.723Z"
   },
   {
    "duration": 67,
    "start_time": "2022-06-20T19:06:36.821Z"
   },
   {
    "duration": 44,
    "start_time": "2022-06-20T19:06:36.890Z"
   },
   {
    "duration": 27,
    "start_time": "2022-06-20T19:06:36.937Z"
   },
   {
    "duration": 84,
    "start_time": "2022-06-20T19:06:36.967Z"
   },
   {
    "duration": 45,
    "start_time": "2022-06-20T19:06:37.054Z"
   },
   {
    "duration": 15,
    "start_time": "2022-06-20T19:06:37.102Z"
   },
   {
    "duration": 35,
    "start_time": "2022-06-20T19:06:37.120Z"
   },
   {
    "duration": 12,
    "start_time": "2022-06-20T19:06:37.157Z"
   },
   {
    "duration": 15,
    "start_time": "2022-06-20T19:06:37.172Z"
   },
   {
    "duration": 20,
    "start_time": "2022-06-20T19:06:37.189Z"
   },
   {
    "duration": 14,
    "start_time": "2022-06-20T19:06:37.212Z"
   },
   {
    "duration": 43,
    "start_time": "2022-06-20T19:06:37.236Z"
   },
   {
    "duration": 20,
    "start_time": "2022-06-20T19:06:37.281Z"
   },
   {
    "duration": 177,
    "start_time": "2022-06-20T19:06:37.305Z"
   },
   {
    "duration": 26018,
    "start_time": "2022-06-20T19:06:37.484Z"
   },
   {
    "duration": 226,
    "start_time": "2022-06-20T19:07:03.507Z"
   },
   {
    "duration": 40,
    "start_time": "2022-06-20T19:07:03.736Z"
   },
   {
    "duration": 27,
    "start_time": "2022-06-20T19:07:03.778Z"
   },
   {
    "duration": 7,
    "start_time": "2022-06-20T19:07:03.810Z"
   },
   {
    "duration": 60,
    "start_time": "2022-06-20T19:07:03.828Z"
   },
   {
    "duration": 21,
    "start_time": "2022-06-20T19:07:03.891Z"
   },
   {
    "duration": 39,
    "start_time": "2022-06-20T19:07:03.914Z"
   },
   {
    "duration": 218,
    "start_time": "2022-06-20T19:07:03.958Z"
   },
   {
    "duration": 27909,
    "start_time": "2022-06-20T19:07:04.178Z"
   },
   {
    "duration": 155,
    "start_time": "2022-06-20T19:07:32.089Z"
   },
   {
    "duration": 15,
    "start_time": "2022-06-20T19:07:32.251Z"
   },
   {
    "duration": 982,
    "start_time": "2022-06-20T19:07:32.268Z"
   },
   {
    "duration": 66,
    "start_time": "2022-06-20T19:07:33.252Z"
   },
   {
    "duration": 453,
    "start_time": "2022-06-20T19:07:33.320Z"
   },
   {
    "duration": 16,
    "start_time": "2022-06-20T19:07:33.775Z"
   },
   {
    "duration": 34,
    "start_time": "2022-06-20T19:07:33.793Z"
   },
   {
    "duration": 13,
    "start_time": "2022-06-20T19:07:33.837Z"
   },
   {
    "duration": 33324,
    "start_time": "2022-06-20T19:07:33.851Z"
   },
   {
    "duration": 15,
    "start_time": "2022-06-20T19:08:07.181Z"
   },
   {
    "duration": 16177,
    "start_time": "2022-06-20T19:08:07.198Z"
   },
   {
    "duration": 12,
    "start_time": "2022-06-20T19:08:23.377Z"
   },
   {
    "duration": 38,
    "start_time": "2022-06-20T19:08:23.391Z"
   },
   {
    "duration": 1245,
    "start_time": "2022-06-20T19:08:23.432Z"
   },
   {
    "duration": 95,
    "start_time": "2022-06-20T19:08:24.679Z"
   },
   {
    "duration": 188,
    "start_time": "2022-06-20T19:08:24.780Z"
   },
   {
    "duration": 5,
    "start_time": "2022-06-20T19:12:56.725Z"
   },
   {
    "duration": 145,
    "start_time": "2022-06-20T19:13:48.276Z"
   },
   {
    "duration": 42,
    "start_time": "2022-06-20T19:20:01.971Z"
   },
   {
    "duration": 1602,
    "start_time": "2022-06-21T10:49:07.810Z"
   },
   {
    "duration": 201,
    "start_time": "2022-06-21T10:49:09.414Z"
   },
   {
    "duration": 3,
    "start_time": "2022-06-21T10:49:09.617Z"
   },
   {
    "duration": 22,
    "start_time": "2022-06-21T10:49:09.621Z"
   },
   {
    "duration": 17,
    "start_time": "2022-06-21T10:49:09.645Z"
   },
   {
    "duration": 40,
    "start_time": "2022-06-21T10:49:09.664Z"
   },
   {
    "duration": 3,
    "start_time": "2022-06-21T10:49:09.705Z"
   },
   {
    "duration": 21,
    "start_time": "2022-06-21T10:49:09.709Z"
   },
   {
    "duration": 7,
    "start_time": "2022-06-21T10:49:09.732Z"
   },
   {
    "duration": 8,
    "start_time": "2022-06-21T10:49:09.741Z"
   },
   {
    "duration": 17,
    "start_time": "2022-06-21T10:49:09.750Z"
   },
   {
    "duration": 4,
    "start_time": "2022-06-21T10:49:09.769Z"
   },
   {
    "duration": 9,
    "start_time": "2022-06-21T10:49:09.775Z"
   },
   {
    "duration": 3,
    "start_time": "2022-06-21T10:49:09.785Z"
   },
   {
    "duration": 10,
    "start_time": "2022-06-21T10:49:09.789Z"
   },
   {
    "duration": 30,
    "start_time": "2022-06-21T10:49:09.801Z"
   },
   {
    "duration": 3,
    "start_time": "2022-06-21T10:49:09.833Z"
   },
   {
    "duration": 8,
    "start_time": "2022-06-21T10:49:09.838Z"
   },
   {
    "duration": 4,
    "start_time": "2022-06-21T10:49:09.847Z"
   },
   {
    "duration": 8,
    "start_time": "2022-06-21T10:49:09.853Z"
   },
   {
    "duration": 4,
    "start_time": "2022-06-21T10:49:09.862Z"
   },
   {
    "duration": 8,
    "start_time": "2022-06-21T10:49:09.867Z"
   },
   {
    "duration": 7,
    "start_time": "2022-06-21T10:49:09.877Z"
   },
   {
    "duration": 199,
    "start_time": "2022-06-21T10:49:09.886Z"
   },
   {
    "duration": 20800,
    "start_time": "2022-06-21T10:49:10.086Z"
   },
   {
    "duration": 49,
    "start_time": "2022-06-21T10:49:30.887Z"
   },
   {
    "duration": 197,
    "start_time": "2022-06-21T10:49:30.938Z"
   },
   {
    "duration": 8,
    "start_time": "2022-06-21T10:49:31.138Z"
   },
   {
    "duration": 129,
    "start_time": "2022-06-21T10:49:31.147Z"
   },
   {
    "duration": 12,
    "start_time": "2022-06-21T10:49:31.278Z"
   },
   {
    "duration": 7,
    "start_time": "2022-06-21T10:49:31.291Z"
   },
   {
    "duration": 3,
    "start_time": "2022-06-21T10:49:31.300Z"
   },
   {
    "duration": 8,
    "start_time": "2022-06-21T10:49:31.330Z"
   },
   {
    "duration": 21,
    "start_time": "2022-06-21T10:49:31.340Z"
   },
   {
    "duration": 162,
    "start_time": "2022-06-21T10:49:31.362Z"
   },
   {
    "duration": 20128,
    "start_time": "2022-06-21T10:49:31.529Z"
   },
   {
    "duration": 20,
    "start_time": "2022-06-21T10:49:51.658Z"
   },
   {
    "duration": 2,
    "start_time": "2022-06-21T10:49:51.730Z"
   },
   {
    "duration": 415,
    "start_time": "2022-06-21T10:49:51.733Z"
   },
   {
    "duration": 28,
    "start_time": "2022-06-21T10:49:52.150Z"
   },
   {
    "duration": 142,
    "start_time": "2022-06-21T10:49:52.180Z"
   },
   {
    "duration": 13,
    "start_time": "2022-06-21T10:49:52.324Z"
   },
   {
    "duration": 14,
    "start_time": "2022-06-21T10:49:52.338Z"
   },
   {
    "duration": 26922,
    "start_time": "2022-06-21T10:49:52.353Z"
   },
   {
    "duration": 12812,
    "start_time": "2022-06-21T10:50:19.276Z"
   },
   {
    "duration": 19,
    "start_time": "2022-06-21T10:50:32.090Z"
   },
   {
    "duration": 1047,
    "start_time": "2022-06-21T10:50:32.111Z"
   },
   {
    "duration": 51,
    "start_time": "2022-06-21T10:50:33.160Z"
   },
   {
    "duration": 131,
    "start_time": "2022-06-21T10:50:33.213Z"
   }
  ],
  "kernelspec": {
   "display_name": "Python 3 (ipykernel)",
   "language": "python",
   "name": "python3"
  },
  "language_info": {
   "codemirror_mode": {
    "name": "ipython",
    "version": 3
   },
   "file_extension": ".py",
   "mimetype": "text/x-python",
   "name": "python",
   "nbconvert_exporter": "python",
   "pygments_lexer": "ipython3",
   "version": "3.9.7"
  },
  "toc": {
   "base_numbering": 1,
   "nav_menu": {},
   "number_sections": true,
   "sideBar": true,
   "skip_h1_title": true,
   "title_cell": "Table of Contents",
   "title_sidebar": "Contents",
   "toc_cell": false,
   "toc_position": {},
   "toc_section_display": true,
   "toc_window_display": false
  },
  "toc-autonumbering": false,
  "toc-showmarkdowntxt": false
 },
 "nbformat": 4,
 "nbformat_minor": 5
}
